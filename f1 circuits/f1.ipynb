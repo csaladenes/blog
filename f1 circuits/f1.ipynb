{
 "metadata": {
  "name": "",
  "signature": "sha256:2f5d906f3701d859d0667d176cdce09c51eed73f441f1b948cb5df302e4161bf"
 },
 "nbformat": 3,
 "nbformat_minor": 0,
 "worksheets": [
  {
   "cells": [
    {
     "cell_type": "code",
     "collapsed": false,
     "input": [
      "import pandas as pd, numpy as np"
     ],
     "language": "python",
     "metadata": {},
     "outputs": [],
     "prompt_number": 1
    },
    {
     "cell_type": "code",
     "collapsed": false,
     "input": [
      "#load list of all circuits and years with races from wikipedia\n",
      "df=pd.read_html('http://en.wikipedia.org/wiki/List_of_Formula_One_circuits',infer_types=False, header=0)[3].\\\n",
      "    drop(['Direction','Type','Grands Prix held','Map','Current Length','Grands Prix'],axis=1)"
     ],
     "language": "python",
     "metadata": {},
     "outputs": [],
     "prompt_number": 20
    },
    {
     "cell_type": "code",
     "collapsed": false,
     "input": [
      "#geocode circuit names and create list with circuits\n",
      "from pygeocoder import Geocoder\n",
      "circs=[]\n",
      "for i in df.T.iteritems():\n",
      "    circ={}\n",
      "    circ['name']=i[1][0]\n",
      "    circ['coord']=Geocoder.geocode(i[1][1]).coordinates\n",
      "    circ['races']=i[1][2].replace(u'\\u2013', '-')\n",
      "    circ['place']=i[1][1]\n",
      "    circs.append(circ)"
     ],
     "language": "python",
     "metadata": {},
     "outputs": [],
     "prompt_number": 151
    },
    {
     "cell_type": "code",
     "collapsed": false,
     "input": [
      "calendar={i:[] for i in range(1950,2015)}\n",
      "for i in range(len(circs)):\n",
      "    for k in circs[i]['races'].replace(\" \", \",\").replace(\",,\", \",\").split(\",\"):\n",
      "        r=k.find('-')\n",
      "        if r==-1:\n",
      "            calendar[np.int(k)].append(i)\n",
      "        else:\n",
      "            for j in range(np.int(k[:r]),np.int(k[r+1:])+1):\n",
      "                calendar[j].append(i)"
     ],
     "language": "python",
     "metadata": {},
     "outputs": [],
     "prompt_number": 153
    },
    {
     "cell_type": "code",
     "collapsed": false,
     "input": [
      "#save data\n",
      "import json\n",
      "file('calendar.json','w').write(json.dumps(calendar))\n",
      "file('circs.json','w').write(json.dumps(circs))"
     ],
     "language": "python",
     "metadata": {},
     "outputs": [],
     "prompt_number": 154
    }
   ],
   "metadata": {}
  }
 ]
}