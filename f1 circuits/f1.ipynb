{
 "cells": [
  {
   "cell_type": "code",
   "execution_count": 1,
   "metadata": {},
   "outputs": [],
   "source": [
    "import pandas as pd, numpy as np"
   ]
  },
  {
   "cell_type": "code",
   "execution_count": 20,
   "metadata": {},
   "outputs": [],
   "source": [
    "#load list of all circuits and years with races from wikipedia\n",
    "df=pd.read_html('http://en.wikipedia.org/wiki/List_of_Formula_One_circuits',infer_types=False, header=0)[3].\\\n",
    "    drop(['Direction','Type','Grands Prix held','Map','Current Length','Grands Prix'],axis=1)"
   ]
  },
  {
   "cell_type": "code",
   "execution_count": 151,
   "metadata": {},
   "outputs": [],
   "source": [
    "#geocode circuit names and create list with circuits\n",
    "from pygeocoder import Geocoder\n",
    "circs=[]\n",
    "for i in df.T.iteritems():\n",
    "    circ={}\n",
    "    circ['name']=i[1][0]\n",
    "    circ['coord']=Geocoder.geocode(i[1][1]).coordinates\n",
    "    circ['races']=i[1][2].replace(u'\\u2013', '-')\n",
    "    circ['place']=i[1][1]\n",
    "    circs.append(circ)"
   ]
  },
  {
   "cell_type": "code",
   "execution_count": 153,
   "metadata": {},
   "outputs": [],
   "source": [
    "calendar={i:[] for i in range(1950,2015)}\n",
    "for i in range(len(circs)):\n",
    "    for k in circs[i]['races'].replace(\" \", \",\").replace(\",,\", \",\").split(\",\"):\n",
    "        r=k.find('-')\n",
    "        if r==-1:\n",
    "            calendar[np.int(k)].append(i)\n",
    "        else:\n",
    "            for j in range(np.int(k[:r]),np.int(k[r+1:])+1):\n",
    "                calendar[j].append(i)"
   ]
  },
  {
   "cell_type": "code",
   "execution_count": 154,
   "metadata": {},
   "outputs": [],
   "source": [
    "#save data\n",
    "import json\n",
    "file('calendar.json','w').write(json.dumps(calendar))\n",
    "file('circs.json','w').write(json.dumps(circs))"
   ]
  }
 ],
 "metadata": {
  "kernelspec": {
   "display_name": "Python 2",
   "language": "python",
   "name": "python2"
  },
  "language_info": {
   "codemirror_mode": {
    "name": "ipython",
    "version": 2
   },
   "file_extension": ".py",
   "mimetype": "text/x-python",
   "name": "python",
   "nbconvert_exporter": "python",
   "pygments_lexer": "ipython2",
   "version": "2.7.14"
  }
 },
 "nbformat": 4,
 "nbformat_minor": 1
}
