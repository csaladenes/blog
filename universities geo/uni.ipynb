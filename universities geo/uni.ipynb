{
 "metadata": {
  "name": "",
  "signature": "sha256:4e603a6ddff6ea9169b05185f1bfb401ef1cce1f6b4988c1fb236acf1af9933a"
 },
 "nbformat": 3,
 "nbformat_minor": 0,
 "worksheets": [
  {
   "cells": [
    {
     "cell_type": "code",
     "collapsed": false,
     "input": [
      "import pandas as pd, numpy as np, json\n",
      "data={}"
     ],
     "language": "python",
     "metadata": {},
     "outputs": [],
     "prompt_number": 4
    },
    {
     "cell_type": "code",
     "collapsed": false,
     "input": [
      "for year in range(2003,2015):\n",
      "    data[year]=pd.read_html('http://www.shanghairanking.com/ARWU'+repr(year)+'.html',infer_types=False, header=0)[0].sort_index(axis=1)\n",
      "    print year"
     ],
     "language": "python",
     "metadata": {},
     "outputs": [],
     "prompt_number": 52
    },
    {
     "cell_type": "code",
     "collapsed": false,
     "input": [
      "#save input data for later editing\n",
      "DATA={}\n",
      "for year in range(2003,2015):\n",
      "    DATA[year]=data[year].to_json()\n",
      "file('data.json','w').write(json.dumps(DATA))"
     ],
     "language": "python",
     "metadata": {},
     "outputs": [],
     "prompt_number": 62
    },
    {
     "cell_type": "code",
     "collapsed": false,
     "input": [
      "#load data if already saved\n",
      "DATA = json.loads(open('data.json').read())\n",
      "data={}\n",
      "for year in range(2003,2015):\n",
      "    data[year]=pd.read_json(DATA[repr(year)]).sort_index(axis=1)"
     ],
     "language": "python",
     "metadata": {},
     "outputs": [],
     "prompt_number": 5
    },
    {
     "cell_type": "code",
     "collapsed": false,
     "input": [
      "u={}\n",
      "v={}\n",
      "locs=['Institution',u'Institution*']\n",
      "years=[[2003,2004,2011],[2005,2006,2007,2008,2009,2010,2012,2013,2014]]\n",
      "for r in range(2):\n",
      "    for year in years[r]:\n",
      "        unis=[]\n",
      "        for i in range(data[year]['World Rank'].count()):\n",
      "            uni={}\n",
      "            uni['name']=data[year].loc[i][locs[r]]\n",
      "            if uni['name'] not in v:v[uni['name']]={'years':[],'ranks':[]}\n",
      "            v[uni['name']]['years'].append(year)\n",
      "            uni['rank']=data[year].loc[i]['World Rank']\n",
      "            v[uni['name']]['ranks'].append(uni['rank'])\n",
      "            unis.append(uni)\n",
      "        u[year]=unis"
     ],
     "language": "python",
     "metadata": {},
     "outputs": [],
     "prompt_number": 6
    },
    {
     "cell_type": "code",
     "collapsed": false,
     "input": [
      "exceptions=[]"
     ],
     "language": "python",
     "metadata": {},
     "outputs": [],
     "prompt_number": 50
    },
    {
     "cell_type": "code",
     "collapsed": false,
     "input": [
      "#geocode uni names and create list with unis\n",
      "from geopy.geocoders import Bing\n",
      "from geopy.geocoders import GoogleV3\n",
      "from geopy.geocoders import OpenMapQuest\n",
      "from geopy.geocoders import Nominatim\n",
      "geolocator_n = Nominatim()\n",
      "geolocator_q = OpenMapQuest()\n",
      "geolocator_g = GoogleV3()\n",
      "geolocator_b = Bing('AiQdfYGfIiDP0FXKQ3yQ3NXHOZBPuSVZJzpJzu1641ffd9GkzBbS_yblwqPym2WR')\n",
      "counter=0\n",
      "for k in v.keys():\n",
      "    counter+=1\n",
      "    try:\n",
      "        location = geolocator_q.geocode(k)\n",
      "        v[k][\"coord\"]=((location.latitude, location.longitude))\n",
      "        print 'OK MapQuest',counter\n",
      "    except:\n",
      "        try:\n",
      "            location = geolocator_g.geocode(k)\n",
      "            v[k][\"coord\"]=((location.latitude, location.longitude))\n",
      "            print 'OK Google',counter\n",
      "        except:\n",
      "            try:\n",
      "                location = geolocator_n.geocode(k)\n",
      "                v[k][\"coord\"]=((location.latitude, location.longitude))\n",
      "                print 'OK Nominatim',counter\n",
      "            except:\n",
      "                try:\n",
      "                    location = geolocator_b.geocode(k)\n",
      "                    v[k][\"coord\"]=((location.latitude, location.longitude))\n",
      "                    print 'OK Bing',counter\n",
      "                except:\n",
      "                    exceptions.append(k)\n",
      "                    print k,counter"
     ],
     "language": "python",
     "metadata": {},
     "outputs": [],
     "prompt_number": 0
    },
    {
     "cell_type": "code",
     "collapsed": false,
     "input": [
      "geohelper={\n",
      "'The Imperial College of Science, Technology and Medicine': (51.500229,-0.178940),\n",
      "'University of Manchester Institute of Science and Technology':(53.470741,-2.235570),\n",
      "'University of the Mediterranean (Aix-Marseille 2)':(43.299916, 5.374818)\n",
      "}\n",
      "for k in v:\n",
      "    if 'coord' not in v[k]: \n",
      "        v[k]['coord']=geohelper[k]"
     ],
     "language": "python",
     "metadata": {},
     "outputs": [],
     "prompt_number": 52
    },
    {
     "cell_type": "code",
     "collapsed": false,
     "input": [
      "for k in v:\n",
      "    if 'coord' not in v[k]: print k\n",
      "#db ok"
     ],
     "language": "python",
     "metadata": {},
     "outputs": [],
     "prompt_number": 53
    },
    {
     "cell_type": "code",
     "collapsed": false,
     "input": [
      "#save results\n",
      "file('u.json','w').write(json.dumps(u))#rankings\n",
      "file('v.json','w').write(json.dumps(v))#universities"
     ],
     "language": "python",
     "metadata": {},
     "outputs": [],
     "prompt_number": 54
    }
   ],
   "metadata": {}
  }
 ]
}