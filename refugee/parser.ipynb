{
 "metadata": {
  "name": "",
  "signature": "sha256:982356951423249d7bc169c07196f79949bfe8732a4753e1d36a119999f9c5d1"
 },
 "nbformat": 3,
 "nbformat_minor": 0,
 "worksheets": [
  {
   "cells": [
    {
     "cell_type": "code",
     "collapsed": false,
     "input": [
      "import pandas as pd, copy"
     ],
     "language": "python",
     "metadata": {},
     "outputs": [],
     "prompt_number": 1
    },
    {
     "cell_type": "code",
     "collapsed": false,
     "input": [
      "#http://data.un.org/Data.aspx?d=UNHCR&f=indID%3AType-Ref\n",
      "#doanload data in batches, query limited to 50.000\n",
      "df1=pd.read_csv('1985.csv') #years 1975-1984\n",
      "df2=pd.read_csv('1995.csv') #years 1985-1994\n",
      "df3=pd.read_csv('2005.csv') #years 1995-2004\n",
      "df4=pd.read_csv('2015.csv') #years 2005-2013"
     ],
     "language": "python",
     "metadata": {},
     "outputs": [],
     "prompt_number": 2
    },
    {
     "cell_type": "code",
     "collapsed": false,
     "input": [
      "df=pd.concat([df4,df3,df2,df1])\n",
      "df.columns=['target','source','year','value','a','b','c']\n",
      "df=df.drop(['a','b','c'],axis=1).dropna()#.set_index(['year','target','source'])[:80440]\n",
      "df.head(50)"
     ],
     "language": "python",
     "metadata": {},
     "outputs": [
      {
       "html": [
        "<div style=\"max-height:1000px;max-width:1500px;overflow:auto;\">\n",
        "<table border=\"1\" class=\"dataframe\">\n",
        "  <thead>\n",
        "    <tr style=\"text-align: right;\">\n",
        "      <th></th>\n",
        "      <th>target</th>\n",
        "      <th>source</th>\n",
        "      <th>year</th>\n",
        "      <th>value</th>\n",
        "    </tr>\n",
        "  </thead>\n",
        "  <tbody>\n",
        "    <tr>\n",
        "      <th>0 </th>\n",
        "      <td> Afghanistan</td>\n",
        "      <td>                                   Iraq</td>\n",
        "      <td> 2013</td>\n",
        "      <td>     1</td>\n",
        "    </tr>\n",
        "    <tr>\n",
        "      <th>1 </th>\n",
        "      <td> Afghanistan</td>\n",
        "      <td>                   Islamic Rep. of Iran</td>\n",
        "      <td> 2013</td>\n",
        "      <td>    36</td>\n",
        "    </tr>\n",
        "    <tr>\n",
        "      <th>2 </th>\n",
        "      <td> Afghanistan</td>\n",
        "      <td>                               Pakistan</td>\n",
        "      <td> 2013</td>\n",
        "      <td>    34</td>\n",
        "    </tr>\n",
        "    <tr>\n",
        "      <th>3 </th>\n",
        "      <td> Afghanistan</td>\n",
        "      <td>                     State of Palestine</td>\n",
        "      <td> 2013</td>\n",
        "      <td>     1</td>\n",
        "    </tr>\n",
        "    <tr>\n",
        "      <th>4 </th>\n",
        "      <td>     Albania</td>\n",
        "      <td>                                Algeria</td>\n",
        "      <td> 2013</td>\n",
        "      <td>     0</td>\n",
        "    </tr>\n",
        "    <tr>\n",
        "      <th>5 </th>\n",
        "      <td>     Albania</td>\n",
        "      <td>                                  China</td>\n",
        "      <td> 2013</td>\n",
        "      <td>    12</td>\n",
        "    </tr>\n",
        "    <tr>\n",
        "      <th>6 </th>\n",
        "      <td>     Albania</td>\n",
        "      <td>                 Dem. Rep. of the Congo</td>\n",
        "      <td> 2013</td>\n",
        "      <td>     5</td>\n",
        "    </tr>\n",
        "    <tr>\n",
        "      <th>7 </th>\n",
        "      <td>     Albania</td>\n",
        "      <td>                                  Egypt</td>\n",
        "      <td> 2013</td>\n",
        "      <td>     3</td>\n",
        "    </tr>\n",
        "    <tr>\n",
        "      <th>8 </th>\n",
        "      <td>     Albania</td>\n",
        "      <td>                                   Iraq</td>\n",
        "      <td> 2013</td>\n",
        "      <td>     5</td>\n",
        "    </tr>\n",
        "    <tr>\n",
        "      <th>9 </th>\n",
        "      <td>     Albania</td>\n",
        "      <td>                             Montenegro</td>\n",
        "      <td> 2013</td>\n",
        "      <td>     2</td>\n",
        "    </tr>\n",
        "    <tr>\n",
        "      <th>10</th>\n",
        "      <td>     Albania</td>\n",
        "      <td>                                   Peru</td>\n",
        "      <td> 2013</td>\n",
        "      <td>     1</td>\n",
        "    </tr>\n",
        "    <tr>\n",
        "      <th>11</th>\n",
        "      <td>     Albania</td>\n",
        "      <td> Serbia (and Kosovo: S/RES/1244 (1999))</td>\n",
        "      <td> 2013</td>\n",
        "      <td>    54</td>\n",
        "    </tr>\n",
        "    <tr>\n",
        "      <th>12</th>\n",
        "      <td>     Albania</td>\n",
        "      <td>                     State of Palestine</td>\n",
        "      <td> 2013</td>\n",
        "      <td>     4</td>\n",
        "    </tr>\n",
        "    <tr>\n",
        "      <th>13</th>\n",
        "      <td>     Albania</td>\n",
        "      <td>                                Tunisia</td>\n",
        "      <td> 2013</td>\n",
        "      <td>     0</td>\n",
        "    </tr>\n",
        "    <tr>\n",
        "      <th>14</th>\n",
        "      <td>     Albania</td>\n",
        "      <td>                                 Turkey</td>\n",
        "      <td> 2013</td>\n",
        "      <td>     4</td>\n",
        "    </tr>\n",
        "    <tr>\n",
        "      <th>15</th>\n",
        "      <td>     Albania</td>\n",
        "      <td>                             Uzbekistan</td>\n",
        "      <td> 2013</td>\n",
        "      <td>     3</td>\n",
        "    </tr>\n",
        "    <tr>\n",
        "      <th>16</th>\n",
        "      <td>     Algeria</td>\n",
        "      <td>                            Afghanistan</td>\n",
        "      <td> 2013</td>\n",
        "      <td>     2</td>\n",
        "    </tr>\n",
        "    <tr>\n",
        "      <th>17</th>\n",
        "      <td>     Algeria</td>\n",
        "      <td>                                 Angola</td>\n",
        "      <td> 2013</td>\n",
        "      <td>     4</td>\n",
        "    </tr>\n",
        "    <tr>\n",
        "      <th>18</th>\n",
        "      <td>     Algeria</td>\n",
        "      <td>                                Burundi</td>\n",
        "      <td> 2013</td>\n",
        "      <td>     1</td>\n",
        "    </tr>\n",
        "    <tr>\n",
        "      <th>19</th>\n",
        "      <td>     Algeria</td>\n",
        "      <td>                               Cameroon</td>\n",
        "      <td> 2013</td>\n",
        "      <td>    10</td>\n",
        "    </tr>\n",
        "    <tr>\n",
        "      <th>20</th>\n",
        "      <td>     Algeria</td>\n",
        "      <td>                   Central African Rep.</td>\n",
        "      <td> 2013</td>\n",
        "      <td>     1</td>\n",
        "    </tr>\n",
        "    <tr>\n",
        "      <th>21</th>\n",
        "      <td>     Algeria</td>\n",
        "      <td>                                   Chad</td>\n",
        "      <td> 2013</td>\n",
        "      <td>     2</td>\n",
        "    </tr>\n",
        "    <tr>\n",
        "      <th>22</th>\n",
        "      <td>     Algeria</td>\n",
        "      <td>                                  Congo</td>\n",
        "      <td> 2013</td>\n",
        "      <td>     7</td>\n",
        "    </tr>\n",
        "    <tr>\n",
        "      <th>23</th>\n",
        "      <td>     Algeria</td>\n",
        "      <td>                          C\u00f4te d'Ivoire</td>\n",
        "      <td> 2013</td>\n",
        "      <td>    30</td>\n",
        "    </tr>\n",
        "    <tr>\n",
        "      <th>24</th>\n",
        "      <td>     Algeria</td>\n",
        "      <td>                 Dem. Rep. of the Congo</td>\n",
        "      <td> 2013</td>\n",
        "      <td>    43</td>\n",
        "    </tr>\n",
        "    <tr>\n",
        "      <th>25</th>\n",
        "      <td>     Algeria</td>\n",
        "      <td>                                Eritrea</td>\n",
        "      <td> 2013</td>\n",
        "      <td>     1</td>\n",
        "    </tr>\n",
        "    <tr>\n",
        "      <th>26</th>\n",
        "      <td>     Algeria</td>\n",
        "      <td>                                 Guinea</td>\n",
        "      <td> 2013</td>\n",
        "      <td>     1</td>\n",
        "    </tr>\n",
        "    <tr>\n",
        "      <th>27</th>\n",
        "      <td>     Algeria</td>\n",
        "      <td>                                   Iraq</td>\n",
        "      <td> 2013</td>\n",
        "      <td>    15</td>\n",
        "    </tr>\n",
        "    <tr>\n",
        "      <th>28</th>\n",
        "      <td>     Algeria</td>\n",
        "      <td>                                Liberia</td>\n",
        "      <td> 2013</td>\n",
        "      <td>     2</td>\n",
        "    </tr>\n",
        "    <tr>\n",
        "      <th>29</th>\n",
        "      <td>     Algeria</td>\n",
        "      <td>                                   Mali</td>\n",
        "      <td> 2013</td>\n",
        "      <td>     0</td>\n",
        "    </tr>\n",
        "    <tr>\n",
        "      <th>30</th>\n",
        "      <td>     Algeria</td>\n",
        "      <td>                             Mauritania</td>\n",
        "      <td> 2013</td>\n",
        "      <td>     1</td>\n",
        "    </tr>\n",
        "    <tr>\n",
        "      <th>31</th>\n",
        "      <td>     Algeria</td>\n",
        "      <td>                                Nigeria</td>\n",
        "      <td> 2013</td>\n",
        "      <td>     2</td>\n",
        "    </tr>\n",
        "    <tr>\n",
        "      <th>32</th>\n",
        "      <td>     Algeria</td>\n",
        "      <td>                                Somalia</td>\n",
        "      <td> 2013</td>\n",
        "      <td>     4</td>\n",
        "    </tr>\n",
        "    <tr>\n",
        "      <th>33</th>\n",
        "      <td>     Algeria</td>\n",
        "      <td>                     State of Palestine</td>\n",
        "      <td> 2013</td>\n",
        "      <td>  4017</td>\n",
        "    </tr>\n",
        "    <tr>\n",
        "      <th>34</th>\n",
        "      <td>     Algeria</td>\n",
        "      <td>                                   Togo</td>\n",
        "      <td> 2013</td>\n",
        "      <td>     3</td>\n",
        "    </tr>\n",
        "    <tr>\n",
        "      <th>35</th>\n",
        "      <td>     Algeria</td>\n",
        "      <td>                         Western Sahara</td>\n",
        "      <td> 2013</td>\n",
        "      <td> 90000</td>\n",
        "    </tr>\n",
        "    <tr>\n",
        "      <th>36</th>\n",
        "      <td>     Algeria</td>\n",
        "      <td>                                  Yemen</td>\n",
        "      <td> 2013</td>\n",
        "      <td>     4</td>\n",
        "    </tr>\n",
        "    <tr>\n",
        "      <th>37</th>\n",
        "      <td>      Angola</td>\n",
        "      <td>                                Algeria</td>\n",
        "      <td> 2013</td>\n",
        "      <td>     1</td>\n",
        "    </tr>\n",
        "    <tr>\n",
        "      <th>38</th>\n",
        "      <td>      Angola</td>\n",
        "      <td>                                Burundi</td>\n",
        "      <td> 2013</td>\n",
        "      <td>    18</td>\n",
        "    </tr>\n",
        "    <tr>\n",
        "      <th>39</th>\n",
        "      <td>      Angola</td>\n",
        "      <td>                   Central African Rep.</td>\n",
        "      <td> 2013</td>\n",
        "      <td>    13</td>\n",
        "    </tr>\n",
        "    <tr>\n",
        "      <th>40</th>\n",
        "      <td>      Angola</td>\n",
        "      <td>                                   Chad</td>\n",
        "      <td> 2013</td>\n",
        "      <td>   195</td>\n",
        "    </tr>\n",
        "    <tr>\n",
        "      <th>41</th>\n",
        "      <td>      Angola</td>\n",
        "      <td>                                  Congo</td>\n",
        "      <td> 2013</td>\n",
        "      <td>    65</td>\n",
        "    </tr>\n",
        "    <tr>\n",
        "      <th>42</th>\n",
        "      <td>      Angola</td>\n",
        "      <td>                          C\u00f4te d'Ivoire</td>\n",
        "      <td> 2013</td>\n",
        "      <td>   407</td>\n",
        "    </tr>\n",
        "    <tr>\n",
        "      <th>43</th>\n",
        "      <td>      Angola</td>\n",
        "      <td>                                   Cuba</td>\n",
        "      <td> 2013</td>\n",
        "      <td>     2</td>\n",
        "    </tr>\n",
        "    <tr>\n",
        "      <th>44</th>\n",
        "      <td>      Angola</td>\n",
        "      <td>                 Dem. Rep. of the Congo</td>\n",
        "      <td> 2013</td>\n",
        "      <td> 21104</td>\n",
        "    </tr>\n",
        "    <tr>\n",
        "      <th>45</th>\n",
        "      <td>      Angola</td>\n",
        "      <td>                                Eritrea</td>\n",
        "      <td> 2013</td>\n",
        "      <td>     5</td>\n",
        "    </tr>\n",
        "    <tr>\n",
        "      <th>46</th>\n",
        "      <td>      Angola</td>\n",
        "      <td>                                 Guinea</td>\n",
        "      <td> 2013</td>\n",
        "      <td>   164</td>\n",
        "    </tr>\n",
        "    <tr>\n",
        "      <th>47</th>\n",
        "      <td>      Angola</td>\n",
        "      <td>                          Guinea-Bissau</td>\n",
        "      <td> 2013</td>\n",
        "      <td>     5</td>\n",
        "    </tr>\n",
        "    <tr>\n",
        "      <th>48</th>\n",
        "      <td>      Angola</td>\n",
        "      <td>                                  Haiti</td>\n",
        "      <td> 2013</td>\n",
        "      <td>     2</td>\n",
        "    </tr>\n",
        "    <tr>\n",
        "      <th>49</th>\n",
        "      <td>      Angola</td>\n",
        "      <td>                                   Iraq</td>\n",
        "      <td> 2013</td>\n",
        "      <td>     2</td>\n",
        "    </tr>\n",
        "  </tbody>\n",
        "</table>\n",
        "</div>"
       ],
       "metadata": {},
       "output_type": "pyout",
       "prompt_number": 3,
       "text": [
        "         target                                  source  year  value\n",
        "0   Afghanistan                                    Iraq  2013      1\n",
        "1   Afghanistan                    Islamic Rep. of Iran  2013     36\n",
        "2   Afghanistan                                Pakistan  2013     34\n",
        "3   Afghanistan                      State of Palestine  2013      1\n",
        "4       Albania                                 Algeria  2013      0\n",
        "5       Albania                                   China  2013     12\n",
        "6       Albania                  Dem. Rep. of the Congo  2013      5\n",
        "7       Albania                                   Egypt  2013      3\n",
        "8       Albania                                    Iraq  2013      5\n",
        "9       Albania                              Montenegro  2013      2\n",
        "10      Albania                                    Peru  2013      1\n",
        "11      Albania  Serbia (and Kosovo: S/RES/1244 (1999))  2013     54\n",
        "12      Albania                      State of Palestine  2013      4\n",
        "13      Albania                                 Tunisia  2013      0\n",
        "14      Albania                                  Turkey  2013      4\n",
        "15      Albania                              Uzbekistan  2013      3\n",
        "16      Algeria                             Afghanistan  2013      2\n",
        "17      Algeria                                  Angola  2013      4\n",
        "18      Algeria                                 Burundi  2013      1\n",
        "19      Algeria                                Cameroon  2013     10\n",
        "20      Algeria                    Central African Rep.  2013      1\n",
        "21      Algeria                                    Chad  2013      2\n",
        "22      Algeria                                   Congo  2013      7\n",
        "23      Algeria                           C\u00f4te d'Ivoire  2013     30\n",
        "24      Algeria                  Dem. Rep. of the Congo  2013     43\n",
        "25      Algeria                                 Eritrea  2013      1\n",
        "26      Algeria                                  Guinea  2013      1\n",
        "27      Algeria                                    Iraq  2013     15\n",
        "28      Algeria                                 Liberia  2013      2\n",
        "29      Algeria                                    Mali  2013      0\n",
        "30      Algeria                              Mauritania  2013      1\n",
        "31      Algeria                                 Nigeria  2013      2\n",
        "32      Algeria                                 Somalia  2013      4\n",
        "33      Algeria                      State of Palestine  2013   4017\n",
        "34      Algeria                                    Togo  2013      3\n",
        "35      Algeria                          Western Sahara  2013  90000\n",
        "36      Algeria                                   Yemen  2013      4\n",
        "37       Angola                                 Algeria  2013      1\n",
        "38       Angola                                 Burundi  2013     18\n",
        "39       Angola                    Central African Rep.  2013     13\n",
        "40       Angola                                    Chad  2013    195\n",
        "41       Angola                                   Congo  2013     65\n",
        "42       Angola                           C\u00f4te d'Ivoire  2013    407\n",
        "43       Angola                                    Cuba  2013      2\n",
        "44       Angola                  Dem. Rep. of the Congo  2013  21104\n",
        "45       Angola                                 Eritrea  2013      5\n",
        "46       Angola                                  Guinea  2013    164\n",
        "47       Angola                           Guinea-Bissau  2013      5\n",
        "48       Angola                                   Haiti  2013      2\n",
        "49       Angola                                    Iraq  2013      2"
       ]
      }
     ],
     "prompt_number": 3
    },
    {
     "cell_type": "code",
     "collapsed": false,
     "input": [
      "df.set_index(['year','target','source']).loc[1986].loc['Pakistan']"
     ],
     "language": "python",
     "metadata": {},
     "outputs": [
      {
       "html": [
        "<div style=\"max-height:1000px;max-width:1500px;overflow:auto;\">\n",
        "<table border=\"1\" class=\"dataframe\">\n",
        "  <thead>\n",
        "    <tr style=\"text-align: right;\">\n",
        "      <th></th>\n",
        "      <th>value</th>\n",
        "    </tr>\n",
        "    <tr>\n",
        "      <th>source</th>\n",
        "      <th></th>\n",
        "    </tr>\n",
        "  </thead>\n",
        "  <tbody>\n",
        "    <tr>\n",
        "      <th>Afghanistan</th>\n",
        "      <td> 2878100</td>\n",
        "    </tr>\n",
        "    <tr>\n",
        "      <th>Islamic Rep. of Iran</th>\n",
        "      <td>    4000</td>\n",
        "    </tr>\n",
        "  </tbody>\n",
        "</table>\n",
        "</div>"
       ],
       "metadata": {},
       "output_type": "pyout",
       "prompt_number": 4,
       "text": [
        "                        value\n",
        "source                       \n",
        "Afghanistan           2878100\n",
        "Islamic Rep. of Iran     4000"
       ]
      }
     ],
     "prompt_number": 4
    },
    {
     "cell_type": "markdown",
     "metadata": {},
     "source": [
      "palestinian data, from world bank"
     ]
    },
    {
     "cell_type": "code",
     "collapsed": false,
     "input": [
      "import numpy as np\n",
      "def interpolate(d,years,gfit=2,depth=1,polyorder=1,override=True):\n",
      "    #depth * length of interpolation substrings will be taken to the left and right\n",
      "    #for example for {1971:5,1972:6,1973:7,1974:5} interpolating it over 1969-1990\n",
      "    #for the section 1960-1970 (2 elements) the values from 1972,1973,1974 (3 elements) will be taken with depth 1.5\n",
      "    #for the section 1974-1990 (15 elements) all values  (4 elements) will be taken to extrapolate\n",
      "    if (gfit>2): \n",
      "        print 'interpolate takes only 1 (polynomial) or 2 (exponential) as 3rd argument [default=2]'\n",
      "        return\n",
      "    mydict={}\n",
      "    missing_points=[[]]\n",
      "    for year in years:\n",
      "        if year not in d.keys():\n",
      "            missing_points[-1].append(year)\n",
      "        else:\n",
      "            missing_points.append([])\n",
      "    for m in missing_points:\n",
      "        if m:\n",
      "            fit=gfit\n",
      "            if ((m[-1]<np.sort(d.keys())[0])|(m[0]>np.sort(d.keys())[-1])): #check if it is ends of the interval, then extrapolate mean only\n",
      "                if not override: fit=0\n",
      "            \n",
      "            if fit==0: #take average\n",
      "                y = {k: d[k] for k in set(d.keys()).intersection(range(max(min(years),min(m)-int(3)),min(max(years),max(m)+int(3))+1))}\n",
      "                for i in range(len(m)):\n",
      "                    mydict[m[i]]=np.mean(y.values())\n",
      "            elif fit==1:\n",
      "                #intersector\n",
      "                y = {k: d[k] for k in set(d.keys()).intersection(range(max(min(years),min(m)-int(depth*len(m))),min(max(years),max(m)+int(depth*len(m)))+1))}\n",
      "                #print y\n",
      "                w = np.polyfit(y.keys(),y.values(),polyorder) # obtaining regression parameters\n",
      "                if (polyorder==1):\n",
      "                    intersector=w[0]*np.array(m)+w[1]\n",
      "                else:\n",
      "                    intersector=w[0]*np.array(m)*np.array(m)+w[1]*np.array(m)+w[2]\n",
      "                for i in range(len(m)):\n",
      "                    mydict[m[i]]=max(0,intersector[i])\n",
      "            else:\n",
      "                #intersector\n",
      "                y = {k: d[k] for k in set(d.keys()).intersection(range(max(min(years),min(m)-int(depth*len(m))),min(max(years),max(m)+int(depth*len(m)))+1))}\n",
      "                #print y\n",
      "                w = np.polyfit(y.keys(),np.log(y.values()),1) # obtaining log regression parameters (exp fitting)\n",
      "                intersector=np.exp(w[1])*np.exp(w[0]*np.array(m))\n",
      "                for i in range(len(m)):\n",
      "                    mydict[m[i]]=max(0,intersector[i])\n",
      "    \n",
      "    #return interpolated points\n",
      "    return mydict"
     ],
     "language": "python",
     "metadata": {},
     "outputs": [],
     "prompt_number": 77
    },
    {
     "cell_type": "code",
     "collapsed": false,
     "input": [
      "#http://data.worldbank.org/indicator/SM.POP.REFG/countries?display=default\n",
      "dz=pd.read_csv('pal.csv',skiprows=2)\n",
      "dz.columns=['country','cc','a','b']+range(1960,2016)\n",
      "dz=dz.set_index('country').drop(['cc','a','b']+range(1960,1975)+range(2014,2016),axis=1)"
     ],
     "language": "python",
     "metadata": {},
     "outputs": [],
     "prompt_number": 33
    },
    {
     "cell_type": "code",
     "collapsed": false,
     "input": [
      "ccc={'Syrian Arab Republic':'Syria','West Bank and Gaza':'Palestine','Jordan':'Jordan','Lebanon':'Lebanon'}\n",
      "ccr={'Syrian Arab Republic':'Syrian Arab Rep.','West Bank and Gaza':'State of Palestine','Jordan':'Jordan','Lebanon':'Lebanon'}"
     ],
     "language": "python",
     "metadata": {},
     "outputs": [],
     "prompt_number": 110
    },
    {
     "cell_type": "code",
     "collapsed": false,
     "input": [
      "dx=pd.concat([pd.DataFrame(dz.loc['Jordan']).T,pd.DataFrame(dz.loc['Lebanon']).T\\\n",
      "              ,pd.DataFrame(dz.loc['Syrian Arab Republic']).T,pd.DataFrame(dz.loc['West Bank and Gaza']).T])"
     ],
     "language": "python",
     "metadata": {},
     "outputs": [],
     "prompt_number": 48
    },
    {
     "cell_type": "code",
     "collapsed": false,
     "input": [
      "palref=['Jordan','Lebanon','Syrian Arab Republic','West Bank and Gaza']\n",
      "dc=pd.DataFrame(columns=['target','source','year','value'])\n",
      "    \n",
      "for k in range(4):\n",
      "    hp={}\n",
      "    for i in dx.loc[palref[k]].iteritems():\n",
      "        if ~np.isnan(i[1]):\n",
      "            hp[i[0]]=i[1]\n",
      "    hp.update(interpolate(hp,range(1975,2014)))\n",
      "    for y in hp:\n",
      "        val=hp[y]-df[((df['target']==ccr[palref[k]])&(df['year']==y))].sum()[3]\n",
      "        dc.loc[y+k*1000]=[ccc[palref[k]],'Palestine',y,val]"
     ],
     "language": "python",
     "metadata": {},
     "outputs": [],
     "prompt_number": 112
    },
    {
     "cell_type": "markdown",
     "metadata": {},
     "source": [
      "append plaestine data to main dataframe"
     ]
    },
    {
     "cell_type": "code",
     "collapsed": false,
     "input": [
      "df=pd.concat([df,dc])"
     ],
     "language": "python",
     "metadata": {},
     "outputs": [],
     "prompt_number": 115
    },
    {
     "cell_type": "markdown",
     "metadata": {},
     "source": [
      "save data"
     ]
    },
    {
     "cell_type": "code",
     "collapsed": false,
     "input": [
      "def cc(country):\n",
      "    if country in cc2:\n",
      "        return cc2[country]\n",
      "    else: return country\n",
      "cc2={\n",
      "'Bolivia (Plurinational State of)':'Bolivia',\n",
      "'Micronesia (Federated States of)':'Micronesia',\n",
      "'Serbia (and Kosovo: S/RES/1244 (1999))':'Serbia & Kosovo',\n",
      "'The former Yugoslav Rep. of Macedonia':'FYROM',\n",
      "'Venezuela (Bolivarian Republic of)':'Venezuela',\n",
      "'Dem. Rep. of the Congo':'DRC',\n",
      "'Central African Rep.':'CAR',\n",
      "\"Dem. People's Rep. of Korea\":\"North Korea\",\n",
      "'Islamic Rep. of Iran':'Iran',\n",
      "\"Lao People's Dem. Rep.\":'Lao PDR',\n",
      "'Papua New Guinea':'PNG',\n",
      "'Syrian Arab Rep.':'Syria',\n",
      "'United Rep. of Tanzania':'Tanzania',\n",
      "'United Arab Emirates':'UAE',\n",
      "'Antigua and Barbuda':'Antig. & Barb',\n",
      "'Bosnia and Herzegovina':'Bosnia & Herz.',\n",
      "'British Virgin Islands':'UK Virgin',\n",
      "'Brunei Darussalam':'Brunei',\n",
      "'Hong Kong SAR, China':'Hong Kong',\n",
      "'Macao SAR, China':'Macao',\n",
      "'Russian Federation':'Russia',\n",
      "'Saint Kitts and Nevis':'St. Kitts & Nev.',\n",
      "'Saint Vincent and the Grenadines':'St. Vinc. & Gren.',\n",
      "'Sint Maarten (Dutch part)':'St. Maarten',\n",
      "'State of Palestine':'Palestine',\n",
      "'Trinidad and Tobago':'Trinid. & Tob.',\n",
      "'Turks and Caicos Islands':'Turks & Caicos'\n",
      "}"
     ],
     "language": "python",
     "metadata": {},
     "outputs": [],
     "prompt_number": 116
    },
    {
     "cell_type": "code",
     "collapsed": false,
     "input": [
      "data={}\n",
      "countries=set()\n",
      "for i in df.T.iteritems():\n",
      "    year=int(i[1][2])\n",
      "    target=cc(i[1][0])\n",
      "    source=cc(i[1][1])\n",
      "    if target==\"Various\":\n",
      "        target=\"Other\"\n",
      "    if source==\"Various\":\n",
      "        source=\"Other\"\n",
      "    value=i[1][3]\n",
      "    countries.add(target)\n",
      "    countries.add(source)\n",
      "    if year not in data:data[year]={}\n",
      "    if ((source in data[year]) and (target in data[year][source])):\n",
      "            data[year][source][target][1]=value\n",
      "    else:\n",
      "        if target not in data[year]:data[year][target]={}\n",
      "        if source not in data[year][target]:data[year][target][source]=[0,0]\n",
      "        data[year][target][source][0]=value  "
     ],
     "language": "python",
     "metadata": {},
     "outputs": [],
     "prompt_number": 117
    },
    {
     "cell_type": "code",
     "collapsed": false,
     "input": [
      "dk=pd.DataFrame(columns=['importer1','importer2','year','flow1','flow2'])\n",
      "c=0\n",
      "for year in data:\n",
      "    for target in data[year]:\n",
      "        for source in data[year][target]:\n",
      "            dk.loc[c]=[target,source,year,data[year][target][source][0],data[year][target][source][1]]\n",
      "            c+=1\n",
      "    print year,'0'"
     ],
     "language": "python",
     "metadata": {},
     "outputs": [
      {
       "output_type": "stream",
       "stream": "stdout",
       "text": [
        "1975 0\n",
        "1976"
       ]
      },
      {
       "output_type": "stream",
       "stream": "stdout",
       "text": [
        " 0\n",
        "1977"
       ]
      },
      {
       "output_type": "stream",
       "stream": "stdout",
       "text": [
        " 0\n",
        "1978"
       ]
      },
      {
       "output_type": "stream",
       "stream": "stdout",
       "text": [
        " 0\n",
        "1979"
       ]
      },
      {
       "output_type": "stream",
       "stream": "stdout",
       "text": [
        " 0\n",
        "1980"
       ]
      },
      {
       "output_type": "stream",
       "stream": "stdout",
       "text": [
        " 0\n",
        "1981"
       ]
      },
      {
       "output_type": "stream",
       "stream": "stdout",
       "text": [
        " 0\n",
        "1982"
       ]
      },
      {
       "output_type": "stream",
       "stream": "stdout",
       "text": [
        " 0\n",
        "1983"
       ]
      },
      {
       "output_type": "stream",
       "stream": "stdout",
       "text": [
        " 0\n",
        "1984"
       ]
      },
      {
       "output_type": "stream",
       "stream": "stdout",
       "text": [
        " 0\n",
        "1985"
       ]
      },
      {
       "output_type": "stream",
       "stream": "stdout",
       "text": [
        " 0\n",
        "1986"
       ]
      },
      {
       "output_type": "stream",
       "stream": "stdout",
       "text": [
        " 0\n",
        "1987"
       ]
      },
      {
       "output_type": "stream",
       "stream": "stdout",
       "text": [
        " 0\n",
        "1988"
       ]
      },
      {
       "output_type": "stream",
       "stream": "stdout",
       "text": [
        " 0\n",
        "1989"
       ]
      },
      {
       "output_type": "stream",
       "stream": "stdout",
       "text": [
        " 0\n",
        "1990"
       ]
      },
      {
       "output_type": "stream",
       "stream": "stdout",
       "text": [
        " 0\n",
        "1991"
       ]
      },
      {
       "output_type": "stream",
       "stream": "stdout",
       "text": [
        " 0\n",
        "1992"
       ]
      },
      {
       "output_type": "stream",
       "stream": "stdout",
       "text": [
        " 0\n",
        "1993"
       ]
      },
      {
       "output_type": "stream",
       "stream": "stdout",
       "text": [
        " 0\n",
        "1994"
       ]
      },
      {
       "output_type": "stream",
       "stream": "stdout",
       "text": [
        " 0\n",
        "1995"
       ]
      },
      {
       "output_type": "stream",
       "stream": "stdout",
       "text": [
        " 0\n",
        "1996"
       ]
      },
      {
       "output_type": "stream",
       "stream": "stdout",
       "text": [
        " 0\n",
        "1997"
       ]
      },
      {
       "output_type": "stream",
       "stream": "stdout",
       "text": [
        " 0\n",
        "1998"
       ]
      },
      {
       "output_type": "stream",
       "stream": "stdout",
       "text": [
        " 0\n",
        "1999"
       ]
      },
      {
       "output_type": "stream",
       "stream": "stdout",
       "text": [
        " 0\n",
        "2000"
       ]
      },
      {
       "output_type": "stream",
       "stream": "stdout",
       "text": [
        " 0\n",
        "2001"
       ]
      },
      {
       "output_type": "stream",
       "stream": "stdout",
       "text": [
        " 0\n",
        "2002"
       ]
      },
      {
       "output_type": "stream",
       "stream": "stdout",
       "text": [
        " 0\n",
        "2003"
       ]
      },
      {
       "output_type": "stream",
       "stream": "stdout",
       "text": [
        " 0\n",
        "2004"
       ]
      },
      {
       "output_type": "stream",
       "stream": "stdout",
       "text": [
        " 0\n",
        "2005"
       ]
      },
      {
       "output_type": "stream",
       "stream": "stdout",
       "text": [
        " 0\n",
        "2006"
       ]
      },
      {
       "output_type": "stream",
       "stream": "stdout",
       "text": [
        " 0\n",
        "2007"
       ]
      },
      {
       "output_type": "stream",
       "stream": "stdout",
       "text": [
        " 0\n",
        "2008"
       ]
      },
      {
       "output_type": "stream",
       "stream": "stdout",
       "text": [
        " 0\n",
        "2009"
       ]
      },
      {
       "output_type": "stream",
       "stream": "stdout",
       "text": [
        " 0\n",
        "2010"
       ]
      },
      {
       "output_type": "stream",
       "stream": "stdout",
       "text": [
        " 0\n",
        "2011"
       ]
      },
      {
       "output_type": "stream",
       "stream": "stdout",
       "text": [
        " 0\n",
        "2012"
       ]
      },
      {
       "output_type": "stream",
       "stream": "stdout",
       "text": [
        " 0\n",
        "2013"
       ]
      },
      {
       "output_type": "stream",
       "stream": "stdout",
       "text": [
        " 0\n"
       ]
      }
     ],
     "prompt_number": 118
    },
    {
     "cell_type": "code",
     "collapsed": false,
     "input": [
      "dk=dk.set_index(['year','importer1','importer2'])\n",
      "dk.to_csv('data.csv')"
     ],
     "language": "python",
     "metadata": {},
     "outputs": [],
     "prompt_number": 119
    },
    {
     "cell_type": "markdown",
     "metadata": {},
     "source": [
      "other direction flow"
     ]
    },
    {
     "cell_type": "code",
     "collapsed": false,
     "input": [
      "data={}\n",
      "countries=set()\n",
      "for i in df.T.iteritems():\n",
      "    year=int(i[1][2])\n",
      "    target=cc(i[1][0])\n",
      "    source=cc(i[1][1])\n",
      "    if target==\"Various\":\n",
      "        target=\"Other\"\n",
      "    if source==\"Various\":\n",
      "        source=\"Other\"\n",
      "    value=i[1][3]\n",
      "    countries.add(target)\n",
      "    countries.add(source)\n",
      "    if year not in data:data[year]={}\n",
      "    if ((source in data[year]) and (target in data[year][source])):\n",
      "            data[year][source][target][1]=value\n",
      "    else:\n",
      "        if target not in data[year]:data[year][target]={}\n",
      "        if source not in data[year][target]:data[year][target][source]=[0,0]\n",
      "        data[year][target][source][0]=value  \n",
      "dk=pd.DataFrame(columns=['importer2','importer1','year','flow1','flow2'])\n",
      "c=0\n",
      "for year in data:\n",
      "    for target in data[year]:\n",
      "        for source in data[year][target]:\n",
      "            dk.loc[c]=[target,source,year,data[year][target][source][0],data[year][target][source][1]]\n",
      "            c+=1\n",
      "    print year,'0'\n",
      "dk=dk.set_index(['year','importer2','importer1'])\n",
      "dk.to_csv('data.csv')"
     ],
     "language": "python",
     "metadata": {},
     "outputs": []
    },
    {
     "cell_type": "markdown",
     "metadata": {},
     "source": [
      "extra experimentations"
     ]
    },
    {
     "cell_type": "code",
     "collapsed": false,
     "input": [
      "data2={}\n",
      "countries2=set()\n",
      "for i in df.T.iteritems():\n",
      "    year=int(i[1][2])\n",
      "    target=cc(i[1][0])\n",
      "    source=cc(i[1][1])\n",
      "    if target==\"Various\":\n",
      "        target=\"Other\"\n",
      "    if source==\"Various\":\n",
      "        source=\"Other\"\n",
      "    value=i[1][3]\n",
      "    countries2.add(target)\n",
      "    countries2.add(source)\n",
      "    if value<10000:\n",
      "        target=\"Other\"\n",
      "    if year not in data2:data2[year]={}\n",
      "    if ((source in data2[year]) and (target in data2[year][source])):\n",
      "        data2[year][source][target][1]+=value\n",
      "    else:\n",
      "        target=cc(i[1][0])\n",
      "        source=cc(i[1][1])\n",
      "        if target==\"Various\":\n",
      "            target=\"Other\"\n",
      "        if source==\"Various\":\n",
      "            source=\"Other\"\n",
      "        if value<10000:\n",
      "            source=\"Other\"\n",
      "        if target not in data2[year]:data2[year][target]={}\n",
      "        if source not in data2[year][target]:data2[year][target][source]=[0,0]\n",
      "        \n",
      "        data2[year][target][source][0]+=value  "
     ],
     "language": "python",
     "metadata": {},
     "outputs": [],
     "prompt_number": 225
    },
    {
     "cell_type": "code",
     "collapsed": false,
     "input": [
      "dk2=pd.DataFrame(columns=['importer1','importer2','year','flow1','flow2'])\n",
      "c=0\n",
      "for year in data2:\n",
      "    for target in data2[year]:\n",
      "        for source in data2[year][target]:\n",
      "            dk2.loc[c]=[target,source,year,data2[year][target][source][0],data2[year][target][source][1]]\n",
      "            c+=1\n",
      "    print year,'1'"
     ],
     "language": "python",
     "metadata": {},
     "outputs": [
      {
       "output_type": "stream",
       "stream": "stdout",
       "text": [
        "1975 1\n",
        "1976 1\n",
        "1977"
       ]
      },
      {
       "output_type": "stream",
       "stream": "stdout",
       "text": [
        " 1\n",
        "1978"
       ]
      },
      {
       "output_type": "stream",
       "stream": "stdout",
       "text": [
        " 1\n",
        "1979"
       ]
      },
      {
       "output_type": "stream",
       "stream": "stdout",
       "text": [
        " 1\n",
        "1980"
       ]
      },
      {
       "output_type": "stream",
       "stream": "stdout",
       "text": [
        " 1\n",
        "1981"
       ]
      },
      {
       "output_type": "stream",
       "stream": "stdout",
       "text": [
        " 1\n",
        "1982"
       ]
      },
      {
       "output_type": "stream",
       "stream": "stdout",
       "text": [
        " 1\n",
        "1983"
       ]
      },
      {
       "output_type": "stream",
       "stream": "stdout",
       "text": [
        " 1\n",
        "1984"
       ]
      },
      {
       "output_type": "stream",
       "stream": "stdout",
       "text": [
        " 1\n",
        "1985"
       ]
      },
      {
       "output_type": "stream",
       "stream": "stdout",
       "text": [
        " 1\n",
        "1986"
       ]
      },
      {
       "output_type": "stream",
       "stream": "stdout",
       "text": [
        " 1\n",
        "1987"
       ]
      },
      {
       "output_type": "stream",
       "stream": "stdout",
       "text": [
        " 1\n",
        "1988"
       ]
      },
      {
       "output_type": "stream",
       "stream": "stdout",
       "text": [
        " 1\n",
        "1989"
       ]
      },
      {
       "output_type": "stream",
       "stream": "stdout",
       "text": [
        " 1\n",
        "1990"
       ]
      },
      {
       "output_type": "stream",
       "stream": "stdout",
       "text": [
        " 1\n",
        "1991"
       ]
      },
      {
       "output_type": "stream",
       "stream": "stdout",
       "text": [
        " 1\n",
        "1992"
       ]
      },
      {
       "output_type": "stream",
       "stream": "stdout",
       "text": [
        " 1\n",
        "1993"
       ]
      },
      {
       "output_type": "stream",
       "stream": "stdout",
       "text": [
        " 1\n",
        "1994"
       ]
      },
      {
       "output_type": "stream",
       "stream": "stdout",
       "text": [
        " 1\n",
        "1995"
       ]
      },
      {
       "output_type": "stream",
       "stream": "stdout",
       "text": [
        " 1\n",
        "1996"
       ]
      },
      {
       "output_type": "stream",
       "stream": "stdout",
       "text": [
        " 1\n",
        "1997"
       ]
      },
      {
       "output_type": "stream",
       "stream": "stdout",
       "text": [
        " 1\n",
        "1998"
       ]
      },
      {
       "output_type": "stream",
       "stream": "stdout",
       "text": [
        " 1\n",
        "1999"
       ]
      },
      {
       "output_type": "stream",
       "stream": "stdout",
       "text": [
        " 1\n",
        "2000"
       ]
      },
      {
       "output_type": "stream",
       "stream": "stdout",
       "text": [
        " 1\n",
        "2001"
       ]
      },
      {
       "output_type": "stream",
       "stream": "stdout",
       "text": [
        " 1\n",
        "2002"
       ]
      },
      {
       "output_type": "stream",
       "stream": "stdout",
       "text": [
        " 1\n",
        "2003"
       ]
      },
      {
       "output_type": "stream",
       "stream": "stdout",
       "text": [
        " 1\n",
        "2004"
       ]
      },
      {
       "output_type": "stream",
       "stream": "stdout",
       "text": [
        " 1\n",
        "2005"
       ]
      },
      {
       "output_type": "stream",
       "stream": "stdout",
       "text": [
        " 1\n",
        "2006"
       ]
      },
      {
       "output_type": "stream",
       "stream": "stdout",
       "text": [
        " 1\n",
        "2007"
       ]
      },
      {
       "output_type": "stream",
       "stream": "stdout",
       "text": [
        " 1\n",
        "2008"
       ]
      },
      {
       "output_type": "stream",
       "stream": "stdout",
       "text": [
        " 1\n",
        "2009"
       ]
      },
      {
       "output_type": "stream",
       "stream": "stdout",
       "text": [
        " 1\n",
        "2010"
       ]
      },
      {
       "output_type": "stream",
       "stream": "stdout",
       "text": [
        " 1\n",
        "2011"
       ]
      },
      {
       "output_type": "stream",
       "stream": "stdout",
       "text": [
        " 1\n",
        "2012"
       ]
      },
      {
       "output_type": "stream",
       "stream": "stdout",
       "text": [
        " 1\n",
        "2013"
       ]
      },
      {
       "output_type": "stream",
       "stream": "stdout",
       "text": [
        " 1\n"
       ]
      }
     ],
     "prompt_number": 226
    },
    {
     "cell_type": "code",
     "collapsed": false,
     "input": [
      "dk2=dk2.set_index(['year','importer1','importer2'])\n",
      "dk2.to_csv('data2.csv')"
     ],
     "language": "python",
     "metadata": {},
     "outputs": [],
     "prompt_number": 227
    },
    {
     "cell_type": "code",
     "collapsed": false,
     "input": [
      "data3={}\n",
      "for i in df.T.iteritems():\n",
      "    year=int(i[1][2])\n",
      "    target=cc(i[1][0])\n",
      "    source=cc(i[1][1])\n",
      "    if target==\"Various\":\n",
      "        target=\"Other\"\n",
      "    if source==\"Various\":\n",
      "        source=\"Other\"\n",
      "    value=i[1][3]\n",
      "    if value<0:\n",
      "        target=\"Other\"\n",
      "    if year not in data3:data3[year]={}\n",
      "    if ((source in data3[year]) and (target in data3[year][source])):\n",
      "        data3[year][source][target][1]+=value\n",
      "    else:\n",
      "        target=cc(i[1][0])\n",
      "        source=cc(i[1][1])\n",
      "        if target==\"Various\":\n",
      "            target=\"Other\"\n",
      "        if source==\"Various\":\n",
      "            source=\"Other\"\n",
      "        if value<0:\n",
      "            source=\"Other\"\n",
      "        if target not in data3[year]:data3[year][target]={}\n",
      "        if source not in data3[year][target]:data3[year][target][source]=[0,0]\n",
      "        \n",
      "        data3[year][target][source][0]+=value  "
     ],
     "language": "python",
     "metadata": {},
     "outputs": [],
     "prompt_number": 262
    },
    {
     "cell_type": "code",
     "collapsed": false,
     "input": [
      "#for th in {1000,5000,10000,50000,100000}:\n",
      "for th in {10000,100000}:    \n",
      "    dk3=pd.DataFrame(columns=['importer1','importer2','year','flow1','flow2'])\n",
      "    c=0    \n",
      "    for year in data3:\n",
      "        p=0\n",
      "        dk3.loc[c]=['Other','Other',year,0,0]\n",
      "        r=copy.deepcopy(c)\n",
      "        c+=1\n",
      "        for target in data3[year]:\n",
      "            for source in data3[year][target]:\n",
      "                if ((source!='Other') and (target!='Other')):\n",
      "                    if ((data3[year][target][source][0]>th)or(data3[year][target][source][1]>th)):\n",
      "                        dk3.loc[c]=[target,source,year,data3[year][target][source][0],data3[year][target][source][1]]\n",
      "                    else: p+=data3[year][target][source][0]+data3[year][target][source][1]\n",
      "                else: dk3.loc[r]['flow1']+=data3[year][target][source][0]+data3[year][target][source][1]\n",
      "                c+=1\n",
      "        dk3[(dk3['year']==year)&(dk3['importer2']=='Other')&(dk3['importer1']=='Other')]['flow1']+=p\n",
      "    dk3=dk3.set_index(['year','importer1','importer2'])\n",
      "    dk3.to_csv(repr(th)+'data3.csv')\n",
      "    dk3b=dk3.copy()\n",
      "    dk3b.index.names=[u'year', u'importer2', u'importer1']\n",
      "    dk3b.to_csv(repr(th)+'data3b.csv')"
     ],
     "language": "python",
     "metadata": {},
     "outputs": [],
     "prompt_number": 327
    },
    {
     "cell_type": "code",
     "collapsed": false,
     "input": [
      "dk3.loc[1976]"
     ],
     "language": "python",
     "metadata": {},
     "outputs": [
      {
       "html": [
        "<div style=\"max-height:1000px;max-width:1500px;overflow:auto;\">\n",
        "<table border=\"1\" class=\"dataframe\">\n",
        "  <thead>\n",
        "    <tr style=\"text-align: right;\">\n",
        "      <th></th>\n",
        "      <th></th>\n",
        "      <th>flow1</th>\n",
        "      <th>flow2</th>\n",
        "    </tr>\n",
        "    <tr>\n",
        "      <th>importer1</th>\n",
        "      <th>importer2</th>\n",
        "      <th></th>\n",
        "      <th></th>\n",
        "    </tr>\n",
        "  </thead>\n",
        "  <tbody>\n",
        "    <tr>\n",
        "      <th>Other</th>\n",
        "      <th>Other</th>\n",
        "      <td> 2472611</td>\n",
        "      <td>      0</td>\n",
        "    </tr>\n",
        "    <tr>\n",
        "      <th>Ethiopia</th>\n",
        "      <th>Sudan</th>\n",
        "      <td>   10600</td>\n",
        "      <td> 105000</td>\n",
        "    </tr>\n",
        "    <tr>\n",
        "      <th rowspan=\"2\" valign=\"top\">Tanzania</th>\n",
        "      <th>Burundi</th>\n",
        "      <td>  126600</td>\n",
        "      <td>      0</td>\n",
        "    </tr>\n",
        "    <tr>\n",
        "      <th>Rwanda</th>\n",
        "      <td>   23600</td>\n",
        "      <td>      0</td>\n",
        "    </tr>\n",
        "    <tr>\n",
        "      <th rowspan=\"2\" valign=\"top\">DRC</th>\n",
        "      <th>Burundi</th>\n",
        "      <td>   18220</td>\n",
        "      <td>      0</td>\n",
        "    </tr>\n",
        "    <tr>\n",
        "      <th>Rwanda</th>\n",
        "      <td>   24500</td>\n",
        "      <td>      0</td>\n",
        "    </tr>\n",
        "    <tr>\n",
        "      <th>Cameroon</th>\n",
        "      <th>Equatorial Guinea</th>\n",
        "      <td>   30000</td>\n",
        "      <td>      0</td>\n",
        "    </tr>\n",
        "    <tr>\n",
        "      <th>Algeria</th>\n",
        "      <th>Western Sahara</th>\n",
        "      <td>   35000</td>\n",
        "      <td>      0</td>\n",
        "    </tr>\n",
        "    <tr>\n",
        "      <th>Zambia</th>\n",
        "      <th>Angola</th>\n",
        "      <td>   27730</td>\n",
        "      <td>      0</td>\n",
        "    </tr>\n",
        "    <tr>\n",
        "      <th>Senegal</th>\n",
        "      <th>Guinea-Bissau</th>\n",
        "      <td>   37000</td>\n",
        "      <td>      0</td>\n",
        "    </tr>\n",
        "    <tr>\n",
        "      <th rowspan=\"2\" valign=\"top\">Thailand</th>\n",
        "      <th>Lao PDR</th>\n",
        "      <td>   62720</td>\n",
        "      <td>      0</td>\n",
        "    </tr>\n",
        "    <tr>\n",
        "      <th>Cambodia</th>\n",
        "      <td>   17090</td>\n",
        "      <td>      0</td>\n",
        "    </tr>\n",
        "    <tr>\n",
        "      <th>Gabon</th>\n",
        "      <th>Equatorial Guinea</th>\n",
        "      <td>   60000</td>\n",
        "      <td>      0</td>\n",
        "    </tr>\n",
        "    <tr>\n",
        "      <th>Angola</th>\n",
        "      <th>DRC</th>\n",
        "      <td>    5000</td>\n",
        "      <td> 471340</td>\n",
        "    </tr>\n",
        "    <tr>\n",
        "      <th>C\u00f4te d'Ivoire</th>\n",
        "      <th>Guinea</th>\n",
        "      <td>  500000</td>\n",
        "      <td>      0</td>\n",
        "    </tr>\n",
        "    <tr>\n",
        "      <th>Mozambique</th>\n",
        "      <th>Zimbabwe</th>\n",
        "      <td>   30000</td>\n",
        "      <td>      0</td>\n",
        "    </tr>\n",
        "    <tr>\n",
        "      <th rowspan=\"2\" valign=\"top\">Uganda</th>\n",
        "      <th>DRC</th>\n",
        "      <td>   34230</td>\n",
        "      <td>      0</td>\n",
        "    </tr>\n",
        "    <tr>\n",
        "      <th>Rwanda</th>\n",
        "      <td>   78480</td>\n",
        "      <td>      0</td>\n",
        "    </tr>\n",
        "    <tr>\n",
        "      <th>Burundi</th>\n",
        "      <th>Rwanda</th>\n",
        "      <td>   49500</td>\n",
        "      <td>   7500</td>\n",
        "    </tr>\n",
        "  </tbody>\n",
        "</table>\n",
        "</div>"
       ],
       "metadata": {},
       "output_type": "pyout",
       "prompt_number": 326,
       "text": [
        "                                   flow1   flow2\n",
        "importer1     importer2                         \n",
        "Other         Other              2472611       0\n",
        "Ethiopia      Sudan                10600  105000\n",
        "Tanzania      Burundi             126600       0\n",
        "              Rwanda               23600       0\n",
        "DRC           Burundi              18220       0\n",
        "              Rwanda               24500       0\n",
        "Cameroon      Equatorial Guinea    30000       0\n",
        "Algeria       Western Sahara       35000       0\n",
        "Zambia        Angola               27730       0\n",
        "Senegal       Guinea-Bissau        37000       0\n",
        "Thailand      Lao PDR              62720       0\n",
        "              Cambodia             17090       0\n",
        "Gabon         Equatorial Guinea    60000       0\n",
        "Angola        DRC                   5000  471340\n",
        "C\u00f4te d'Ivoire Guinea              500000       0\n",
        "Mozambique    Zimbabwe             30000       0\n",
        "Uganda        DRC                  34230       0\n",
        "              Rwanda               78480       0\n",
        "Burundi       Rwanda               49500    7500"
       ]
      }
     ],
     "prompt_number": 326
    }
   ],
   "metadata": {}
  }
 ]
}