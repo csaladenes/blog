{
 "cells": [
  {
   "cell_type": "code",
   "execution_count": 212,
   "metadata": {
    "ExecuteTime": {
     "end_time": "2019-04-17T03:17:20.958615Z",
     "start_time": "2019-04-17T03:17:20.955617Z"
    }
   },
   "outputs": [],
   "source": [
    "import pandas as pd, numpy as np"
   ]
  },
  {
   "cell_type": "code",
   "execution_count": 2,
   "metadata": {
    "ExecuteTime": {
     "end_time": "2019-04-17T01:57:39.041375Z",
     "start_time": "2019-04-17T01:57:39.037371Z"
    }
   },
   "outputs": [],
   "source": [
    "url='https://en.wikipedia.org/wiki/List_of_International_Space_Station_expeditions'"
   ]
  },
  {
   "cell_type": "code",
   "execution_count": 321,
   "metadata": {
    "ExecuteTime": {
     "end_time": "2019-04-17T13:48:32.973991Z",
     "start_time": "2019-04-17T13:48:32.471478Z"
    }
   },
   "outputs": [],
   "source": [
    "df=pd.read_html(url)\n",
    "df=pd.concat(df[:2]).reset_index()"
   ]
  },
  {
   "cell_type": "code",
   "execution_count": 322,
   "metadata": {
    "ExecuteTime": {
     "end_time": "2019-04-17T13:48:32.984996Z",
     "start_time": "2019-04-17T13:48:32.976991Z"
    }
   },
   "outputs": [],
   "source": [
    "def find_names(s,ppls,z):\n",
    "    nms=s.split(' ')\n",
    "    l=2\n",
    "    while l<4:\n",
    "        ppl=' '.join(nms[:l])\n",
    "        if ppl in ppls:\n",
    "            z.append(ppl)\n",
    "            rest=' '.join(nms[l:])\n",
    "            find_names(rest,ppls,z)\n",
    "            l=4\n",
    "        l+=1\n",
    "    return z"
   ]
  },
  {
   "cell_type": "code",
   "execution_count": 323,
   "metadata": {
    "ExecuteTime": {
     "end_time": "2019-04-17T13:48:34.848062Z",
     "start_time": "2019-04-17T13:48:33.218994Z"
    }
   },
   "outputs": [],
   "source": [
    "dgs=[]\n",
    "for i in df.index:\n",
    "    crew=df.loc[i]['Crew'].replace('\\n','')\n",
    "    crews=find_names(crew,ppls,[])\n",
    "    for c in crews:\n",
    "        dg=df.loc[[i]][['Expedition','Duration(days)']].copy()\n",
    "        dg['Crew']=c\n",
    "        date=df.loc[i]['Launch date']\n",
    "        date=date.split(' ')\n",
    "        if ',' in date[1]:\n",
    "            date=date[1].replace(',','')+' '+date[0]+' '+date[2][:4]\n",
    "        else:\n",
    "            date=date[0]+' '+date[1]+' '+date[2][:4]\n",
    "        dg['Date']=date\n",
    "        dgs.append(dg)"
   ]
  },
  {
   "cell_type": "code",
   "execution_count": 324,
   "metadata": {
    "ExecuteTime": {
     "end_time": "2019-04-17T13:48:35.023064Z",
     "start_time": "2019-04-17T13:48:34.851059Z"
    }
   },
   "outputs": [],
   "source": [
    "dgs=pd.concat(dgs).reset_index()\n",
    "dhs=dgs.set_index(['Expedition','Crew'])"
   ]
  },
  {
   "cell_type": "code",
   "execution_count": 325,
   "metadata": {
    "ExecuteTime": {
     "end_time": "2019-04-17T13:48:35.034065Z",
     "start_time": "2019-04-17T13:48:35.026066Z"
    }
   },
   "outputs": [],
   "source": [
    "def get_duration(duration):\n",
    "    default='160'\n",
    "    duration=str(duration)\n",
    "    if duration=='nan':\n",
    "        return default\n",
    "    if 'ransfer' in duration:\n",
    "            duration=' '.join(duration.split(' ')[-2:])\n",
    "            try:\n",
    "                duration=dhs.loc[duration].loc[crew]['Duration(days)']\n",
    "            except:\n",
    "                print(crew,duration)\n",
    "                return default\n",
    "    return duration"
   ]
  },
  {
   "cell_type": "code",
   "execution_count": 326,
   "metadata": {
    "ExecuteTime": {
     "end_time": "2019-04-17T13:48:35.548061Z",
     "start_time": "2019-04-17T13:48:35.040068Z"
    }
   },
   "outputs": [
    {
     "name": "stdout",
     "output_type": "stream",
     "text": [
      "Mikhail Korniyenko year mission\n",
      "Scott J. Kelly year mission\n",
      "Timothy Peake Expedition 47\n",
      "Aleksey Ovchinin Expedition 60\n",
      "Christina Koch Expedition 60\n",
      "Nick Hague Expedition 60\n"
     ]
    }
   ],
   "source": [
    "data=[]\n",
    "for i in dgs.index:\n",
    "    crew=dgs.loc[i]['Crew']\n",
    "    date=dgs.loc[i]['Date']\n",
    "    if 'ransfer' not in date:\n",
    "        duration=dgs.loc[i]['Duration(days)']\n",
    "        duration=get_duration(duration)\n",
    "        duration=get_duration(duration)\n",
    "        duration=get_duration(duration)\n",
    "        if '[' in duration:\n",
    "            duration=duration[:duration.find('[')]\n",
    "        duration=int(np.round(float(duration.replace('days','').replace('day','').strip()),0))\n",
    "        data.append({'Crew':crew,'Date':date,'Duration':duration})      "
   ]
  },
  {
   "cell_type": "code",
   "execution_count": 327,
   "metadata": {
    "ExecuteTime": {
     "end_time": "2019-04-17T13:48:35.565063Z",
     "start_time": "2019-04-17T13:48:35.555069Z"
    }
   },
   "outputs": [],
   "source": [
    "data=pd.DataFrame(data)"
   ]
  },
  {
   "cell_type": "code",
   "execution_count": 328,
   "metadata": {
    "ExecuteTime": {
     "end_time": "2019-04-17T13:48:35.605066Z",
     "start_time": "2019-04-17T13:48:35.571070Z"
    }
   },
   "outputs": [
    {
     "data": {
      "text/html": [
       "<div>\n",
       "<style scoped>\n",
       "    .dataframe tbody tr th:only-of-type {\n",
       "        vertical-align: middle;\n",
       "    }\n",
       "\n",
       "    .dataframe tbody tr th {\n",
       "        vertical-align: top;\n",
       "    }\n",
       "\n",
       "    .dataframe thead th {\n",
       "        text-align: right;\n",
       "    }\n",
       "</style>\n",
       "<table border=\"1\" class=\"dataframe\">\n",
       "  <thead>\n",
       "    <tr style=\"text-align: right;\">\n",
       "      <th></th>\n",
       "      <th>Crew</th>\n",
       "      <th>Date</th>\n",
       "      <th>Duration</th>\n",
       "    </tr>\n",
       "  </thead>\n",
       "  <tbody>\n",
       "    <tr>\n",
       "      <th>0</th>\n",
       "      <td>William M. Shepherd</td>\n",
       "      <td>31 October 2000</td>\n",
       "      <td>141</td>\n",
       "    </tr>\n",
       "    <tr>\n",
       "      <th>1</th>\n",
       "      <td>Sergei Krikalev</td>\n",
       "      <td>31 October 2000</td>\n",
       "      <td>141</td>\n",
       "    </tr>\n",
       "    <tr>\n",
       "      <th>2</th>\n",
       "      <td>Yuri Gidzenko</td>\n",
       "      <td>31 October 2000</td>\n",
       "      <td>141</td>\n",
       "    </tr>\n",
       "    <tr>\n",
       "      <th>3</th>\n",
       "      <td>Yuri Usachev</td>\n",
       "      <td>8 March 2001</td>\n",
       "      <td>167</td>\n",
       "    </tr>\n",
       "    <tr>\n",
       "      <th>4</th>\n",
       "      <td>James S. Voss</td>\n",
       "      <td>8 March 2001</td>\n",
       "      <td>167</td>\n",
       "    </tr>\n",
       "  </tbody>\n",
       "</table>\n",
       "</div>"
      ],
      "text/plain": [
       "                  Crew             Date  Duration\n",
       "0  William M. Shepherd  31 October 2000       141\n",
       "1      Sergei Krikalev  31 October 2000       141\n",
       "2        Yuri Gidzenko  31 October 2000       141\n",
       "3         Yuri Usachev     8 March 2001       167\n",
       "4        James S. Voss     8 March 2001       167"
      ]
     },
     "execution_count": 328,
     "metadata": {},
     "output_type": "execute_result"
    }
   ],
   "source": [
    "data.head()"
   ]
  },
  {
   "cell_type": "code",
   "execution_count": 329,
   "metadata": {
    "ExecuteTime": {
     "end_time": "2019-04-17T13:48:36.041592Z",
     "start_time": "2019-04-17T13:48:35.680061Z"
    }
   },
   "outputs": [],
   "source": [
    "import bs4\n",
    "import requests\n",
    "r=requests.get(url)\n",
    "soup = bs4.BeautifulSoup(r.content)\n",
    "tables=soup.findAll(\"table\")"
   ]
  },
  {
   "cell_type": "code",
   "execution_count": 330,
   "metadata": {
    "ExecuteTime": {
     "end_time": "2019-04-17T13:48:36.426589Z",
     "start_time": "2019-04-17T13:48:36.339592Z"
    }
   },
   "outputs": [],
   "source": [
    "links={}\n",
    "country_map={}\n",
    "for trs in [tables[0].findAll(\"tr\"),tables[1].findAll(\"tr\")]:\n",
    "    for i,tr in enumerate(trs):\n",
    "        if i>0:\n",
    "            aas=tr.findAll(\"a\")\n",
    "            for j,a in enumerate(aas):\n",
    "                if a:\n",
    "                    txt=a.text\n",
    "                    if txt:\n",
    "                        if '[' not in txt:\n",
    "                            links[txt]=a['href']\n",
    "                            if txt in data['Crew'].values:\n",
    "                                if txt not in country_map:\n",
    "                                    country=aas[j-1].find('img')['alt']\n",
    "                                    country_map[txt]=country\n",
    "                    else:\n",
    "                        if j>1:\n",
    "                            country=a.find('img')['alt']\n",
    "                            links[country]=a.find('img')['src']"
   ]
  },
  {
   "cell_type": "code",
   "execution_count": 331,
   "metadata": {
    "ExecuteTime": {
     "end_time": "2019-04-17T13:48:37.146637Z",
     "start_time": "2019-04-17T13:48:37.061636Z"
    }
   },
   "outputs": [],
   "source": [
    "countries=pd.DataFrame(country_map,index=['Country']).T\n",
    "links=pd.DataFrame(links,index=['Link']).T"
   ]
  },
  {
   "cell_type": "code",
   "execution_count": 332,
   "metadata": {
    "ExecuteTime": {
     "end_time": "2019-04-17T13:48:37.542636Z",
     "start_time": "2019-04-17T13:48:37.524641Z"
    }
   },
   "outputs": [],
   "source": [
    "data=data.join(countries,on='Crew')\n",
    "data['Crew_link']=data.join(links,on='Crew')['Link']\n",
    "data['Country_link']=data.join(links,on='Country')['Link']"
   ]
  },
  {
   "cell_type": "code",
   "execution_count": 333,
   "metadata": {
    "ExecuteTime": {
     "end_time": "2019-04-17T13:48:38.069638Z",
     "start_time": "2019-04-17T13:48:38.049635Z"
    }
   },
   "outputs": [],
   "source": [
    "data.to_csv('data.csv')"
   ]
  },
  {
   "cell_type": "code",
   "execution_count": 342,
   "metadata": {
    "ExecuteTime": {
     "end_time": "2019-04-17T13:49:11.971735Z",
     "start_time": "2019-04-17T13:49:11.967736Z"
    }
   },
   "outputs": [],
   "source": [
    "ndata={}"
   ]
  },
  {
   "cell_type": "code",
   "execution_count": 343,
   "metadata": {
    "ExecuteTime": {
     "end_time": "2019-04-17T13:49:13.077583Z",
     "start_time": "2019-04-17T13:49:12.267071Z"
    }
   },
   "outputs": [],
   "source": [
    "for i in data.index:\n",
    "    start=pd.to_datetime(data.loc[i]['Date'])\n",
    "    periods=data.loc[i]['Duration']\n",
    "    crew=data.loc[i]['Crew']\n",
    "    country=data.loc[i]['Country']\n",
    "    for idate in pd.date_range(start,periods=periods,freq='1D'):\n",
    "        date=str(idate)[:10]\n",
    "        if date not in ndata: ndata[date]={}\n",
    "        if country not in ndata[date]: ndata[date][country]={'crew':[],'count':0}\n",
    "        ndata[date][country]['crew'].append(crew)\n",
    "        ndata[date][country]['count']+=1"
   ]
  },
  {
   "cell_type": "code",
   "execution_count": null,
   "metadata": {},
   "outputs": [],
   "source": []
  },
  {
   "cell_type": "code",
   "execution_count": 347,
   "metadata": {
    "ExecuteTime": {
     "end_time": "2019-04-17T13:51:47.562780Z",
     "start_time": "2019-04-17T13:51:46.737596Z"
    }
   },
   "outputs": [
    {
     "data": {
      "text/html": [
       "<div>\n",
       "<style scoped>\n",
       "    .dataframe tbody tr th:only-of-type {\n",
       "        vertical-align: middle;\n",
       "    }\n",
       "\n",
       "    .dataframe tbody tr th {\n",
       "        vertical-align: top;\n",
       "    }\n",
       "\n",
       "    .dataframe thead th {\n",
       "        text-align: right;\n",
       "    }\n",
       "</style>\n",
       "<table border=\"1\" class=\"dataframe\">\n",
       "  <thead>\n",
       "    <tr style=\"text-align: right;\">\n",
       "      <th></th>\n",
       "      <th>2000-10-31</th>\n",
       "      <th>2000-11-01</th>\n",
       "      <th>2000-11-02</th>\n",
       "      <th>2000-11-03</th>\n",
       "      <th>2000-11-04</th>\n",
       "      <th>2000-11-05</th>\n",
       "      <th>2000-11-06</th>\n",
       "      <th>2000-11-07</th>\n",
       "      <th>2000-11-08</th>\n",
       "      <th>2000-11-09</th>\n",
       "      <th>...</th>\n",
       "      <th>2019-08-11</th>\n",
       "      <th>2019-08-12</th>\n",
       "      <th>2019-08-13</th>\n",
       "      <th>2019-08-14</th>\n",
       "      <th>2019-08-15</th>\n",
       "      <th>2019-08-16</th>\n",
       "      <th>2019-08-17</th>\n",
       "      <th>2019-08-18</th>\n",
       "      <th>2019-08-19</th>\n",
       "      <th>2019-08-20</th>\n",
       "    </tr>\n",
       "  </thead>\n",
       "  <tbody>\n",
       "    <tr>\n",
       "      <th>Belgium</th>\n",
       "      <td>NaN</td>\n",
       "      <td>NaN</td>\n",
       "      <td>NaN</td>\n",
       "      <td>NaN</td>\n",
       "      <td>NaN</td>\n",
       "      <td>NaN</td>\n",
       "      <td>NaN</td>\n",
       "      <td>NaN</td>\n",
       "      <td>NaN</td>\n",
       "      <td>NaN</td>\n",
       "      <td>...</td>\n",
       "      <td>NaN</td>\n",
       "      <td>NaN</td>\n",
       "      <td>NaN</td>\n",
       "      <td>NaN</td>\n",
       "      <td>NaN</td>\n",
       "      <td>NaN</td>\n",
       "      <td>NaN</td>\n",
       "      <td>NaN</td>\n",
       "      <td>NaN</td>\n",
       "      <td>NaN</td>\n",
       "    </tr>\n",
       "    <tr>\n",
       "      <th>Canada</th>\n",
       "      <td>NaN</td>\n",
       "      <td>NaN</td>\n",
       "      <td>NaN</td>\n",
       "      <td>NaN</td>\n",
       "      <td>NaN</td>\n",
       "      <td>NaN</td>\n",
       "      <td>NaN</td>\n",
       "      <td>NaN</td>\n",
       "      <td>NaN</td>\n",
       "      <td>NaN</td>\n",
       "      <td>...</td>\n",
       "      <td>NaN</td>\n",
       "      <td>NaN</td>\n",
       "      <td>NaN</td>\n",
       "      <td>NaN</td>\n",
       "      <td>NaN</td>\n",
       "      <td>NaN</td>\n",
       "      <td>NaN</td>\n",
       "      <td>NaN</td>\n",
       "      <td>NaN</td>\n",
       "      <td>NaN</td>\n",
       "    </tr>\n",
       "    <tr>\n",
       "      <th>France</th>\n",
       "      <td>NaN</td>\n",
       "      <td>NaN</td>\n",
       "      <td>NaN</td>\n",
       "      <td>NaN</td>\n",
       "      <td>NaN</td>\n",
       "      <td>NaN</td>\n",
       "      <td>NaN</td>\n",
       "      <td>NaN</td>\n",
       "      <td>NaN</td>\n",
       "      <td>NaN</td>\n",
       "      <td>...</td>\n",
       "      <td>NaN</td>\n",
       "      <td>NaN</td>\n",
       "      <td>NaN</td>\n",
       "      <td>NaN</td>\n",
       "      <td>NaN</td>\n",
       "      <td>NaN</td>\n",
       "      <td>NaN</td>\n",
       "      <td>NaN</td>\n",
       "      <td>NaN</td>\n",
       "      <td>NaN</td>\n",
       "    </tr>\n",
       "    <tr>\n",
       "      <th>Germany</th>\n",
       "      <td>NaN</td>\n",
       "      <td>NaN</td>\n",
       "      <td>NaN</td>\n",
       "      <td>NaN</td>\n",
       "      <td>NaN</td>\n",
       "      <td>NaN</td>\n",
       "      <td>NaN</td>\n",
       "      <td>NaN</td>\n",
       "      <td>NaN</td>\n",
       "      <td>NaN</td>\n",
       "      <td>...</td>\n",
       "      <td>NaN</td>\n",
       "      <td>NaN</td>\n",
       "      <td>NaN</td>\n",
       "      <td>NaN</td>\n",
       "      <td>NaN</td>\n",
       "      <td>NaN</td>\n",
       "      <td>NaN</td>\n",
       "      <td>NaN</td>\n",
       "      <td>NaN</td>\n",
       "      <td>NaN</td>\n",
       "    </tr>\n",
       "    <tr>\n",
       "      <th>Italy</th>\n",
       "      <td>NaN</td>\n",
       "      <td>NaN</td>\n",
       "      <td>NaN</td>\n",
       "      <td>NaN</td>\n",
       "      <td>NaN</td>\n",
       "      <td>NaN</td>\n",
       "      <td>NaN</td>\n",
       "      <td>NaN</td>\n",
       "      <td>NaN</td>\n",
       "      <td>NaN</td>\n",
       "      <td>...</td>\n",
       "      <td>NaN</td>\n",
       "      <td>NaN</td>\n",
       "      <td>NaN</td>\n",
       "      <td>NaN</td>\n",
       "      <td>NaN</td>\n",
       "      <td>NaN</td>\n",
       "      <td>NaN</td>\n",
       "      <td>NaN</td>\n",
       "      <td>NaN</td>\n",
       "      <td>NaN</td>\n",
       "    </tr>\n",
       "    <tr>\n",
       "      <th>Japan</th>\n",
       "      <td>NaN</td>\n",
       "      <td>NaN</td>\n",
       "      <td>NaN</td>\n",
       "      <td>NaN</td>\n",
       "      <td>NaN</td>\n",
       "      <td>NaN</td>\n",
       "      <td>NaN</td>\n",
       "      <td>NaN</td>\n",
       "      <td>NaN</td>\n",
       "      <td>NaN</td>\n",
       "      <td>...</td>\n",
       "      <td>NaN</td>\n",
       "      <td>NaN</td>\n",
       "      <td>NaN</td>\n",
       "      <td>NaN</td>\n",
       "      <td>NaN</td>\n",
       "      <td>NaN</td>\n",
       "      <td>NaN</td>\n",
       "      <td>NaN</td>\n",
       "      <td>NaN</td>\n",
       "      <td>NaN</td>\n",
       "    </tr>\n",
       "    <tr>\n",
       "      <th>Netherlands</th>\n",
       "      <td>NaN</td>\n",
       "      <td>NaN</td>\n",
       "      <td>NaN</td>\n",
       "      <td>NaN</td>\n",
       "      <td>NaN</td>\n",
       "      <td>NaN</td>\n",
       "      <td>NaN</td>\n",
       "      <td>NaN</td>\n",
       "      <td>NaN</td>\n",
       "      <td>NaN</td>\n",
       "      <td>...</td>\n",
       "      <td>NaN</td>\n",
       "      <td>NaN</td>\n",
       "      <td>NaN</td>\n",
       "      <td>NaN</td>\n",
       "      <td>NaN</td>\n",
       "      <td>NaN</td>\n",
       "      <td>NaN</td>\n",
       "      <td>NaN</td>\n",
       "      <td>NaN</td>\n",
       "      <td>NaN</td>\n",
       "    </tr>\n",
       "    <tr>\n",
       "      <th>Russia</th>\n",
       "      <td>{'crew': ['Sergei Krikalev', 'Yuri Gidzenko'],...</td>\n",
       "      <td>{'crew': ['Sergei Krikalev', 'Yuri Gidzenko'],...</td>\n",
       "      <td>{'crew': ['Sergei Krikalev', 'Yuri Gidzenko'],...</td>\n",
       "      <td>{'crew': ['Sergei Krikalev', 'Yuri Gidzenko'],...</td>\n",
       "      <td>{'crew': ['Sergei Krikalev', 'Yuri Gidzenko'],...</td>\n",
       "      <td>{'crew': ['Sergei Krikalev', 'Yuri Gidzenko'],...</td>\n",
       "      <td>{'crew': ['Sergei Krikalev', 'Yuri Gidzenko'],...</td>\n",
       "      <td>{'crew': ['Sergei Krikalev', 'Yuri Gidzenko'],...</td>\n",
       "      <td>{'crew': ['Sergei Krikalev', 'Yuri Gidzenko'],...</td>\n",
       "      <td>{'crew': ['Sergei Krikalev', 'Yuri Gidzenko'],...</td>\n",
       "      <td>...</td>\n",
       "      <td>{'crew': ['Aleksey Ovchinin'], 'count': 1}</td>\n",
       "      <td>{'crew': ['Aleksey Ovchinin'], 'count': 1}</td>\n",
       "      <td>{'crew': ['Aleksey Ovchinin'], 'count': 1}</td>\n",
       "      <td>{'crew': ['Aleksey Ovchinin'], 'count': 1}</td>\n",
       "      <td>{'crew': ['Aleksey Ovchinin'], 'count': 1}</td>\n",
       "      <td>{'crew': ['Aleksey Ovchinin'], 'count': 1}</td>\n",
       "      <td>{'crew': ['Aleksey Ovchinin'], 'count': 1}</td>\n",
       "      <td>{'crew': ['Aleksey Ovchinin'], 'count': 1}</td>\n",
       "      <td>{'crew': ['Aleksey Ovchinin'], 'count': 1}</td>\n",
       "      <td>{'crew': ['Aleksey Ovchinin'], 'count': 1}</td>\n",
       "    </tr>\n",
       "    <tr>\n",
       "      <th>United Kingdom</th>\n",
       "      <td>NaN</td>\n",
       "      <td>NaN</td>\n",
       "      <td>NaN</td>\n",
       "      <td>NaN</td>\n",
       "      <td>NaN</td>\n",
       "      <td>NaN</td>\n",
       "      <td>NaN</td>\n",
       "      <td>NaN</td>\n",
       "      <td>NaN</td>\n",
       "      <td>NaN</td>\n",
       "      <td>...</td>\n",
       "      <td>NaN</td>\n",
       "      <td>NaN</td>\n",
       "      <td>NaN</td>\n",
       "      <td>NaN</td>\n",
       "      <td>NaN</td>\n",
       "      <td>NaN</td>\n",
       "      <td>NaN</td>\n",
       "      <td>NaN</td>\n",
       "      <td>NaN</td>\n",
       "      <td>NaN</td>\n",
       "    </tr>\n",
       "    <tr>\n",
       "      <th>United States</th>\n",
       "      <td>{'crew': ['William M. Shepherd'], 'count': 1}</td>\n",
       "      <td>{'crew': ['William M. Shepherd'], 'count': 1}</td>\n",
       "      <td>{'crew': ['William M. Shepherd'], 'count': 1}</td>\n",
       "      <td>{'crew': ['William M. Shepherd'], 'count': 1}</td>\n",
       "      <td>{'crew': ['William M. Shepherd'], 'count': 1}</td>\n",
       "      <td>{'crew': ['William M. Shepherd'], 'count': 1}</td>\n",
       "      <td>{'crew': ['William M. Shepherd'], 'count': 1}</td>\n",
       "      <td>{'crew': ['William M. Shepherd'], 'count': 1}</td>\n",
       "      <td>{'crew': ['William M. Shepherd'], 'count': 1}</td>\n",
       "      <td>{'crew': ['William M. Shepherd'], 'count': 1}</td>\n",
       "      <td>...</td>\n",
       "      <td>{'crew': ['Christina Koch', 'Nick Hague'], 'co...</td>\n",
       "      <td>{'crew': ['Christina Koch', 'Nick Hague'], 'co...</td>\n",
       "      <td>{'crew': ['Christina Koch', 'Nick Hague'], 'co...</td>\n",
       "      <td>{'crew': ['Christina Koch', 'Nick Hague'], 'co...</td>\n",
       "      <td>{'crew': ['Christina Koch', 'Nick Hague'], 'co...</td>\n",
       "      <td>{'crew': ['Christina Koch', 'Nick Hague'], 'co...</td>\n",
       "      <td>{'crew': ['Christina Koch', 'Nick Hague'], 'co...</td>\n",
       "      <td>{'crew': ['Christina Koch', 'Nick Hague'], 'co...</td>\n",
       "      <td>{'crew': ['Christina Koch', 'Nick Hague'], 'co...</td>\n",
       "      <td>{'crew': ['Christina Koch', 'Nick Hague'], 'co...</td>\n",
       "    </tr>\n",
       "  </tbody>\n",
       "</table>\n",
       "<p>10 rows × 6868 columns</p>\n",
       "</div>"
      ],
      "text/plain": [
       "                                                       2000-10-31  \\\n",
       "Belgium                                                       NaN   \n",
       "Canada                                                        NaN   \n",
       "France                                                        NaN   \n",
       "Germany                                                       NaN   \n",
       "Italy                                                         NaN   \n",
       "Japan                                                         NaN   \n",
       "Netherlands                                                   NaN   \n",
       "Russia          {'crew': ['Sergei Krikalev', 'Yuri Gidzenko'],...   \n",
       "United Kingdom                                                NaN   \n",
       "United States       {'crew': ['William M. Shepherd'], 'count': 1}   \n",
       "\n",
       "                                                       2000-11-01  \\\n",
       "Belgium                                                       NaN   \n",
       "Canada                                                        NaN   \n",
       "France                                                        NaN   \n",
       "Germany                                                       NaN   \n",
       "Italy                                                         NaN   \n",
       "Japan                                                         NaN   \n",
       "Netherlands                                                   NaN   \n",
       "Russia          {'crew': ['Sergei Krikalev', 'Yuri Gidzenko'],...   \n",
       "United Kingdom                                                NaN   \n",
       "United States       {'crew': ['William M. Shepherd'], 'count': 1}   \n",
       "\n",
       "                                                       2000-11-02  \\\n",
       "Belgium                                                       NaN   \n",
       "Canada                                                        NaN   \n",
       "France                                                        NaN   \n",
       "Germany                                                       NaN   \n",
       "Italy                                                         NaN   \n",
       "Japan                                                         NaN   \n",
       "Netherlands                                                   NaN   \n",
       "Russia          {'crew': ['Sergei Krikalev', 'Yuri Gidzenko'],...   \n",
       "United Kingdom                                                NaN   \n",
       "United States       {'crew': ['William M. Shepherd'], 'count': 1}   \n",
       "\n",
       "                                                       2000-11-03  \\\n",
       "Belgium                                                       NaN   \n",
       "Canada                                                        NaN   \n",
       "France                                                        NaN   \n",
       "Germany                                                       NaN   \n",
       "Italy                                                         NaN   \n",
       "Japan                                                         NaN   \n",
       "Netherlands                                                   NaN   \n",
       "Russia          {'crew': ['Sergei Krikalev', 'Yuri Gidzenko'],...   \n",
       "United Kingdom                                                NaN   \n",
       "United States       {'crew': ['William M. Shepherd'], 'count': 1}   \n",
       "\n",
       "                                                       2000-11-04  \\\n",
       "Belgium                                                       NaN   \n",
       "Canada                                                        NaN   \n",
       "France                                                        NaN   \n",
       "Germany                                                       NaN   \n",
       "Italy                                                         NaN   \n",
       "Japan                                                         NaN   \n",
       "Netherlands                                                   NaN   \n",
       "Russia          {'crew': ['Sergei Krikalev', 'Yuri Gidzenko'],...   \n",
       "United Kingdom                                                NaN   \n",
       "United States       {'crew': ['William M. Shepherd'], 'count': 1}   \n",
       "\n",
       "                                                       2000-11-05  \\\n",
       "Belgium                                                       NaN   \n",
       "Canada                                                        NaN   \n",
       "France                                                        NaN   \n",
       "Germany                                                       NaN   \n",
       "Italy                                                         NaN   \n",
       "Japan                                                         NaN   \n",
       "Netherlands                                                   NaN   \n",
       "Russia          {'crew': ['Sergei Krikalev', 'Yuri Gidzenko'],...   \n",
       "United Kingdom                                                NaN   \n",
       "United States       {'crew': ['William M. Shepherd'], 'count': 1}   \n",
       "\n",
       "                                                       2000-11-06  \\\n",
       "Belgium                                                       NaN   \n",
       "Canada                                                        NaN   \n",
       "France                                                        NaN   \n",
       "Germany                                                       NaN   \n",
       "Italy                                                         NaN   \n",
       "Japan                                                         NaN   \n",
       "Netherlands                                                   NaN   \n",
       "Russia          {'crew': ['Sergei Krikalev', 'Yuri Gidzenko'],...   \n",
       "United Kingdom                                                NaN   \n",
       "United States       {'crew': ['William M. Shepherd'], 'count': 1}   \n",
       "\n",
       "                                                       2000-11-07  \\\n",
       "Belgium                                                       NaN   \n",
       "Canada                                                        NaN   \n",
       "France                                                        NaN   \n",
       "Germany                                                       NaN   \n",
       "Italy                                                         NaN   \n",
       "Japan                                                         NaN   \n",
       "Netherlands                                                   NaN   \n",
       "Russia          {'crew': ['Sergei Krikalev', 'Yuri Gidzenko'],...   \n",
       "United Kingdom                                                NaN   \n",
       "United States       {'crew': ['William M. Shepherd'], 'count': 1}   \n",
       "\n",
       "                                                       2000-11-08  \\\n",
       "Belgium                                                       NaN   \n",
       "Canada                                                        NaN   \n",
       "France                                                        NaN   \n",
       "Germany                                                       NaN   \n",
       "Italy                                                         NaN   \n",
       "Japan                                                         NaN   \n",
       "Netherlands                                                   NaN   \n",
       "Russia          {'crew': ['Sergei Krikalev', 'Yuri Gidzenko'],...   \n",
       "United Kingdom                                                NaN   \n",
       "United States       {'crew': ['William M. Shepherd'], 'count': 1}   \n",
       "\n",
       "                                                       2000-11-09  ...  \\\n",
       "Belgium                                                       NaN  ...   \n",
       "Canada                                                        NaN  ...   \n",
       "France                                                        NaN  ...   \n",
       "Germany                                                       NaN  ...   \n",
       "Italy                                                         NaN  ...   \n",
       "Japan                                                         NaN  ...   \n",
       "Netherlands                                                   NaN  ...   \n",
       "Russia          {'crew': ['Sergei Krikalev', 'Yuri Gidzenko'],...  ...   \n",
       "United Kingdom                                                NaN  ...   \n",
       "United States       {'crew': ['William M. Shepherd'], 'count': 1}  ...   \n",
       "\n",
       "                                                       2019-08-11  \\\n",
       "Belgium                                                       NaN   \n",
       "Canada                                                        NaN   \n",
       "France                                                        NaN   \n",
       "Germany                                                       NaN   \n",
       "Italy                                                         NaN   \n",
       "Japan                                                         NaN   \n",
       "Netherlands                                                   NaN   \n",
       "Russia                 {'crew': ['Aleksey Ovchinin'], 'count': 1}   \n",
       "United Kingdom                                                NaN   \n",
       "United States   {'crew': ['Christina Koch', 'Nick Hague'], 'co...   \n",
       "\n",
       "                                                       2019-08-12  \\\n",
       "Belgium                                                       NaN   \n",
       "Canada                                                        NaN   \n",
       "France                                                        NaN   \n",
       "Germany                                                       NaN   \n",
       "Italy                                                         NaN   \n",
       "Japan                                                         NaN   \n",
       "Netherlands                                                   NaN   \n",
       "Russia                 {'crew': ['Aleksey Ovchinin'], 'count': 1}   \n",
       "United Kingdom                                                NaN   \n",
       "United States   {'crew': ['Christina Koch', 'Nick Hague'], 'co...   \n",
       "\n",
       "                                                       2019-08-13  \\\n",
       "Belgium                                                       NaN   \n",
       "Canada                                                        NaN   \n",
       "France                                                        NaN   \n",
       "Germany                                                       NaN   \n",
       "Italy                                                         NaN   \n",
       "Japan                                                         NaN   \n",
       "Netherlands                                                   NaN   \n",
       "Russia                 {'crew': ['Aleksey Ovchinin'], 'count': 1}   \n",
       "United Kingdom                                                NaN   \n",
       "United States   {'crew': ['Christina Koch', 'Nick Hague'], 'co...   \n",
       "\n",
       "                                                       2019-08-14  \\\n",
       "Belgium                                                       NaN   \n",
       "Canada                                                        NaN   \n",
       "France                                                        NaN   \n",
       "Germany                                                       NaN   \n",
       "Italy                                                         NaN   \n",
       "Japan                                                         NaN   \n",
       "Netherlands                                                   NaN   \n",
       "Russia                 {'crew': ['Aleksey Ovchinin'], 'count': 1}   \n",
       "United Kingdom                                                NaN   \n",
       "United States   {'crew': ['Christina Koch', 'Nick Hague'], 'co...   \n",
       "\n",
       "                                                       2019-08-15  \\\n",
       "Belgium                                                       NaN   \n",
       "Canada                                                        NaN   \n",
       "France                                                        NaN   \n",
       "Germany                                                       NaN   \n",
       "Italy                                                         NaN   \n",
       "Japan                                                         NaN   \n",
       "Netherlands                                                   NaN   \n",
       "Russia                 {'crew': ['Aleksey Ovchinin'], 'count': 1}   \n",
       "United Kingdom                                                NaN   \n",
       "United States   {'crew': ['Christina Koch', 'Nick Hague'], 'co...   \n",
       "\n",
       "                                                       2019-08-16  \\\n",
       "Belgium                                                       NaN   \n",
       "Canada                                                        NaN   \n",
       "France                                                        NaN   \n",
       "Germany                                                       NaN   \n",
       "Italy                                                         NaN   \n",
       "Japan                                                         NaN   \n",
       "Netherlands                                                   NaN   \n",
       "Russia                 {'crew': ['Aleksey Ovchinin'], 'count': 1}   \n",
       "United Kingdom                                                NaN   \n",
       "United States   {'crew': ['Christina Koch', 'Nick Hague'], 'co...   \n",
       "\n",
       "                                                       2019-08-17  \\\n",
       "Belgium                                                       NaN   \n",
       "Canada                                                        NaN   \n",
       "France                                                        NaN   \n",
       "Germany                                                       NaN   \n",
       "Italy                                                         NaN   \n",
       "Japan                                                         NaN   \n",
       "Netherlands                                                   NaN   \n",
       "Russia                 {'crew': ['Aleksey Ovchinin'], 'count': 1}   \n",
       "United Kingdom                                                NaN   \n",
       "United States   {'crew': ['Christina Koch', 'Nick Hague'], 'co...   \n",
       "\n",
       "                                                       2019-08-18  \\\n",
       "Belgium                                                       NaN   \n",
       "Canada                                                        NaN   \n",
       "France                                                        NaN   \n",
       "Germany                                                       NaN   \n",
       "Italy                                                         NaN   \n",
       "Japan                                                         NaN   \n",
       "Netherlands                                                   NaN   \n",
       "Russia                 {'crew': ['Aleksey Ovchinin'], 'count': 1}   \n",
       "United Kingdom                                                NaN   \n",
       "United States   {'crew': ['Christina Koch', 'Nick Hague'], 'co...   \n",
       "\n",
       "                                                       2019-08-19  \\\n",
       "Belgium                                                       NaN   \n",
       "Canada                                                        NaN   \n",
       "France                                                        NaN   \n",
       "Germany                                                       NaN   \n",
       "Italy                                                         NaN   \n",
       "Japan                                                         NaN   \n",
       "Netherlands                                                   NaN   \n",
       "Russia                 {'crew': ['Aleksey Ovchinin'], 'count': 1}   \n",
       "United Kingdom                                                NaN   \n",
       "United States   {'crew': ['Christina Koch', 'Nick Hague'], 'co...   \n",
       "\n",
       "                                                       2019-08-20  \n",
       "Belgium                                                       NaN  \n",
       "Canada                                                        NaN  \n",
       "France                                                        NaN  \n",
       "Germany                                                       NaN  \n",
       "Italy                                                         NaN  \n",
       "Japan                                                         NaN  \n",
       "Netherlands                                                   NaN  \n",
       "Russia                 {'crew': ['Aleksey Ovchinin'], 'count': 1}  \n",
       "United Kingdom                                                NaN  \n",
       "United States   {'crew': ['Christina Koch', 'Nick Hague'], 'co...  \n",
       "\n",
       "[10 rows x 6868 columns]"
      ]
     },
     "execution_count": 347,
     "metadata": {},
     "output_type": "execute_result"
    }
   ],
   "source": [
    "pd.DataFrame(ndata)"
   ]
  },
  {
   "cell_type": "code",
   "execution_count": 345,
   "metadata": {
    "ExecuteTime": {
     "end_time": "2019-04-17T13:49:14.686452Z",
     "start_time": "2019-04-17T13:49:14.683449Z"
    }
   },
   "outputs": [],
   "source": [
    "import json"
   ]
  },
  {
   "cell_type": "code",
   "execution_count": 346,
   "metadata": {
    "ExecuteTime": {
     "end_time": "2019-04-17T13:49:15.221489Z",
     "start_time": "2019-04-17T13:49:15.126486Z"
    }
   },
   "outputs": [
    {
     "data": {
      "text/plain": [
       "1298702"
      ]
     },
     "execution_count": 346,
     "metadata": {},
     "output_type": "execute_result"
    }
   ],
   "source": [
    "open('ndata.json','w').write(json.dumps(ndata))"
   ]
  },
  {
   "cell_type": "code",
   "execution_count": null,
   "metadata": {},
   "outputs": [],
   "source": []
  }
 ],
 "metadata": {
  "kernelspec": {
   "display_name": "Python 3",
   "language": "python",
   "name": "python3"
  },
  "language_info": {
   "codemirror_mode": {
    "name": "ipython",
    "version": 3
   },
   "file_extension": ".py",
   "mimetype": "text/x-python",
   "name": "python",
   "nbconvert_exporter": "python",
   "pygments_lexer": "ipython3",
   "version": "3.7.0"
  },
  "toc": {
   "base_numbering": 1,
   "nav_menu": {},
   "number_sections": true,
   "sideBar": true,
   "skip_h1_title": false,
   "title_cell": "Table of Contents",
   "title_sidebar": "Contents",
   "toc_cell": false,
   "toc_position": {},
   "toc_section_display": true,
   "toc_window_display": false
  }
 },
 "nbformat": 4,
 "nbformat_minor": 2
}
