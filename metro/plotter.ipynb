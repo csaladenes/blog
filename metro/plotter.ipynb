{
 "cells": [
  {
   "cell_type": "code",
   "execution_count": 1,
   "metadata": {},
   "outputs": [],
   "source": [
    "import pandas as pd, numpy as np, json"
   ]
  },
  {
   "cell_type": "code",
   "execution_count": 2,
   "metadata": {},
   "outputs": [],
   "source": [
    "metros=json.loads(open('metrosg.json','r').read())"
   ]
  },
  {
   "cell_type": "code",
   "execution_count": 27,
   "metadata": {},
   "outputs": [],
   "source": [
    "years={}"
   ]
  },
  {
   "cell_type": "code",
   "execution_count": 28,
   "metadata": {},
   "outputs": [],
   "source": [
    "for m in metros:\n",
    "    metro=metros[m]\n",
    "    for i in range(1830,2021):\n",
    "        if str(i) in metro['desc']:\n",
    "            years[m]=i\n",
    "            break"
   ]
  },
  {
   "cell_type": "code",
   "execution_count": 30,
   "metadata": {},
   "outputs": [
    {
     "name": "stdout",
     "output_type": "stream",
     "text": [
      "Hong Kong MTR https://www.metrolinemap.com/metro/hong-kong/\n",
      "Bangkok Metro https://www.metrolinemap.com/metro/bangkok/\n",
      "Copenhagen Metro https://www.metrolinemap.com/metro/copenhagen/\n",
      "Toulouse Metro https://www.metrolinemap.com/metro/toulouse/\n",
      "Philadelphia SEPTA and PATCO https://www.metrolinemap.com/metro/philadelphia/\n"
     ]
    }
   ],
   "source": [
    "for m in metros:\n",
    "    if m not in years:\n",
    "        print(metros[m]['name'],m)"
   ]
  },
  {
   "cell_type": "code",
   "execution_count": 31,
   "metadata": {},
   "outputs": [],
   "source": [
    "years['https://www.metrolinemap.com/metro/hong-kong/']=1979\n",
    "years['https://www.metrolinemap.com/metro/bangkok/']=2004\n",
    "years['https://www.metrolinemap.com/metro/copenhagen/']=2002\n",
    "years['https://www.metrolinemap.com/metro/toulouse/']=1993\n",
    "years['https://www.metrolinemap.com/metro/philadelphia/']=1928"
   ]
  },
  {
   "cell_type": "code",
   "execution_count": 35,
   "metadata": {},
   "outputs": [],
   "source": [
    "for m in metros:\n",
    "    metros[m]['year']=years[m]"
   ]
  },
  {
   "cell_type": "code",
   "execution_count": 40,
   "metadata": {},
   "outputs": [],
   "source": [
    "#manuallly prettify names\n",
    "metros['https://www.metrolinemap.com/metro/london/']['name']='London Underground'\n",
    "metros['https://www.metrolinemap.com/metro/atlanta/']['name']='Atlanta MARTA'\n",
    "metros['https://www.metrolinemap.com/metro/cleveland/']['name']='Cleveland RTA'\n",
    "metros['https://www.metrolinemap.com/metro/boston/']['name']='Boston T'\n",
    "metros['https://www.metrolinemap.com/metro/chicago/']['name']='Chicago L'"
   ]
  },
  {
   "cell_type": "code",
   "execution_count": 41,
   "metadata": {},
   "outputs": [
    {
     "data": {
      "text/plain": [
       "6433754"
      ]
     },
     "execution_count": 41,
     "metadata": {},
     "output_type": "execute_result"
    }
   ],
   "source": [
    "open('metrosy.json','w').write(json.dumps(metros))"
   ]
  },
  {
   "cell_type": "code",
   "execution_count": 42,
   "metadata": {},
   "outputs": [],
   "source": [
    "import zipfile"
   ]
  },
  {
   "cell_type": "code",
   "execution_count": 43,
   "metadata": {},
   "outputs": [],
   "source": [
    "zipfile.ZipFile('metrosy.zip', \"w\", zipfile.ZIP_DEFLATED).write('metrosy.json')"
   ]
  },
  {
   "cell_type": "code",
   "execution_count": null,
   "metadata": {},
   "outputs": [],
   "source": []
  }
 ],
 "metadata": {
  "kernelspec": {
   "display_name": "Python 3",
   "language": "python",
   "name": "python3"
  },
  "language_info": {
   "codemirror_mode": {
    "name": "ipython",
    "version": 3
   },
   "file_extension": ".py",
   "mimetype": "text/x-python",
   "name": "python",
   "nbconvert_exporter": "python",
   "pygments_lexer": "ipython3",
   "version": "3.7.4"
  }
 },
 "nbformat": 4,
 "nbformat_minor": 4
}
