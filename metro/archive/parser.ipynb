{
 "cells": [
  {
   "cell_type": "code",
   "execution_count": 1,
   "metadata": {},
   "outputs": [],
   "source": [
    "import requests, pandas as pd, numpy as np, json\n",
    "from requests import session\n",
    "from bs4 import BeautifulSoup"
   ]
  },
  {
   "cell_type": "code",
   "execution_count": 2,
   "metadata": {},
   "outputs": [],
   "source": [
    "url='https://www.metrolinemap.com/'"
   ]
  },
  {
   "cell_type": "code",
   "execution_count": 3,
   "metadata": {},
   "outputs": [],
   "source": [
    "response = requests.get(url)\n",
    "soup = BeautifulSoup(response.content)\n",
    "links=soup.find_all('a')[5:-4]\n",
    "links=[i['href'] for i in links]"
   ]
  },
  {
   "cell_type": "code",
   "execution_count": 4,
   "metadata": {},
   "outputs": [],
   "source": [
    "metros={}\n",
    "good=[]"
   ]
  },
  {
   "cell_type": "code",
   "execution_count": 5,
   "metadata": {},
   "outputs": [
    {
     "name": "stdout",
     "output_type": "stream",
     "text": [
      "London Underground and DLR\n"
     ]
    }
   ],
   "source": [
    "# for link in links[139:140]:\n",
    "for link in links[:]:\n",
    "    if link not in good:\n",
    "        response = requests.get(link)\n",
    "        soup = BeautifulSoup(response.content)\n",
    "        name=soup.find('h1').text\n",
    "        print(name)\n",
    "        metros[link]={'name':name,'url':link}\n",
    "        metros[link]['desc']=soup.find('div',{'class':'callout-card-content'}).text.replace('\\n','')\n",
    "        path_IDs=[i[:i.find('=')].strip() for i in soup.text.split('pathCoordinates')[1:] if '=' in i]\n",
    "        colors={i[:i.find(',')]:i[i.find('#'):i.find('#')+7] for i in path_IDs if '#' in i}\n",
    "        lines={k:[i[i.find('(')+1:i.find(')')].replace('\"','').strip() \\\n",
    "            for i in soup.text.split('highlightedPoly'+k+' = poly'+k+';')][1] for k in colors}\n",
    "        linelist=list(lines.keys())\n",
    "        ends=[i.text[i.text.find('(')+1:-1] for i in soup.find_all('button')]\n",
    "        branches={linelist[i]:e for (i,e) in enumerate(ends)}        \n",
    "        spaths={i[:i.find('=')].strip():(i[i.find('['):i.find(']')].strip()+']').replace(',]',']') \\\n",
    "            for i in soup.text.split('pathCoordinates')[1:] if '=' in i and '#' not in i}\n",
    "        metros[link]['lines']=[{'path':json.loads(spaths[i].replace('lat','\"lat\"').replace('lng','\"lng\"')),\n",
    "                                'color':colors[i],\n",
    "                                'name':lines[i],\n",
    "                                'branch':branches[i],\n",
    "                                'id':i} for i in spaths]\n",
    "        stations=[i for i in json.loads(soup.text[soup.text.find('var stations =')+15:\\\n",
    "                     soup.text.find(']\\r\\n]')+4].replace('\\r','').replace('\\n','').replace(\"\\'\",''))]\n",
    "        buttonstations={}\n",
    "        #buttonlines=[i.text for i in soup.findAll('div',{'class':'callout-card-content'})[1].findAll('button')]\n",
    "        #for i in range(len(buttonlines)):\n",
    "            #line=buttonlines[i]\n",
    "        for i in range(len(linelist)):\n",
    "            line=linelist[i]\n",
    "            for s in [k['href'] for k in soup.findAll('div',{'class':'panel'})[i].findAll('a')]:\n",
    "                if s not in buttonstations: buttonstations[s]=set()\n",
    "                buttonstations[s].add(line)\n",
    "        metros[link]['stations']=[{'name':s[0],'lat':s[1],'lon':s[2],'url':s[3],\n",
    "                              'lines':list(set([i[1:i.find('class=color')-1] for i in s[4].split('title')[1:]])),\n",
    "                              'branches':list(buttonstations[s[3]])} for s in stations]\n",
    "        good.append(link)"
   ]
  },
  {
   "cell_type": "code",
   "execution_count": 95,
   "metadata": {},
   "outputs": [
    {
     "data": {
      "text/plain": [
       "6422042"
      ]
     },
     "execution_count": 95,
     "metadata": {},
     "output_type": "execute_result"
    }
   ],
   "source": [
    "open('metros.json','w').write(json.dumps(metros))"
   ]
  },
  {
   "cell_type": "code",
   "execution_count": 96,
   "metadata": {},
   "outputs": [],
   "source": [
    "response = requests.get(url)\n",
    "soup = BeautifulSoup(response.content)"
   ]
  },
  {
   "cell_type": "code",
   "execution_count": 97,
   "metadata": {},
   "outputs": [],
   "source": [
    "country=''\n",
    "city=''   \n",
    "geo={}\n",
    "s=soup.text.split('\\n\\n\\n')[35:226]\n",
    "for k in range(len(s)):\n",
    "    i=s[k]\n",
    "    if i:\n",
    "        #print(repr(i))\n",
    "        if i[0]=='\\n':\n",
    "            continent=i.split('\\n')[1].strip()\n",
    "            country=i.split('\\n')[3].strip()\n",
    "            city=i.split('\\n')[-1].replace('Map','').strip()\n",
    "        elif not s[k-1]:\n",
    "            continent=i.split('\\n')[0]\n",
    "            country=i.split('\\n')[2].strip()\n",
    "            city=i.split('\\n')[-1].replace('Map','').strip()\n",
    "        elif i[0]==' ':\n",
    "            country=i.split('\\n')[0].strip()\n",
    "            city=i.split('\\n')[-1].replace('Map','').strip()\n",
    "        else:\n",
    "            city=i.replace('Map','').strip()\n",
    "        #print(continent,country,city)\n",
    "        geo[city]={'continent':continent,'country':country}"
   ]
  },
  {
   "cell_type": "code",
   "execution_count": 98,
   "metadata": {},
   "outputs": [],
   "source": [
    "geo['Cleveland  RTA Rapid Transit']=geo['Cleveland RTA Rapid Transit']\n",
    "geo['London Underground and DLR']=geo['London Underground']"
   ]
  },
  {
   "cell_type": "code",
   "execution_count": 99,
   "metadata": {},
   "outputs": [],
   "source": [
    "for metro in metros:\n",
    "    name=metros[metro]['name']\n",
    "    if name not in geo:\n",
    "        print(name)\n",
    "    else:\n",
    "        metros[metro]['geo']=geo[name]"
   ]
  },
  {
   "cell_type": "code",
   "execution_count": 100,
   "metadata": {},
   "outputs": [
    {
     "data": {
      "text/plain": [
       "6431391"
      ]
     },
     "execution_count": 100,
     "metadata": {},
     "output_type": "execute_result"
    }
   ],
   "source": [
    "open('metrosg.json','w').write(json.dumps(metros))"
   ]
  },
  {
   "cell_type": "code",
   "execution_count": 101,
   "metadata": {},
   "outputs": [],
   "source": [
    "import zipfile"
   ]
  },
  {
   "cell_type": "code",
   "execution_count": 102,
   "metadata": {},
   "outputs": [],
   "source": [
    "zipfile.ZipFile('metrosg.zip', \"w\", zipfile.ZIP_DEFLATED).write('metrosg.json')"
   ]
  }
 ],
 "metadata": {
  "kernelspec": {
   "display_name": "Python 3",
   "language": "python",
   "name": "python3"
  },
  "language_info": {
   "codemirror_mode": {
    "name": "ipython",
    "version": 3
   },
   "file_extension": ".py",
   "mimetype": "text/x-python",
   "name": "python",
   "nbconvert_exporter": "python",
   "pygments_lexer": "ipython3",
   "version": "3.7.4"
  }
 },
 "nbformat": 4,
 "nbformat_minor": 4
}
