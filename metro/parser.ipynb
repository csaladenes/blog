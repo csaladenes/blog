{
 "cells": [
  {
   "cell_type": "code",
   "execution_count": 85,
   "metadata": {},
   "outputs": [],
   "source": [
    "import requests, pandas as pd, numpy as np, json\n",
    "from requests import session\n",
    "from bs4 import BeautifulSoup"
   ]
  },
  {
   "cell_type": "code",
   "execution_count": 3,
   "metadata": {},
   "outputs": [],
   "source": [
    "url='https://www.metrolinemap.com/'"
   ]
  },
  {
   "cell_type": "code",
   "execution_count": 34,
   "metadata": {},
   "outputs": [],
   "source": [
    "response = requests.get(url)\n",
    "soup = BeautifulSoup(response.content)\n",
    "links=soup.find_all('a')[5:-4]\n",
    "links=[i['href'] for i in links]"
   ]
  },
  {
   "cell_type": "code",
   "execution_count": 300,
   "metadata": {},
   "outputs": [],
   "source": [
    "metros={}\n",
    "good=[]"
   ]
  },
  {
   "cell_type": "code",
   "execution_count": 349,
   "metadata": {},
   "outputs": [
    {
     "name": "stdout",
     "output_type": "stream",
     "text": [
      "San Francisco BART\n",
      "Washington Metro\n",
      "Buenos Aires Underground\n",
      "Belo Horizonte Metro\n",
      "Brasília Metro\n",
      "Porto Alegre Metro\n",
      "Recife Metro\n",
      "Rio de Janeiro Metro\n",
      "Salvador Metro\n",
      "São Paulo Metro\n",
      "Santiago Metro\n",
      "Medellín Metro\n",
      "Lima Metro\n",
      "Caracas Metro\n"
     ]
    }
   ],
   "source": [
    "for link in links[:]:\n",
    "    if link not in good:\n",
    "        response = requests.get(link)\n",
    "        soup = BeautifulSoup(response.content)\n",
    "        name=soup.find('h1').text\n",
    "        print(name)\n",
    "        metros[link]={'name':name,'url':link}\n",
    "        metros[link]['desc']=soup.find('div',{'class':'callout-card-content'}).text.replace('\\n','')\n",
    "        path_IDs=[i[:i.find('=')].strip() for i in soup.text.split('pathCoordinates')[1:] if '=' in i]\n",
    "        colors={i[:i.find(',')]:i[i.find('#'):i.find('#')+7] for i in path_IDs if '#' in i}\n",
    "        ends={i.text[:i.text.rfind('(')-1].strip():i.text[i.text.find('(')+1:i.text.find(')')] for i in soup.find_all('button')}\n",
    "        lines={k:[i[i.find('(')+1:i.find(')')].replace('\"','').strip() \\\n",
    "            for i in soup.text.split('highlightedPoly'+k+' = poly'+k+';')][1] for k in colors}\n",
    "        for i in lines: \n",
    "            if '(' in lines[i]: lines[i]+=')'\n",
    "            if (link=='https://www.metrolinemap.com/metro/tehran/'):\n",
    "                lines['168']='Line 1 (Kahrizak Branch)'\n",
    "                lines['169']='Line 1 (Shahr-e Aftab Branch)'\n",
    "                ends['Line 1 (Kahrizak Branch)']='Tajrish - Kahrizak'\n",
    "                ends['Line 1 (Shahr-e Aftab Branch)']='Tajrish - Shahr-e Aftab'\n",
    "                ends['Line 2']='Tehran (Sadeghiyeh) - Farhangsara'\n",
    "                ends['Line 5']='Golshahr - Tehran (Sadeghiyeh)'\n",
    "            if (link=='https://www.metrolinemap.com/metro/nagoya/'):\n",
    "                lines['203']='Meikō Line (Nagoya Port)'\n",
    "                ends['Meikō Line (Nagoya Port)']='Kanayama - Nagoyakō'\n",
    "            if (link=='https://www.metrolinemap.com/metro/brussels/'):\n",
    "                ends['Line 2']='Simonis (Leopold II) - Simonis (Elisabeth)'\n",
    "                ends['Line 6']='Roi Baudouin/Koning Boudewijn - Simonis (Elisabeth)'\n",
    "            if (link=='https://www.metrolinemap.com/metro/copenhagen/'):\n",
    "                ends['M2']='Vanløse - Lufthavnen (Copenhagen Airport)'\n",
    "                ends['M3']='København H - København H (Circle Line)'\n",
    "            if (link=='https://www.metrolinemap.com/metro/barcelona/'):\n",
    "                ends['FM']='Paral - lel (Funicular)'\n",
    "            if (link=='https://www.metrolinemap.com/metro/istanbul/'):\n",
    "                ends['M1a']='Yenikapı - Atatürk Havalimanı (Airport)'\n",
    "            if (link=='https://www.metrolinemap.com/metro/san-francisco/'):\n",
    "                ends['Richmond–Warm Springs/South Fremont line']='Richmond - Warm Springs (South Fremont)'\n",
    "                \n",
    "        spaths={i[:i.find('=')].strip():(i[i.find('['):i.find(']')].strip()+']').replace(',]',']') \\\n",
    "            for i in soup.text.split('pathCoordinates')[1:] if '=' in i and '#' not in i}\n",
    "        metros[link]['lines']=[{'path':json.loads(spaths[i].replace('lat','\"lat\"').replace('lng','\"lng\"')),\n",
    "                                'color':colors[i],\n",
    "                                'name':lines[i],\n",
    "                                'ends':ends[lines[i]],\n",
    "                                'id':i} for i in spaths]\n",
    "        stations=[i for i in json.loads(soup.text[soup.text.find('var stations =')+15:\\\n",
    "                     soup.text.find(']\\r\\n]')+4].replace('\\r','').replace('\\n','').replace(\"\\'\",''))]\n",
    "        metros[link]['stations']=[{'name':s[0],'lat':s[1],'lon':s[2],'url':s[3],\n",
    "                              'lines':[i[1:i.find('class=color')-1] for i in s[4].split('title')[1:]]} for s in stations]\n",
    "        good.append(link)"
   ]
  },
  {
   "cell_type": "code",
   "execution_count": 350,
   "metadata": {},
   "outputs": [
    {
     "data": {
      "text/plain": [
       "6177227"
      ]
     },
     "execution_count": 350,
     "metadata": {},
     "output_type": "execute_result"
    }
   ],
   "source": [
    "open('metros.json','w').write(json.dumps(metros))"
   ]
  },
  {
   "cell_type": "code",
   "execution_count": 351,
   "metadata": {},
   "outputs": [],
   "source": [
    "response = requests.get(url)\n",
    "soup = BeautifulSoup(response.content)"
   ]
  },
  {
   "cell_type": "code",
   "execution_count": 450,
   "metadata": {},
   "outputs": [],
   "source": [
    "country=''\n",
    "city=''   \n",
    "geo={}\n",
    "s=soup.text.split('\\n\\n\\n')[35:226]\n",
    "for k in range(len(s)):\n",
    "    i=s[k]\n",
    "    if i:\n",
    "        #print(repr(i))\n",
    "        if i[0]=='\\n':\n",
    "            continent=i.split('\\n')[1].strip()\n",
    "            country=i.split('\\n')[3].strip()\n",
    "            city=i.split('\\n')[-1].replace('Map','').strip()\n",
    "        elif not s[k-1]:\n",
    "            continent=i.split('\\n')[0]\n",
    "            country=i.split('\\n')[2].strip()\n",
    "            city=i.split('\\n')[-1].replace('Map','').strip()\n",
    "        elif i[0]==' ':\n",
    "            country=i.split('\\n')[0].strip()\n",
    "            city=i.split('\\n')[-1].replace('Map','').strip()\n",
    "        else:\n",
    "            city=i.replace('Map','').strip()\n",
    "        #print(continent,country,city)\n",
    "        geo[city]={'continent':continent,'country':country}"
   ]
  },
  {
   "cell_type": "code",
   "execution_count": 453,
   "metadata": {},
   "outputs": [],
   "source": [
    "geo['Cleveland  RTA Rapid Transit']=geo['Cleveland RTA Rapid Transit']\n",
    "geo['London Underground and DLR']=geo['London Underground']"
   ]
  },
  {
   "cell_type": "code",
   "execution_count": 456,
   "metadata": {},
   "outputs": [],
   "source": [
    "for metro in metros:\n",
    "    name=metros[metro]['name']\n",
    "    if name not in geo:\n",
    "        print(name)\n",
    "    else:\n",
    "        metros[metro]['geo']=geo[name]"
   ]
  },
  {
   "cell_type": "code",
   "execution_count": 458,
   "metadata": {},
   "outputs": [
    {
     "data": {
      "text/plain": [
       "6186576"
      ]
     },
     "execution_count": 458,
     "metadata": {},
     "output_type": "execute_result"
    }
   ],
   "source": [
    "open('metrosg.json','w').write(json.dumps(metros))"
   ]
  },
  {
   "cell_type": "code",
   "execution_count": 459,
   "metadata": {},
   "outputs": [],
   "source": [
    "import zipfile"
   ]
  },
  {
   "cell_type": "code",
   "execution_count": 460,
   "metadata": {},
   "outputs": [],
   "source": [
    "zipfile.ZipFile('metrosg.zip', \"w\", zipfile.ZIP_DEFLATED).write('metrosg.json')"
   ]
  },
  {
   "cell_type": "code",
   "execution_count": null,
   "metadata": {},
   "outputs": [],
   "source": []
  }
 ],
 "metadata": {
  "kernelspec": {
   "display_name": "Python 3",
   "language": "python",
   "name": "python3"
  },
  "language_info": {
   "codemirror_mode": {
    "name": "ipython",
    "version": 3
   },
   "file_extension": ".py",
   "mimetype": "text/x-python",
   "name": "python",
   "nbconvert_exporter": "python",
   "pygments_lexer": "ipython3",
   "version": "3.7.4"
  }
 },
 "nbformat": 4,
 "nbformat_minor": 4
}
