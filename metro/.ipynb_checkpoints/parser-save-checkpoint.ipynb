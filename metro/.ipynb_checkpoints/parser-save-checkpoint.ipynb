{
 "cells": [
  {
   "cell_type": "code",
   "execution_count": 50,
   "metadata": {},
   "outputs": [],
   "source": [
    "import requests, pandas as pd, numpy as np, json\n",
    "from requests import session\n",
    "from bs4 import BeautifulSoup"
   ]
  },
  {
   "cell_type": "code",
   "execution_count": 51,
   "metadata": {},
   "outputs": [],
   "source": [
    "url='https://www.metrolinemap.com/'"
   ]
  },
  {
   "cell_type": "code",
   "execution_count": 52,
   "metadata": {},
   "outputs": [],
   "source": [
    "response = requests.get(url)\n",
    "soup = BeautifulSoup(response.content)\n",
    "links=soup.find_all('a')[5:-4]\n",
    "links=[i['href'] for i in links]"
   ]
  },
  {
   "cell_type": "code",
   "execution_count": 142,
   "metadata": {},
   "outputs": [],
   "source": [
    "metros={}\n",
    "good=[]"
   ]
  },
  {
   "cell_type": "code",
   "execution_count": 145,
   "metadata": {},
   "outputs": [
    {
     "name": "stdout",
     "output_type": "stream",
     "text": [
      "Paris Metro\n"
     ]
    },
    {
     "ename": "KeyError",
     "evalue": "'114'",
     "output_type": "error",
     "traceback": [
      "\u001b[1;31m---------------------------------------------------------------------------\u001b[0m",
      "\u001b[1;31mKeyError\u001b[0m                                  Traceback (most recent call last)",
      "\u001b[1;32m<ipython-input-145-f7d579ba3251>\u001b[0m in \u001b[0;36m<module>\u001b[1;34m\u001b[0m\n\u001b[0;32m     52\u001b[0m                                 \u001b[1;34m'ends'\u001b[0m\u001b[1;33m:\u001b[0m\u001b[0mends\u001b[0m\u001b[1;33m[\u001b[0m\u001b[0mi\u001b[0m\u001b[1;33m]\u001b[0m\u001b[1;33m,\u001b[0m\u001b[1;33m\u001b[0m\u001b[1;33m\u001b[0m\u001b[0m\n\u001b[0;32m     53\u001b[0m                                 \u001b[1;34m'branch'\u001b[0m\u001b[1;33m:\u001b[0m\u001b[0mbranches\u001b[0m\u001b[1;33m[\u001b[0m\u001b[0mi\u001b[0m\u001b[1;33m]\u001b[0m\u001b[1;33m,\u001b[0m\u001b[1;33m\u001b[0m\u001b[1;33m\u001b[0m\u001b[0m\n\u001b[1;32m---> 54\u001b[1;33m                                 'id':i} for i in spaths]\n\u001b[0m\u001b[0;32m     55\u001b[0m         stations=[i for i in json.loads(soup.text[soup.text.find('var stations =')+15:\\\n\u001b[0;32m     56\u001b[0m                      soup.text.find(']\\r\\n]')+4].replace('\\r','').replace('\\n','').replace(\"\\'\",''))]\n",
      "\u001b[1;32m<ipython-input-145-f7d579ba3251>\u001b[0m in \u001b[0;36m<listcomp>\u001b[1;34m(.0)\u001b[0m\n\u001b[0;32m     52\u001b[0m                                 \u001b[1;34m'ends'\u001b[0m\u001b[1;33m:\u001b[0m\u001b[0mends\u001b[0m\u001b[1;33m[\u001b[0m\u001b[0mi\u001b[0m\u001b[1;33m]\u001b[0m\u001b[1;33m,\u001b[0m\u001b[1;33m\u001b[0m\u001b[1;33m\u001b[0m\u001b[0m\n\u001b[0;32m     53\u001b[0m                                 \u001b[1;34m'branch'\u001b[0m\u001b[1;33m:\u001b[0m\u001b[0mbranches\u001b[0m\u001b[1;33m[\u001b[0m\u001b[0mi\u001b[0m\u001b[1;33m]\u001b[0m\u001b[1;33m,\u001b[0m\u001b[1;33m\u001b[0m\u001b[1;33m\u001b[0m\u001b[0m\n\u001b[1;32m---> 54\u001b[1;33m                                 'id':i} for i in spaths]\n\u001b[0m\u001b[0;32m     55\u001b[0m         stations=[i for i in json.loads(soup.text[soup.text.find('var stations =')+15:\\\n\u001b[0;32m     56\u001b[0m                      soup.text.find(']\\r\\n]')+4].replace('\\r','').replace('\\n','').replace(\"\\'\",''))]\n",
      "\u001b[1;31mKeyError\u001b[0m: '114'"
     ]
    }
   ],
   "source": [
    "# for link in links[138:140]:\n",
    "for link in links[:]:\n",
    "    if link not in good:\n",
    "        response = requests.get(link)\n",
    "        soup = BeautifulSoup(response.content)\n",
    "        name=soup.find('h1').text\n",
    "        print(name)\n",
    "        metros[link]={'name':name,'url':link}\n",
    "        metros[link]['desc']=soup.find('div',{'class':'callout-card-content'}).text.replace('\\n','')\n",
    "        path_IDs=[i[:i.find('=')].strip() for i in soup.text.split('pathCoordinates')[1:] if '=' in i]\n",
    "        colors={i[:i.find(',')]:i[i.find('#'):i.find('#')+7] for i in path_IDs if '#' in i}\n",
    "        #ends={i.text[:i.text.rfind('(')-1].strip():i.text[i.text.find('(')+1:i.text.find(')')] for i in soup.find_all('button')}\n",
    "        lines={k:[i[i.find('(')+1:i.find(')')].replace('\"','').strip() \\\n",
    "            for i in soup.text.split('highlightedPoly'+k+' = poly'+k+';')][1] for k in colors}\n",
    "        linelist=list(lines.keys())\n",
    "        ends={i.text:i.text[i.text.find('(')+1:-1] for i in soup.find_all('button')}\n",
    "        branches={linelist[i]:e for (i,e) in enumerate(ends)}\n",
    "        ends={linelist[i]:ends[e] for (i,e) in enumerate(ends)}\n",
    "        \n",
    "        '''\n",
    "        for i in lines: \n",
    "            if '(' in lines[i]: lines[i]+=')'\n",
    "            if (link=='https://www.metrolinemap.com/metro/tehran/'):\n",
    "                lines['168']='Line 1 (Kahrizak Branch)'\n",
    "                lines['169']='Line 1 (Shahr-e Aftab Branch)'\n",
    "                ends['Line 1 (Kahrizak Branch)']='Tajrish - Kahrizak'\n",
    "                ends['Line 1 (Shahr-e Aftab Branch)']='Tajrish - Shahr-e Aftab'\n",
    "                ends['Line 2']='Tehran (Sadeghiyeh) - Farhangsara'\n",
    "                ends['Line 5']='Golshahr - Tehran (Sadeghiyeh)'\n",
    "            if (link=='https://www.metrolinemap.com/metro/nagoya/'):\n",
    "                lines['203']='Meikō Line (Nagoya Port)'\n",
    "                ends['Meikō Line (Nagoya Port)']='Kanayama - Nagoyakō'\n",
    "            if (link=='https://www.metrolinemap.com/metro/brussels/'):\n",
    "                ends['Line 2']='Simonis (Leopold II) - Simonis (Elisabeth)'\n",
    "                ends['Line 6']='Roi Baudouin/Koning Boudewijn - Simonis (Elisabeth)'\n",
    "            if (link=='https://www.metrolinemap.com/metro/copenhagen/'):\n",
    "                ends['M2']='Vanløse - Lufthavnen (Copenhagen Airport)'\n",
    "                ends['M3']='København H - København H (Circle Line)'\n",
    "            if (link=='https://www.metrolinemap.com/metro/barcelona/'):\n",
    "                ends['FM']='Paral - lel (Funicular)'\n",
    "            if (link=='https://www.metrolinemap.com/metro/istanbul/'):\n",
    "                ends['M1a']='Yenikapı - Atatürk Havalimanı (Airport)'\n",
    "            if (link=='https://www.metrolinemap.com/metro/san-francisco/'):\n",
    "                ends['Richmond–Warm Springs/South Fremont line']='Richmond - Warm Springs (South Fremont)'\n",
    "        '''\n",
    "                \n",
    "        spaths={i[:i.find('=')].strip():(i[i.find('['):i.find(']')].strip()+']').replace(',]',']') \\\n",
    "            for i in soup.text.split('pathCoordinates')[1:] if '=' in i and '#' not in i}\n",
    "        metros[link]['lines']=[{'path':json.loads(spaths[i].replace('lat','\"lat\"').replace('lng','\"lng\"')),\n",
    "                                'color':colors[i],\n",
    "                                'name':lines[i],\n",
    "                                'ends':ends[i],\n",
    "                                'branch':branches[i],\n",
    "                                'id':i} for i in spaths]\n",
    "        stations=[i for i in json.loads(soup.text[soup.text.find('var stations =')+15:\\\n",
    "                     soup.text.find(']\\r\\n]')+4].replace('\\r','').replace('\\n','').replace(\"\\'\",''))]\n",
    "        buttonlines=[i.text for i in soup.findAll('div',{'class':'callout-card-content'})[1].findAll('button')]\n",
    "        buttonstations={}\n",
    "        for i in range(len(buttonlines)):\n",
    "            line=buttonlines[i]\n",
    "            for s in [k['href'] for k in soup.findAll('div',{'class':'panel'})[i].findAll('a')]:\n",
    "                if s not in buttonstations: buttonstations[s]=set()\n",
    "                buttonstations[s].add(line)\n",
    "        metros[link]['stations']=[{'name':s[0],'lat':s[1],'lon':s[2],'url':s[3],\n",
    "                              'lines':list(set([i[1:i.find('class=color')-1] for i in s[4].split('title')[1:]])),\n",
    "                              'branches':list(buttonstations[s[3]])} for s in stations],\n",
    "                              \n",
    "        good.append(link)"
   ]
  },
  {
   "cell_type": "code",
   "execution_count": 167,
   "metadata": {},
   "outputs": [],
   "source": [
    "colors={i[:i.find(',')]:i[i.find('#'):i.find('#')+7] for i in path_IDs if '#' in i}\n",
    "# ends={i.text[:i.text.rfind('(')-1].strip():i.text[i.text.find('(')+1:i.text.find(')')] for i in soup.find_all('button')}\n",
    "lines={k:[i[i.find('(')+1:i.find(')')].replace('\"','').strip() \\\n",
    "    for i in soup.text.split('highlightedPoly'+k+' = poly'+k+';')][1] for k in colors}\n",
    "linelist=list(lines.keys())\n",
    "ends={i.text:i.text[i.text.find('(')+1:-1] for i in soup.find_all('button')}\n",
    "branches={linelist[i]:e for (i,e) in enumerate(ends)}\n",
    "# ends={linelist[i]:ends[e] for (i,e) in enumerate(ends)}\n"
   ]
  },
  {
   "cell_type": "code",
   "execution_count": 171,
   "metadata": {},
   "outputs": [
    {
     "data": {
      "text/plain": [
       "['La Défense - Château de Vincennes',\n",
       " 'Porte Dauphine - Nation',\n",
       " 'Pont de Levallois Bécon - Gallieni',\n",
       " 'Porte des Lilas - Gambetta',\n",
       " 'Porte de Clignancourt - Mairie de Montrouge',\n",
       " 'Bobigny Pablo Picasso - Place d’Italie',\n",
       " 'Charles de Gaulle Etoile - Nation',\n",
       " 'La Courneuve - 8 Mai 1945 - Villejuif - Louis Aragon',\n",
       " \"La Courneuve - 8 Mai 1945 - Mairie d'Ivry\",\n",
       " 'Louis Blanc - Pré Saint-Gervais ',\n",
       " 'Balard - Créteil – Pointe du Lac',\n",
       " 'Pont de Sèvres - Mairie de Montreuil',\n",
       " \"Boulogne – Pont de Saint-Cloud - Gare d'Austerlitz\",\n",
       " \"Boulogne – Pont de Saint-Cloud - Gare d'Austerlitz\",\n",
       " 'Mairie des Lilas -   Châtelet',\n",
       " \"Front Populaire - Mairie d'Issy\",\n",
       " 'Saint-Denis — Université - Châtillon — Montrouge',\n",
       " 'Asnières Gennevilliers Les Courtilles - Châtillon — Montrouge',\n",
       " 'Saint-Lazare - Olympiades']"
      ]
     },
     "execution_count": 171,
     "metadata": {},
     "output_type": "execute_result"
    }
   ],
   "source": []
  },
  {
   "cell_type": "code",
   "execution_count": null,
   "metadata": {},
   "outputs": [],
   "source": [
    "open('metros.json','w').write(json.dumps(metros))"
   ]
  },
  {
   "cell_type": "code",
   "execution_count": null,
   "metadata": {},
   "outputs": [],
   "source": [
    "response = requests.get(url)\n",
    "soup = BeautifulSoup(response.content)"
   ]
  },
  {
   "cell_type": "code",
   "execution_count": null,
   "metadata": {},
   "outputs": [],
   "source": [
    "country=''\n",
    "city=''   \n",
    "geo={}\n",
    "s=soup.text.split('\\n\\n\\n')[35:226]\n",
    "for k in range(len(s)):\n",
    "    i=s[k]\n",
    "    if i:\n",
    "        #print(repr(i))\n",
    "        if i[0]=='\\n':\n",
    "            continent=i.split('\\n')[1].strip()\n",
    "            country=i.split('\\n')[3].strip()\n",
    "            city=i.split('\\n')[-1].replace('Map','').strip()\n",
    "        elif not s[k-1]:\n",
    "            continent=i.split('\\n')[0]\n",
    "            country=i.split('\\n')[2].strip()\n",
    "            city=i.split('\\n')[-1].replace('Map','').strip()\n",
    "        elif i[0]==' ':\n",
    "            country=i.split('\\n')[0].strip()\n",
    "            city=i.split('\\n')[-1].replace('Map','').strip()\n",
    "        else:\n",
    "            city=i.replace('Map','').strip()\n",
    "        #print(continent,country,city)\n",
    "        geo[city]={'continent':continent,'country':country}"
   ]
  },
  {
   "cell_type": "code",
   "execution_count": null,
   "metadata": {},
   "outputs": [],
   "source": [
    "geo['Cleveland  RTA Rapid Transit']=geo['Cleveland RTA Rapid Transit']\n",
    "geo['London Underground and DLR']=geo['London Underground']"
   ]
  },
  {
   "cell_type": "code",
   "execution_count": null,
   "metadata": {},
   "outputs": [],
   "source": [
    "for metro in metros:\n",
    "    name=metros[metro]['name']\n",
    "    if name not in geo:\n",
    "        print(name)\n",
    "    else:\n",
    "        metros[metro]['geo']=geo[name]"
   ]
  },
  {
   "cell_type": "code",
   "execution_count": null,
   "metadata": {},
   "outputs": [],
   "source": [
    "open('metrosg.json','w').write(json.dumps(metros))"
   ]
  },
  {
   "cell_type": "code",
   "execution_count": null,
   "metadata": {},
   "outputs": [],
   "source": [
    "import zipfile"
   ]
  },
  {
   "cell_type": "code",
   "execution_count": null,
   "metadata": {},
   "outputs": [],
   "source": [
    "zipfile.ZipFile('metrosg.zip', \"w\", zipfile.ZIP_DEFLATED).write('metrosg.json')"
   ]
  }
 ],
 "metadata": {
  "kernelspec": {
   "display_name": "Python 3",
   "language": "python",
   "name": "python3"
  },
  "language_info": {
   "codemirror_mode": {
    "name": "ipython",
    "version": 3
   },
   "file_extension": ".py",
   "mimetype": "text/x-python",
   "name": "python",
   "nbconvert_exporter": "python",
   "pygments_lexer": "ipython3",
   "version": "3.7.4"
  }
 },
 "nbformat": 4,
 "nbformat_minor": 4
}
