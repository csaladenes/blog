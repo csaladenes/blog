{
 "cells": [
  {
   "cell_type": "code",
   "execution_count": 29,
   "metadata": {
    "collapsed": true
   },
   "outputs": [],
   "source": [
    "import json, pandas as pd, matplotlib.pyplot as plt\n",
    "%matplotlib inline"
   ]
  },
  {
   "cell_type": "code",
   "execution_count": 30,
   "metadata": {
    "collapsed": true
   },
   "outputs": [],
   "source": [
    "data2a=json.loads(file('data2a.json','r').read())"
   ]
  },
  {
   "cell_type": "code",
   "execution_count": 31,
   "metadata": {
    "collapsed": false
   },
   "outputs": [],
   "source": [
    "g={}\n",
    "for i in data2a['cities']:\n",
    "    g[i]=data2a['cities'][i]['count']"
   ]
  },
  {
   "cell_type": "code",
   "execution_count": 32,
   "metadata": {
    "collapsed": true
   },
   "outputs": [],
   "source": [
    "Fro=json.loads(file('F_ro.json','r').read())"
   ]
  },
  {
   "cell_type": "code",
   "execution_count": 33,
   "metadata": {
    "collapsed": false
   },
   "outputs": [],
   "source": [
    "f1={}\n",
    "f3={}\n",
    "for i in Fro:\n",
    "    if i['country'] not in f1:f1[i['country']]=0\n",
    "    f1[i['country']]+=i[u'heti j\\xe1ratsz\\xe1m']\n",
    "    if i['country'] not in f3:f3[i['country']]=0\n",
    "    f3[i['country']]+=i[u'heti j\\xe1ratsz\\xe1m']"
   ]
  },
  {
   "cell_type": "code",
   "execution_count": 34,
   "metadata": {
    "collapsed": true
   },
   "outputs": [],
   "source": [
    "Fhu=json.loads(file('F_hu.json','r').read())"
   ]
  },
  {
   "cell_type": "code",
   "execution_count": 35,
   "metadata": {
    "collapsed": true
   },
   "outputs": [],
   "source": [
    "f2={}\n",
    "for i in Fhu:\n",
    "    if i['country'] not in f2:f2[i['country']]=0\n",
    "    f2[i['country']]+=i[u'heti j\\xe1ratsz\\xe1m']\n",
    "    if i['country'] not in f3:f3[i['country']]=0\n",
    "    f3[i['country']]+=i[u'heti j\\xe1ratsz\\xe1m']"
   ]
  },
  {
   "cell_type": "code",
   "execution_count": 36,
   "metadata": {
    "collapsed": true
   },
   "outputs": [],
   "source": [
    "hnames=json.loads(file('hnames.json','r').read())"
   ]
  },
  {
   "cell_type": "code",
   "execution_count": 37,
   "metadata": {
    "collapsed": false
   },
   "outputs": [
    {
     "name": "stdout",
     "output_type": "stream",
     "text": [
      "Turkey 66.5 13\n",
      "Qatar 24.0 2\n",
      "Italy 261.5 612\n",
      "Lebanon 2.0 2\n",
      "Malta 4.0 7\n",
      "France 92.0 110\n",
      "Georgia 2.0 1\n",
      "Slovakia 2.0 38\n",
      "Ireland 26.0 40\n",
      "Norway 11.0 41\n",
      "Israel 54.1 29\n",
      "### ERROR ### Belarus\n",
      "Algeria 2.0 2\n",
      "### ERROR ### Iceland\n",
      "Czechia 26.2 18\n",
      "### ERROR ### Jordan\n",
      "Belgium 77.5 61\n",
      "Germany 346.7 1109\n",
      "Spain 109.8 284\n",
      "Ukraine 9.5 2\n",
      "Netherlands 76.5 56\n",
      "Denmark 19.5 122\n",
      "Poland 55.0 7\n",
      "Finland 15.0 7\n",
      "Moldova 27.5 3\n",
      "Sweden 25.0 103\n",
      "### ERROR ### Latvia\n",
      "Switzerland 44.0 140\n",
      "Russia 26.5 5\n",
      "Bulgaria 16.5 4\n",
      "Romania 389.1 23421\n",
      "Portugal 10.5 11\n",
      "Egypt 5.0 5\n",
      "United Arab Emirates 21.0 17\n",
      "Serbia 14.5 22\n",
      "### ERROR ### Azerbaijan\n",
      "United Kingdom 263.2 743\n",
      "Austria 78.0 210\n",
      "China 1.5 3\n",
      "Greece 37.5 34\n",
      "Hungary 16.5 2723\n",
      "Cyprus 11.5 27\n"
     ]
    }
   ],
   "source": [
    "d=[]\n",
    "for f in f3:\n",
    "    if f not in {\"India\",\"Hong Kong\"}:\n",
    "        if f in g:\n",
    "            print f, f3[f],g[f]\n",
    "            d.append({\"country\":f,u'heti j\\xe1ratsz\\xe1m':f3[f],u\"diaszpóra\":g[f],\"hcountry\":hnames[f]})\n",
    "        elif f=='Czechia':\n",
    "            print f,f3[f],g['Czech Republic']\n",
    "            d.append({\"country\":f,u'heti j\\xe1ratsz\\xe1m':f3[f],u\"diaszpóra\":g['Czech Republic'],\"hcountry\":hnames['Czech Republic']})\n",
    "        else: print '### ERROR ###',f"
   ]
  },
  {
   "cell_type": "code",
   "execution_count": 38,
   "metadata": {
    "collapsed": true
   },
   "outputs": [],
   "source": [
    "file(\"diasp.json\",'w').write(json.dumps(d))"
   ]
  },
  {
   "cell_type": "code",
   "execution_count": 39,
   "metadata": {
    "collapsed": true
   },
   "outputs": [],
   "source": [
    "d=[]\n",
    "for f in f1:\n",
    "    if f not in \"India\":\n",
    "        if f in g:\n",
    "            d.append({\"country\":f,u'heti j\\xe1ratsz\\xe1m':f1[f],u\"diaszpóra\":g[f],\"hcountry\":hnames[f]})\n",
    "        elif f=='Czechia':\n",
    "            d.append({\"country\":f,u'heti j\\xe1ratsz\\xe1m':f1[f],u\"diaszpóra\":g['Czech Republic'],\"hcountry\":hnames['Czech Republic']})"
   ]
  },
  {
   "cell_type": "code",
   "execution_count": 40,
   "metadata": {
    "collapsed": true
   },
   "outputs": [],
   "source": [
    "file(\"diasp_ro.json\",'w').write(json.dumps(d))"
   ]
  },
  {
   "cell_type": "code",
   "execution_count": 41,
   "metadata": {
    "collapsed": true
   },
   "outputs": [],
   "source": [
    "d=[]\n",
    "for f in f2:\n",
    "    if f not in \"Hong Kong\":\n",
    "        if f in g:\n",
    "            d.append({\"country\":f,u'heti j\\xe1ratsz\\xe1m':f2[f],u\"diaszpóra\":g[f],\"hcountry\":hnames[f]})\n",
    "        elif f=='Czechia':\n",
    "            d.append({\"country\":f,u'heti j\\xe1ratsz\\xe1m':f2[f],u\"diaszpóra\":g['Czech Republic'],\"hcountry\":hnames['Czech Republic']})"
   ]
  },
  {
   "cell_type": "code",
   "execution_count": 42,
   "metadata": {
    "collapsed": true
   },
   "outputs": [],
   "source": [
    "file(\"diasp_hu.json\",'w').write(json.dumps(d))"
   ]
  }
 ],
 "metadata": {
  "anaconda-cloud": {},
  "kernelspec": {
   "display_name": "Python [conda root]",
   "language": "python",
   "name": "conda-root-py"
  },
  "language_info": {
   "codemirror_mode": {
    "name": "ipython",
    "version": 2
   },
   "file_extension": ".py",
   "mimetype": "text/x-python",
   "name": "python",
   "nbconvert_exporter": "python",
   "pygments_lexer": "ipython2",
   "version": "2.7.12"
  }
 },
 "nbformat": 4,
 "nbformat_minor": 1
}
