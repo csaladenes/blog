{
 "cells": [
  {
   "cell_type": "code",
   "execution_count": 21,
   "metadata": {
    "collapsed": true
   },
   "outputs": [],
   "source": [
    "import json, pandas as pd, matplotlib.pyplot as plt\n",
    "%matplotlib inline"
   ]
  },
  {
   "cell_type": "code",
   "execution_count": 22,
   "metadata": {
    "collapsed": true
   },
   "outputs": [],
   "source": [
    "data1a=json.loads(file('data1a.json','r').read())"
   ]
  },
  {
   "cell_type": "code",
   "execution_count": 23,
   "metadata": {
    "collapsed": false
   },
   "outputs": [],
   "source": [
    "g={}\n",
    "for i in data1a['cities']:\n",
    "    k=i[:i.find('(')]\n",
    "    g[k]=data1a['cities'][i]['count']"
   ]
  },
  {
   "cell_type": "code",
   "execution_count": 24,
   "metadata": {
    "collapsed": true
   },
   "outputs": [],
   "source": [
    "Fro=json.loads(file('F_ro.json','r').read())"
   ]
  },
  {
   "cell_type": "code",
   "execution_count": 25,
   "metadata": {
    "collapsed": false
   },
   "outputs": [],
   "source": [
    "f1={}\n",
    "f3={}\n",
    "for i in Fro:\n",
    "    if i['to'] not in f1:f1[i['to']]=0\n",
    "    f1[i['to']]+=i[u'heti j\\xe1ratsz\\xe1m']\n",
    "    if i['to'] not in f3:f3[i['to']]=0\n",
    "    f3[i['to']]+=i[u'heti j\\xe1ratsz\\xe1m']"
   ]
  },
  {
   "cell_type": "code",
   "execution_count": 26,
   "metadata": {
    "collapsed": true
   },
   "outputs": [],
   "source": [
    "Fhu=json.loads(file('F_hu.json','r').read())"
   ]
  },
  {
   "cell_type": "code",
   "execution_count": 27,
   "metadata": {
    "collapsed": true
   },
   "outputs": [],
   "source": [
    "f2={}\n",
    "for i in Fhu:\n",
    "    if i['to'] not in f2:f2[i['to']]=0\n",
    "    f2[i['to']]+=i[u'heti j\\xe1ratsz\\xe1m']\n",
    "    if i['to'] not in f3:f3[i['to']]=0\n",
    "    f3[i['to']]+=i[u'heti j\\xe1ratsz\\xe1m']"
   ]
  },
  {
   "cell_type": "code",
   "execution_count": 28,
   "metadata": {
    "collapsed": true
   },
   "outputs": [],
   "source": [
    "#define locationrenamer \n",
    "\n",
    "def namer(s):\n",
    "    \n",
    "    if s=='Belgrade': return 'Belgrád'\n",
    "    elif s=='Budapest': return 'Budapest'\n",
    "    elif s=='Cluj-Napoca': return 'Kolozsvár'\n",
    "    elif s=='Timi\\xc8\\x99oara': return 'Temesvár'\n",
    "    elif s=='Targu-Mures': return 'Marosvásárhely'\n",
    "    elif s=='Vienna': return 'Bécs'\n",
    "    elif s=='Paris': return 'Párizs'\n",
    "    elif s=='Nagy-V\\xc3\\xa1rad': return 'Nagyvárad'\n",
    "    elif s=='Krak\\xc3\\xb3w': return 'Krakkó'\n",
    "    elif s=='Sibiu': return 'Nagyszeben'\n",
    "    elif s=='Bucharest': return 'Bukarest'\n",
    "    elif s=='Oradea': return 'Nagyvárad'\n",
    "    elif s=='Brussels': return 'Brüsszel'\n",
    "    elif s=='Cologne': return 'Köln'\n",
    "    elif s=='Athens': return 'Athén'\n",
    "    elif s=='Brasov': return 'Brassó'\n",
    "    elif s=='Copenhagen': return 'Koppenhága'\n",
    "    elif s=='Debreczen': return 'Debrecen'\n",
    "    elif s=='Leipzig': return 'Lipcse'\n",
    "    elif s=='Munich': return 'München'\n",
    "    elif s=='Nuremberg': return 'Nüremberg'\n",
    "    elif s=='Amsterdam': return 'Amszterdam'\n",
    "    elif s=='Milan': return 'Milánó'\n",
    "    elif s=='Gyor': return 'Győr'\n",
    "    elif s=='K\\xc3\\xb8benhavn': return 'Koppenhága'\n",
    "    elif s=='Geneva': return 'Genf'\n",
    "    elif s=='Prague': return 'Prága'\n",
    "    elif s=='Turin': return 'Torinó'\n",
    "    elif s=='Rome': return 'Róma'\n",
    "    elif s=='Nagy-Sz\\xc3\\xa9ben': return 'Nagyszeben'\n",
    "    elif s=='Iasi': return 'Jászvásár'\n",
    "    elif s=='Florence': return 'Firenze'\n",
    "    elif s=='Warsaw': return u'Varsó'\n",
    "    elif s=='Kiev': return u'Kijev'\n",
    "    elif s=='Malmo': return u'Malmö'\n",
    "    elif s=='Zurich': return u'Zürich'\n",
    "    elif s=='Beirut': return 'Bejrút'\n",
    "    elif s=='Riyadh': return 'Rijád'\n",
    "    elif s=='Jerusalem': return 'Jeruzsálem'\n",
    "    elif s=='Naples': return 'Nápoly'\n",
    "    elif s=='Beijing': return 'Peking'\n",
    "    elif s=='Constanta': return 'Konstanca'\n",
    "    elif s=='Istanbul': return 'Isztambul'\n",
    "    elif s=='Corfu': return 'Korfu'\n",
    "    elif s=='Bratislava': return 'Pozsony'\n",
    "    elif s=='City of Brussels': return 'Brüsszel'\n",
    "    elif s=='Dubai': return 'Dubaj'\n",
    "    elif s=='Timisoara': return u'Temesvár'\n",
    "    elif s=='Satu Mare': return u'Szatmár'\n",
    "    elif s=='Sofia': return u'Szófia'\n",
    "    elif s=='Lisbon': return u'Lisszabon'\n",
    "    elif s=='Nice': return u'Nizza'\n",
    "    elif s=='Karlsruhe/Baden-Baden': return u'Karlsruhe'\n",
    "    elif s=='Moscow': return 'Moszkva'\n",
    "    \n",
    "    else: return s"
   ]
  },
  {
   "cell_type": "code",
   "execution_count": 29,
   "metadata": {
    "collapsed": false
   },
   "outputs": [],
   "source": [
    "d=[]\n",
    "for f in f3:\n",
    "    if f not in {\"Hong Kong\", \"Pune\"}:\n",
    "        if f in g:\n",
    "            d.append({\"city\":f,u'heti j\\xe1ratsz\\xe1m':f3[f],u\"diaszpóra\":g[f]})"
   ]
  },
  {
   "cell_type": "code",
   "execution_count": 30,
   "metadata": {
    "collapsed": true
   },
   "outputs": [],
   "source": [
    "file(\"diasp_cities.json\",'w').write(json.dumps(d))"
   ]
  }
 ],
 "metadata": {
  "anaconda-cloud": {},
  "kernelspec": {
   "display_name": "Python [conda root]",
   "language": "python",
   "name": "conda-root-py"
  },
  "language_info": {
   "codemirror_mode": {
    "name": "ipython",
    "version": 2
   },
   "file_extension": ".py",
   "mimetype": "text/x-python",
   "name": "python",
   "nbconvert_exporter": "python",
   "pygments_lexer": "ipython2",
   "version": "2.7.12"
  }
 },
 "nbformat": 4,
 "nbformat_minor": 1
}
