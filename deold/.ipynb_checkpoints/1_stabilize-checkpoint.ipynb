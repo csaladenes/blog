{
 "cells": [
  {
   "cell_type": "code",
   "execution_count": 1,
   "metadata": {},
   "outputs": [
    {
     "name": "stdout",
     "output_type": "stream",
     "text": [
      "Collecting vidstab\n",
      "  Downloading https://files.pythonhosted.org/packages/27/5b/6961161c44ef0593c18fbb155ec05bf5f5084ad47d322f1b244b677724b0/vidstab-1.7.3-py2.py3-none-any.whl\n",
      "Requirement already satisfied: matplotlib in c:\\programdata\\anaconda3\\lib\\site-packages (from vidstab) (3.1.2)\n",
      "Collecting progress\n",
      "  Downloading https://files.pythonhosted.org/packages/38/ef/2e887b3d2b248916fc2121889ce68af8a16aaddbe82f9ae6533c24ff0d2b/progress-1.5.tar.gz\n",
      "Collecting imutils>=0.5.2\n",
      "  Downloading https://files.pythonhosted.org/packages/b5/94/46dcae8c061e28be31bcaa55c560cb30ee9403c9a4bb2659768ec1b9eb7d/imutils-0.5.3.tar.gz\n",
      "Requirement already satisfied: numpy in c:\\programdata\\anaconda3\\lib\\site-packages (from vidstab) (1.17.4)\n",
      "Requirement already satisfied: python-dateutil>=2.1 in c:\\programdata\\anaconda3\\lib\\site-packages (from matplotlib->vidstab) (2.8.1)\n",
      "Requirement already satisfied: cycler>=0.10 in c:\\programdata\\anaconda3\\lib\\site-packages (from matplotlib->vidstab) (0.10.0)\n",
      "Requirement already satisfied: kiwisolver>=1.0.1 in c:\\programdata\\anaconda3\\lib\\site-packages (from matplotlib->vidstab) (1.1.0)\n",
      "Requirement already satisfied: pyparsing!=2.0.4,!=2.1.2,!=2.1.6,>=2.0.1 in c:\\programdata\\anaconda3\\lib\\site-packages (from matplotlib->vidstab) (2.4.6)\n",
      "Requirement already satisfied: six>=1.5 in c:\\programdata\\anaconda3\\lib\\site-packages (from python-dateutil>=2.1->matplotlib->vidstab) (1.13.0)\n",
      "Requirement already satisfied: setuptools in c:\\programdata\\anaconda3\\lib\\site-packages (from kiwisolver>=1.0.1->matplotlib->vidstab) (42.0.2.post20191201)\n",
      "Building wheels for collected packages: progress, imutils\n",
      "  Building wheel for progress (setup.py): started\n",
      "  Building wheel for progress (setup.py): finished with status 'done'\n",
      "  Created wheel for progress: filename=progress-1.5-cp37-none-any.whl size=8080 sha256=0dfd6c36c16d7e8c3161fc8edb803396a9b5d60a7c9776ab3aea4deabab08a97\n",
      "  Stored in directory: C:\\Users\\csala\\AppData\\Local\\pip\\Cache\\wheels\\6c\\c8\\80\\32a294e3041f006c661838c05a411c7b7ffc60ff939d14e116\n",
      "  Building wheel for imutils (setup.py): started\n",
      "  Building wheel for imutils (setup.py): finished with status 'done'\n",
      "  Created wheel for imutils: filename=imutils-0.5.3-cp37-none-any.whl size=25853 sha256=5feafc50e5290ca1d5ca56b0f3e7ac2e21773012ce8b7beb3121205b30520487\n",
      "  Stored in directory: C:\\Users\\csala\\AppData\\Local\\pip\\Cache\\wheels\\16\\84\\1f\\bf88641293cda2c8be81a5c4b8ca973dd9125a6dc3767417fd\n",
      "Successfully built progress imutils\n",
      "Installing collected packages: progress, imutils, vidstab\n",
      "Successfully installed imutils-0.5.3 progress-1.5 vidstab-1.7.3\n"
     ]
    }
   ],
   "source": [
    "!pip install vidstab"
   ]
  },
  {
   "cell_type": "code",
   "execution_count": 3,
   "metadata": {},
   "outputs": [],
   "source": [
    "from vidstab import VidStab"
   ]
  },
  {
   "cell_type": "code",
   "execution_count": 4,
   "metadata": {},
   "outputs": [],
   "source": [
    "# Using defaults\n",
    "stabilizer = VidStab()\n",
    "stabilizer.stabilize(input_path='bp2.mp4', output_path='bp2-vs.mp4')"
   ]
  },
  {
   "cell_type": "code",
   "execution_count": 10,
   "metadata": {},
   "outputs": [],
   "source": [
    "stabilizer = VidStab()\n",
    "stabilizer.stabilize(input_path='Budapest 1896.mp4', output_path='Budapest 1896-vs.mp4')"
   ]
  },
  {
   "cell_type": "code",
   "execution_count": 11,
   "metadata": {},
   "outputs": [],
   "source": [
    "stabilizer = VidStab()\n",
    "stabilizer.stabilize(input_path='kv.mp4', output_path='kv-vs.mp4')"
   ]
  },
  {
   "cell_type": "code",
   "execution_count": 12,
   "metadata": {},
   "outputs": [],
   "source": [
    "stabilizer = VidStab()\n",
    "stabilizer.stabilize(input_path='kv2.mp4', output_path='kv2-vs.mp4')"
   ]
  },
  {
   "cell_type": "code",
   "execution_count": 13,
   "metadata": {},
   "outputs": [],
   "source": [
    "stabilizer = VidStab()\n",
    "stabilizer.stabilize(input_path='ed.mp4', output_path='ed-vs.mp4')"
   ]
  },
  {
   "cell_type": "code",
   "execution_count": null,
   "metadata": {},
   "outputs": [],
   "source": []
  }
 ],
 "metadata": {
  "kernelspec": {
   "display_name": "Python 3",
   "language": "python",
   "name": "python3"
  },
  "language_info": {
   "codemirror_mode": {
    "name": "ipython",
    "version": 3
   },
   "file_extension": ".py",
   "mimetype": "text/x-python",
   "name": "python",
   "nbconvert_exporter": "python",
   "pygments_lexer": "ipython3",
   "version": "3.7.4"
  }
 },
 "nbformat": 4,
 "nbformat_minor": 4
}
