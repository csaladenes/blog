{
 "cells": [
  {
   "cell_type": "code",
   "execution_count": 3,
   "metadata": {},
   "outputs": [],
   "source": [
    "from __future__ import print_function\n",
    "import os\n",
    "\n",
    "import scenedetect\n",
    "from scenedetect.video_manager import VideoManager\n",
    "from scenedetect.scene_manager import SceneManager\n",
    "from scenedetect.frame_timecode import FrameTimecode\n",
    "from scenedetect.stats_manager import StatsManager\n",
    "from scenedetect.detectors import ContentDetector"
   ]
  },
  {
   "cell_type": "code",
   "execution_count": 2,
   "metadata": {},
   "outputs": [
    {
     "name": "stdout",
     "output_type": "stream",
     "text": [
      "Collecting scenedetect\n",
      "  Downloading https://files.pythonhosted.org/packages/2d/be/773bdc97a82131409b1b3f2a526b93ca37b303cd8623a47a967b4dfb40e7/scenedetect-0.5.1.1-py3-none-any.whl (76kB)\n",
      "Requirement already satisfied: numpy in c:\\programdata\\anaconda3\\lib\\site-packages (from scenedetect) (1.17.4)\n",
      "Requirement already satisfied: Click in c:\\programdata\\anaconda3\\lib\\site-packages (from scenedetect) (7.0)\n",
      "Installing collected packages: scenedetect\n",
      "Successfully installed scenedetect-0.5.1.1\n"
     ]
    }
   ],
   "source": [
    "!pip install scenedetect"
   ]
  },
  {
   "cell_type": "code",
   "execution_count": 4,
   "metadata": {},
   "outputs": [
    {
     "name": "stderr",
     "output_type": "stream",
     "text": [
      "100%|██████████| 481/481 [00:00<00:00, 651.75frames/s]"
     ]
    },
    {
     "name": "stdout",
     "output_type": "stream",
     "text": [
      "List of scenes obtained:\n",
      "    Scene  1: Start 00:00:00.800 / Frame 20, End 00:00:02.200 / Frame 55\n",
      "    Scene  2: Start 00:00:02.200 / Frame 55, End 00:00:09.960 / Frame 249\n",
      "    Scene  3: Start 00:00:09.960 / Frame 249, End 00:00:19.240 / Frame 481\n",
      "Writing 480 frames to CSV...\n"
     ]
    },
    {
     "name": "stderr",
     "output_type": "stream",
     "text": [
      "\n"
     ]
    }
   ],
   "source": [
    "STATS_FILE_PATH = 'testvideo.stats.csv'\n",
    "\n",
    "def main():\n",
    "\n",
    "    # Create a video_manager point to video file testvideo.mp4. Note that multiple\n",
    "    # videos can be appended by simply specifying more file paths in the list\n",
    "    # passed to the VideoManager constructor. Note that appending multiple videos\n",
    "    # requires that they all have the same frame size, and optionally, framerate.\n",
    "    video_manager = VideoManager(['bp2-vs-deo.mp4'])\n",
    "    stats_manager = StatsManager()\n",
    "    scene_manager = SceneManager(stats_manager)\n",
    "    # Add ContentDetector algorithm (constructor takes detector options like threshold).\n",
    "    scene_manager.add_detector(ContentDetector())\n",
    "    base_timecode = video_manager.get_base_timecode()\n",
    "\n",
    "    try:\n",
    "        # If stats file exists, load it.\n",
    "        if os.path.exists(STATS_FILE_PATH):\n",
    "            # Read stats from CSV file opened in read mode:\n",
    "            with open(STATS_FILE_PATH, 'r') as stats_file:\n",
    "                stats_manager.load_from_csv(stats_file, base_timecode)\n",
    "\n",
    "        start_time = base_timecode + 20     # 00:00:00.667\n",
    "        end_time = base_timecode + 20.0     # 00:00:20.000\n",
    "        # Set video_manager duration to read frames from 00:00:00 to 00:00:20.\n",
    "        video_manager.set_duration(start_time=start_time, end_time=end_time)\n",
    "\n",
    "        # Set downscale factor to improve processing speed (no args means default).\n",
    "        video_manager.set_downscale_factor()\n",
    "\n",
    "        # Start video_manager.\n",
    "        video_manager.start()\n",
    "\n",
    "        # Perform scene detection on video_manager.\n",
    "        scene_manager.detect_scenes(frame_source=video_manager)\n",
    "\n",
    "        # Obtain list of detected scenes.\n",
    "        scene_list = scene_manager.get_scene_list(base_timecode)\n",
    "        # Like FrameTimecodes, each scene in the scene_list can be sorted if the\n",
    "        # list of scenes becomes unsorted.\n",
    "\n",
    "        print('List of scenes obtained:')\n",
    "        for i, scene in enumerate(scene_list):\n",
    "            print('    Scene %2d: Start %s / Frame %d, End %s / Frame %d' % (\n",
    "                i+1,\n",
    "                scene[0].get_timecode(), scene[0].get_frames(),\n",
    "                scene[1].get_timecode(), scene[1].get_frames(),))\n",
    "\n",
    "        # We only write to the stats file if a save is required:\n",
    "        if stats_manager.is_save_required():\n",
    "            with open(STATS_FILE_PATH, 'w') as stats_file:\n",
    "                stats_manager.save_to_csv(stats_file, base_timecode)\n",
    "\n",
    "    finally:\n",
    "        video_manager.release()\n",
    "\n",
    "if __name__ == \"__main__\":\n",
    "    main()"
   ]
  },
  {
   "cell_type": "code",
   "execution_count": null,
   "metadata": {},
   "outputs": [],
   "source": [
    "!scenedetect -i bp2-vs-deo.mp4 -o ./ detect-content -t 27 list-scenes save-images split-video"
   ]
  },
  {
   "cell_type": "code",
   "execution_count": null,
   "metadata": {},
   "outputs": [],
   "source": []
  }
 ],
 "metadata": {
  "kernelspec": {
   "display_name": "Python 3",
   "language": "python",
   "name": "python3"
  },
  "language_info": {
   "codemirror_mode": {
    "name": "ipython",
    "version": 3
   },
   "file_extension": ".py",
   "mimetype": "text/x-python",
   "name": "python",
   "nbconvert_exporter": "python",
   "pygments_lexer": "ipython3",
   "version": "3.7.4"
  }
 },
 "nbformat": 4,
 "nbformat_minor": 4
}
