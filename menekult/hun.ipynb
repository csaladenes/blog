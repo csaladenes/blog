{
 "metadata": {
  "name": "",
  "signature": "sha256:77885f5a41bbd6dfc2a5296bedc720b91bbc3c135aea35373b32c879ac8a0dba"
 },
 "nbformat": 3,
 "nbformat_minor": 0,
 "worksheets": [
  {
   "cells": [
    {
     "cell_type": "code",
     "collapsed": false,
     "input": [
      "import pandas as pd"
     ],
     "language": "python",
     "metadata": {},
     "outputs": [],
     "prompt_number": 1
    },
    {
     "cell_type": "code",
     "collapsed": false,
     "input": [
      "df=pd.read_csv('http://webdraft.eu/orszagok_varosok/orszagok.txt',sep=\"\\t\",header=None)"
     ],
     "language": "python",
     "metadata": {},
     "outputs": [],
     "prompt_number": 6
    },
    {
     "cell_type": "code",
     "collapsed": false,
     "input": [
      "df=df.drop(range(1,8),axis=1)\n",
      "df=df.set_index(8)\n",
      "df.head()"
     ],
     "language": "python",
     "metadata": {},
     "outputs": [
      {
       "html": [
        "<div style=\"max-height:1000px;max-width:1500px;overflow:auto;\">\n",
        "<table border=\"1\" class=\"dataframe\">\n",
        "  <thead>\n",
        "    <tr style=\"text-align: right;\">\n",
        "      <th></th>\n",
        "      <th>0</th>\n",
        "      <th>8</th>\n",
        "    </tr>\n",
        "  </thead>\n",
        "  <tbody>\n",
        "    <tr>\n",
        "      <th>0</th>\n",
        "      <td>     \ufeffAfganiszt\u00e1n</td>\n",
        "      <td>    Afghanistan</td>\n",
        "    </tr>\n",
        "    <tr>\n",
        "      <th>1</th>\n",
        "      <td>  Aland-szigetek\u00a0</td>\n",
        "      <td>          \u00c5land</td>\n",
        "    </tr>\n",
        "    <tr>\n",
        "      <th>2</th>\n",
        "      <td>          Alb\u00e1nia</td>\n",
        "      <td>        Albania</td>\n",
        "    </tr>\n",
        "    <tr>\n",
        "      <th>3</th>\n",
        "      <td>          Alg\u00e9ria</td>\n",
        "      <td>        Algeria</td>\n",
        "    </tr>\n",
        "    <tr>\n",
        "      <th>4</th>\n",
        "      <td> Amerikai Szamoa\u00a0</td>\n",
        "      <td> American Samoa</td>\n",
        "    </tr>\n",
        "  </tbody>\n",
        "</table>\n",
        "</div>"
       ],
       "metadata": {},
       "output_type": "pyout",
       "prompt_number": 11,
       "text": [
        "                  0               8\n",
        "0      \ufeffAfganiszt\u00e1n     Afghanistan\n",
        "1   Aland-szigetek\u00a0           \u00c5land\n",
        "2           Alb\u00e1nia         Albania\n",
        "3           Alg\u00e9ria         Algeria\n",
        "4  Amerikai Szamoa\u00a0  American Samoa"
       ]
      }
     ],
     "prompt_number": 11
    },
    {
     "cell_type": "code",
     "collapsed": false,
     "input": [
      "data={}\n",
      "for i in df.T.iteritems():\n",
      "    data[i[0]]=[i[1][0]]"
     ],
     "language": "python",
     "metadata": {},
     "outputs": [],
     "prompt_number": 27
    },
    {
     "cell_type": "code",
     "collapsed": false,
     "input": [
      "import json\n",
      "file('hun.json','w').write(json.dumps(data))"
     ],
     "language": "python",
     "metadata": {},
     "outputs": [],
     "prompt_number": 28
    }
   ],
   "metadata": {}
  }
 ]
}