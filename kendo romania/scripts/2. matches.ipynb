{
 "cells": [
  {
   "cell_type": "code",
   "execution_count": 2,
   "metadata": {
    "ExecuteTime": {
     "end_time": "2018-11-29T20:55:53.086841Z",
     "start_time": "2018-11-29T20:55:49.243313Z"
    }
   },
   "outputs": [],
   "source": [
    "import pandas as pd, numpy as np\n",
    "import matches_loader as kendo_romania"
   ]
  },
  {
   "cell_type": "markdown",
   "metadata": {},
   "source": [
    "Read data"
   ]
  },
  {
   "cell_type": "code",
   "execution_count": 3,
   "metadata": {
    "ExecuteTime": {
     "end_time": "2018-11-29T20:55:53.097847Z",
     "start_time": "2018-11-29T20:55:53.089844Z"
    }
   },
   "outputs": [],
   "source": [
    "matches={i:{} for i in range(1993,2019)}"
   ]
  },
  {
   "cell_type": "raw",
   "metadata": {},
   "source": [
    "Import data"
   ]
  },
  {
   "cell_type": "markdown",
   "metadata": {},
   "source": [
    "## 2016"
   ]
  },
  {
   "cell_type": "markdown",
   "metadata": {},
   "source": [
    "### SL"
   ]
  },
  {
   "cell_type": "code",
   "execution_count": 25,
   "metadata": {
    "ExecuteTime": {
     "end_time": "2018-11-29T20:56:32.810676Z",
     "start_time": "2018-11-29T20:56:32.590678Z"
    }
   },
   "outputs": [],
   "source": [
    "filename='rawdata/2016/SL/Event management - stagiul 4.xlsx'\n",
    "sheetname=['F','M']\n",
    "matches[2016]['SL']=kendo_romania.get_matches_from_table(filename,sheetname,6)"
   ]
  },
  {
   "cell_type": "code",
   "execution_count": 26,
   "metadata": {
    "ExecuteTime": {
     "end_time": "2018-11-29T20:56:33.442117Z",
     "start_time": "2018-11-29T20:56:33.300584Z"
    }
   },
   "outputs": [],
   "source": [
    "sheetname=['J']\n",
    "matches[2016]['SL']=matches[2016]['SL']+\\\n",
    "        kendo_romania.get_matches_from_table(filename,sheetname,5)"
   ]
  },
  {
   "cell_type": "markdown",
   "metadata": {},
   "source": [
    "### CN"
   ]
  },
  {
   "cell_type": "code",
   "execution_count": 27,
   "metadata": {
    "ExecuteTime": {
     "end_time": "2018-11-29T20:56:33.904654Z",
     "start_time": "2018-11-29T20:56:33.777645Z"
    }
   },
   "outputs": [],
   "source": [
    "categories=['Individual masculin']\n",
    "filename=['rawdata/2016/CN/'+i+'.xlsx' for i in categories]\n",
    "sheetname='List of matches'\n",
    "column_keys={'match_type':2,'aka':{'name':5,'hansoku':6,'point1':7,'point2':8,'point3':9},\n",
    "             'shiro':{'name':15,'hansoku':14,'point1':11,'point2':12,'point3':13},'outcome':10}\n",
    "shift=2\n",
    "matches[2016]['CN']=kendo_romania.get_matches_from_list(filename,sheetname,column_keys,3,shift=shift)"
   ]
  },
  {
   "cell_type": "code",
   "execution_count": 28,
   "metadata": {
    "ExecuteTime": {
     "end_time": "2018-11-29T20:56:36.866621Z",
     "start_time": "2018-11-29T20:56:36.786619Z"
    }
   },
   "outputs": [],
   "source": [
    "categories=['Individual feminin']\n",
    "filename=['rawdata/2016/CN/'+i+'.xlsx' for i in categories]\n",
    "shift=-1\n",
    "matches[2016]['CN']=matches[2016]['CN']+\\\n",
    "        kendo_romania.get_matches_from_list(filename,sheetname,column_keys,3,shift=shift)"
   ]
  },
  {
   "cell_type": "code",
   "execution_count": 29,
   "metadata": {
    "ExecuteTime": {
     "end_time": "2018-11-29T20:56:37.731502Z",
     "start_time": "2018-11-29T20:56:37.517460Z"
    }
   },
   "outputs": [],
   "source": [
    "categories=['Echipe','Male team']\n",
    "filename=['rawdata/2016/CN/'+i+'.xlsx' for i in categories]\n",
    "shift=0\n",
    "matches[2016]['CN']=matches[2016]['CN']+\\\n",
    "        kendo_romania.get_matches_from_list(filename,sheetname,column_keys,3,shift=shift)"
   ]
  },
  {
   "cell_type": "code",
   "execution_count": 30,
   "metadata": {
    "ExecuteTime": {
     "end_time": "2018-11-29T20:56:41.529215Z",
     "start_time": "2018-11-29T20:56:41.428211Z"
    }
   },
   "outputs": [],
   "source": [
    "categories=['Junior 1 individual','Junior 2 individual']\n",
    "filename=['rawdata/2016/CN/'+i+'.xlsx' for i in categories]\n",
    "shift=-1\n",
    "matches[2016]['CN']=matches[2016]['CN']+\\\n",
    "        kendo_romania.get_matches_from_list(filename,sheetname,column_keys,3,shift=shift)"
   ]
  },
  {
   "cell_type": "markdown",
   "metadata": {},
   "source": [
    "### CR"
   ]
  },
  {
   "cell_type": "code",
   "execution_count": 31,
   "metadata": {},
   "outputs": [],
   "source": [
    "filename='rawdata/2016/CR/Event management_CR23.2016.xlsx'\n",
    "sheetname=['IF_m','IJ_m','IM_m','IS_m']\n",
    "column_keys={'match_type':0,'aka':{'name':1,'point1':2},\n",
    "             'shiro':{'name':6,'point1':5},'outcome':3,\n",
    "             'shinpan':{'fukushin1':7,'shushin':8,'fukushin2':9}}\n",
    "shift=0\n",
    "matches[2016]['CR']=kendo_romania.get_matches_from_list(filename,sheetname,column_keys,4,shift=shift)"
   ]
  },
  {
   "cell_type": "code",
   "execution_count": 32,
   "metadata": {},
   "outputs": [],
   "source": [
    "sheetname=['EJ_m','ES_m']\n",
    "matches[2016]['CR']=matches[2016]['CR']+\\\n",
    "        kendo_romania.get_matches_from_list(filename,sheetname,column_keys,6,shift=shift)"
   ]
  },
  {
   "cell_type": "markdown",
   "metadata": {},
   "source": [
    "## 2015"
   ]
  },
  {
   "cell_type": "markdown",
   "metadata": {},
   "source": [
    "### SL"
   ]
  },
  {
   "cell_type": "code",
   "execution_count": 33,
   "metadata": {
    "ExecuteTime": {
     "end_time": "2018-11-29T21:07:14.327308Z",
     "start_time": "2018-11-29T21:07:13.998160Z"
    }
   },
   "outputs": [],
   "source": [
    "filename='rawdata/2015/SL/Event management - stagiul 5.xlsx'\n",
    "sheetname=['SF_s','SM_s']\n",
    "matches[2015]['SL']=kendo_romania.get_matches_from_table(filename,sheetname,6)"
   ]
  },
  {
   "cell_type": "markdown",
   "metadata": {},
   "source": [
    "### CN"
   ]
  },
  {
   "cell_type": "code",
   "execution_count": 34,
   "metadata": {
    "ExecuteTime": {
     "end_time": "2018-11-29T21:18:17.819409Z",
     "start_time": "2018-11-29T21:18:04.270176Z"
    }
   },
   "outputs": [],
   "source": [
    "filename='rawdata/2015/CN/Event management_CN22.2015.xlsx'\n",
    "sheetname=['IF_m','IJ2_m','IM_m']\n",
    "column_keys={'match_type':0,'aka':{'name':1,'point1':2},\n",
    "             'shiro':{'name':6,'point1':5},'outcome':3,\n",
    "             'shinpan':{'fukushin1':7,'shushin':8,'fukushin2':9}}\n",
    "shift=0\n",
    "matches[2015]['CN']=kendo_romania.get_matches_from_list(filename,sheetname,column_keys,4,shift=shift)"
   ]
  },
  {
   "cell_type": "code",
   "execution_count": 35,
   "metadata": {
    "ExecuteTime": {
     "end_time": "2018-11-29T21:19:14.318250Z",
     "start_time": "2018-11-29T21:19:14.309249Z"
    }
   },
   "outputs": [],
   "source": [
    "sheetname='E_m'\n",
    "matches[2015]['CN']=matches[2015]['CN']+\\\n",
    "        kendo_romania.get_matches_from_list(filename,sheetname,column_keys,6,shift=shift)"
   ]
  },
  {
   "cell_type": "markdown",
   "metadata": {},
   "source": [
    "### CR"
   ]
  },
  {
   "cell_type": "code",
   "execution_count": 36,
   "metadata": {},
   "outputs": [],
   "source": [
    "filename='rawdata/2015/CR/Event management_CR22.2015.xlsx'\n",
    "sheetname=['IF_m','IS_m']\n",
    "column_keys={'match_type':0,'aka':{'name':1,'point1':2},\n",
    "             'shiro':{'name':6,'point1':5},'outcome':3,\n",
    "             'shinpan':{'fukushin1':7,'shushin':8,'fukushin2':9}}\n",
    "shift=0\n",
    "matches[2015]['CR']=kendo_romania.get_matches_from_list(filename,sheetname,column_keys,4,shift=shift)"
   ]
  },
  {
   "cell_type": "code",
   "execution_count": 37,
   "metadata": {},
   "outputs": [],
   "source": [
    "filename='rawdata/2015/CR/Event management_CR22.2015.xlsx'\n",
    "sheetname=['IJ1_s']\n",
    "matches[2015]['CR']=matches[2015]['CR']+\\\n",
    "                kendo_romania.get_matches_from_table(filename,\n",
    "                    sheetname,skiprows=7,shift=1,nrows=9)"
   ]
  },
  {
   "cell_type": "code",
   "execution_count": 38,
   "metadata": {},
   "outputs": [],
   "source": [
    "filename='rawdata/2015/CR/Event management_CR22.2015.xlsx'\n",
    "sheetname=['IJ2_s']\n",
    "matches[2015]['CR']=matches[2015]['CR']+\\\n",
    "                kendo_romania.get_matches_from_table(filename,\n",
    "                    sheetname,skiprows=8,shift=12,nrows=8)\n",
    "matches[2015]['CR']=matches[2015]['CR']+\\\n",
    "                kendo_romania.get_matches_from_table(filename,\n",
    "                    sheetname,skiprows=16,shift=12,nrows=8)"
   ]
  },
  {
   "cell_type": "code",
   "execution_count": 39,
   "metadata": {},
   "outputs": [],
   "source": [
    "sheetname=['IM_s']\n",
    "column_keys={'match_type':19,'aka':{'name':20,'point1':21},\n",
    "             'shiro':{'name':24,'point1':23},'outcome':22}\n",
    "shift=0\n",
    "matches[2015]['CR']=matches[2015]['CR']+\\\n",
    "                kendo_romania.get_matches_from_list(filename,sheetname,column_keys,7,shift=shift)\n",
    "shift=10\n",
    "matches[2015]['CR']=matches[2015]['CR']+\\\n",
    "                kendo_romania.get_matches_from_list(filename,sheetname,column_keys,7,shift=shift)"
   ]
  },
  {
   "cell_type": "markdown",
   "metadata": {},
   "source": [
    "## 2014"
   ]
  },
  {
   "cell_type": "markdown",
   "metadata": {},
   "source": [
    "### SL"
   ]
  },
  {
   "cell_type": "code",
   "execution_count": 40,
   "metadata": {},
   "outputs": [],
   "source": [
    "filename='rawdata/2014/SL/Lista de participanti 6.xlsx'\n",
    "sheetname=['SF_s','SM_s','J_s']\n",
    "matches[2014]['SL']=kendo_romania.get_matches_from_table(filename,sheetname,6)"
   ]
  },
  {
   "cell_type": "markdown",
   "metadata": {},
   "source": [
    "### CR"
   ]
  },
  {
   "cell_type": "code",
   "execution_count": 41,
   "metadata": {},
   "outputs": [],
   "source": [
    "filename='rawdata/2014/CR/Event management_CR21.2014.xlsx'\n",
    "sheetname=['IC-10_m','IC_m','IJ_m','IS_m','IF_m']\n",
    "column_keys={'match_type':0,'aka':{'name':1,'point1':2},\n",
    "             'shiro':{'name':6,'point1':5},'outcome':3,\n",
    "             'shinpan':{'fukushin1':7,'shushin':8,'fukushin2':9}}\n",
    "shift=0\n",
    "matches[2014]['CR']=kendo_romania.get_matches_from_list(filename,sheetname,column_keys,4,shift=shift)"
   ]
  },
  {
   "cell_type": "code",
   "execution_count": 42,
   "metadata": {},
   "outputs": [],
   "source": [
    "sheetname=['IM_s']\n",
    "column_keys={'match_type':0,'aka':{'name':1,'point1':2},\n",
    "             'shiro':{'name':5,'point1':4},'outcome':3}\n",
    "shift=8\n",
    "matches[2014]['CR']=matches[2014]['CR']+\\\n",
    "                kendo_romania.get_matches_from_list(filename,sheetname,column_keys,8,shift=shift)"
   ]
  },
  {
   "cell_type": "markdown",
   "metadata": {},
   "source": [
    "### CN"
   ]
  },
  {
   "cell_type": "code",
   "execution_count": 43,
   "metadata": {},
   "outputs": [],
   "source": [
    "filename='rawdata/2014/CN/Event management_CN21.2014 - v2.xlsx'\n",
    "sheetname=['IF_m']\n",
    "column_keys={'match_type':0,'aka':{'name':1,'point1':2},\n",
    "             'shiro':{'name':6,'point1':5},'outcome':3,\n",
    "             'shinpan':{'fukushin1':7,'shushin':8,'fukushin2':9}}\n",
    "shift=0\n",
    "matches[2014]['CN']=kendo_romania.get_matches_from_list(filename,sheetname,column_keys,4,shift=shift)"
   ]
  },
  {
   "cell_type": "code",
   "execution_count": 44,
   "metadata": {},
   "outputs": [],
   "source": [
    "sheetname=['IM_s']\n",
    "column_keys={'match_type':0,'aka':{'name':1,'point1':2},\n",
    "             'shiro':{'name':5,'point1':4},'outcome':3}\n",
    "shift=19\n",
    "matches[2014]['CN']=matches[2014]['CN']+\\\n",
    "                kendo_romania.get_matches_from_list(filename,sheetname,column_keys,7,shift=shift)\n",
    "shift=29\n",
    "matches[2014]['CN']=matches[2014]['CN']+\\\n",
    "                kendo_romania.get_matches_from_list(filename,sheetname,column_keys,7,shift=shift)"
   ]
  },
  {
   "cell_type": "code",
   "execution_count": 45,
   "metadata": {},
   "outputs": [],
   "source": [
    "sheetname=['IJ1_s']\n",
    "matches[2014]['CN']=matches[2014]['CN']+\\\n",
    "                kendo_romania.get_matches_from_table(filename,sheetname,7,shift=1,nrows=10)"
   ]
  },
  {
   "cell_type": "code",
   "execution_count": 46,
   "metadata": {},
   "outputs": [],
   "source": [
    "sheetname=['IJ2_s']\n",
    "matches[2014]['CN']=matches[2014]['CN']+\\\n",
    "                kendo_romania.get_matches_from_table(filename,sheetname,8,shift=12,nrows=6)\n",
    "matches[2014]['CN']=matches[2014]['CN']+\\\n",
    "                kendo_romania.get_matches_from_table(filename,sheetname,14,shift=12,nrows=6)\n",
    "matches[2014]['CN']=matches[2014]['CN']+\\\n",
    "                kendo_romania.get_matches_from_table(filename,sheetname,20,shift=12,nrows=6)"
   ]
  },
  {
   "cell_type": "markdown",
   "metadata": {},
   "source": [
    "## 2013"
   ]
  },
  {
   "cell_type": "markdown",
   "metadata": {},
   "source": [
    "### CN"
   ]
  },
  {
   "cell_type": "code",
   "execution_count": 47,
   "metadata": {},
   "outputs": [],
   "source": [
    "filename='rawdata/2013/CN/Event management_CN2013.xlsx'\n",
    "sheetname=['IS_m','IF_m','IC_m','IJ_m','E_m','IM_m']\n",
    "column_keys={'match_type':0,'aka':{'name':1,'point1':2},\n",
    "             'shiro':{'name':6,'point1':5},'outcome':3,\n",
    "             'shinpan':{'fukushin1':7,'shushin':8,'fukushin2':9}}\n",
    "shift=0\n",
    "matches[2013]['CN']=kendo_romania.get_matches_from_list(filename,sheetname,column_keys,4,shift=shift)"
   ]
  },
  {
   "cell_type": "markdown",
   "metadata": {},
   "source": [
    "### CR"
   ]
  },
  {
   "cell_type": "code",
   "execution_count": 48,
   "metadata": {},
   "outputs": [],
   "source": [
    "filename='rawdata/2013/CR/Event management_CR2013.xlsx'\n",
    "sheetname=['IF_meciuri','IJ_meciuri','IM_meciuri']\n",
    "column_keys={'match_type':0,'aka':{'name':1,'point1':2},\n",
    "             'shiro':{'name':6,'point1':5},'outcome':3,\n",
    "             'shinpan':{'fukushin1':7,'shushin':8,'fukushin2':9}}\n",
    "shift=0\n",
    "matches[2013]['CR']=kendo_romania.get_matches_from_list(filename,sheetname,column_keys,4,shift=shift)"
   ]
  },
  {
   "cell_type": "markdown",
   "metadata": {},
   "source": [
    "### SL"
   ]
  },
  {
   "cell_type": "code",
   "execution_count": 49,
   "metadata": {},
   "outputs": [],
   "source": [
    "filename='rawdata/2013/SL/Event management.xlsx'\n",
    "sheetname=['E_meciuri']\n",
    "column_keys={'match_type':0,'aka':{'name':1,'point1':2},\n",
    "             'shiro':{'name':6,'point1':5},'outcome':3,\n",
    "             'shinpan':{'fukushin1':7,'shushin':8,'fukushin2':9}}\n",
    "shift=0\n",
    "matches[2013]['SL']=kendo_romania.get_matches_from_list(filename,sheetname,column_keys,4,shift=shift)"
   ]
  },
  {
   "cell_type": "code",
   "execution_count": 50,
   "metadata": {},
   "outputs": [],
   "source": [
    "sheetname=['Schema feminin']\n",
    "matches[2013]['SL']=matches[2013]['SL']+\\\n",
    "                kendo_romania.get_matches_from_table(filename,sheetname,2,nrows=14)\n",
    "sheetname=['Schema juniori']\n",
    "matches[2013]['SL']=matches[2013]['SL']+\\\n",
    "                kendo_romania.get_matches_from_table(filename,sheetname,2,nrows=12)"
   ]
  },
  {
   "cell_type": "markdown",
   "metadata": {},
   "source": [
    "## 2012"
   ]
  },
  {
   "cell_type": "markdown",
   "metadata": {},
   "source": [
    "### CN"
   ]
  },
  {
   "cell_type": "code",
   "execution_count": 51,
   "metadata": {},
   "outputs": [],
   "source": [
    "filename='rawdata/2012/CN/Event management CN2012.xlsx'\n",
    "sheetname=['E_meciuri','IJ_meciuri','IF_meciuri','IM_meciuri']\n",
    "column_keys={'match_type':0,'aka':{'name':1,'point1':2},\n",
    "             'shiro':{'name':6,'point1':5},'outcome':3,\n",
    "             'shinpan':{'fukushin1':7,'shushin':8,'fukushin2':9}}\n",
    "shift=0\n",
    "matches[2012]['CN']=kendo_romania.get_matches_from_list(filename,sheetname,column_keys,4,shift=shift)"
   ]
  },
  {
   "cell_type": "markdown",
   "metadata": {},
   "source": [
    "### CR"
   ]
  },
  {
   "cell_type": "code",
   "execution_count": 52,
   "metadata": {},
   "outputs": [],
   "source": [
    "filename='rawdata/2012/CR/2012.05.05-06 - CR - Cluj.xlsx'\n",
    "sheetname=['IC']\n",
    "matches[2012]['CR']=kendo_romania.get_matches_from_table_oneliner(filename,\n",
    "                                sheetname,12,shift=1,nrows=3)\n",
    "matches[2012]['CR']=matches[2012]['CR']+\\\n",
    "                kendo_romania.get_matches_from_table_oneliner(filename,\n",
    "                                sheetname,18,shift=1,nrows=4)"
   ]
  },
  {
   "cell_type": "code",
   "execution_count": 53,
   "metadata": {},
   "outputs": [],
   "source": [
    "sheetname=['IJ']\n",
    "matches[2012]['CR']=matches[2012]['CR']+\\\n",
    "                kendo_romania.get_matches_from_table_oneliner(filename,\n",
    "                                sheetname,14,shift=1,nrows=3)\n",
    "matches[2012]['CR']=matches[2012]['CR']+\\\n",
    "                kendo_romania.get_matches_from_table_oneliner(filename,\n",
    "                                sheetname,19,shift=1,nrows=3)\n",
    "matches[2012]['CR']=matches[2012]['CR']+\\\n",
    "                kendo_romania.get_matches_from_table_oneliner(filename,\n",
    "                                sheetname,24,shift=1,nrows=3)\n",
    "matches[2012]['CR']=matches[2012]['CR']+\\\n",
    "                kendo_romania.get_matches_from_table_oneliner(filename,\n",
    "                                sheetname,30,shift=1,nrows=3)\n",
    "matches[2012]['CR']=matches[2012]['CR']+\\\n",
    "                kendo_romania.get_matches_from_table_oneliner(filename,\n",
    "                                sheetname,35,shift=1,nrows=3)"
   ]
  },
  {
   "cell_type": "code",
   "execution_count": 54,
   "metadata": {},
   "outputs": [],
   "source": [
    "sheetname=['IF']\n",
    "matches[2012]['CR']=matches[2012]['CR']+\\\n",
    "                kendo_romania.get_matches_from_table_oneliner(filename,\n",
    "                                sheetname,13,shift=1,nrows=3)\n",
    "matches[2012]['CR']=matches[2012]['CR']+\\\n",
    "                kendo_romania.get_matches_from_table_oneliner(filename,\n",
    "                                sheetname,18,shift=1,nrows=3)\n",
    "column_keys={'match_type':0,'aka':{'name':1,'point1':3},\n",
    "             'shiro':{'name':6,'point1':5},'outcome':4}\n",
    "shift=0\n",
    "matches[2012]['CR']=matches[2012]['CR']+\\\n",
    "                kendo_romania.get_matches_from_list(filename,sheetname,column_keys,22,shift=shift)"
   ]
  },
  {
   "cell_type": "code",
   "execution_count": 55,
   "metadata": {},
   "outputs": [],
   "source": [
    "sheetname=['IM']\n",
    "column_keys={'match_type':0,'aka':{'name':1,'point1':2},\n",
    "             'shiro':{'name':5,'point1':4},'outcome':3}\n",
    "shift=6\n",
    "matches[2012]['CR']=matches[2012]['CR']+\\\n",
    "                kendo_romania.get_matches_from_list(filename,sheetname,column_keys,6,shift=shift)"
   ]
  },
  {
   "cell_type": "code",
   "execution_count": 56,
   "metadata": {},
   "outputs": [],
   "source": [
    "sheetname=['ES']\n",
    "column_keys={'match_type':20,'aka':{'name':1,'point1':2},\n",
    "             'shiro':{'name':5,'point1':4},'outcome':3}\n",
    "shift=-1\n",
    "matches[2012]['CR']=matches[2012]['CR']+\\\n",
    "                kendo_romania.get_matches_from_list(filename,sheetname,column_keys,4,shift=shift)\n",
    "shift=4\n",
    "matches[2012]['CR']=matches[2012]['CR']+\\\n",
    "                kendo_romania.get_matches_from_list(filename,sheetname,column_keys,4,shift=shift)\n",
    "shift=9\n",
    "matches[2012]['CR']=matches[2012]['CR']+\\\n",
    "                kendo_romania.get_matches_from_list(filename,sheetname,column_keys,4,shift=shift)"
   ]
  },
  {
   "cell_type": "markdown",
   "metadata": {},
   "source": [
    "## 2011"
   ]
  },
  {
   "cell_type": "markdown",
   "metadata": {},
   "source": [
    "### CN"
   ]
  },
  {
   "cell_type": "code",
   "execution_count": 57,
   "metadata": {},
   "outputs": [],
   "source": [
    "filename='rawdata/2011/CN/2011.11.26-27 - CN - Bucuresti_print.xlsx'\n",
    "sheetname=['IJ']\n",
    "matches[2011]['CN']=kendo_romania.get_matches_from_table_oneliner(filename,\n",
    "                                sheetname,13,shift=1,nrows=3)\n",
    "matches[2011]['CN']=matches[2011]['CN']+\\\n",
    "                kendo_romania.get_matches_from_table_oneliner(filename,\n",
    "                                sheetname,18,shift=1,nrows=3)\n",
    "matches[2011]['CN']=matches[2011]['CN']+\\\n",
    "                kendo_romania.get_matches_from_table_oneliner(filename,\n",
    "                                sheetname,23,shift=1)"
   ]
  },
  {
   "cell_type": "code",
   "execution_count": 58,
   "metadata": {},
   "outputs": [],
   "source": [
    "sheetname=['IF']\n",
    "matches[2011]['CN']=matches[2011]['CN']+\\\n",
    "                kendo_romania.get_matches_from_table_oneliner(filename,\n",
    "                                sheetname,13,shift=1,nrows=3)\n",
    "matches[2011]['CN']=matches[2011]['CN']+\\\n",
    "                kendo_romania.get_matches_from_table_oneliner(filename,\n",
    "                                sheetname,18,shift=1,nrows=3)\n",
    "matches[2011]['CN']=matches[2011]['CN']+\\\n",
    "                kendo_romania.get_matches_from_table_oneliner(filename,\n",
    "                                sheetname,23,shift=1,nrows=4)\n",
    "column_keys={'match_type':0,'aka':{'name':1,'point1':3},\n",
    "             'shiro':{'name':6,'point1':5},'outcome':4}\n",
    "shift=0\n",
    "matches[2011]['CN']=matches[2011]['CN']+\\\n",
    "                kendo_romania.get_matches_from_list(filename,sheetname,column_keys,28,shift=shift)"
   ]
  },
  {
   "cell_type": "code",
   "execution_count": 59,
   "metadata": {},
   "outputs": [],
   "source": [
    "sheetname=['IM']\n",
    "column_keys={'match_type':0,'aka':{'name':1,'point1':2},\n",
    "             'shiro':{'name':5,'point1':4},'outcome':3}\n",
    "shift=5\n",
    "matches[2011]['CN']=matches[2011]['CN']+\\\n",
    "                kendo_romania.get_matches_from_list(filename,sheetname,column_keys,6,shift=shift)\n",
    "shift=11\n",
    "matches[2011]['CN']=matches[2011]['CN']+\\\n",
    "                kendo_romania.get_matches_from_list(filename,sheetname,column_keys,6,shift=shift)\n"
   ]
  },
  {
   "cell_type": "code",
   "execution_count": 60,
   "metadata": {},
   "outputs": [],
   "source": [
    "sheetname=['E']\n",
    "column_keys={'match_type':0,'aka':{'name':1,'point1':2},\n",
    "             'shiro':{'name':5,'point1':4},'outcome':3}\n",
    "shift=17\n",
    "matches[2011]['CN']=matches[2011]['CN']+\\\n",
    "                kendo_romania.get_matches_from_list(filename,sheetname,column_keys,5,shift=shift)\n",
    "shift=23\n",
    "matches[2011]['CN']=matches[2011]['CN']+\\\n",
    "                kendo_romania.get_matches_from_list(filename,sheetname,column_keys,5,shift=shift)\n",
    "shift=29\n",
    "matches[2011]['CN']=matches[2011]['CN']+\\\n",
    "                kendo_romania.get_matches_from_list(filename,sheetname,column_keys,5,shift=shift)\n"
   ]
  },
  {
   "cell_type": "markdown",
   "metadata": {},
   "source": [
    "### CR"
   ]
  },
  {
   "cell_type": "code",
   "execution_count": 61,
   "metadata": {},
   "outputs": [],
   "source": [
    "filename='rawdata/2011/CR/2011.04.16-17 - CR - Miercurea Ciuc.xlsx'\n",
    "sheetname=['ES']\n",
    "column_keys={'match_type':6,'aka':{'name':1,'point1':2},\n",
    "             'shiro':{'name':5,'point1':4},'outcome':3}\n",
    "shift=-1\n",
    "matches[2011]['CR']=kendo_romania.get_matches_from_list(filename,sheetname,column_keys,7,shift=shift)\n",
    "shift=5\n",
    "matches[2011]['CR']=matches[2011]['CR']+\\\n",
    "                kendo_romania.get_matches_from_list(filename,sheetname,column_keys,7,shift=shift)\n",
    "shift=11\n",
    "matches[2011]['CR']=matches[2011]['CR']+\\\n",
    "                kendo_romania.get_matches_from_list(filename,sheetname,column_keys,7,shift=shift)"
   ]
  },
  {
   "cell_type": "code",
   "execution_count": 62,
   "metadata": {},
   "outputs": [],
   "source": [
    "sheetname=['IM']\n",
    "column_keys={'match_type':0,'aka':{'name':1,'point1':2},\n",
    "             'shiro':{'name':5,'point1':4},'outcome':3}\n",
    "shift=5\n",
    "matches[2011]['CR']=matches[2011]['CR']+\\\n",
    "                kendo_romania.get_matches_from_list(filename,sheetname,column_keys,6,shift=shift)\n",
    "shift=11\n",
    "matches[2011]['CR']=matches[2011]['CR']+\\\n",
    "                kendo_romania.get_matches_from_list(filename,sheetname,column_keys,6,shift=shift)\n"
   ]
  },
  {
   "cell_type": "code",
   "execution_count": 63,
   "metadata": {},
   "outputs": [],
   "source": [
    "sheetname=['IF']\n",
    "matches[2011]['CR']=matches[2011]['CR']+\\\n",
    "                kendo_romania.get_matches_from_table_oneliner(filename,\n",
    "                                sheetname,15,shift=1,nrows=4)\n",
    "matches[2011]['CR']=matches[2011]['CR']+\\\n",
    "                kendo_romania.get_matches_from_table_oneliner(filename,\n",
    "                                sheetname,21,shift=1,nrows=4)\n",
    "column_keys={'match_type':0,'aka':{'name':1,'point1':3},\n",
    "             'shiro':{'name':6,'point1':5},'outcome':4}\n",
    "shift=0\n",
    "matches[2011]['CR']=matches[2011]['CR']+\\\n",
    "                kendo_romania.get_matches_from_list(filename,sheetname,column_keys,26,shift=shift)"
   ]
  },
  {
   "cell_type": "code",
   "execution_count": 64,
   "metadata": {},
   "outputs": [],
   "source": [
    "sheetname=['IJ']\n",
    "matches[2011]['CR']=matches[2011]['CR']+\\\n",
    "                kendo_romania.get_matches_from_table_oneliner(filename,\n",
    "                                sheetname,16,shift=1,nrows=3)\n",
    "matches[2011]['CR']=matches[2011]['CR']+\\\n",
    "                kendo_romania.get_matches_from_table_oneliner(filename,\n",
    "                                sheetname,21,shift=1,nrows=4)\n",
    "matches[2011]['CR']=matches[2011]['CR']+\\\n",
    "                kendo_romania.get_matches_from_table_oneliner(filename,\n",
    "                                sheetname,27,shift=1,nrows=3)"
   ]
  },
  {
   "cell_type": "code",
   "execution_count": 65,
   "metadata": {},
   "outputs": [],
   "source": [
    "sheetname=['IC']\n",
    "matches[2011]['CR']=matches[2011]['CR']+\\\n",
    "                kendo_romania.get_matches_from_table_oneliner(filename,\n",
    "                                sheetname,4,shift=0,nrows=4)"
   ]
  },
  {
   "cell_type": "code",
   "execution_count": 66,
   "metadata": {},
   "outputs": [],
   "source": [
    "sheetname=['EJ']\n",
    "column_keys={'match_type':0,'aka':{'name':1,'point1':2},\n",
    "             'shiro':{'name':5,'point1':4},'outcome':3}\n",
    "shift=0\n",
    "matches[2011]['CR']=matches[2011]['CR']+\\\n",
    "                kendo_romania.get_matches_from_list(filename,sheetname,column_keys,15,shift=shift)"
   ]
  },
  {
   "cell_type": "markdown",
   "metadata": {},
   "source": [
    "## 2010"
   ]
  },
  {
   "cell_type": "markdown",
   "metadata": {},
   "source": [
    "### CR"
   ]
  },
  {
   "cell_type": "code",
   "execution_count": 67,
   "metadata": {},
   "outputs": [],
   "source": [
    "filename='rawdata/2010/CR/2010.03.27-28 - CR - Budeasa.xlsx'\n",
    "sheetname=['IM']\n",
    "column_keys={'match_type':0,'aka':{'name':1,'point1':2},\n",
    "             'shiro':{'name':5,'point1':4},'outcome':3}\n",
    "shift=5\n",
    "matches[2010]['CR']=kendo_romania.get_matches_from_list(filename,sheetname,column_keys,6,shift=shift)\n",
    "shift=11\n",
    "matches[2010]['CR']=matches[2010]['CR']+\\\n",
    "                kendo_romania.get_matches_from_list(filename,sheetname,column_keys,6,shift=shift)"
   ]
  },
  {
   "cell_type": "code",
   "execution_count": 68,
   "metadata": {},
   "outputs": [],
   "source": [
    "sheetname=['IF']\n",
    "matches[2010]['CR']=matches[2010]['CR']+\\\n",
    "                kendo_romania.get_matches_from_table_oneliner(filename,\n",
    "                                sheetname,15,shift=1,nrows=4)\n",
    "matches[2010]['CR']=matches[2010]['CR']+\\\n",
    "                kendo_romania.get_matches_from_table_oneliner(filename,\n",
    "                                sheetname,21,shift=1,nrows=4)\n",
    "column_keys={'match_type':0,'aka':{'name':1,'point1':3},\n",
    "             'shiro':{'name':6,'point1':5},'outcome':4}\n",
    "shift=0\n",
    "matches[2010]['CR']=matches[2010]['CR']+\\\n",
    "                kendo_romania.get_matches_from_list(filename,sheetname,column_keys,26,shift=shift)"
   ]
  },
  {
   "cell_type": "code",
   "execution_count": 69,
   "metadata": {},
   "outputs": [],
   "source": [
    "sheetname=['EJ']\n",
    "column_keys={'match_type':0,'aka':{'name':1,'point1':2},\n",
    "             'shiro':{'name':5,'point1':4},'outcome':3}\n",
    "shift=0\n",
    "matches[2010]['CR']=matches[2010]['CR']+\\\n",
    "                kendo_romania.get_matches_from_list(filename,sheetname,column_keys,15,shift=shift)"
   ]
  },
  {
   "cell_type": "code",
   "execution_count": 70,
   "metadata": {},
   "outputs": [],
   "source": [
    "sheetname=['IJ']\n",
    "matches[2010]['CR']=matches[2010]['CR']+\\\n",
    "                kendo_romania.get_matches_from_table_oneliner(filename,\n",
    "                                sheetname,16,shift=1,nrows=3)\n",
    "matches[2010]['CR']=matches[2010]['CR']+\\\n",
    "                kendo_romania.get_matches_from_table_oneliner(filename,\n",
    "                                sheetname,21,shift=1,nrows=4)\n",
    "matches[2010]['CR']=matches[2010]['CR']+\\\n",
    "                kendo_romania.get_matches_from_table_oneliner(filename,\n",
    "                                sheetname,27,shift=1,nrows=3)"
   ]
  },
  {
   "cell_type": "code",
   "execution_count": 71,
   "metadata": {},
   "outputs": [],
   "source": [
    "sheetname=['IC']\n",
    "matches[2010]['CR']=matches[2010]['CR']+\\\n",
    "                kendo_romania.get_matches_from_table_oneliner(filename,\n",
    "                                sheetname,4,shift=0,nrows=4)"
   ]
  },
  {
   "cell_type": "markdown",
   "metadata": {},
   "source": [
    "### CN"
   ]
  },
  {
   "cell_type": "code",
   "execution_count": 72,
   "metadata": {},
   "outputs": [],
   "source": [
    "filename='rawdata/2010/CN/2010.11.27-28 - CN - Bucuresti.xlsx'\n",
    "sheetname=['IJ']\n",
    "matches[2010]['CN']=kendo_romania.get_matches_from_table_oneliner(filename,\n",
    "                                sheetname,13,shift=1,point_shift=0,nrows=5)"
   ]
  },
  {
   "cell_type": "code",
   "execution_count": 73,
   "metadata": {},
   "outputs": [],
   "source": [
    "sheetname=['IC']\n",
    "matches[2010]['CN']=matches[2010]['CN']+\\\n",
    "                kendo_romania.get_matches_from_table_oneliner(filename,\n",
    "                                sheetname,13,shift=1,nrows=3)\n",
    "matches[2010]['CN']=matches[2010]['CN']+\\\n",
    "                kendo_romania.get_matches_from_table_oneliner(filename,\n",
    "                                sheetname,18,shift=1,nrows=3)"
   ]
  },
  {
   "cell_type": "code",
   "execution_count": 74,
   "metadata": {},
   "outputs": [],
   "source": [
    "sheetname=['IF']\n",
    "matches[2010]['CN']=matches[2010]['CN']+\\\n",
    "                kendo_romania.get_matches_from_table_oneliner(filename,\n",
    "                                sheetname,13,shift=1,nrows=3)\n",
    "matches[2010]['CN']=matches[2010]['CN']+\\\n",
    "                kendo_romania.get_matches_from_table_oneliner(filename,\n",
    "                                sheetname,18,shift=1,nrows=3)"
   ]
  },
  {
   "cell_type": "code",
   "execution_count": 75,
   "metadata": {},
   "outputs": [],
   "source": [
    "sheetname=['IM']\n",
    "column_keys={'match_type':0,'aka':{'name':1,'point1':2},\n",
    "             'shiro':{'name':5,'point1':4},'outcome':3}\n",
    "shift=6\n",
    "matches[2010]['CN']=matches[2010]['CN']+\\\n",
    "                kendo_romania.get_matches_from_list(filename,sheetname,column_keys,4,shift=shift)\n",
    "shift=12\n",
    "matches[2010]['CN']=matches[2010]['CN']+\\\n",
    "                kendo_romania.get_matches_from_list(filename,sheetname,column_keys,4,shift=shift)"
   ]
  },
  {
   "cell_type": "code",
   "execution_count": 76,
   "metadata": {},
   "outputs": [],
   "source": [
    "sheetname=['E']\n",
    "column_keys={'match_type':15,'aka':{'name':1,'point1':2},\n",
    "             'shiro':{'name':5,'point1':4},'outcome':3}\n",
    "shift=-1\n",
    "matches[2010]['CN']=matches[2010]['CN']+\\\n",
    "                kendo_romania.get_matches_from_list(filename,sheetname,column_keys,5,shift=shift)\n",
    "shift=5\n",
    "matches[2010]['CN']=matches[2010]['CN']+\\\n",
    "                kendo_romania.get_matches_from_list(filename,sheetname,column_keys,5,shift=shift)\n",
    "shift=11\n",
    "matches[2010]['CN']=matches[2010]['CN']+\\\n",
    "                kendo_romania.get_matches_from_list(filename,sheetname,column_keys,5,shift=shift)"
   ]
  },
  {
   "cell_type": "markdown",
   "metadata": {},
   "source": [
    "## 2009"
   ]
  },
  {
   "cell_type": "markdown",
   "metadata": {},
   "source": [
    "### CN"
   ]
  },
  {
   "cell_type": "code",
   "execution_count": 77,
   "metadata": {},
   "outputs": [],
   "source": [
    "filename='rawdata/2009/CN/2009.11.28-29 - CN - Bucuresti.xlsx'\n",
    "sheetname=['IJ']\n",
    "matches[2009]['CN']=kendo_romania.get_matches_from_table_oneliner(filename,\n",
    "                                sheetname,4,shift=0,nrows=4)"
   ]
  },
  {
   "cell_type": "code",
   "execution_count": 78,
   "metadata": {},
   "outputs": [],
   "source": [
    "sheetname=['IF']\n",
    "matches[2009]['CN']=matches[2009]['CN']+\\\n",
    "                kendo_romania.get_matches_from_table_oneliner(filename,\n",
    "                                sheetname,12,shift=1,point_shift=0,nrows=5)"
   ]
  },
  {
   "cell_type": "code",
   "execution_count": 79,
   "metadata": {},
   "outputs": [],
   "source": [
    "sheetname=['IM']\n",
    "column_keys={'match_type':0,'aka':{'name':1,'point1':2},\n",
    "             'shiro':{'name':5,'point1':4},'outcome':3}\n",
    "shift=5\n",
    "matches[2009]['CN']=matches[2009]['CN']+\\\n",
    "                kendo_romania.get_matches_from_list(filename,sheetname,column_keys,6,shift=shift)\n",
    "shift=11\n",
    "matches[2009]['CN']=matches[2009]['CN']+\\\n",
    "                kendo_romania.get_matches_from_list(filename,sheetname,column_keys,6,shift=shift)"
   ]
  },
  {
   "cell_type": "code",
   "execution_count": 80,
   "metadata": {},
   "outputs": [],
   "source": [
    "sheetname=['ES']\n",
    "column_keys={'match_type':1,'aka':{'name':1,'point1':2},\n",
    "             'shiro':{'name':5,'point1':4},'outcome':3}\n",
    "shift=-1\n",
    "matches[2009]['CN']=matches[2009]['CN']+\\\n",
    "                kendo_romania.get_matches_from_list(filename,sheetname,column_keys,7,shift=shift)\n",
    "shift=5\n",
    "matches[2009]['CN']=matches[2009]['CN']+\\\n",
    "                kendo_romania.get_matches_from_list(filename,sheetname,column_keys,7,shift=shift)\n",
    "shift=11\n",
    "matches[2009]['CN']=matches[2009]['CN']+\\\n",
    "                kendo_romania.get_matches_from_list(filename,sheetname,column_keys,7,shift=shift)"
   ]
  },
  {
   "cell_type": "markdown",
   "metadata": {},
   "source": [
    "### CR"
   ]
  },
  {
   "cell_type": "code",
   "execution_count": 81,
   "metadata": {},
   "outputs": [],
   "source": [
    "filename='rawdata/2009/CR/2009.04.04 - CR - Budeasa - print.xlsx'\n",
    "sheetname=['IJ']\n",
    "matches[2009]['CR']=kendo_romania.get_matches_from_table_oneliner(filename,\n",
    "                                sheetname,12,shift=1,point_shift=0,nrows=5)"
   ]
  },
  {
   "cell_type": "code",
   "execution_count": 82,
   "metadata": {},
   "outputs": [],
   "source": [
    "sheetname=['IF']\n",
    "matches[2009]['CR']=matches[2009]['CR']+\\\n",
    "                kendo_romania.get_matches_from_table_oneliner(filename,\n",
    "                                sheetname,13,shift=1,point_shift=0,nrows=6)"
   ]
  },
  {
   "cell_type": "code",
   "execution_count": 83,
   "metadata": {},
   "outputs": [],
   "source": [
    "sheetname=['IM']\n",
    "column_keys={'match_type':0,'aka':{'name':1,'point1':2},\n",
    "             'shiro':{'name':5,'point1':4},'outcome':3}\n",
    "shift=5\n",
    "matches[2009]['CR']=matches[2009]['CR']+\\\n",
    "                kendo_romania.get_matches_from_list(filename,sheetname,column_keys,6,shift=shift)\n",
    "shift=11\n",
    "matches[2009]['CR']=matches[2009]['CR']+\\\n",
    "                kendo_romania.get_matches_from_list(filename,sheetname,column_keys,6,shift=shift)"
   ]
  },
  {
   "cell_type": "code",
   "execution_count": 84,
   "metadata": {},
   "outputs": [],
   "source": [
    "sheetname=['ES']\n",
    "column_keys={'match_type':1,'aka':{'name':1,'point1':2},\n",
    "             'shiro':{'name':5,'point1':4},'outcome':3}\n",
    "shift=-1\n",
    "matches[2009]['CR']=matches[2009]['CR']+\\\n",
    "                kendo_romania.get_matches_from_list(filename,sheetname,column_keys,8,shift=shift)\n",
    "shift=5\n",
    "matches[2009]['CR']=matches[2009]['CR']+\\\n",
    "                kendo_romania.get_matches_from_list(filename,sheetname,column_keys,8,shift=shift)"
   ]
  },
  {
   "cell_type": "markdown",
   "metadata": {},
   "source": [
    "Clean up points, matches, player names"
   ]
  },
  {
   "cell_type": "code",
   "execution_count": 85,
   "metadata": {},
   "outputs": [],
   "source": [
    "def match_cleaner(year,match):\n",
    "    kind,phase='Unknown','Unknown'\n",
    "    if '#' in match:\n",
    "        stage0=match.split('#')[0].lower()\n",
    "        stage1=match.split('#')[1]\n",
    "        if 'pool' in stage1: \n",
    "            phase='Pool'\n",
    "        if 'Pool' in stage1: \n",
    "            phase='Pool'\n",
    "        elif 'prel' in stage1: \n",
    "            phase='Prelim.'\n",
    "        elif 'Prel' in stage1: \n",
    "            phase='Prelim.'\n",
    "        elif 'layoff' in stage1: \n",
    "            phase='Prelim.'\n",
    "        elif '- F' in stage1: \n",
    "            phase='Finals'\n",
    "        elif 'F -' in stage1: \n",
    "            phase='Finals'\n",
    "        elif 'Final' in stage1: \n",
    "            phase='Finals'\n",
    "        elif 'SF' in stage1: \n",
    "            phase='Finals'\n",
    "        elif 'QF' in stage1: \n",
    "            phase='Finals'\n",
    "        elif 'A'==stage1: phase='Pool'\n",
    "        elif 'B'==stage1: phase='Pool'\n",
    "        elif 'C'==stage1: phase='Pool'\n",
    "        elif 'D'==stage1: phase='Pool'\n",
    "        elif 'E'==stage1: phase='Pool'\n",
    "        elif 'F'==stage1: phase='Pool'\n",
    "        elif 'G'==stage1: phase='Pool'\n",
    "        elif 'H'==stage1: phase='Pool'\n",
    "        elif 'I'==stage1: phase='Pool'\n",
    "        elif 'J'==stage1: phase='Pool'\n",
    "        elif 'K'==stage1: phase='Pool'\n",
    "        elif 'L'==stage1: phase='Pool'\n",
    "        elif 'M'==stage1: phase='Pool'\n",
    "        elif 'N'==stage1: phase='Pool'\n",
    "        elif 'O'==stage1: phase='Pool'\n",
    "        elif 'P'==stage1: phase='Pool'\n",
    "        elif 'Q'==stage1: phase='Pool'\n",
    "        elif 'R'==stage1: phase='Pool'\n",
    "        elif 'S'==stage1: phase='Pool'\n",
    "        elif 'T'==stage1: phase='Pool'\n",
    "        \n",
    "        if 'IS' in stage1:\n",
    "            kind=\"Senior's Individual\"\n",
    "        elif 'IF' in stage1:\n",
    "            kind=\"Women's Individual\"\n",
    "        elif 'IM' in stage1:\n",
    "            kind=\"Men's Individual\"\n",
    "        elif 'IC' in stage1:\n",
    "            kind=\"Children's Individual\"\n",
    "        elif 'IJ' in stage1:\n",
    "            kind=\"Junior's Individual\"\n",
    "        elif 'EJ' in stage1:\n",
    "            kind=\"Junior's Team\"\n",
    "        elif 'EF' in stage1:\n",
    "            kind=\"Men's Team\"\n",
    "        elif 'ES' in stage1:\n",
    "            kind=\"Senior's Team\"\n",
    "            \n",
    "        if 'individual masculin.' in stage0:\n",
    "            kind=\"Men's Individual\"\n",
    "        if 'echipe.' in stage0:\n",
    "            kind=\"Mixed Team\"\n",
    "        if 'individual juniori' in stage0:\n",
    "            kind=\"Junior's Team\"\n",
    "        if 'individual feminin' in stage0:\n",
    "            kind=\"Junior's Team\"\n",
    "        if 'individual veterani' in stage0:\n",
    "            kind=\"Senior's Team\"\n",
    "        if 'male team' in stage0:\n",
    "            kind=\"Men's Team\"\n",
    "        if 'junior 1 individual' in stage0:\n",
    "            kind=\"Junior's Individual\"\n",
    "        if 'junior 2 individual' in stage0:\n",
    "            kind=\"Junior's Individual\"\n",
    "        \n",
    "    elif match=='F':\n",
    "        kind=\"Women's Individual\"\n",
    "    elif match=='M':\n",
    "        kind=\"Men's Individual\"\n",
    "    elif match=='J':\n",
    "        kind=\"Junior's Individual\"\n",
    "    elif match=='SF_s':\n",
    "        kind=\"Women's Individual\"\n",
    "    elif match=='SM_s':\n",
    "        kind=\"Men's Individual\"\n",
    "    elif match=='J_s':\n",
    "        kind=\"Junior's Individual\"\n",
    "    \n",
    "    if kind=='Unknown':\n",
    "        category='Unknown'\n",
    "        teams='Unknown'\n",
    "    else:\n",
    "        category=kind.split(' ')[0][:-2]\n",
    "        teams=kind.split(' ')[1]\n",
    "    if year<2014: \n",
    "        category=category.replace('Senior','Men')\n",
    "    if year in [2018]: \n",
    "        category=category.replace('Senior','Men')\n",
    "    return category,teams,phase"
   ]
  },
  {
   "cell_type": "markdown",
   "metadata": {},
   "source": [
    "Load names"
   ]
  },
  {
   "cell_type": "code",
   "execution_count": 86,
   "metadata": {},
   "outputs": [],
   "source": [
    "members=pd.read_csv('data/members_base.csv')"
   ]
  },
  {
   "cell_type": "code",
   "execution_count": 87,
   "metadata": {},
   "outputs": [
    {
     "data": {
      "text/html": [
       "<div>\n",
       "<style scoped>\n",
       "    .dataframe tbody tr th:only-of-type {\n",
       "        vertical-align: middle;\n",
       "    }\n",
       "\n",
       "    .dataframe tbody tr th {\n",
       "        vertical-align: top;\n",
       "    }\n",
       "\n",
       "    .dataframe thead th {\n",
       "        text-align: right;\n",
       "    }\n",
       "</style>\n",
       "<table border=\"1\" class=\"dataframe\">\n",
       "  <thead>\n",
       "    <tr style=\"text-align: right;\">\n",
       "      <th></th>\n",
       "      <th>Unnamed: 0</th>\n",
       "      <th>active</th>\n",
       "      <th>age</th>\n",
       "      <th>birth</th>\n",
       "      <th>club</th>\n",
       "      <th>dan</th>\n",
       "      <th>ekf</th>\n",
       "      <th>gen</th>\n",
       "      <th>name</th>\n",
       "      <th>pretty_club</th>\n",
       "      <th>year</th>\n",
       "    </tr>\n",
       "  </thead>\n",
       "  <tbody>\n",
       "    <tr>\n",
       "      <th>0</th>\n",
       "      <td>0</td>\n",
       "      <td>Activ</td>\n",
       "      <td>23.0</td>\n",
       "      <td>1991-12-27</td>\n",
       "      <td>TAI</td>\n",
       "      <td>1</td>\n",
       "      <td>RO.00205</td>\n",
       "      <td>M</td>\n",
       "      <td>Abrudan Dorin-Ștefan</td>\n",
       "      <td>Taiken</td>\n",
       "      <td>2015</td>\n",
       "    </tr>\n",
       "    <tr>\n",
       "      <th>1</th>\n",
       "      <td>1</td>\n",
       "      <td>Activ</td>\n",
       "      <td>34.0</td>\n",
       "      <td>1980-05-11</td>\n",
       "      <td>TAI</td>\n",
       "      <td>2</td>\n",
       "      <td>RO.00133</td>\n",
       "      <td>M</td>\n",
       "      <td>Alexa Ionel-Aliodor</td>\n",
       "      <td>Taiken</td>\n",
       "      <td>2015</td>\n",
       "    </tr>\n",
       "    <tr>\n",
       "      <th>2</th>\n",
       "      <td>2</td>\n",
       "      <td>Activ</td>\n",
       "      <td>29.0</td>\n",
       "      <td>1985-01-13</td>\n",
       "      <td>TAI</td>\n",
       "      <td>0</td>\n",
       "      <td>RO.00212</td>\n",
       "      <td>M</td>\n",
       "      <td>Caila Răducu-Ciprian</td>\n",
       "      <td>Taiken</td>\n",
       "      <td>2015</td>\n",
       "    </tr>\n",
       "    <tr>\n",
       "      <th>3</th>\n",
       "      <td>3</td>\n",
       "      <td>Activ</td>\n",
       "      <td>24.0</td>\n",
       "      <td>1990-02-05</td>\n",
       "      <td>TAI</td>\n",
       "      <td>2</td>\n",
       "      <td>RO.00152</td>\n",
       "      <td>F</td>\n",
       "      <td>Caliniuc Ionela</td>\n",
       "      <td>Taiken</td>\n",
       "      <td>2015</td>\n",
       "    </tr>\n",
       "    <tr>\n",
       "      <th>4</th>\n",
       "      <td>4</td>\n",
       "      <td>Inactiv</td>\n",
       "      <td>16.0</td>\n",
       "      <td>1998-06-03</td>\n",
       "      <td>TAI</td>\n",
       "      <td>0</td>\n",
       "      <td>RO.00191</td>\n",
       "      <td>M</td>\n",
       "      <td>Cristea Andrei</td>\n",
       "      <td>Taiken</td>\n",
       "      <td>2015</td>\n",
       "    </tr>\n",
       "  </tbody>\n",
       "</table>\n",
       "</div>"
      ],
      "text/plain": [
       "   Unnamed: 0   active   age       birth club  dan       ekf gen  \\\n",
       "0           0    Activ  23.0  1991-12-27  TAI    1  RO.00205   M   \n",
       "1           1    Activ  34.0  1980-05-11  TAI    2  RO.00133   M   \n",
       "2           2    Activ  29.0  1985-01-13  TAI    0  RO.00212   M   \n",
       "3           3    Activ  24.0  1990-02-05  TAI    2  RO.00152   F   \n",
       "4           4  Inactiv  16.0  1998-06-03  TAI    0  RO.00191   M   \n",
       "\n",
       "                   name pretty_club  year  \n",
       "0  Abrudan Dorin-Ștefan      Taiken  2015  \n",
       "1   Alexa Ionel-Aliodor      Taiken  2015  \n",
       "2  Caila Răducu-Ciprian      Taiken  2015  \n",
       "3       Caliniuc Ionela      Taiken  2015  \n",
       "4        Cristea Andrei      Taiken  2015  "
      ]
     },
     "execution_count": 87,
     "metadata": {},
     "output_type": "execute_result"
    }
   ],
   "source": [
    "members.head()"
   ]
  },
  {
   "cell_type": "code",
   "execution_count": 88,
   "metadata": {},
   "outputs": [],
   "source": [
    "name_exceptions={'Atanasovski':'Atanasovski A. (MAC)',\n",
    "                 'Dobrovicescu (SON)':'Dobrovicescu T. (SON)',\n",
    "                 'Ianăș':'Ianăș F.',\n",
    "                 'Crăciun (Tamang) Sujata':'Crăciun S.',\n",
    "                 'Crăciun (Tamang) Sujata':'Crăciun S.',\n",
    "                 'Dinu (Ioniță) Claudia-Andreea':'Dinu A.',\n",
    "                 'Arabadjiyski': 'Arabadjiyski A.',\n",
    "                 'Mandia':'Mandia F.',\n",
    "                 'Stanev':'Stanev A.',\n",
    "                 'Mochalov':'Mochalov O.',\n",
    "                 'Sozzi':'Sozzi A.',\n",
    "                 'Crăciunel':'Crăciunel I.',\n",
    "                 'Craciunel':'Crăciunel I.',\n",
    "                 'Sagaev':'Sagaev L.',\n",
    "                 'Buzás':'Búzás C.',\n",
    "                 'Csala':'Csala D.',\n",
    "                 'Dimitrov':'Dimitrov M.',\n",
    "                 'Józsa':'Józsa L.',\n",
    "                 'Creangă':'Creangă A.',\n",
    "                 'Duțescu':'Duțescu M.',                 \n",
    "                 'Furtună':'Furtună G.',\n",
    "                 'Gârbea':'Gârbea I.',\n",
    "                 'Stupu':'Stupu I.',\n",
    "                 'Mahika-Voiconi':'Mahika-Voiconi S.',\n",
    "                 'Mahika':'Mahika-Voiconi S.',\n",
    "                 'Stanciu':'Stanciu F.',\n",
    "                 'Vrânceanu':'Vrânceanu R.',\n",
    "                 'Wolfs':'Wolfs J.',\n",
    "                 'Ducarme':'Ducarme A.',\n",
    "                 'Sbârcea':'Sbârcea B.',\n",
    "                 'Mocian':'Mocian A.',\n",
    "                 'Hatvani':'Hatvani L.',\n",
    "                 'Dusan':'Dusan N.',\n",
    "                 'Borota':'Borota V.',\n",
    "                 'Tsushima':'Tsushima K.',\n",
    "                 'Tráser':'Tráser T.',\n",
    "                 'Colțea':'Colțea A.',\n",
    "                 'Brîcov':'Brîcov A.',\n",
    "                 'Yamamoto':'Yamamoto M.',\n",
    "                 'Crăciun':'Crăciun D.'}\n",
    "redflags_names=['-','—','—',np.nan,'. ()','— ','- -.','- -. (-)',\n",
    "                'Kashi','Sankon','București','Victorii:','Sakura','Taiken','Ikada','Sonkei','CRK','Museido',\n",
    "                'Ichimon','Bushi Tokukai 1','Competitori – Shiai-sha','Echipa - roşu','Numele şi prenumele',\n",
    "                'Victorii:','Victorii: 0','Victorii: 1','Victorii: 2','Victorii: 3','Victorii: 4',\n",
    "                'Victorii: 5','?','Kyobukan','2/5','2/6','3/8','Finala','Kyobukan (0/0/0)','―',\n",
    "                '(clasament final după meci de baraj)','CRK (Bucuresti)','Kaybukan','Isshin (Cluj)',\n",
    "                'Ikada (Bucureşti)','Kyobukan (Braşov)','Puncte:','KASHI','Budoshin','Isshin',\n",
    "                '— (—)','4. B.','4. Baraj: Stupu M - Hostina','4. Baraj: Moise KM - Korenschi M',\n",
    "               'Bushi Tokukai (2/8/17)','CRK 2 (1/6/14)', 'CRK 2','CRK 1','Loc I.:',\n",
    "               'Bushi Tokukai 2 (M Ciuc)','Echipa suport']\n",
    "redflags_names2=['Bushi Tokukai','Eliminatoriu','finala','Finala','Fianala','Ikada','Ichimon','Pool',\n",
    "                'Locul ','Lotul ','Loc ','Grupa ','Isshin','Meciul ','Victorii:']\n",
    "name_equals={'Chirea M.':'Chirea A.',\n",
    "            'Ghinet C.':'Ghineț C.',\n",
    "            'Domnița M.':'Domniță M.',\n",
    "            'Garbea I.':'Gârbea I.',\n",
    "            'Ah-hu W.':'Ah-hu S.',\n",
    "            'Horvát M.':'Horváth M.',\n",
    "            'Ionita A.':'Ioniță A.',\n",
    "            'Medvedschi I.':'Medvețchi I.',\n",
    "            'Mahika S.':'Mahika-Voiconi S.',\n",
    "            'Mate L.':'Máté L.',\n",
    "            'Hentea L.':'Hentea A.',\n",
    "            'Stupu I.':'Stupu A.',\n",
    "            'Ah-Hu S.':'Ah-hu S.',\n",
    "            'Alexa I.':'Alexa A.',\n",
    "            'Angelescu M.':'Angelescu M.',\n",
    "            'Apostu D.':'Apostu T.',\n",
    "            'Brâcov A.':'Brîcov A.',\n",
    "            'Catoriu D.':'Cantoriu D.',\n",
    "            'Călina A.':'Călina C.',\n",
    "            'Buzás C.':'Búzás C.',\n",
    "            'Korenshi E.':'Korenschi E.',\n",
    "            'Pleșa R.':'Pleșea R.',\n",
    "            'Galos A.':'Galoș A.',\n",
    "            'Győrfi G.':'Györfi G.',\n",
    "            'Győrfi S.':'Györfi S.',\n",
    "            'Ghineț G.':'Ghineț C.',\n",
    "            'Hostina E.':'Hoștină E.', \n",
    "            'Hostină E.':'Hoștină E.', \n",
    "            'Ianăs F.':'Ianăș F.',\n",
    "            'Ianas F.':'Ianăș F.',\n",
    "            'Lacatus M.':'Lăcătuș M.',\n",
    "            'Máthé L.':'Máté L.',\n",
    "            'Burinaru A.':'Burinaru Al.',\n",
    "            'Nastase M.':'Năstase E.',\n",
    "            'Oprisan A.':'Oprișan A.',\n",
    "            'Pârlea A.':'Pîrlea A.',\n",
    "            'Sabau D.':'Sabău D.',\n",
    "            'Spriu C.':'Spiru C.',\n",
    "            'Bíró S.':'Biró S.',\n",
    "            'Stănculascu C.':'Stănculescu C.',\n",
    "            'Vrânceanu M.': 'Vrânceanu L.',\n",
    "            'Wasicek V.':'Wasicheck W.',\n",
    "            'Wasicsec W.':'Wasicheck W.',\n",
    "            'Wasicsek W.':'Wasicheck W.',\n",
    "            'Zolfoghari A.':'Zolfaghari A.'}\n",
    "name_doubles={\n",
    "        'Cristea Cristina':'Cristea Cr.', \n",
    "        'Cristea Călin-Ștefan':'Cristea Că.',\n",
    "        'Sandu Marius-Cristian':'Sandu Mar.', \n",
    "        'Sandu Matei-Serban':'Sandu Mat.',\n",
    "        'Georgescu Andrei':'Georgescu An.', \n",
    "        'Georgescu Alexandra':'Georgescu Al.',\n",
    "        'Péter Csongor':'Péter Cso.', \n",
    "        'Péter Csanád':'Péter Csa.',\n",
    "        'Luca Mihnea':'Luca Mihn.', \n",
    "        'Luca Mihai-Cătălin':'Luca Miha.',\n",
    "        'Luca':'Luca Miha.',\n",
    "        'Luca M':'Luca Miha.',\n",
    "        'Luca M.':'Luca Miha.',\n",
    "        'Luca Mihai':'Luca Miha.',\n",
    "        'Luca Traian-Dan':'Luca Tr.', \n",
    "        'Luca Tudor':'Luca Tu.',\n",
    "        'Canceu Anamaria':'Canceu An.', \n",
    "        'Canceu Adriana-Maria':'Canceu Ad.',\n",
    "        'Cioată Daniel-Mihai':'Cioată M.', \n",
    "        'Cioată Dragoș':'Cioată D.',\n",
    "        'Burinaru Alexandra':'Burinaru Al.', \n",
    "        'Burinaru Andreea':'Burinaru An.',\n",
    "        'Dudaș Francisc Andrei':'Dudaș F.', \n",
    "        'Dudaș Francisc':'Dudaș F.'}\n",
    "\n",
    "letter_norm={'ţ':'ț','ş':'ș','Ş':'Ș'}\n",
    "def name_cleaner(name):\n",
    "    if name in name_doubles:\n",
    "        return name_doubles[name]\n",
    "    else:\n",
    "        for letter in letter_norm:\n",
    "            name=name.replace(letter,letter_norm[letter])\n",
    "        if name not in name_exceptions:\n",
    "            nc=name.replace('  ',' ').split('(')    \n",
    "        else:\n",
    "            nc=name_exceptions[name].split('(')\n",
    "        rname=nc[0].strip()\n",
    "        rnames=rname.split(' ')\n",
    "        sname=rnames[0]+' '+rnames[1][0]+'.'\n",
    "        if sname in name_equals:\n",
    "            sname=name_equals[sname]\n",
    "\n",
    "        if sname in name_doubles:\n",
    "            print(name,sname)\n",
    "            return sname\n",
    "        else:    \n",
    "            return sname"
   ]
  },
  {
   "cell_type": "code",
   "execution_count": 89,
   "metadata": {},
   "outputs": [],
   "source": [
    "def name_ok(name):\n",
    "    if name==np.nan: return False\n",
    "    if str(name)=='nan': return False\n",
    "    if name not in redflags_names:\n",
    "        if np.array([i not in name for i in redflags_names2]).all():\n",
    "            return True\n",
    "    return False"
   ]
  },
  {
   "cell_type": "markdown",
   "metadata": {},
   "source": [
    "Standardize names"
   ]
  },
  {
   "cell_type": "code",
   "execution_count": 90,
   "metadata": {},
   "outputs": [],
   "source": [
    "all_players={}\n",
    "all_players_r={}\n",
    "all_players_unsorted=set()\n",
    "for year in matches:\n",
    "    for competition in matches[year]:\n",
    "        for match in matches[year][competition]:\n",
    "            for color in ['aka','shiro']:\n",
    "                name=match[color]['name']\n",
    "                all_players_unsorted.add(name)\n",
    "                if name_ok(name):\n",
    "                    name=name_cleaner(name)\n",
    "                    rname=match[color]['name']\n",
    "                    if rname not in all_players_r:all_players_r[rname]=name\n",
    "                    if name not in all_players: all_players[name]={}\n",
    "                    if year not in all_players[name]:all_players[name][year]={'names':set()}\n",
    "                    all_players[name][year]['names'].add(rname)"
   ]
  },
  {
   "cell_type": "code",
   "execution_count": 91,
   "metadata": {},
   "outputs": [],
   "source": [
    "name_linker={}\n",
    "for i in members.index:\n",
    "    name=members.loc[i]['name']\n",
    "    try:\n",
    "        cname=name_cleaner(name)\n",
    "    except:\n",
    "        print(name)\n",
    "    if cname not in name_linker:name_linker[cname]=set()\n",
    "    name_linker[cname].add(name)"
   ]
  },
  {
   "cell_type": "code",
   "execution_count": 92,
   "metadata": {},
   "outputs": [
    {
     "name": "stdout",
     "output_type": "stream",
     "text": [
      "Dudaș F. {'Dudaș Francisc Andrei', 'Dudaș Francisc'}\n"
     ]
    }
   ],
   "source": [
    "names_abbr={}\n",
    "for name in name_linker:\n",
    "    if len(name_linker[name])>1:\n",
    "        #only for dev to create exceptions for duplicate person names.\n",
    "        print(name,name_linker[name])\n",
    "    for i in name_linker[name]:\n",
    "        names_abbr[i]=name"
   ]
  },
  {
   "cell_type": "code",
   "execution_count": 93,
   "metadata": {},
   "outputs": [],
   "source": [
    "names_abbr_list=[]\n",
    "name_abbr2long={}\n",
    "name_abbr2club={}\n",
    "for i in members.index:\n",
    "    name=members.loc[i]['name']\n",
    "    club=members.loc[i]['club']\n",
    "    year=members.loc[i]['year']\n",
    "    names_abbr_list.append(names_abbr[name])\n",
    "    name_abbr2long[names_abbr[name]]=name\n",
    "    if names_abbr[name] not in name_abbr2club:name_abbr2club[names_abbr[name]]={}\n",
    "    name_abbr2club[names_abbr[name]][year]=club"
   ]
  },
  {
   "cell_type": "code",
   "execution_count": 94,
   "metadata": {},
   "outputs": [],
   "source": [
    "members['name_abbr']=names_abbr_list"
   ]
  },
  {
   "cell_type": "code",
   "execution_count": 95,
   "metadata": {},
   "outputs": [],
   "source": [
    "all_shinpan={}\n",
    "all_shinpan_r={}\n",
    "all_shinpan_unsorted=set()\n",
    "for year in matches:\n",
    "    for competition in matches[year]:\n",
    "        for match in matches[year][competition]:\n",
    "            if 'shinpan' in match:\n",
    "                for color in ['fukushin1','shushin','fukushin2']:\n",
    "                    aka=match['aka']['name']\n",
    "                    shiro=match['shiro']['name']\n",
    "                    if (name_ok(aka)) and\\\n",
    "                       (name_ok(shiro)) and\\\n",
    "                       (name_cleaner(aka) in all_players) and\\\n",
    "                       (name_cleaner(shiro) in all_players):\n",
    "                        rname=match['shinpan'][color]\n",
    "                        all_shinpan_unsorted.add(rname)\n",
    "                        if name_ok(rname):\n",
    "                            name=name_cleaner(rname)\n",
    "                            if name not in all_shinpan: all_shinpan[name]=[] \n",
    "                            all_shinpan[name].append(match)\n",
    "                            if rname not in all_shinpan_r:all_shinpan_r[rname]=name"
   ]
  },
  {
   "cell_type": "code",
   "execution_count": 96,
   "metadata": {},
   "outputs": [],
   "source": [
    "name_abbr2long_extends={\n",
    "    'Ishikubo S.':'Ishikubo Shinichi',\n",
    "    'Yamamoto M.':'Yamamoto M.',\n",
    "    'Wolfs J.':'Wolfs Jan Claude',\n",
    "    'Tsushima K.':'Tsushima Kanji',\n",
    "    'Ducarme A.':'Ducarme Alain',\n",
    "    'Tráser T.':'Tráser Tamás',\n",
    "    'Borota B.':'Borota B.',\n",
    "    'Arabadjiyski A.':'Arabadjiyski Alexandar',\n",
    "    'Csala T.':'Csala Tibor',\n",
    "    'Sagaev L.':'Sagaev Lubomir',\n",
    "    'Hatvani L.':'Hatvani Lóránt',\n",
    "    'Dusan N.':'Dusan N',\n",
    "    'Borota V.':'Borota Vladimir',\n",
    "    'Mandia F.':'Mandia Fabrizio',\n",
    "    'Stanev A.':'Stanev A.',\n",
    "    'Mochalov O.':'Mochalov O.',\n",
    "    'Sozzi A.':'Sozzi A.',\n",
    "    'Dimitrov M.':'Dimitrov M.'\n",
    "}    \n",
    "for i in all_shinpan.keys():\n",
    "    if i not in name_abbr2long:\n",
    "        name_abbr2long[i]=name_abbr2long_extends[i]"
   ]
  },
  {
   "cell_type": "markdown",
   "metadata": {},
   "source": [
    "Infer clubs"
   ]
  },
  {
   "cell_type": "code",
   "execution_count": 97,
   "metadata": {},
   "outputs": [],
   "source": [
    "#naive infer\n",
    "redflags_clubs=['','N/A','RO1','RO2']\n",
    "club_equals={'MLD':'MOL/Md',\n",
    "             'MOL':'MOL/Md',\n",
    "             'IKD':'IKA',\n",
    "             'HUN':'HUN/Hu',\n",
    "             'BUL':'BUL/Bg',\n",
    "             'TUR':'TUR/Tr',\n",
    "             'MAC':'MAC/Mc',\n",
    "             'MNE':'MNE/Mn',\n",
    "             'SRB':'SRB/Sr',\n",
    "             'ITA':'ITA/It',\n",
    "             'ISS':'ISH',\n",
    "             'Musso, Bg':'MUS/Bg',\n",
    "             'Makoto, Sr':'MAK/Sr',\n",
    "             'Szeged, Hu':'SZE/Hu'}\n",
    "for name in all_players:\n",
    "    for year in all_players[name]:\n",
    "        for name_form in all_players[name][year]['names']:\n",
    "            if '(' in name_form:\n",
    "                club=name_form.split('(')[1].strip()[:-1]\n",
    "                if club in club_equals: club=club_equals[club]\n",
    "                if club not in redflags_clubs:\n",
    "                    all_players[name][year]['club']=club"
   ]
  },
  {
   "cell_type": "code",
   "execution_count": 98,
   "metadata": {},
   "outputs": [],
   "source": [
    "for name in all_players:\n",
    "    for year in all_players[name]:\n",
    "        if 'club' not in all_players[name][year]:\n",
    "            #more than 1 year?\n",
    "            years=np.sort(list(all_players[name].keys()))\n",
    "            if len(years)>1:\n",
    "                #get club from previous year\n",
    "                for y in range(years[0],year):\n",
    "                    if y in all_players[name]:\n",
    "                        if 'club' in all_players[name][y]:\n",
    "                            all_players[name][year]['club']=all_players[name][y]['club']\n",
    "                #if still not found, get club from next year\n",
    "                if 'club' not in all_players[name][year]:\n",
    "                    #get club from next year\n",
    "                    for y in np.arange(years[-1],year,-1):\n",
    "                        if y in all_players[name]:\n",
    "                            if 'club' in all_players[name][y]:\n",
    "                                all_players[name][year]['club']=all_players[name][y]['club']"
   ]
  },
  {
   "cell_type": "code",
   "execution_count": 99,
   "metadata": {},
   "outputs": [
    {
     "name": "stdout",
     "output_type": "stream",
     "text": [
      "Benedek L. Benedek Laszlo\n",
      "Illyés A. Illyés Attila\n",
      "Leat M. Leat Mihaela\n",
      "Preda A. Preda Alexandru\n",
      "Salló Z. Salló Zoltán\n",
      "Alexandrescu N. Alexandrescu Nic.\n",
      "Macavei A. Macavei Aurel\n",
      "Grossu D. Grossu Dragos\n",
      "Rotaru V. Rotaru V.\n",
      "Macavei I. Macavei I.\n",
      "Nagy V. Nagy Vlad\n",
      "Neagu F. Neagu Florenţa\n",
      "Mehelean L. Mehelean Ligia\n",
      "Dumbravă L. Dumbravă Lucian\n",
      "Bódi Z. Bódi Zsolt\n",
      "Bumbu D. Bumbu Dorin\n",
      "Botean A. Botean Adrian-Ioan\n",
      "Xantopol C. Xantopol Claudiu\n",
      "Jeszenszki T. Jeszenszki Tamás\n",
      "Moldoveanu M. Moldoveanu  Mihai\n",
      "Balázs S. Balázs Sándor\n",
      "Perdi L. Perdi Levente\n",
      "Pienaru S. Pienaru Sorin\n",
      "Bojan V. Bojan Vladimir\n",
      "Iordan R. Iordan Relu\n",
      "Constantinescu A. Constantinescu Andrei\n",
      "Nechifor C. Nechifor Cristian\n",
      "Chiric D. Chiric Dragoș\n",
      "Zinculescu T. Zinculescu Tiberiu\n",
      "Cerneavschi A. Cerneavschi Adrian\n",
      "Oprișan A. Oprişan Alexandru\n",
      "Cerchez I. Cerchez Iuliana\n",
      "Ștefan C. Ștefan Cristina\n",
      "Blaj V. Blaj Valentin\n",
      "Sandache I. Sandache Ionuţ\n",
      "Bojan I. Bojan Ioachim\n",
      "Leca F. Leca Florin\n",
      "Pall D. Pall David\n",
      "Zolfaghari A. Zolfoghari Anahita\n",
      "Ionescu I. Ionescu Ilinca\n",
      "Crișan E. Crişan Eugen\n",
      "Zainea I. Zainea Ionuţ\n",
      "Dițu A. Dițu A.\n",
      "Andrei O. Andrei Ovidiu\n",
      "Cristea C. Cristea Călin\n",
      "Bărbulescu E. Bărbulescu Eduard\n",
      "Turdean S. Turdean Sergiu\n",
      "Georgescu B. Georgescu Bogdan\n",
      "Georgescu R. Georgescu Radu\n",
      "Wasicheck W. Wasicheck Werner\n",
      "Martin M. Martin Mihai\n",
      "Georgescu A. Georgescu A.\n",
      "Constantina A. Constantina Alexandru\n",
      "Keresztes M. Keresztes Mátyás\n",
      "Galoș A. Galoş Alin\n",
      "Albert V. Albert V.\n",
      "Lăcătuș M. Lăcătuş Mihai\n",
      "Leca L. Leca Lorin\n",
      "Pavel A. Pavel Alexandra\n",
      "Parlea A. Parlea Andrei\n",
      "Crețiu M. Crețiu Matei\n",
      "Crețiu T. Crețiu Tudor\n",
      "Sânpetru R. Sânpetru Raul\n",
      "Zaporojan R. Zaporojan Radu Ovidiu\n",
      "Moldoveanu A. Moldoveanu Alexandru\n",
      "Szikszai M. Szikszai Mihály\n",
      "Moise T. Moise Tudor\n",
      "Chiper I. Chiper Ioan\n",
      "Ștefu L. Ștefu Laurențiu\n",
      "Mitelea C. Mitelea Călin\n",
      "Cosma F. Cosma Florin\n",
      "Tiron L. Tiron Laurenţiu\n",
      "Pîrlea A. Pîrlea Andrei Daniel\n",
      "Ungureanu A. Ungureanu Alexandru Cătălin\n",
      "Canceu A. Canceu Adriana\n",
      "Duicu T. Duicu Tudor\n",
      "Jianu A. Jianu Alexandru\n",
      "Tamang S. Tamang Sujata\n",
      "Bonta T. Bonta Tudor\n",
      "Sandu M. Sandu Marius\n",
      "Luca T. Luca Traian\n",
      "Angelescu M. Angelescu Marcel\n",
      "Ioniță A. Ioniță Andreea\n",
      "Măgirdicean R. Măgirdicean Răzvan Ionuț\n",
      "Tudor-Duicu C. Tudor-Duicu Cătălin\n",
      "Hassan D. Hassan Dariush\n",
      "Vasile C. Vasile Codrin\n",
      "Constantin D. Constantin Doru\n",
      "Medvețchi I. Medvedschi I.\n",
      "Oncea V. Oncea Vitalie\n",
      "Ulinici A. Ulinici Andrian\n",
      "Soloviov M. Soloviov M.\n",
      "Guțu E. Guţu Eugeniu\n",
      "Pantaz A. Pantaz Alexandru\n",
      "Sidelnicov I. Sidelnicov Iulii\n",
      "Kim A. Kim Alexei\n",
      "Zugravu G. Zugravu Gheorghe\n",
      "Dudca I. Dudca Ion\n",
      "Nastasiu A. Nastasiu Anatol\n",
      "Grigoraș L. Grigoraș L.\n",
      "Péter C. Péter C.\n",
      "Jovanović D. Jovanović D.\n",
      "Dolan S. Dolan S.\n",
      "Novakovic A. Novakovic A.\n",
      "Demircioglu B. Demircioglu B.\n",
      "Jeličić M. Jeličić M.\n",
      "Aydogdu C. Aydogdu C.\n",
      "Savić S. Savić S.\n",
      "Tekelioglu B. Tekelioglu B.\n",
      "Nikolić D. Nikolić D.\n",
      "Engin C. Engin C.\n",
      "Ivanov A. Ivanov A.\n",
      "Nikolaev N. Nikolaev Nikolay\n",
      "Jović M. Jović M.\n",
      "Jovanović A. Jovanović A.\n",
      "Kurtulus E. Kurtulus E.\n",
      "Sljivancanin M. Sljivancanin M.\n",
      "Keskovski V. Keskovski V.\n",
      "Petricevic D. Petricevic D.\n",
      "Ivanovski M. Ivanovski M.\n",
      "Andrijasevic M. Andrijasevic M.\n",
      "Petreski A. Petreski A.\n",
      "Vucinic A. Vucinic A.\n",
      "Atanasovski A. Atanasovski A.\n",
      "Djuraskovic D. Djuraskovic D.\n",
      "Keskovski Z. Keskovski Z.\n",
      "Petrovski G. Petrovski G.\n",
      "Ivancevic M. Ivancevic M.\n",
      "Kabaktchiev G. Kabaktchiev Georgi\n",
      "Vodenicharov K. Vodenicharov Kostadin\n",
      "Molinger B. Molinger Bogdan\n",
      "Movatz E. Movatz E.\n",
      "Taralunga D. Taralunga D.\n",
      "Țarălungă D. Țarălungă D.\n",
      "Dinu C. Dinu C.\n",
      "Murat I. Murat I.\n",
      "Madzharova B. Madzharova B.\n",
      "Kasnakova D. Kasnakova D.\n",
      "Hadjieva R. Hadjieva R.\n",
      "Miglena H. Miglena H.\n",
      "Ivanov K. Ivanov K.\n",
      "Krastev I. Krastev I.\n",
      "Gutu E. Gutu E.\n",
      "Markov Y. Markov Y.\n"
     ]
    }
   ],
   "source": [
    "for name in all_players:\n",
    "    if name not in name_abbr2long:\n",
    "        #infer using longest available name\n",
    "        names={len(j):j  for i in all_players[name] for j in all_players[name][i]['names']}\n",
    "        if len(names)>0:\n",
    "            inferred_name=names[max(names.keys())]\n",
    "            if '(' in inferred_name:\n",
    "                inferred_name=inferred_name[:inferred_name.find('(')-1]\n",
    "            print(name,inferred_name)\n",
    "            name_abbr2long[name]=inferred_name\n",
    "        else:\n",
    "            print(name,all_players[name])"
   ]
  },
  {
   "cell_type": "code",
   "execution_count": 100,
   "metadata": {},
   "outputs": [],
   "source": [
    "for name in all_players:\n",
    "    years=np.sort(list(all_players[name].keys()))\n",
    "    for year in all_players[name]:\n",
    "        if 'club' not in all_players[name][year]:\n",
    "            #get from list\n",
    "            if name in name_abbr2club:\n",
    "                minyear=min(name_abbr2club[name].keys())\n",
    "                if year in name_abbr2club[name]:\n",
    "                    all_players[name][year]['club']=name_abbr2club[name][year]\n",
    "                elif year<minyear:\n",
    "                    all_players[name][year]['club']=name_abbr2club[name][minyear]\n",
    "            elif len(years)>1:\n",
    "                #get club from previous year\n",
    "                for y in range(years[0],year):\n",
    "                    if y in all_players[name]:\n",
    "                        if 'club' in all_players[name][y]:\n",
    "                            all_players[name][year]['club']=all_players[name][y]['club']\n",
    "                #if still not found, get club from next year\n",
    "                if 'club' not in all_players[name][year]:\n",
    "                    #get club from next year\n",
    "                    for y in np.arange(years[-1],year,-1):\n",
    "                        if y in all_players[name]:\n",
    "                            if 'club' in all_players[name][y]:\n",
    "                                all_players[name][year]['club']=all_players[name][y]['club']"
   ]
  },
  {
   "cell_type": "markdown",
   "metadata": {},
   "source": [
    "Interpolate missing years for members"
   ]
  },
  {
   "cell_type": "code",
   "execution_count": 101,
   "metadata": {},
   "outputs": [],
   "source": [
    "clubs_manual={\n",
    "            'Balázs-Kercsó Z.':'BTK',\n",
    "            'Nagy V.':'ISH',\n",
    "            'Goró L.':'BTK',\n",
    "            'Ghineț G.':'YUK',\n",
    "            'Cioată E.':'KAS',\n",
    "            'Leat M.':'IKA',\n",
    "            'Perianu S.':'KNS',\n",
    "            'Ah-hu S.':'ICH',\n",
    "            'Preda A.':'CRK',\n",
    "            'Salló Z.':'BTK',\n",
    "            'András Z.':'BTK',\n",
    "            'Neagu F.':'IKA',\n",
    "            'Bódi Z.':'KYO',\n",
    "            'Bumbu D.':'ISH',\n",
    "            'Botean A.':'ISH',\n",
    "            'Moldoveanu M.':'ISH',\n",
    "            'Jeszenszki T.':'BTK',\n",
    "            'Suru N.':'SAM',\n",
    "            'Balázs S.':'BTK',\n",
    "            'Perdi L.':'ISH',\n",
    "            'Oprișan A.':'IKA',\n",
    "            'Horváth D.':'BTK',\n",
    "            'Sandache I.':'BTK',\n",
    "            'Moise T.':'KAY',\n",
    "            'Angelescu M.':'SAM',\n",
    "            'Bărbulescu E.':'MUS',\n",
    "            'Canceu A.':'KAS',\n",
    "            'Crișan E.':'ISH',\n",
    "            'Duicu T.':'KAS',\n",
    "            'Dumbravă L.':'ISH',\n",
    "            'Iordan R.':'IKA',\n",
    "            'Jianu A.':'MUS',\n",
    "            'Keresztes M.':'BTK',\n",
    "            'Macavei I.':'KYO',\n",
    "            'Mitelea C.':'ICH',\n",
    "            'Pavel A.':'IKA',\n",
    "            'Pienaru S.':'ISH',\n",
    "            'Szikszai M.':'BTK',\n",
    "            'Tamang S.':'SAM',\n",
    "            'Tiron L.':'KNS',\n",
    "            'Turdean S.':'KAS',\n",
    "            'Wasicheck W.':'ISH',\n",
    "            'Ștefan C.':'IKA'\n",
    "}"
   ]
  },
  {
   "cell_type": "code",
   "execution_count": 102,
   "metadata": {},
   "outputs": [],
   "source": [
    "club_errors=[]\n",
    "for name in all_players:\n",
    "    for year in all_players[name]:\n",
    "        if 'club' not in all_players[name][year]:\n",
    "            #if still not found, print error, infer other way\n",
    "            if name in clubs_manual:\n",
    "                all_players[name][year]['club']=clubs_manual[name]\n",
    "            else:\n",
    "                all_players[name][year]['club']='XXX'\n",
    "                club_errors.append(name)"
   ]
  },
  {
   "cell_type": "code",
   "execution_count": 103,
   "metadata": {},
   "outputs": [
    {
     "data": {
      "text/plain": [
       "{'Albert V.',\n",
       " 'Alexandrescu N.',\n",
       " 'Andrei O.',\n",
       " 'Blaj V.',\n",
       " 'Bonta T.',\n",
       " 'Cerchez I.',\n",
       " 'Cerneavschi A.',\n",
       " 'Chiper I.',\n",
       " 'Chiric D.',\n",
       " 'Constantin D.',\n",
       " 'Constantina A.',\n",
       " 'Constantinescu A.',\n",
       " 'Cosma F.',\n",
       " 'Crețiu M.',\n",
       " 'Crețiu T.',\n",
       " 'Galoș A.',\n",
       " 'Georgescu B.',\n",
       " 'Georgescu R.',\n",
       " 'Grossu D.',\n",
       " 'Hassan D.',\n",
       " 'Ionescu I.',\n",
       " 'Lăcătuș M.',\n",
       " 'Macavei A.',\n",
       " 'Martin M.',\n",
       " 'Mehelean L.',\n",
       " 'Moldoveanu A.',\n",
       " 'Nechifor C.',\n",
       " 'Parlea A.',\n",
       " 'Pîrlea A.',\n",
       " 'Rotaru V.',\n",
       " 'Sânpetru R.',\n",
       " 'Ungureanu A.',\n",
       " 'Xantopol C.',\n",
       " 'Zainea I.',\n",
       " 'Zinculescu T.',\n",
       " 'Zolfaghari A.'}"
      ]
     },
     "execution_count": 103,
     "metadata": {},
     "output_type": "execute_result"
    }
   ],
   "source": [
    "set(club_errors)"
   ]
  },
  {
   "cell_type": "code",
   "execution_count": 104,
   "metadata": {},
   "outputs": [],
   "source": [
    "clubs={}\n",
    "for name in all_players:\n",
    "    for year in all_players[name]:\n",
    "        club=all_players[name][year]['club'] \n",
    "        if club not in clubs:clubs[club]={}\n",
    "        if year not in clubs[club]:clubs[club][year]=set()\n",
    "        clubs[club][year].add(name)"
   ]
  },
  {
   "cell_type": "code",
   "execution_count": 105,
   "metadata": {},
   "outputs": [],
   "source": [
    "def outcome_cleaner(outcome):\n",
    "    if outcome=='E': return True\n",
    "    else: return False"
   ]
  },
  {
   "cell_type": "code",
   "execution_count": 106,
   "metadata": {},
   "outputs": [],
   "source": [
    "def outcome_from_points(aka,shiro):\n",
    "    if aka==shiro: return 'X',0\n",
    "    elif aka>shiro: return 'A',str(aka-shiro)\n",
    "    else: return 'S',str(shiro-aka)"
   ]
  },
  {
   "cell_type": "code",
   "execution_count": 107,
   "metadata": {},
   "outputs": [],
   "source": [
    "redflags_points=['Puncte']\n",
    "def point_clean1(point):\n",
    "    return point.replace('○','O').replace('I','H').replace('×','')\\\n",
    "            .replace('–','').replace('1','O').replace('—','').replace('?','')\n",
    "def points_cleaner(points):\n",
    "    hansoku=0\n",
    "    if '∆' in points:\n",
    "        hansoku=1\n",
    "        points=points.replace('∆','')\n",
    "    if '▲' in points:\n",
    "        hansoku=1\n",
    "        points=points.replace('▲','')\n",
    "    if '(Ht)' in points:\n",
    "        hansoku=1\n",
    "        points=points.replace('(Ht)','')\n",
    "    if '(victorie)' in points:\n",
    "        points=points.replace('(victorie)','OO')\n",
    "    points=points.strip()\n",
    "    if len(points)>2:\n",
    "        print(points,'error')\n",
    "    elif len(points)>1:\n",
    "        point1=points[0]\n",
    "        point2=points[1]\n",
    "    elif len(points)>0:\n",
    "        point1=points[0]\n",
    "        point2=''\n",
    "    else:\n",
    "        point1=''\n",
    "        point2=''\n",
    "    point1=point_clean1(point1)\n",
    "    point2=point_clean1(point2)\n",
    "    return point1,point2,len(points),hansoku"
   ]
  },
  {
   "cell_type": "code",
   "execution_count": 108,
   "metadata": {},
   "outputs": [],
   "source": [
    "def club_cleaner(club):\n",
    "    if '/' in club:\n",
    "        return club.split('/')[0],club.split('/')[1].upper()\n",
    "    else:\n",
    "        return club,'RO'"
   ]
  },
  {
   "cell_type": "code",
   "execution_count": 109,
   "metadata": {},
   "outputs": [],
   "source": [
    "pretty_clubs={'ARA':'Arashi', 'BSD':'Bushido', 'BTK':'Bushi Tokukai', 'BG':'Bulgaria',\n",
    "              'CDO':'Coroan de Oțel', 'CRK':'Clubul Român de Kendo', 'HAR':'Hargita', \n",
    "              'ICH':'Ichimon', 'IKA':'Ikada','ISH':'Ishhin', 'IT':'Italy','HU':'Hungary',\n",
    "              'KAS':'Kashi', 'KNS':'Kenshin', 'KYO':'Kyobukan', 'MC':'Macedonia',\n",
    "              'SR':'Serbia', 'MN':'Montenegro', 'MD':'Moldova', 'MUS':'Museido', \n",
    "               'RON':'Ronin-do', 'SAK':'Sakura', 'SAM':'Sam-sho','SAN':'Sankon', 'SBK':'Sobukan',\n",
    "               'SON':'Sonkei', 'SR':'Serbia', 'TAI':'Taiken', 'TR':'Turkey', 'XXX':'Unknown',\n",
    "               'YUK':'Yu-kai','KAY':'Kaybukan'}\n",
    "def pretty_club(club, country):\n",
    "    if country!='RO':\n",
    "        return pretty_clubs[country]\n",
    "    else: return pretty_clubs[club]"
   ]
  },
  {
   "cell_type": "code",
   "execution_count": 110,
   "metadata": {},
   "outputs": [],
   "source": [
    "unregistered_members=[]\n",
    "for name in all_players:\n",
    "    if name not in set(members['name_abbr'].values):\n",
    "        years=np.sort(list(all_players[name].keys()))\n",
    "        for year in range(min(years),max(years)+1):\n",
    "            if year in all_players[name]:\n",
    "                iyear=year\n",
    "            else:\n",
    "                iyear=max(years)\n",
    "            club,country=club_cleaner(all_players[name][iyear]['club'])\n",
    "            if country=='RO':\n",
    "                activ='Inactiv'\n",
    "                dan=0\n",
    "            else:\n",
    "                activ=''\n",
    "                dan=''\n",
    "            unregistered_members.append({'name':name_abbr2long[name],\n",
    "                    'club':club,'active':activ,'year':year,'dan':dan,'country':country,\n",
    "                    'pretty_club':pretty_club(club,country)})"
   ]
  },
  {
   "cell_type": "code",
   "execution_count": 111,
   "metadata": {},
   "outputs": [],
   "source": [
    "members['country']='RO'"
   ]
  },
  {
   "cell_type": "code",
   "execution_count": 112,
   "metadata": {},
   "outputs": [
    {
     "name": "stderr",
     "output_type": "stream",
     "text": [
      "C:\\Users\\csala\\AppData\\Local\\Continuum\\anaconda2\\envs\\python3\\lib\\site-packages\\ipykernel_launcher.py:1: FutureWarning: Sorting because non-concatenation axis is not aligned. A future version\n",
      "of pandas will change to not sort by default.\n",
      "\n",
      "To accept the future behavior, pass 'sort=False'.\n",
      "\n",
      "To retain the current behavior and silence the warning, pass 'sort=True'.\n",
      "\n",
      "  \"\"\"Entry point for launching an IPython kernel.\n"
     ]
    }
   ],
   "source": [
    "members2=pd.concat([members,pd.DataFrame(unregistered_members)])"
   ]
  },
  {
   "cell_type": "markdown",
   "metadata": {},
   "source": [
    "Appears in competition but Mu DAN"
   ]
  },
  {
   "cell_type": "code",
   "execution_count": 113,
   "metadata": {},
   "outputs": [
    {
     "name": "stdout",
     "output_type": "stream",
     "text": [
      "2009 CN\n",
      "2009 CR\n",
      "2010 CR\n",
      "2010 CN\n",
      "2011 CN\n",
      "2011 CR\n",
      "2012 CN\n",
      "2012 CR\n",
      "2013 CN\n",
      "2013 CR\n",
      "2013 SL\n",
      "2014 SL\n",
      "2014 CR\n",
      "2014 CN\n",
      "2015 SL\n",
      "2015 CN\n",
      "2015 CR\n",
      "2016 SL\n",
      "2016 CN\n",
      "2016 CR\n",
      "2017 CN\n",
      "2017 CR\n",
      "2017 SL\n",
      "2018 CR\n",
      "2018 SL\n",
      "2018 CN\n"
     ]
    }
   ],
   "source": [
    "members_mu_dan_extensions=[]\n",
    "members_by_name=members2.set_index(['name'])\n",
    "for year in matches:\n",
    "    members_by_year=members2.set_index(['year']).loc[year]\n",
    "    for competition in matches[year]:\n",
    "        print(year,competition)\n",
    "        for k in matches[year][competition]:\n",
    "            aka=k['aka']['name']\n",
    "            shiro=k['shiro']['name']\n",
    "            if (name_ok(aka)) and\\\n",
    "               (name_ok(shiro)) and\\\n",
    "               (name_cleaner(aka) in all_players) and\\\n",
    "               (name_cleaner(shiro) in all_players):\n",
    "                for a in ['aka','shiro']:\n",
    "                    for h in k[a]:\n",
    "                        if h=='name':\n",
    "                            name=k[a][h]\n",
    "                            rname=name_abbr2long[all_players_r[name]]\n",
    "                            if rname not in members_by_year['name'].values:\n",
    "                                dummy=members_by_name.loc[[rname]]\n",
    "                                dummy=dummy[dummy['year']==min(dummy['year'])]\n",
    "                                dummy=dummy.reset_index()\n",
    "                                dummy['year']=year\n",
    "                                members_mu_dan_extensions.append(dummy)"
   ]
  },
  {
   "cell_type": "code",
   "execution_count": 114,
   "metadata": {},
   "outputs": [
    {
     "name": "stderr",
     "output_type": "stream",
     "text": [
      "C:\\Users\\csala\\AppData\\Local\\Continuum\\anaconda2\\envs\\python3\\lib\\site-packages\\ipykernel_launcher.py:1: FutureWarning: Sorting because non-concatenation axis is not aligned. A future version\n",
      "of pandas will change to not sort by default.\n",
      "\n",
      "To accept the future behavior, pass 'sort=False'.\n",
      "\n",
      "To retain the current behavior and silence the warning, pass 'sort=True'.\n",
      "\n",
      "  \"\"\"Entry point for launching an IPython kernel.\n"
     ]
    }
   ],
   "source": [
    "members3=pd.concat([members2,pd.concat(members_mu_dan_extensions)])"
   ]
  },
  {
   "cell_type": "code",
   "execution_count": 115,
   "metadata": {},
   "outputs": [],
   "source": [
    "members3=members3.drop('Unnamed: 0',axis=1).drop_duplicates()"
   ]
  },
  {
   "cell_type": "code",
   "execution_count": 116,
   "metadata": {},
   "outputs": [],
   "source": [
    "members3.to_csv('data/members.csv')"
   ]
  },
  {
   "cell_type": "code",
   "execution_count": 117,
   "metadata": {},
   "outputs": [
    {
     "name": "stdout",
     "output_type": "stream",
     "text": [
      "2009 CN\n",
      "2009 CR\n",
      "2010 CR\n",
      "2010 CN\n",
      "2011 CN\n",
      "2011 CR\n",
      "2012 CN\n",
      "2012 CR\n",
      "2013 CN\n",
      "2013 CR\n",
      "2013 SL\n",
      "2014 SL\n",
      "2014 CR\n",
      "2014 CN\n",
      "2015 SL\n",
      "2015 CN\n",
      "2015 CR\n",
      "2016 SL\n",
      "2016 CN\n",
      "2016 CR\n",
      "2017 CN\n",
      "2017 CR\n",
      "2017 SL\n",
      "2018 CR\n",
      "2018 SL\n",
      "2018 CN\n"
     ]
    }
   ],
   "source": [
    "master_matches=[]\n",
    "for year in matches:\n",
    "    members_by_year=members3.set_index(['year']).loc[year].drop_duplicates()\n",
    "    for competition in matches[year]:\n",
    "        print(year,competition)\n",
    "        for k in matches[year][competition]:\n",
    "            good=True\n",
    "            match={'year':year,'competition':competition}\n",
    "            match['match_category'],match['match_teams'],match['match_phase']=match_cleaner(year,k['match_type'])\n",
    "            if 'shinpan' in k:\n",
    "                for color in ['fukushin1','shushin','fukushin2']:\n",
    "                    if color in k['shinpan']:\n",
    "                        if k['shinpan'][color] in all_shinpan_r:\n",
    "                            match[color]=name_abbr2long[all_shinpan_r[k['shinpan'][color]]]\n",
    "            aka=k['aka']['name']\n",
    "            shiro=k['shiro']['name']\n",
    "            if (name_ok(aka)) and\\\n",
    "               (name_ok(shiro)) and\\\n",
    "               (name_cleaner(aka) in all_players) and\\\n",
    "               (name_cleaner(shiro) in all_players):\n",
    "                for a in ['aka','shiro']:\n",
    "                    points=''\n",
    "                    for h in k[a]:\n",
    "                        if h=='name':\n",
    "                            name=k[a][h]\n",
    "                            match[a+' name']=name_abbr2long[all_players_r[name]]\n",
    "                            club, country=club_cleaner(all_players[all_players_r[name]][year]['club'])\n",
    "                            match[a+' club'], match[a+' country']=club, country\n",
    "                            match[a+' dan']=members_by_year.set_index(['name']).\\\n",
    "                                        loc[match[a+' name']]['dan']\n",
    "                                \n",
    "                            match[a+' pretty_club']=pretty_club(club, country)\n",
    "                        else:\n",
    "                            point=k[a][h]\n",
    "                            if str(point)=='nan': point=''\n",
    "                            points=points+point\n",
    "                    for redflag in redflags_points:\n",
    "                        if redflag in points:\n",
    "                            good=False\n",
    "                    if good:\n",
    "                        match[a+' point1'],match[a+' point2'],match[a+' points'],match[a+' hansoku']=points_cleaner(points)\n",
    "            else:\n",
    "                good=False                \n",
    "            if good:\n",
    "                if 'outcome' in k:\n",
    "                    match['encho']=outcome_cleaner(k['outcome'])\n",
    "                else: \n",
    "                    match['encho']=False\n",
    "                match['winner'],match['difference']=outcome_from_points(match['aka points'],match['shiro points'])\n",
    "\n",
    "                master_matches.append(match)"
   ]
  },
  {
   "cell_type": "code",
   "execution_count": 118,
   "metadata": {},
   "outputs": [],
   "source": [
    "data=pd.DataFrame(master_matches)"
   ]
  },
  {
   "cell_type": "markdown",
   "metadata": {},
   "source": [
    "Cleanup"
   ]
  },
  {
   "cell_type": "code",
   "execution_count": 119,
   "metadata": {},
   "outputs": [],
   "source": [
    "data['aka hansoku']=data['aka hansoku'].replace(0,'').replace(1,'Δ')\n",
    "data['shiro hansoku']=data['shiro hansoku'].replace(0,'').replace(1,'Δ')"
   ]
  },
  {
   "cell_type": "code",
   "execution_count": 120,
   "metadata": {},
   "outputs": [],
   "source": [
    "data.to_csv('data/matches.csv')"
   ]
  },
  {
   "cell_type": "markdown",
   "metadata": {},
   "source": [
    "Group by player"
   ]
  },
  {
   "cell_type": "code",
   "execution_count": 121,
   "metadata": {},
   "outputs": [
    {
     "name": "stderr",
     "output_type": "stream",
     "text": [
      "C:\\Users\\csala\\AppData\\Local\\Continuum\\anaconda2\\envs\\python3\\lib\\site-packages\\ipykernel_launcher.py:3: SettingWithCopyWarning: \n",
      "A value is trying to be set on a copy of a slice from a DataFrame.\n",
      "Try using .loc[row_indexer,col_indexer] = value instead\n",
      "\n",
      "See the caveats in the documentation: http://pandas.pydata.org/pandas-docs/stable/indexing.html#indexing-view-versus-copy\n",
      "  This is separate from the ipykernel package so we can avoid doing imports until\n",
      "C:\\Users\\csala\\AppData\\Local\\Continuum\\anaconda2\\envs\\python3\\lib\\site-packages\\ipykernel_launcher.py:4: SettingWithCopyWarning: \n",
      "A value is trying to be set on a copy of a slice from a DataFrame.\n",
      "Try using .loc[row_indexer,col_indexer] = value instead\n",
      "\n",
      "See the caveats in the documentation: http://pandas.pydata.org/pandas-docs/stable/indexing.html#indexing-view-versus-copy\n",
      "  after removing the cwd from sys.path.\n"
     ]
    }
   ],
   "source": [
    "aka=data[[i for i in data.columns if 'shiro ' not in i]]\n",
    "aka.columns=[i.replace('aka ','') for i in aka.columns]\n",
    "aka['color']='aka'\n",
    "aka['opponent']=data['shiro name']"
   ]
  },
  {
   "cell_type": "code",
   "execution_count": 122,
   "metadata": {},
   "outputs": [
    {
     "name": "stderr",
     "output_type": "stream",
     "text": [
      "C:\\Users\\csala\\AppData\\Local\\Continuum\\anaconda2\\envs\\python3\\lib\\site-packages\\ipykernel_launcher.py:3: SettingWithCopyWarning: \n",
      "A value is trying to be set on a copy of a slice from a DataFrame.\n",
      "Try using .loc[row_indexer,col_indexer] = value instead\n",
      "\n",
      "See the caveats in the documentation: http://pandas.pydata.org/pandas-docs/stable/indexing.html#indexing-view-versus-copy\n",
      "  This is separate from the ipykernel package so we can avoid doing imports until\n",
      "C:\\Users\\csala\\AppData\\Local\\Continuum\\anaconda2\\envs\\python3\\lib\\site-packages\\ipykernel_launcher.py:4: SettingWithCopyWarning: \n",
      "A value is trying to be set on a copy of a slice from a DataFrame.\n",
      "Try using .loc[row_indexer,col_indexer] = value instead\n",
      "\n",
      "See the caveats in the documentation: http://pandas.pydata.org/pandas-docs/stable/indexing.html#indexing-view-versus-copy\n",
      "  after removing the cwd from sys.path.\n"
     ]
    }
   ],
   "source": [
    "shiro=data[[i for i in data.columns if 'aka ' not in i]]\n",
    "shiro.columns=[i.replace('shiro ','') for i in shiro.columns]\n",
    "shiro['color']='shiro'\n",
    "shiro['opponent']=data['aka name']"
   ]
  },
  {
   "cell_type": "code",
   "execution_count": 123,
   "metadata": {},
   "outputs": [
    {
     "name": "stderr",
     "output_type": "stream",
     "text": [
      "C:\\Users\\csala\\AppData\\Local\\Continuum\\anaconda2\\envs\\python3\\lib\\site-packages\\ipykernel_launcher.py:1: FutureWarning: Sorting because non-concatenation axis is not aligned. A future version\n",
      "of pandas will change to not sort by default.\n",
      "\n",
      "To accept the future behavior, pass 'sort=False'.\n",
      "\n",
      "To retain the current behavior and silence the warning, pass 'sort=True'.\n",
      "\n",
      "  \"\"\"Entry point for launching an IPython kernel.\n"
     ]
    }
   ],
   "source": [
    "extended_matches=pd.concat([aka,shiro],axis=0).reset_index(drop=True)"
   ]
  },
  {
   "cell_type": "code",
   "execution_count": 124,
   "metadata": {},
   "outputs": [
    {
     "data": {
      "text/html": [
       "<div>\n",
       "<style scoped>\n",
       "    .dataframe tbody tr th:only-of-type {\n",
       "        vertical-align: middle;\n",
       "    }\n",
       "\n",
       "    .dataframe tbody tr th {\n",
       "        vertical-align: top;\n",
       "    }\n",
       "\n",
       "    .dataframe thead th {\n",
       "        text-align: right;\n",
       "    }\n",
       "</style>\n",
       "<table border=\"1\" class=\"dataframe\">\n",
       "  <thead>\n",
       "    <tr style=\"text-align: right;\">\n",
       "      <th></th>\n",
       "      <th>club</th>\n",
       "      <th>color</th>\n",
       "      <th>competition</th>\n",
       "      <th>country</th>\n",
       "      <th>dan</th>\n",
       "      <th>difference</th>\n",
       "      <th>encho</th>\n",
       "      <th>fukushin1</th>\n",
       "      <th>fukushin2</th>\n",
       "      <th>hansoku</th>\n",
       "      <th>...</th>\n",
       "      <th>match_teams</th>\n",
       "      <th>name</th>\n",
       "      <th>opponent</th>\n",
       "      <th>point1</th>\n",
       "      <th>point2</th>\n",
       "      <th>points</th>\n",
       "      <th>pretty_club</th>\n",
       "      <th>shushin</th>\n",
       "      <th>winner</th>\n",
       "      <th>year</th>\n",
       "    </tr>\n",
       "  </thead>\n",
       "  <tbody>\n",
       "    <tr>\n",
       "      <th>0</th>\n",
       "      <td>CRK</td>\n",
       "      <td>aka</td>\n",
       "      <td>CN</td>\n",
       "      <td>RO</td>\n",
       "      <td>1</td>\n",
       "      <td>1</td>\n",
       "      <td>False</td>\n",
       "      <td>NaN</td>\n",
       "      <td>NaN</td>\n",
       "      <td></td>\n",
       "      <td>...</td>\n",
       "      <td>Unknown</td>\n",
       "      <td>Chirea Valentin-Gabriel</td>\n",
       "      <td>Benedek Laszlo</td>\n",
       "      <td>M</td>\n",
       "      <td></td>\n",
       "      <td>1</td>\n",
       "      <td>Clubul Român de Kendo</td>\n",
       "      <td>NaN</td>\n",
       "      <td>A</td>\n",
       "      <td>2009</td>\n",
       "    </tr>\n",
       "    <tr>\n",
       "      <th>1</th>\n",
       "      <td>CRK</td>\n",
       "      <td>aka</td>\n",
       "      <td>CN</td>\n",
       "      <td>RO</td>\n",
       "      <td>1</td>\n",
       "      <td>2</td>\n",
       "      <td>False</td>\n",
       "      <td>NaN</td>\n",
       "      <td>NaN</td>\n",
       "      <td></td>\n",
       "      <td>...</td>\n",
       "      <td>Unknown</td>\n",
       "      <td>Chirea Valentin-Gabriel</td>\n",
       "      <td>Chirea Marius-Alin</td>\n",
       "      <td></td>\n",
       "      <td></td>\n",
       "      <td>0</td>\n",
       "      <td>Clubul Român de Kendo</td>\n",
       "      <td>NaN</td>\n",
       "      <td>S</td>\n",
       "      <td>2009</td>\n",
       "    </tr>\n",
       "    <tr>\n",
       "      <th>2</th>\n",
       "      <td>CRK</td>\n",
       "      <td>aka</td>\n",
       "      <td>CN</td>\n",
       "      <td>RO</td>\n",
       "      <td>1</td>\n",
       "      <td>2</td>\n",
       "      <td>False</td>\n",
       "      <td>NaN</td>\n",
       "      <td>NaN</td>\n",
       "      <td></td>\n",
       "      <td>...</td>\n",
       "      <td>Unknown</td>\n",
       "      <td>Chirea Valentin-Gabriel</td>\n",
       "      <td>Illyés Attila</td>\n",
       "      <td></td>\n",
       "      <td></td>\n",
       "      <td>0</td>\n",
       "      <td>Clubul Român de Kendo</td>\n",
       "      <td>NaN</td>\n",
       "      <td>S</td>\n",
       "      <td>2009</td>\n",
       "    </tr>\n",
       "    <tr>\n",
       "      <th>3</th>\n",
       "      <td>BTK</td>\n",
       "      <td>aka</td>\n",
       "      <td>CN</td>\n",
       "      <td>RO</td>\n",
       "      <td>0</td>\n",
       "      <td>1</td>\n",
       "      <td>False</td>\n",
       "      <td>NaN</td>\n",
       "      <td>NaN</td>\n",
       "      <td></td>\n",
       "      <td>...</td>\n",
       "      <td>Unknown</td>\n",
       "      <td>Benedek Laszlo</td>\n",
       "      <td>Chirea Marius-Alin</td>\n",
       "      <td>K</td>\n",
       "      <td>K</td>\n",
       "      <td>2</td>\n",
       "      <td>Bushi Tokukai</td>\n",
       "      <td>NaN</td>\n",
       "      <td>A</td>\n",
       "      <td>2009</td>\n",
       "    </tr>\n",
       "    <tr>\n",
       "      <th>4</th>\n",
       "      <td>BTK</td>\n",
       "      <td>aka</td>\n",
       "      <td>CN</td>\n",
       "      <td>RO</td>\n",
       "      <td>0</td>\n",
       "      <td>1</td>\n",
       "      <td>False</td>\n",
       "      <td>NaN</td>\n",
       "      <td>NaN</td>\n",
       "      <td></td>\n",
       "      <td>...</td>\n",
       "      <td>Unknown</td>\n",
       "      <td>Benedek Laszlo</td>\n",
       "      <td>Illyés Attila</td>\n",
       "      <td></td>\n",
       "      <td></td>\n",
       "      <td>0</td>\n",
       "      <td>Bushi Tokukai</td>\n",
       "      <td>NaN</td>\n",
       "      <td>S</td>\n",
       "      <td>2009</td>\n",
       "    </tr>\n",
       "  </tbody>\n",
       "</table>\n",
       "<p>5 rows × 22 columns</p>\n",
       "</div>"
      ],
      "text/plain": [
       "  club color competition country dan difference  encho fukushin1 fukushin2  \\\n",
       "0  CRK   aka          CN      RO   1          1  False       NaN       NaN   \n",
       "1  CRK   aka          CN      RO   1          2  False       NaN       NaN   \n",
       "2  CRK   aka          CN      RO   1          2  False       NaN       NaN   \n",
       "3  BTK   aka          CN      RO   0          1  False       NaN       NaN   \n",
       "4  BTK   aka          CN      RO   0          1  False       NaN       NaN   \n",
       "\n",
       "  hansoku  ...  match_teams                     name            opponent  \\\n",
       "0          ...      Unknown  Chirea Valentin-Gabriel      Benedek Laszlo   \n",
       "1          ...      Unknown  Chirea Valentin-Gabriel  Chirea Marius-Alin   \n",
       "2          ...      Unknown  Chirea Valentin-Gabriel       Illyés Attila   \n",
       "3          ...      Unknown           Benedek Laszlo  Chirea Marius-Alin   \n",
       "4          ...      Unknown           Benedek Laszlo       Illyés Attila   \n",
       "\n",
       "  point1 point2 points            pretty_club  shushin winner  year  \n",
       "0      M             1  Clubul Român de Kendo      NaN      A  2009  \n",
       "1                    0  Clubul Român de Kendo      NaN      S  2009  \n",
       "2                    0  Clubul Român de Kendo      NaN      S  2009  \n",
       "3      K      K      2          Bushi Tokukai      NaN      A  2009  \n",
       "4                    0          Bushi Tokukai      NaN      S  2009  \n",
       "\n",
       "[5 rows x 22 columns]"
      ]
     },
     "execution_count": 124,
     "metadata": {},
     "output_type": "execute_result"
    }
   ],
   "source": [
    "extended_matches.head()"
   ]
  },
  {
   "cell_type": "code",
   "execution_count": 125,
   "metadata": {},
   "outputs": [],
   "source": [
    "extended_matches.to_csv('data/extended_matches.csv')"
   ]
  },
  {
   "cell_type": "code",
   "execution_count": 126,
   "metadata": {},
   "outputs": [
    {
     "name": "stderr",
     "output_type": "stream",
     "text": [
      "C:\\Users\\csala\\AppData\\Local\\Continuum\\anaconda2\\envs\\python3\\lib\\site-packages\\pandas\\core\\frame.py:3781: SettingWithCopyWarning: \n",
      "A value is trying to be set on a copy of a slice from a DataFrame\n",
      "\n",
      "See the caveats in the documentation: http://pandas.pydata.org/pandas-docs/stable/indexing.html#indexing-view-versus-copy\n",
      "  return super(DataFrame, self).rename(**kwargs)\n"
     ]
    }
   ],
   "source": [
    "p1=extended_matches[[i for i in extended_matches.columns if i!='point2']]\n",
    "p2=extended_matches[[i for i in extended_matches.columns if i!='point1']]\n",
    "p1.rename(columns={'point1':'point'}, inplace=True)\n",
    "p2.rename(columns={'point2':'point'}, inplace=True)"
   ]
  },
  {
   "cell_type": "code",
   "execution_count": 127,
   "metadata": {},
   "outputs": [],
   "source": [
    "extended_points=pd.concat([p1,p2],axis=0).reset_index(drop=True)"
   ]
  },
  {
   "cell_type": "code",
   "execution_count": 128,
   "metadata": {},
   "outputs": [],
   "source": [
    "extended_points.to_csv('data/extended_points.csv')"
   ]
  },
  {
   "cell_type": "code",
   "execution_count": 129,
   "metadata": {},
   "outputs": [
    {
     "data": {
      "text/plain": [
       "Index(['club', 'color', 'competition', 'country', 'dan', 'difference', 'encho',\n",
       "       'fukushin1', 'fukushin2', 'hansoku', 'match_category', 'match_phase',\n",
       "       'match_teams', 'name', 'opponent', 'point', 'points', 'pretty_club',\n",
       "       'shushin', 'winner', 'year'],\n",
       "      dtype='object')"
      ]
     },
     "execution_count": 129,
     "metadata": {},
     "output_type": "execute_result"
    }
   ],
   "source": [
    "extended_points.columns"
   ]
  },
  {
   "cell_type": "code",
   "execution_count": 130,
   "metadata": {},
   "outputs": [
    {
     "name": "stderr",
     "output_type": "stream",
     "text": [
      "C:\\Users\\csala\\AppData\\Local\\Continuum\\anaconda2\\envs\\python3\\lib\\site-packages\\ipykernel_launcher.py:7: FutureWarning: Sorting because non-concatenation axis is not aligned. A future version\n",
      "of pandas will change to not sort by default.\n",
      "\n",
      "To accept the future behavior, pass 'sort=False'.\n",
      "\n",
      "To retain the current behavior and silence the warning, pass 'sort=True'.\n",
      "\n",
      "  import sys\n"
     ]
    }
   ],
   "source": [
    "shu=extended_points[[i for i in extended_points.columns if 'fukushin' not in i]]\n",
    "shu.columns=[i.replace('shushin','shinpan') for i in shu.columns]\n",
    "fk1=extended_points[[i for i in extended_points.columns if 'shushin' not in i and 'fukushin2' not in i]]\n",
    "fk1.columns=[i.replace('fukushin1','shinpan') for i in fk1.columns]\n",
    "fk2=extended_points[[i for i in extended_points.columns if 'shushin' not in i and 'fukushin1' not in i]]\n",
    "fk2.columns=[i.replace('fukushin2','shinpan') for i in fk2.columns]\n",
    "extended_shinpan=pd.concat([shu,fk1,fk2],axis=0).reset_index(drop=True)"
   ]
  },
  {
   "cell_type": "code",
   "execution_count": 131,
   "metadata": {},
   "outputs": [],
   "source": [
    "extended_shinpan.to_csv('data/extended_shinpan.csv')"
   ]
  },
  {
   "cell_type": "code",
   "execution_count": 132,
   "metadata": {},
   "outputs": [
    {
     "data": {
      "text/plain": [
       "Index(['club', 'color', 'competition', 'country', 'dan', 'difference', 'encho',\n",
       "       'hansoku', 'match_category', 'match_phase', 'match_teams', 'name',\n",
       "       'opponent', 'point', 'points', 'pretty_club', 'shinpan', 'winner',\n",
       "       'year'],\n",
       "      dtype='object')"
      ]
     },
     "execution_count": 132,
     "metadata": {},
     "output_type": "execute_result"
    }
   ],
   "source": [
    "extended_shinpan.columns"
   ]
  },
  {
   "cell_type": "code",
   "execution_count": 133,
   "metadata": {},
   "outputs": [
    {
     "data": {
      "text/plain": [
       "array(['CRK', 'BTK', 'IKA', 'SON', 'KYO', 'MUS', 'TAI', 'KAY', 'XXX',\n",
       "       'ICH', 'HAR', 'ARA', 'SBK', 'ISH', 'RON', 'KAS', 'SAM', 'SAN',\n",
       "       'SAK', 'CDO', 'KNS', 'BSD', 'MOL', 'SRB', 'BUL', 'TUR', 'MNE',\n",
       "       'MAC', 'SZE', 'MAK', 'YUK', 'JAS', 'ITA', 'KAI'], dtype=object)"
      ]
     },
     "execution_count": 133,
     "metadata": {},
     "output_type": "execute_result"
    }
   ],
   "source": [
    "extended_shinpan['club'].unique()"
   ]
  },
  {
   "cell_type": "markdown",
   "metadata": {},
   "source": [
    "Competitor statistics"
   ]
  },
  {
   "cell_type": "code",
   "execution_count": 134,
   "metadata": {},
   "outputs": [],
   "source": [
    "competitors={}\n",
    "for i in data.T.iteritems():\n",
    "    for a in ['aka ','shiro ']:\n",
    "        name=i[1][a+'name']\n",
    "        club=i[1][a+'club']\n",
    "        if name not in competitors:\n",
    "            competitors[name]={'U':0,'club':club}\n",
    "        for j in ['point1','point2']:\n",
    "            point=i[1][a+j] \n",
    "            if point!='':\n",
    "                if point not in competitors[name]:competitors[name][point]=0\n",
    "                competitors[name][point]+=1\n",
    "        competitors[name]['U']+=1"
   ]
  },
  {
   "cell_type": "code",
   "execution_count": 135,
   "metadata": {},
   "outputs": [],
   "source": [
    "data2=pd.DataFrame(competitors)"
   ]
  },
  {
   "cell_type": "code",
   "execution_count": 136,
   "metadata": {},
   "outputs": [],
   "source": [
    "data2.T.to_csv('data/competitors.csv')"
   ]
  },
  {
   "cell_type": "code",
   "execution_count": null,
   "metadata": {},
   "outputs": [],
   "source": []
  },
  {
   "cell_type": "code",
   "execution_count": null,
   "metadata": {},
   "outputs": [],
   "source": []
  },
  {
   "cell_type": "code",
   "execution_count": null,
   "metadata": {},
   "outputs": [],
   "source": []
  }
 ],
 "metadata": {
  "kernelspec": {
   "display_name": "Python 3",
   "language": "python",
   "name": "python3"
  },
  "language_info": {
   "codemirror_mode": {
    "name": "ipython",
    "version": 3
   },
   "file_extension": ".py",
   "mimetype": "text/x-python",
   "name": "python",
   "nbconvert_exporter": "python",
   "pygments_lexer": "ipython3",
   "version": "3.6.6"
  },
  "toc": {
   "base_numbering": 1,
   "nav_menu": {},
   "number_sections": true,
   "sideBar": true,
   "skip_h1_title": false,
   "title_cell": "Table of Contents",
   "title_sidebar": "Contents",
   "toc_cell": false,
   "toc_position": {},
   "toc_section_display": true,
   "toc_window_display": false
  }
 },
 "nbformat": 4,
 "nbformat_minor": 2
}
