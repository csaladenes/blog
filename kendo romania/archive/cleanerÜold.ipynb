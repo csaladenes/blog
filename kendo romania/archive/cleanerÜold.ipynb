{
 "cells": [
  {
   "cell_type": "markdown",
   "metadata": {},
   "source": [
    "# Romania Kendo Stats  \n",
    "#### 25 years of Kendo History in Romania, visualized"
   ]
  },
  {
   "cell_type": "markdown",
   "metadata": {},
   "source": [
    "# Data cleaning workbook"
   ]
  },
  {
   "cell_type": "markdown",
   "metadata": {},
   "source": [
    "Created by **[Dénes Csala](//csaladen.es)** | 2019 | MIT License \n",
    "  \n",
    "For any improvement suggestions and spotted processing mistakes drop me a message on [Facebook](//facebook.com/csaladenes).  \n",
    "If you would like to have your country/club data visualized in a similar manner, or any other data visualization and analytics consultancy inquiries contact me at [mail@csaladen.es](mailto:mail@csaladen.es)"
   ]
  },
  {
   "cell_type": "markdown",
   "metadata": {},
   "source": [
    "This workbook guides you through the data cleaning stage for the **Romania Kendo Stats** visualization. This is a multi-stage process, you will need access to the raw data (liaise with Secretary or other member in charge of data the [Romanian Kendo Association](https://www.kendo-romania.ro/)), [Python](https://www.python.org/) and [Excel](https://products.office.com/en-us/excel)  installed. Any Python packages will also be installed on the way, but we recommend using the [Anaconda](https://www.anaconda.com/download/) distribution of _Python 3_. If you would like to edit the visualization part, then you will need [PowerBI Desktop](https://powerbi.microsoft.com/en-us/desktop/)."
   ]
  },
  {
   "cell_type": "markdown",
   "metadata": {},
   "source": [
    "The general structure of the repository is the following:  \n",
    " - `/data`\n",
    "   - `/raw`: this where you place the downloaded data from the official data source, sorted by years and competitions, only keep those that have relevant data for matches only\n",
    "   - `/ocr`: this is where the data gets saved after an [OCR](https://en.wikipedia.org/wiki/Optical_character_recognition) has been performed - this is necessary for some older files in image format \n",
    "   - `/manual`: this is where manually extracted matches from old image files get placed - they should follow the `2018 CN` format, i.e. all matches in one sheet\n",
    "   - `/export`: this is where we save the dataformatted for loading into the viz\n",
    "   - `/clean`: this is where all the processed, cleaned data ends up - they should follow the `2018 CN` format, i.e. all matches in one sheet\n",
    " - `/scripts`: this is the main code repository for all data processing scripts\n",
    " - `/viz`: this is where the visualization files get saved - they are created using PowerBI and load data from `/data/clean`"
   ]
  },
  {
   "cell_type": "markdown",
   "metadata": {},
   "source": [
    "## 1. Load and clean members"
   ]
  },
  {
   "cell_type": "markdown",
   "metadata": {},
   "source": [
    "This section reads and clean the _RKA_ members list. Save as baseline. "
   ]
  },
  {
   "cell_type": "code",
   "execution_count": 1,
   "metadata": {
    "ExecuteTime": {
     "end_time": "2018-11-29T20:55:53.086841Z",
     "start_time": "2018-11-29T20:55:49.243313Z"
    }
   },
   "outputs": [],
   "source": [
    "import pandas as pd, numpy as np, json\n",
    "import members_loader, matches_loader, clubs_loader, point_utils, save_utils"
   ]
  },
  {
   "cell_type": "markdown",
   "metadata": {},
   "source": [
    "First, download members data (`Evidenta membrilor.xlsx`) from the official data source, and create a macro-enabled Excel file from the Google Sheet. Then write a simple macro to extract the cell comments from the _Club_ column in order to get info about club _Transfers_. Follow the instructions [here](https://www.extendoffice.com/documents/excel/765-excel-convert-comments-to-cells.html). Save the new file as `Evidenta membrilor.xlsm` in the `/data/manual` folder. Use the `members_loader` module to process this file."
   ]
  },
  {
   "cell_type": "code",
   "execution_count": 2,
   "metadata": {
    "ExecuteTime": {
     "end_time": "2018-11-29T20:55:53.097847Z",
     "start_time": "2018-11-29T20:55:53.089844Z"
    }
   },
   "outputs": [],
   "source": [
    "members=members_loader.get_members('../data/manual/Evidenta membrilor.xlsm')"
   ]
  },
  {
   "cell_type": "markdown",
   "metadata": {},
   "source": [
    "Members are loaded but a bit messy."
   ]
  },
  {
   "cell_type": "code",
   "execution_count": 3,
   "metadata": {},
   "outputs": [
    {
     "data": {
      "text/html": [
       "<div>\n",
       "<style scoped>\n",
       "    .dataframe tbody tr th:only-of-type {\n",
       "        vertical-align: middle;\n",
       "    }\n",
       "\n",
       "    .dataframe tbody tr th {\n",
       "        vertical-align: top;\n",
       "    }\n",
       "\n",
       "    .dataframe thead th {\n",
       "        text-align: right;\n",
       "    }\n",
       "</style>\n",
       "<table border=\"1\" class=\"dataframe\">\n",
       "  <thead>\n",
       "    <tr style=\"text-align: right;\">\n",
       "      <th></th>\n",
       "      <th>231</th>\n",
       "      <th>Nr. EKF</th>\n",
       "      <th>Club</th>\n",
       "      <th>Unnamed: 3</th>\n",
       "      <th>Numele</th>\n",
       "      <th>Prenumele</th>\n",
       "      <th>Gen</th>\n",
       "      <th>Data naşterii</th>\n",
       "      <th>1 kyu</th>\n",
       "      <th>practică</th>\n",
       "      <th>...</th>\n",
       "      <th>7 dan</th>\n",
       "      <th>8 dan</th>\n",
       "      <th>2011</th>\n",
       "      <th>2012</th>\n",
       "      <th>2013</th>\n",
       "      <th>2014</th>\n",
       "      <th>2015</th>\n",
       "      <th>2016</th>\n",
       "      <th>2017</th>\n",
       "      <th>2018</th>\n",
       "    </tr>\n",
       "  </thead>\n",
       "  <tbody>\n",
       "    <tr>\n",
       "      <th>0</th>\n",
       "      <td>Free</td>\n",
       "      <td>RO.00076</td>\n",
       "      <td>KYO</td>\n",
       "      <td>NaN</td>\n",
       "      <td>Abe (Carțiș)</td>\n",
       "      <td>Emilia</td>\n",
       "      <td>F</td>\n",
       "      <td>1979-06-06</td>\n",
       "      <td>2007-08-10 00:00:00</td>\n",
       "      <td>NaN</td>\n",
       "      <td>...</td>\n",
       "      <td>NaN</td>\n",
       "      <td>NaN</td>\n",
       "      <td>NaN</td>\n",
       "      <td>NaN</td>\n",
       "      <td>NaN</td>\n",
       "      <td>NaN</td>\n",
       "      <td>NaN</td>\n",
       "      <td>NaN</td>\n",
       "      <td>NaN</td>\n",
       "      <td>NaN</td>\n",
       "    </tr>\n",
       "    <tr>\n",
       "      <th>1</th>\n",
       "      <td>Activ</td>\n",
       "      <td>RO.00205</td>\n",
       "      <td>TAI</td>\n",
       "      <td>NaN</td>\n",
       "      <td>Abrudan</td>\n",
       "      <td>Dorin-Ștefan</td>\n",
       "      <td>M</td>\n",
       "      <td>1991-12-27</td>\n",
       "      <td>2015-08-08 00:00:00</td>\n",
       "      <td>NaN</td>\n",
       "      <td>...</td>\n",
       "      <td>NaN</td>\n",
       "      <td>NaN</td>\n",
       "      <td>NaN</td>\n",
       "      <td>NaN</td>\n",
       "      <td>NaN</td>\n",
       "      <td>NaN</td>\n",
       "      <td>Da</td>\n",
       "      <td>Da</td>\n",
       "      <td>Da</td>\n",
       "      <td>Da</td>\n",
       "    </tr>\n",
       "  </tbody>\n",
       "</table>\n",
       "<p>2 rows × 26 columns</p>\n",
       "</div>"
      ],
      "text/plain": [
       "     231   Nr. EKF Club Unnamed: 3        Numele     Prenumele Gen  \\\n",
       "0   Free  RO.00076  KYO        NaN  Abe (Carțiș)        Emilia   F   \n",
       "1  Activ  RO.00205  TAI        NaN       Abrudan  Dorin-Ștefan   M   \n",
       "\n",
       "  Data naşterii                1 kyu practică ...  7 dan 8 dan 2011 2012 2013  \\\n",
       "0    1979-06-06  2007-08-10 00:00:00      NaN ...    NaN   NaN  NaN  NaN  NaN   \n",
       "1    1991-12-27  2015-08-08 00:00:00      NaN ...    NaN   NaN  NaN  NaN  NaN   \n",
       "\n",
       "  2014  2015  2016 2017 2018  \n",
       "0  NaN   NaN   NaN  NaN  NaN  \n",
       "1  NaN    Da    Da   Da   Da  \n",
       "\n",
       "[2 rows x 26 columns]"
      ]
     },
     "execution_count": 3,
     "metadata": {},
     "output_type": "execute_result"
    }
   ],
   "source": [
    "members.head(2)"
   ]
  },
  {
   "cell_type": "code",
   "execution_count": 4,
   "metadata": {},
   "outputs": [],
   "source": [
    "members_clean=members_loader.cleaner(members).reset_index(drop=False)"
   ]
  },
  {
   "cell_type": "code",
   "execution_count": 5,
   "metadata": {},
   "outputs": [],
   "source": [
    "members_clean.to_csv('../data/clean/members.csv')"
   ]
  },
  {
   "cell_type": "markdown",
   "metadata": {},
   "source": [
    "## 2. Load and clean matches"
   ]
  },
  {
   "cell_type": "markdown",
   "metadata": {},
   "source": [
    "Matches are loaded from excel sheets in the `/data` folder, organized by year and competition. We are always looking for match list data,the cleaner the better, the more concentrated the better. While this is not possible all the time, we have several demo import routines. These are stored in the `matches_loader.py` function library. While not all matches have textual data available, these will need to be processed through OCR first. Raw excel data that can be processed right away can be found in the `/data/raw` folder, while the processed ones in `/data/ocr`. We use a separate workbook, `ocr.ipynb` to walk you through the OCR process."
   ]
  },
  {
   "cell_type": "code",
   "execution_count": 6,
   "metadata": {},
   "outputs": [],
   "source": [
    "matches={i:{} for i in range(1993,2019)}\n",
    "competitions={\n",
    "    2018:['CR','CN','SL'],\n",
    "    2017:['CR','CN','SL'],\n",
    "    2016:['CR','CN','SL'],\n",
    "    2015:['CR','CN','SL'],\n",
    "    2014:['CR','CN','SL'],\n",
    "    2013:['CR','CN','SL'],\n",
    "    2012:['CR','CN'],\n",
    "    2011:['CR','CN'],\n",
    "    2010:['CR','CN'],\n",
    "    2009:['CR','CN'],\n",
    "    1998:['CR'],\n",
    "    1997:['CR'],\n",
    "    1993:['CR']\n",
    "}"
   ]
  },
  {
   "cell_type": "markdown",
   "metadata": {},
   "source": [
    "### 2.1. Load matches"
   ]
  },
  {
   "cell_type": "code",
   "execution_count": 7,
   "metadata": {},
   "outputs": [],
   "source": [
    "for year in competitions:\n",
    "    for competition in competitions[year]:\n",
    "        matches[year][competition]=matches_loader.get_matches(year,competition)"
   ]
  },
  {
   "cell_type": "markdown",
   "metadata": {},
   "source": [
    "### 2.2. Standardize names"
   ]
  },
  {
   "cell_type": "markdown",
   "metadata": {},
   "source": [
    "Names in `name_exceptions` get replaced with their right hand side values _before_ processing."
   ]
  },
  {
   "cell_type": "code",
   "execution_count": 8,
   "metadata": {},
   "outputs": [],
   "source": [
    "name_exceptions={'Atanasovski':'Atanasovski A. (MAC)',\n",
    "                 'Dobrovicescu (SON)':'Dobrovicescu T. (SON)',\n",
    "                 'Ianăș':'Ianăș F.',\n",
    "                 'Crăciun (Tamang) Sujata':'Crăciun S.',\n",
    "                 'Abe (Carțiș) Emilia':'Abe E.',\n",
    "                 'Dinu (Ioniță) Claudia-Andreea':'Dinu A.',\n",
    "                 'Mureșan (Egri) Melinda':'Mureșan M.',\n",
    "                 'Grădișteanu (Gușu) Rebeca':'Grădișteanu R.',\n",
    "                 'Józsa (Gușu) Rodiana':'Józsa R.',\n",
    "                 'Arabadjiyski': 'Arabadjiyski A.',\n",
    "                 'Dudaș Francisc Andrei':'Dudaș F.', \n",
    "                 'Dudaș Francisc':'Dudaș F.',\n",
    "                 'Mandia':'Mandia F.',\n",
    "                 'Stanev':'Stanev A.',\n",
    "                 'Mochalov':'Mochalov O.',\n",
    "                 'Sozzi':'Sozzi A.',\n",
    "                 'Crăciunel':'Crăciunel I.',\n",
    "                 'Craciunel':'Crăciunel I.',\n",
    "                 'Sagaev':'Sagaev L.',\n",
    "                 'Buzás':'Búzás C.',\n",
    "                 'Csala':'Csala T.',\n",
    "                 'Dimitrov':'Dimitrov M.',\n",
    "                 'Józsa':'Józsa L.',\n",
    "                 'Creangă':'Creangă A.',\n",
    "                 'Duțescu':'Duțescu M.',                 \n",
    "                 'Furtună':'Furtună G.',\n",
    "                 'Gârbea':'Gârbea I.',\n",
    "                 'Stupu':'Stupu I.',\n",
    "                 'Mahika-Voiconi':'Mahika-Voiconi S.',\n",
    "                 'Mahika':'Mahika-Voiconi S.',\n",
    "                 'Stanciu':'Stanciu F.',\n",
    "                 'Vrânceanu':'Vrânceanu R.',\n",
    "                 'Wolfs':'Wolfs J.',\n",
    "                 'Ducarme':'Ducarme A.',\n",
    "                 'Sbârcea':'Sbârcea B.',\n",
    "                 'Mocian':'Mocian A.',\n",
    "                 'Hatvani':'Hatvani L.',\n",
    "                 'Dusan':'Dusan N.',\n",
    "                 'Borota':'Borota V.',\n",
    "                 'Tsushima':'Tsushima K.',\n",
    "                 'Tráser':'Tráser T.',\n",
    "                 'Colțea':'Colțea A.',\n",
    "                 'Brîcov':'Brîcov A.',\n",
    "                 'Yamamoto':'Yamamoto M.',\n",
    "                 'Crăciun':'Crăciun D.'}"
   ]
  },
  {
   "cell_type": "markdown",
   "metadata": {},
   "source": [
    "Names in `name_equals` get replaced with their right hand side values _after_ processing."
   ]
  },
  {
   "cell_type": "code",
   "execution_count": 9,
   "metadata": {},
   "outputs": [],
   "source": [
    "name_equals={'Chirea M.':'Chirea A.',\n",
    "            'Ghinet C.':'Ghineț C.',\n",
    "            'Anghelescu A.':'Anghelescu M.',\n",
    "            'Domnița M.':'Domniță M.',\n",
    "            'Bejgu N.':'Beygu N.',\n",
    "            'Canceu A.':'Canceu Ad.',\n",
    "            'Dinu C.':'Dinu A.',\n",
    "            'Grapa D.':'Grapă D.',\n",
    "            'Cristea C.':'Cristea Că.',\n",
    "            'Cismas O.':'Cismaș O.',\n",
    "            'Garbea I.':'Gârbea I.',\n",
    "            'Vitali O.':'Oncea V.',\n",
    "            'Ah-hu W.':'Ah-hu S.',\n",
    "            'Horvát M.':'Horváth M.',\n",
    "            'Ionita A.':'Ioniță A.',\n",
    "            'Medvedschi I.':'Medvețchi I.',\n",
    "            'Mahika S.':'Mahika-Voiconi S.',\n",
    "            'Mate L.':'Máté L.',\n",
    "            'Hentea L.':'Hentea A.',\n",
    "            'Stupu I.':'Stupu A.',\n",
    "            'Ah-Hu S.':'Ah-hu S.',\n",
    "            'Alexa I.':'Alexa A.',\n",
    "            'Albert V.':'Albert J.',\n",
    "            'Angelescu M.':'Angelescu M.',\n",
    "            'Apostu D.':'Apostu T.',\n",
    "            'Brâcov A.':'Brîcov A.',\n",
    "            'Zaporojan R.':'Zaporojan O.',\n",
    "            'Vasile C.':'Vasile I.',\n",
    "            'Dițu I.':'Dițu A.',\n",
    "            'Tudor-Duicu C.':'Tudor D.',\n",
    "            'Sandu M.':'Sandu Mar.',\n",
    "            'Radulescu A.':'Rădulescu An.',\n",
    "            'Péter C.':'Péter Cso.',\n",
    "            'Movatz E.':'Movatz V.',\n",
    "            'Molinger B.':'Molinger P.',\n",
    "            'Mitelea C.':'Mițelea C.',\n",
    "            'Macavei I.':'Macaveiu A.',\n",
    "            'Macavei A.' : 'Macaveiu A.',\n",
    "            'Macaveiu I.' : 'Macaveiu A.',\n",
    "            'Luca T.':'Luca Tr.',\n",
    "            'Leca L.':'Leca F.',\n",
    "            'Gutu E.':'Guțu E.',\n",
    "            'Angelescu A.':'Angelescu M.',\n",
    "            'Mehelean L.':'Mahalean L.',\n",
    "            'Catoriu D.':'Cantoriu D.',\n",
    "            'Călina A.':'Călina C.',\n",
    "            'Ștefu I.' : 'Ștefu L.',\n",
    "            'Țarălungă A.' : 'Țarălungă D.',\n",
    "            'Buzás C.':'Búzás C.',\n",
    "            'Korenshi E.':'Korenschi E.',\n",
    "            'Pleșa R.':'Pleșea R.',\n",
    "            'Galos A.':'Galoș A.',\n",
    "            'Győrfi G.':'Györfi G.',\n",
    "            'Győrfi S.':'Györfi S.',\n",
    "            'Ghineț G.':'Ghineț C.',\n",
    "            'Hostina E.':'Hoștină E.', \n",
    "            'Hostină E.':'Hoștină E.', \n",
    "            'Ianăs F.':'Ianăș F.',\n",
    "            'Ianas F.':'Ianăș F.',\n",
    "            'Tamang S.':'Crăciun S.',\n",
    "            'Taralunga D.':'Țarălungă D.',\n",
    "            'Lacatus M.':'Lăcătuș M.',\n",
    "            'Máthé L.':'Máté L.',\n",
    "            'Burinaru A.':'Burinaru Al.',\n",
    "            'Nastase M.':'Năstase E.',\n",
    "            'Oprisan A.':'Oprișan A.',\n",
    "            'Pârlea A.':'Pîrlea A.',\n",
    "            'Parlea A.':'Pîrlea A.',\n",
    "            'Sabau D.':'Sabău D.',\n",
    "            'Spriu C.':'Spiru C.',\n",
    "            'Crețiu T.':'Crețiu-Codreanu T.',\n",
    "            'Crețiu M.':'Crețiu-Codreanu M.',\n",
    "            'Bíró S.':'Biró S.',\n",
    "            'Oprișan B.':'Oprișan A.',\n",
    "            'Székely J.':'Székely P.',\n",
    "            'Bărbulescu M.' : 'Bărbulescu E.',\n",
    "            'Bejenariu G.' : 'Bejenaru G.', \n",
    "            'Bojan V.' : 'Bojan Vl.',\n",
    "            'Moise A.' : 'Moise Ad.',\n",
    "            'Măgirdicean R.' : 'Magirdicean Ră.',\n",
    "            'Pall D.':'Páll D.',\n",
    "            'Stănculascu C.':'Stănculescu C.',\n",
    "            'Vrânceanu M.': 'Vrânceanu L.',\n",
    "            'Georgescu A.':'Georgescu An.',         \n",
    "            'Wasicek V.':'Wasicheck W.',\n",
    "            'Wasicsec W.':'Wasicheck W.',\n",
    "            'Wasichek W.' : 'Wasicheck W.',\n",
    "            'Wasicsek W.':'Wasicheck W.',\n",
    "            'Zolfoghari A.':'Zolfaghari A.'}"
   ]
  },
  {
   "cell_type": "markdown",
   "metadata": {},
   "source": [
    "Names in `name_doubles` handle situation where the default name abbreviation might lead to duplicates."
   ]
  },
  {
   "cell_type": "code",
   "execution_count": 10,
   "metadata": {},
   "outputs": [],
   "source": [
    "name_doubles={\n",
    "        'Cristea Cristina':'Cristea Cr.', \n",
    "        'Cristea Călin-Ștefan':'Cristea Că.',\n",
    "        'Sandu Marius-Cristian':'Sandu Mar.', \n",
    "        'Sandu Matei-Serban':'Sandu Mat.',\n",
    "        'Sandu Matei':'Sandu Mat.',\n",
    "        'Georgescu Andrei':'Georgescu An.', \n",
    "        'Georgescu Alexandra':'Georgescu Al.',\n",
    "        'Péter Csongor':'Péter Cso.', \n",
    "        'Péter Csanád':'Péter Csa.',\n",
    "        'Luca Mihnea':'Luca Mihn.', \n",
    "        'Luca Mihai-Cătălin':'Luca Miha.',\n",
    "        'Luca':'Luca Miha.',\n",
    "        'Luca M':'Luca Miha.',\n",
    "        'Luca M.':'Luca Miha.',\n",
    "        'Luca Mihai':'Luca Miha.',\n",
    "        'Luca Traian-Dan':'Luca Tr.', \n",
    "        'Luca Tudor':'Luca Tu.',\n",
    "        'Canceu Anamaria':'Canceu An.', \n",
    "        'Canceu Adriana-Maria':'Canceu Ad.',\n",
    "        'Cioată Daniel-Mihai':'Cioată M.', \n",
    "        'Cioată Dragoș':'Cioată D.',\n",
    "        'Burinaru Alexandra':'Burinaru Al.', \n",
    "        'Burinaru Andreea':'Burinaru An.',\n",
    "        'Kovács Andrei':'Kovács An.',\n",
    "        'Kovács Alexandru':'Kovács Al.',\n",
    "        'Cristea Adrian':'Cristea Ad.',\n",
    "        'Cristea Andrei':'Cristea An.',\n",
    "        'Cristea A.':'Cristea An.',\n",
    "        'Ungureanu Nicolae Marius':'Ungureanu M.',\n",
    "        'Ungureanu Nicoleta':'Ungureanu N.',\n",
    "        'Vincze Vlad':'Vincze Vl.',\n",
    "        'Vincze Valentina':'Vincze Va.',\n",
    "        'Bojan Vladimir':'Bojan Vl.',\n",
    "        'Bojan Voicu':'Bojan Vo.',\n",
    "        'Crețiu Codreanu Matei':'Crețiu-Codreanu M.',\n",
    "        'Crețiu Codreanu Tudor':'Crețiu-Codreanu T.',\n",
    "        'Pop Mugurel Voicu':'Pop-Mugurel V.',\n",
    "        'Pop Mihai':'Pop M.',\n",
    "        'Moise Alexandru':'Moise Al.',\n",
    "        'Moise Adrian':'Moise Ad.',\n",
    "        'Rădulescu Andrei-Savin':'Rădulescu An.',\n",
    "        'Rădulescu Adrian':'Rădulescu Ad.',\n",
    "        'Magirdicean Romeo':'Magirdicean Ro.',\n",
    "        'Magirdicean Răzvan Ionuț':'Magirdicean Ră.'}"
   ]
  },
  {
   "cell_type": "markdown",
   "metadata": {},
   "source": [
    "Normalize Romanian characters, define name cleaner function to get _Name IDs_. Name ID are unique competitor names in the form of: _Surname, First letter of Name_. If the First Letter of Name leads to a non-unique ID, the second letter is taken, and so forth, until a unique ID is found. It gets contructed as follows:\n",
    " 1. If name in doubles return the solution directly\n",
    " 2. Normalize characters\n",
    " 3. If name is in exceptions, clean\n",
    " 4. Replace any double spaces, then split at _(_ (to split away club, if embedded in the name)\n",
    " 5. Split into Surname and Name, store in `rnames`\n",
    " 6. Store _Surname N._ in `sname`\n",
    " 7. If `sname` is in equals, clean\n",
    " 8. Retrun `sname`"
   ]
  },
  {
   "cell_type": "code",
   "execution_count": 11,
   "metadata": {},
   "outputs": [],
   "source": [
    "letter_norm={'ţ':'ț','ş':'ș','Ş':'Ș'}\n",
    "def name_cleaner(name):\n",
    "    name=str(name)\n",
    "    if name in name_doubles:\n",
    "        return name_doubles[name]\n",
    "    else:\n",
    "        for letter in letter_norm:\n",
    "            name=name.replace(letter,letter_norm[letter])\n",
    "        if name in name_exceptions:\n",
    "            name=name_exceptions[name]\n",
    "        nc=name.replace('  ',' ').split('(')    \n",
    "            \n",
    "        rname=nc[0].strip()\n",
    "        rnames=rname.split(' ')\n",
    "        sname=rnames[0]+' '+rnames[1][0]+'.'\n",
    "        if sname in name_equals:\n",
    "            sname=name_equals[sname]\n",
    "        if sname in name_doubles:\n",
    "            print(name,sname)\n",
    "    return sname"
   ]
  },
  {
   "cell_type": "markdown",
   "metadata": {},
   "source": [
    "Names equalling any string in `redflags_names` get thrown out of the final dataset.  \n",
    "Names containing any string in `redflags_names2` get thrown out of the final dataset."
   ]
  },
  {
   "cell_type": "code",
   "execution_count": 12,
   "metadata": {},
   "outputs": [],
   "source": [
    "redflags_names=['-','—','—',np.nan,'. ()','— ','- -.','- -. (-)','A','B','C','D','E','F','G','H','I','J','K','L','M','N','O','P','R','S',\n",
    "                'Kashi','Sankon','București','Victorii:','Sakura','Taiken','Ikada','Sonkei','CRK','Museido',\n",
    "                'Ichimon','Bushi Tokukai 1','Competitori – Shiai-sha','Echipa - roşu','Numele şi prenumele',\n",
    "                'Victorii:','Victorii: 0','Victorii: 1','Victorii: 2','Victorii: 3','Victorii: 4',\n",
    "                'Victorii: 5','?','Kyobukan','2/5','2/6','3/8','Finala','Kyobukan (0/0/0)','―',\n",
    "                '(clasament final după meci de baraj)','CRK (Bucuresti)','Kaybukan','Isshin (Cluj)',\n",
    "                'Ikada (Bucureşti)','Kyobukan (Braşov)','Puncte:','KASHI','Budoshin','Isshin',\n",
    "                '— (—)','4. B.','4. Baraj: Stupu M - Hostina','4. Baraj: Moise KM - Korenschi M',\n",
    "               'Bushi Tokukai (2/8/17)','CRK 2 (1/6/14)', 'CRK 2','CRK 1','Loc I.:','Loc',\n",
    "               'Bushi Tokukai 2 (M Ciuc)','Echipa suport']\n",
    "redflags_names2=['Bushi Tokukai','Eliminatoriu','finala','Finala','Fianala','Ikada','Ichimon','Pool',\n",
    "                'Locul ','Lotul ','Loc ','Grupa ','Isshin','Meciul ','Victorii:','L1','1','2','3','4','5','6','7','8','9','0']"
   ]
  },
  {
   "cell_type": "markdown",
   "metadata": {},
   "source": [
    "Check is name is not in redflags. Ignore these entries."
   ]
  },
  {
   "cell_type": "code",
   "execution_count": 13,
   "metadata": {},
   "outputs": [],
   "source": [
    "def name_ok(name):\n",
    "    name=str(name)\n",
    "    if name=='nan': return False\n",
    "    if name not in redflags_names:\n",
    "        if np.array([i not in name for i in redflags_names2]).all():\n",
    "            return True\n",
    "    return False"
   ]
  },
  {
   "cell_type": "markdown",
   "metadata": {},
   "source": [
    "Process all names for standardization. Create 3 variables:  \n",
    "1. `all_players`: forward relationship: unclean name -> cleaned name\n",
    "2. `all_players_r`: reverse relationship\n",
    "3. `all_players_unsorted`: unique set of all names processed \n",
    "\n",
    "Process both competitor and shinpan names."
   ]
  },
  {
   "cell_type": "code",
   "execution_count": 14,
   "metadata": {},
   "outputs": [],
   "source": [
    "all_players={}\n",
    "all_players_r={}\n",
    "all_players_unsorted=set()\n",
    "for year in matches:\n",
    "    for competition in matches[year]:\n",
    "        for match in matches[year][competition]:\n",
    "            for color in ['aka','shiro']:\n",
    "                name=match[color]['name']\n",
    "                all_players_unsorted.add(name)\n",
    "                if name_ok(name):\n",
    "                    name=name_cleaner(name)\n",
    "                    rname=match[color]['name']\n",
    "                    if rname not in all_players_r:all_players_r[rname]=name\n",
    "                    if name not in all_players: all_players[name]={}\n",
    "                    if year not in all_players[name]:all_players[name][year]={'names':set()}\n",
    "                    all_players[name][year]['names'].add(rname)\n",
    "            if 'shinpan' in match:\n",
    "                for color in ['fukushin1','shushin','fukushin2']:\n",
    "                    aka=match['aka']['name']\n",
    "                    shiro=match['shiro']['name']\n",
    "                    if (name_ok(aka)) and\\\n",
    "                       (name_ok(shiro)) and\\\n",
    "                       (name_cleaner(aka) in all_players) and\\\n",
    "                       (name_cleaner(shiro) in all_players):\n",
    "                        rname=match['shinpan'][color]\n",
    "                        all_players_unsorted.add(rname)\n",
    "                        if name_ok(rname):\n",
    "                            name=name_cleaner(rname)\n",
    "                            if rname not in all_players_r:all_players_r[rname]=name\n",
    "                            if name not in all_players: all_players[name]={}\n",
    "                            if year not in all_players[name]:all_players[name][year]={'names':set()}\n",
    "                            all_players[name][year]['names'].add(rname)"
   ]
  },
  {
   "cell_type": "markdown",
   "metadata": {},
   "source": [
    "Link procesed to names in `members`. The `name_linker` dictionary contains Name IDs (short names) as keys and sets of long names as values. Ideally, this set should contain only one element, so that the mapping is unique."
   ]
  },
  {
   "cell_type": "code",
   "execution_count": 15,
   "metadata": {},
   "outputs": [],
   "source": [
    "name_linker={}\n",
    "for i in members_clean.index:\n",
    "    name=members_clean.loc[i]['name']\n",
    "    try:\n",
    "        cname=name_cleaner(name)\n",
    "    except:\n",
    "        print(name)\n",
    "    if cname not in name_linker:name_linker[cname]=set()\n",
    "    name_linker[cname].add(name)"
   ]
  },
  {
   "cell_type": "markdown",
   "metadata": {},
   "source": [
    "Do the opposite mapping in `names_abbr`: long->short. Create exceptions for duplicate names."
   ]
  },
  {
   "cell_type": "code",
   "execution_count": 16,
   "metadata": {},
   "outputs": [],
   "source": [
    "names_abbr={}\n",
    "for name in name_linker:\n",
    "    if len(name_linker[name])>1:\n",
    "        #only for dev to create exceptions for duplicate person names.\n",
    "        print(name,name_linker[name])\n",
    "    for i in name_linker[name]:\n",
    "        names_abbr[i]=name"
   ]
  },
  {
   "cell_type": "markdown",
   "metadata": {},
   "source": [
    "Save club mappings by short name, by year."
   ]
  },
  {
   "cell_type": "code",
   "execution_count": 17,
   "metadata": {},
   "outputs": [],
   "source": [
    "names_abbr_list=[]\n",
    "name_abbr2long={}\n",
    "name_abbr2club={}\n",
    "for i in members_clean.index:\n",
    "    name=members_clean.loc[i]['name']\n",
    "    club=members_clean.loc[i]['club']\n",
    "    year=members_clean.loc[i]['year']\n",
    "    names_abbr_list.append(names_abbr[name])\n",
    "    name_abbr2long[names_abbr[name]]=name\n",
    "    if names_abbr[name] not in name_abbr2club:name_abbr2club[names_abbr[name]]={}\n",
    "    if year not in name_abbr2club[names_abbr[name]]:\n",
    "        name_abbr2club[names_abbr[name]][year]=club"
   ]
  },
  {
   "cell_type": "markdown",
   "metadata": {},
   "source": [
    "Add short names to `members_clean`."
   ]
  },
  {
   "cell_type": "code",
   "execution_count": 18,
   "metadata": {},
   "outputs": [],
   "source": [
    "members_clean['name_abbr']=names_abbr_list"
   ]
  },
  {
   "cell_type": "markdown",
   "metadata": {},
   "source": [
    "Some names appear in the short form, we need to add them manually to the long list. We parse through all forms in which the name appears, and choose the longest. We call this the inferred name."
   ]
  },
  {
   "cell_type": "code",
   "execution_count": 19,
   "metadata": {},
   "outputs": [],
   "source": [
    "for name in all_players:\n",
    "    if name not in name_abbr2long:\n",
    "        #infer using longest available name\n",
    "        names={len(j):j  for i in all_players[name] for j in all_players[name][i]['names']}\n",
    "        if len(names)>0:\n",
    "            inferred_name=names[max(names.keys())]\n",
    "            if '(' in inferred_name:\n",
    "                inferred_name=inferred_name[:inferred_name.find('(')-1]\n",
    "            name_abbr2long[name]=inferred_name"
   ]
  },
  {
   "cell_type": "markdown",
   "metadata": {},
   "source": [
    "Infer duplicates"
   ]
  },
  {
   "cell_type": "code",
   "execution_count": 20,
   "metadata": {},
   "outputs": [],
   "source": [
    "def levenshteinDistance(s1, s2):\n",
    "    if len(s1) > len(s2):\n",
    "        s1, s2 = s2, s1\n",
    "\n",
    "    distances = range(len(s1) + 1)\n",
    "    for i2, c2 in enumerate(s2):\n",
    "        distances_ = [i2+1]\n",
    "        for i1, c1 in enumerate(s1):\n",
    "            if c1 == c2:\n",
    "                distances_.append(distances[i1])\n",
    "            else:\n",
    "                distances_.append(1 + min((distances[i1], distances[i1 + 1], distances_[-1])))\n",
    "        distances = distances_\n",
    "    return distances[-1]"
   ]
  },
  {
   "cell_type": "code",
   "execution_count": 21,
   "metadata": {},
   "outputs": [
    {
     "name": "stdout",
     "output_type": "stream",
     "text": [
      "Asama Yukito : Asama Kaito  -  Asama Y. : Asama K.\n",
      "Borota : Borota B.  -  Borota V. : Borota B.\n",
      "Ivanov K. : Ivanov A.  -  Ivanov K. : Ivanov A.\n",
      "Jianu Alexandru : Diaconu Alexandru  -  Jianu A. : Diaconu A.\n",
      "Jovanović D. : Jovanović A.  -  Jovanović D. : Jovanović A.\n",
      "Keskovski Z. : Keskovski V.  -  Keskovski Z. : Keskovski V.\n",
      "Luca Tudor : Duicu Tudor  -  Luca Tu. : Duicu T.\n",
      "Mocanu Sorin : Mocanu Alin  -  Mocanu S. : Mocanu A.\n",
      "Mărășescu Cristina : Marinescu Cristina  -  Mărășescu C. : Marinescu C.\n",
      "Novakovic A. : Jovanović A.  -  Novakovic A. : Jovanović A.\n",
      "Petre Liviu : Perte Liviu  -  Petre L. : Perte L.\n",
      "Petrovski G. : Petreski A.  -  Petrovski G. : Petreski A.\n",
      "Savić S. : Jović M.  -  Savić S. : Jović M.\n",
      "Sin Alexandru : Jianu Alexandru  -  Sin A. : Jianu A.\n",
      "Spînu Alexandru : Jianu Alexandru  -  Spînu A. : Jianu A.\n",
      "Spînu Alexandru : Sin Alexandru  -  Spînu A. : Sin A.\n",
      "Stanev A. : Ivanov A.  -  Stanev A. : Ivanov A.\n"
     ]
    }
   ],
   "source": [
    "nkeys=np.sort(list(name_abbr2long.keys()))\n",
    "for ii in range(len(name_abbr2long)):\n",
    "    i=nkeys[ii]\n",
    "    for jj in range(ii):\n",
    "        j=nkeys[jj]\n",
    "        if levenshteinDistance(name_abbr2long[i],name_abbr2long[j])<4:\n",
    "            print(name_abbr2long[i],':',name_abbr2long[j],' - ',i,':',j)"
   ]
  },
  {
   "cell_type": "code",
   "execution_count": 22,
   "metadata": {},
   "outputs": [
    {
     "name": "stdout",
     "output_type": "stream",
     "text": [
      "Albescu I. : Albescu A.  -  Albescu Ioan : Albescu AnaMaria\n",
      "Asama Y. : Asama K.  -  Asama Yukito : Asama Kaito\n",
      "Balan R. : Balac V.  -  Balan Rares-Mihai : Balac Vlad\n",
      "Biró I. : Biró B.  -  Biró István : Biró Bence\n",
      "Biró S. : Biró B.  -  Biró Sándor : Biró Bence\n",
      "Biró S. : Biró I.  -  Biró Sándor : Biró István\n",
      "Blaj V. : Balac V.  -  Blaj Valentin : Balac Vlad\n",
      "Bojan Vl. : Bojan I.  -  Bojan Vladimir : Bojan Ioachim\n",
      "Bojan Vo. : Bojan I.  -  Bojan Voicu : Bojan Ioachim\n",
      "Bojan Vo. : Bojan Vl.  -  Bojan Voicu : Bojan Vladimir\n",
      "Borota V. : Borota B.  -  Borota : Borota B.\n",
      "Boruga S. : Boruga R.  -  Boruga Sofia : Boruga Radu\n",
      "Botezatu C. : Botezatu A.  -  Botezatu Codrin-Cătălin : Botezatu Alexandru-Cosmin\n",
      "Brat I. : Brad A.  -  Brat Ilina-Ruxandra : Brad Andrei Bogdan\n",
      "Brățoiu I. : Brățoiu C.  -  Brățoiu Iona-Matei : Brățoiu Cristian\n",
      "Brățoiu L. : Brățoiu C.  -  Brățoiu Laura : Brățoiu Cristian\n",
      "Brățoiu L. : Brățoiu I.  -  Brățoiu Laura : Brățoiu Iona-Matei\n",
      "Burinaru An. : Burinaru Al.  -  Burinaru Andreea : Burinaru Alexandra\n",
      "Burinaru T. : Burinaru Al.  -  Burinaru Tiberiu-Alecu : Burinaru Alexandra\n",
      "Burinaru T. : Burinaru An.  -  Burinaru Tiberiu-Alecu : Burinaru Andreea\n",
      "Bíró B. : Biró B.  -  Bíró Barna : Biró Bence\n",
      "Bíró B. : Biró I.  -  Bíró Barna : Biró István\n",
      "Bíró B. : Biró S.  -  Bíró Barna : Biró Sándor\n",
      "Canceu An. : Canceu Ad.  -  Canceu Anamaria : Canceu Adriana-Maria\n",
      "Cercel A. : Bercea A.  -  Cercel Adrian-Dumitru : Bercea Aurel\n",
      "Chirea V. : Chirea A.  -  Chirea Valentin-Gabriel : Chirea Marius-Alin\n",
      "Cioată E. : Cioată D.  -  Cioată Elena : Cioată Dragoș\n",
      "Cioată M. : Cioată D.  -  Cioată Daniel-Mihai : Cioată Dragoș\n",
      "Cioată M. : Cioată E.  -  Cioată Daniel-Mihai : Cioată Elena\n",
      "Cioată T. : Cioată D.  -  Cioată Tudor : Cioată Dragoș\n",
      "Cioată T. : Cioată E.  -  Cioată Tudor : Cioată Elena\n",
      "Cioată T. : Cioată M.  -  Cioată Tudor : Cioată Daniel-Mihai\n",
      "Colțea A. : Coldea R.  -  Colţea Andrei Răzvan : Coldea Roxana\n",
      "Constantina A. : Constantin D.  -  Constantina Alexandru : Constantin Doru\n",
      "Cozan O. : Cazan G.  -  Cozan Ovidiu : Cazan George\n",
      "Cozan O. : Coman A.  -  Cozan Ovidiu : Coman Alin Dan\n",
      "Crețiu-Codreanu T. : Crețiu-Codreanu M.  -  Crețiu Codreanu Tudor : Crețiu Codreanu Matei\n",
      "Cristea An. : Cristea Ad.  -  Cristea Andrei : Cristea Adrian\n",
      "Cristea Cr. : Cristea Ad.  -  Cristea Cristina : Cristea Adrian\n",
      "Cristea Cr. : Cristea An.  -  Cristea Cristina : Cristea Andrei\n",
      "Cristea Că. : Cristea Ad.  -  Cristea Călin-Ștefan : Cristea Adrian\n",
      "Cristea Că. : Cristea An.  -  Cristea Călin-Ștefan : Cristea Andrei\n",
      "Cristea Că. : Cristea Cr.  -  Cristea Călin-Ștefan : Cristea Cristina\n",
      "Cristea D. : Cristea Ad.  -  Cristea Daniel : Cristea Adrian\n",
      "Cristea D. : Cristea An.  -  Cristea Daniel : Cristea Andrei\n",
      "Cristea D. : Cristea Cr.  -  Cristea Daniel : Cristea Cristina\n",
      "Cristea D. : Cristea Că.  -  Cristea Daniel : Cristea Călin-Ștefan\n",
      "Crăciun S. : Crăciun D.  -  Crăciun (Tamang) Sujata : Crăciun Dragoş Ştefan\n",
      "Crăciun T. : Crăciun D.  -  Crăciun Tiberius Octavian : Crăciun Dragoş Ştefan\n",
      "Crăciun T. : Crăciun S.  -  Crăciun Tiberius Octavian : Crăciun (Tamang) Sujata\n",
      "Crăciunel I. : Crăciunel C.  -  Crăciunel Ioan : Crăciunel Cătălin\n",
      "Crăciunel V. : Crăciunel C.  -  Crăciunel Valentin Petre : Crăciunel Cătălin\n",
      "Crăciunel V. : Crăciunel I.  -  Crăciunel Valentin Petre : Crăciunel Ioan\n",
      "Csala T. : Csala D.  -  Csala Tibor : Csala Dénes\n",
      "Csibi Z. : Csibi K.  -  Csibi Zsolt : Csibi Krisztina\n",
      "Căruntu V. : Căruntu B.  -  Căruntu Vlad : Căruntu Bogdan\n",
      "Danciu G. : Banciu S.  -  Danciu Gheorghe-Daniel : Banciu Simion-Sorin\n",
      "Darkó B. : Dakó F.  -  Darkó Béla : Dakó Ferenc\n",
      "Dițu A. : Dinu A.  -  Dițu Ioan-Adrian : Dinu (Ioniță) Claudia-Andreea\n",
      "Drăgan D. : Drăgan B.  -  Drăgan Dragoş-Ştefan : Drăgan Bogdan\n",
      "Dudaș F. : Dudaș B.  -  Dudaș Francisc : Dudaș Bâtu Sebastian\n",
      "Duicu T. : Duicu C.  -  Duicu Tudor : Duicu Claudia Bernadete\n",
      "Dumitrescu S. : Dumitrescu E.  -  Dumitrescu Sorin : Dumitrescu Eugen\n",
      "Emanoil R. : Emanoil O.  -  Emanoil Robert : Emanoil Oriana\n",
      "Fecioru M. : Fecioru I.  -  Fecioru Mica : Fecioru Ioana Miruna\n",
      "Feczkó Z. : Feczkó I.  -  Feczkó Zoltán : Feczkó Iuliana\n",
      "Ferenczi C. : Ferencz T.  -  Ferenczi Cristian : Ferencz Tünde\n",
      "Furtună N. : Furtună G.  -  Furtună Nina : Furtună George\n",
      "Fülöp P. : Fülöp H.  -  Fülöp Péter-Attila : Fülöp Hunor\n",
      "Gabor M. : Gabor B.  -  Gabor Mihai : Gabor Bogdan\n",
      "Gașpar T. : Gașpar D.  -  Gașpar Toma-Ciprian : Gașpar Dan\n",
      "Georgescu An. : Georgescu Al.  -  Georgescu Andrei : Georgescu Alexandra\n",
      "Georgescu B. : Georgescu Al.  -  Georgescu Bogdan : Georgescu Alexandra\n",
      "Georgescu B. : Georgescu An.  -  Georgescu Bogdan : Georgescu Andrei\n",
      "Georgescu O. : Georgescu Al.  -  Georgescu Octavian-Florian : Georgescu Alexandra\n",
      "Georgescu O. : Georgescu An.  -  Georgescu Octavian-Florian : Georgescu Andrei\n",
      "Georgescu O. : Georgescu B.  -  Georgescu Octavian-Florian : Georgescu Bogdan\n",
      "Georgescu R. : Georgescu Al.  -  Georgescu Radu-Constantin : Georgescu Alexandra\n",
      "Georgescu R. : Georgescu An.  -  Georgescu Radu-Constantin : Georgescu Andrei\n",
      "Georgescu R. : Georgescu B.  -  Georgescu Radu-Constantin : Georgescu Bogdan\n",
      "Georgescu R. : Georgescu O.  -  Georgescu Radu-Constantin : Georgescu Octavian-Florian\n",
      "Georgescu S. : Georgescu Al.  -  Georgescu Silviu : Georgescu Alexandra\n",
      "Georgescu S. : Georgescu An.  -  Georgescu Silviu : Georgescu Andrei\n",
      "Georgescu S. : Georgescu B.  -  Georgescu Silviu : Georgescu Bogdan\n",
      "Georgescu S. : Georgescu O.  -  Georgescu Silviu : Georgescu Octavian-Florian\n",
      "Georgescu S. : Georgescu R.  -  Georgescu Silviu : Georgescu Radu-Constantin\n",
      "Gheorghiu R. : Gheorghiu C.  -  Gheorghiu Radu Cristian : Gheorghiu Constantin-Petru\n",
      "Gheorghiță C. : Gheorghiu C.  -  Gheorghiță Călin : Gheorghiu Constantin-Petru\n",
      "Gheorghiță C. : Gheorghiță A.  -  Gheorghiță Călin : Gheorghiță Andrei\n",
      "Ghițuleasa L. : Ghițuleasa A.  -  Ghițuleasa Liviu-Gabriel : Ghițuleasa Anca-Andreea\n",
      "Grigoraș L. : Grigoraș C.  -  Grigoraș L. : Grigoraș Călin\n",
      "Gruia G. : Gruia C.  -  Gruia Gabriel : Gruia Costin\n",
      "Grădișteanu R. : Grădișteanu A.  -  Grădișteanu (Gușu) Rebeca : Grădișteanu Alexandru\n",
      "Guțu E. : Gușu R.  -  Guţu Eugeniu : Gușu Rodiana\n",
      "Györfi N. : Györfi G.  -  Györfi Noémi : Györfi György\n",
      "Györfi S. : Györfi G.  -  Györfi Sándor : Györfi György\n",
      "Györfi S. : Györfi N.  -  Györfi Sándor : Györfi Noémi\n",
      "Györfi Á. : Györfi G.  -  Györfi Ákos : Györfi György\n",
      "Györfi Á. : Györfi N.  -  Györfi Ákos : Györfi Noémi\n",
      "Györfi Á. : Györfi S.  -  Györfi Ákos : Györfi Sándor\n",
      "Gáll F. : Gál B.  -  Gáll Ferenc-Levente : Gál Balázs\n",
      "Gârbea I. : Gârbea D.  -  Gârbea Ion : Gârbea Daniel-Cristian\n",
      "Hajdú C. : Hajdu R.  -  Hajdú Csaba : Hajdu Rita\n",
      "Hentea D. : Hentea A.  -  Hentea Daniela : Hentea Adrian Lucian\n",
      "Horváth M. : Horváth D.  -  Horváth Mátyás : Horváth Dávid-István\n",
      "Hrișcu M. : Hrișcu C.  -  Hrișcu Monica : Hrișcu Cristian-Octavian\n",
      "Hulea V. : Fulea R.  -  Hulea Violeta : Fulea Rado-Gabriel\n",
      "Ianăș F. : Ianăș A.  -  Ianăş Florin-Răducu : Ianăş Andrei\n",
      "Iliescu S. : Iliescu D.  -  Iliescu Silviu-Alexandru : Iliescu Dragoș\n",
      "Ilieș L. : Ilie A.  -  Ilieș Lavinia Gabriela : Ilie Andra-Maria\n",
      "Ioniță G. : Ioniță A.  -  Ioniță Georgiana : Ioniță Andreea\n",
      "Iordan R. : Gordan M.  -  Iordan Relu : Gordan Mark\n",
      "Iordan R. : Ioan R.  -  Iordan Relu : Ioan Roxana\n",
      "Ivan C. : Ioan R.  -  Ivan Cristina : Ioan Roxana\n",
      "Ivan F. : Ioan R.  -  Ivan Florentina : Ioan Roxana\n",
      "Ivan F. : Ivan C.  -  Ivan Florentina : Ivan Cristina\n",
      "Ivanov K. : Ivanov A.  -  Ivanov K. : Ivanov A.\n",
      "Jianu A. : Dinu A.  -  Jianu Alexandru : Dinu (Ioniță) Claudia-Andreea\n",
      "Jovanović D. : Jovanović A.  -  Jovanović D. : Jovanović A.\n",
      "Józsa R. : Józsa L.  -  Józsa (Gușu) Rodiana : Józsa Levente\n",
      "Keresztes M. : Keresztes C.  -  Keresztes Mátyás : Keresztes Csaba\n",
      "Keskovski Z. : Keskovski V.  -  Keskovski Z. : Keskovski V.\n",
      "Korenschi E. : Korenschi A.  -  Korenschi Eduard : Korenschi Arkadi\n",
      "Korenschi R. : Korenschi A.  -  Korenschi Raymond : Korenschi Arkadi\n",
      "Korenschi R. : Korenschi E.  -  Korenschi Raymond : Korenschi Eduard\n",
      "Kovács An. : Kovács Al.  -  Kovács Andrei : Kovács Alexandru\n",
      "Lazăr-Prodan S. : Lazăr-Prodan L.  -  Lazăr-Prodan Sarah : Lazăr-Prodan Lucian-József\n",
      "Luca A. : Leca F.  -  Luca Alexandru-Alin : Leca Florin\n",
      "Luca Mihn. : Luca Miha.  -  Luca Mihnea : Luca Mihai-Cătălin\n",
      "Luca Tr. : Luca A.  -  Luca Traian-Dan : Luca Alexandru-Alin\n",
      "Luca Tu. : Luca A.  -  Luca Tudor : Luca Alexandru-Alin\n",
      "Luca Tu. : Luca Tr.  -  Luca Tudor : Luca Traian-Dan\n",
      "Magirdicean Ră. : Magirdicean Ro.  -  Magirdicean Răzvan Ionuț : Magirdicean Romeo\n",
      "Mahalean R. : Mahalean L.  -  Mahalean Razvan : Mahalean Ligia\n",
      "Mahika-Voiconi S. : Mahika-Voiconi A.  -  Mahika-Voiconi Sorin-Constantin : Mahika-Voiconi Ana\n",
      "Mahika-Voiconi T. : Mahika-Voiconi A.  -  Mahika-Voiconi Tudor : Mahika-Voiconi Ana\n",
      "Mahika-Voiconi T. : Mahika-Voiconi S.  -  Mahika-Voiconi Tudor : Mahika-Voiconi Sorin-Constantin\n",
      "Marin C. : Maria L.  -  Marin Constantin-Doru : Maria Luca\n",
      "Martin E. : Marin C.  -  Martin Eliya : Marin Constantin-Doru\n",
      "Martin I. : Marin C.  -  Martin Ian : Marin Constantin-Doru\n",
      "Martin I. : Martin E.  -  Martin Ian : Martin Eliya\n",
      "Martin M. : Marin C.  -  Martin Mihai : Marin Constantin-Doru\n",
      "Martin M. : Martin E.  -  Martin Mihai : Martin Eliya\n",
      "Martin M. : Martin I.  -  Martin Mihai : Martin Ian\n",
      "Martinescu D. : Marinescu C.  -  Martinescu Dan : Marinescu Cristina\n",
      "Marton L. : Martin E.  -  Marton László : Martin Eliya\n",
      "Marton L. : Martin I.  -  Marton László : Martin Ian\n",
      "Marton L. : Martin M.  -  Marton László : Martin Mihai\n",
      "Matei V. : Matea C.  -  Matei Vasilica-Loredana : Matea Coralia-Ioana\n",
      "Mirea D. : Mircea Ș.  -  Mirea Daniela-Andrada : Mircea Ștefan\n",
      "Mitrea B. : Mirea D.  -  Mitrea Bogdan Alexandru : Mirea Daniela-Andrada\n",
      "Mocanu S. : Mocanu A.  -  Mocanu Sorin : Mocanu Alin\n",
      "Mocian A. : Mocanu A.  -  Mocian Adrian-Ilie : Mocanu Alin\n",
      "Moise Al. : Moise Ad.  -  Moise Alexandru : Moise Adrian\n",
      "Moise M. : Moise Ad.  -  Moise Maria-Silvana : Moise Adrian\n",
      "Moise M. : Moise Al.  -  Moise Maria-Silvana : Moise Alexandru\n",
      "Moise T. : Moise Ad.  -  Moise Tudor : Moise Adrian\n",
      "Moise T. : Moise Al.  -  Moise Tudor : Moise Alexandru\n",
      "Moise T. : Moise M.  -  Moise Tudor : Moise Maria-Silvana\n",
      "Moldoveanu M. : Moldoveanu A.  -  Moldoveanu Mihail : Moldoveanu Alexandru\n",
      "Morar D. : Moga D.  -  Morar Dumitru : Moga Dorin\n",
      "Morar D. : Morar B.  -  Morar Dumitru : Morar Bogdan Lucian\n",
      "Morar F. : Morar B.  -  Morar Florin : Morar Bogdan Lucian\n",
      "Morar F. : Morar D.  -  Morar Florin : Morar Dumitru\n",
      "Morar T. : Morar B.  -  Morar Tea-Andra : Morar Bogdan Lucian\n",
      "Morar T. : Morar D.  -  Morar Tea-Andra : Morar Dumitru\n",
      "Morar T. : Morar F.  -  Morar Tea-Andra : Morar Florin\n",
      "Moraru C. : Morar B.  -  Moraru Cristinel : Morar Bogdan Lucian\n",
      "Moraru C. : Morar D.  -  Moraru Cristinel : Morar Dumitru\n",
      "Moraru C. : Morar F.  -  Moraru Cristinel : Morar Florin\n",
      "Moraru C. : Morar T.  -  Moraru Cristinel : Morar Tea-Andra\n",
      "Moraru F. : Morar B.  -  Moraru Florentina : Morar Bogdan Lucian\n",
      "Moraru F. : Morar D.  -  Moraru Florentina : Morar Dumitru\n",
      "Moraru F. : Morar F.  -  Moraru Florentina : Morar Florin\n",
      "Moraru F. : Morar T.  -  Moraru Florentina : Morar Tea-Andra\n",
      "Moraru F. : Moraru C.  -  Moraru Florentina : Moraru Cristinel\n",
      "Moraru G. : Morar B.  -  Moraru Gelu : Morar Bogdan Lucian\n",
      "Moraru G. : Morar D.  -  Moraru Gelu : Morar Dumitru\n",
      "Moraru G. : Morar F.  -  Moraru Gelu : Morar Florin\n",
      "Moraru G. : Morar T.  -  Moraru Gelu : Morar Tea-Andra\n",
      "Moraru G. : Moraru C.  -  Moraru Gelu : Moraru Cristinel\n",
      "Moraru G. : Moraru F.  -  Moraru Gelu : Moraru Florentina\n",
      "Moraru R. : Morar B.  -  Moraru Raul : Morar Bogdan Lucian\n",
      "Moraru R. : Morar D.  -  Moraru Raul : Morar Dumitru\n",
      "Moraru R. : Morar F.  -  Moraru Raul : Morar Florin\n",
      "Moraru R. : Morar T.  -  Moraru Raul : Morar Tea-Andra\n",
      "Moraru R. : Moraru C.  -  Moraru Raul : Moraru Cristinel\n",
      "Moraru R. : Moraru F.  -  Moraru Raul : Moraru Florentina\n",
      "Moraru R. : Moraru G.  -  Moraru Raul : Moraru Gelu\n",
      "Munteanu R. : Muntean A.  -  Munteanu Răzvan-Luigi : Muntean Alina Florina\n",
      "Murat I. : Brat I.  -  Murat I. : Brat Ilina-Ruxandra\n",
      "Mușat A. : Murat I.  -  Muşat Andrei : Murat I.\n",
      "Mărășescu M. : Mărășescu C.  -  Mărășescu Marius : Mărășescu Cristina\n",
      "Nemes M. : Nemes D.  -  Nemes Mihai : Nemes Dan\n",
      "Niciev Ș. : Niciev C.  -  Niciev Ștefan : Niciev Cristian\n",
      "Nicolin D. : Nicola D.  -  Nicolin Deian : Nicola Delia\n",
      "Nikolić D. : Nicolin D.  -  Nikolić D. : Nicolin Deian\n",
      "Perte L. : Perdi L.  -  Perte Liviu : Perdi Levente\n",
      "Peter L. : Perte L.  -  Peter Lorand-Ervin : Perte Liviu\n",
      "Petre L. : Perte L.  -  Petre Liviu : Perte Liviu\n",
      "Petre L. : Peter L.  -  Petre Liviu : Peter Lorand-Ervin\n",
      "Pleșea C. : Pletea A.  -  Pleşea Clara-Alexia : Pletea Aurel\n",
      "Pleșea R. : Pletea A.  -  Pleşea Radu-Lucian : Pletea Aurel\n",
      "Pleșea R. : Pleșea C.  -  Pleşea Radu-Lucian : Pleşea Clara-Alexia\n",
      "Pop M. : Pop D.  -  Pop Mihai : Pop David-Cristian\n",
      "Popa C. : Pop D.  -  Popa Ciprian : Pop David-Cristian\n",
      "Popa C. : Pop M.  -  Popa Ciprian : Pop Mihai\n",
      "Popescu C. : Popescu A.  -  Popescu Corneliu-Petru : Popescu Ana-Catrinel\n",
      "Popescu M. : Popescu A.  -  Popescu Marian : Popescu Ana-Catrinel\n",
      "Popescu M. : Popescu C.  -  Popescu Marian : Popescu Corneliu-Petru\n",
      "Popescu R. : Popescu A.  -  Popescu Roland : Popescu Ana-Catrinel\n",
      "Popescu R. : Popescu C.  -  Popescu Roland : Popescu Corneliu-Petru\n",
      "Popescu R. : Popescu M.  -  Popescu Roland : Popescu Marian\n",
      "Popescu S. : Popescu A.  -  Popescu Silviu : Popescu Ana-Catrinel\n",
      "Popescu S. : Popescu C.  -  Popescu Silviu : Popescu Corneliu-Petru\n",
      "Popescu S. : Popescu M.  -  Popescu Silviu : Popescu Marian\n",
      "Popescu S. : Popescu R.  -  Popescu Silviu : Popescu Roland\n",
      "Popovici I. : Popovici D.  -  Popovici Iulia-Alina : Popovici Dan Mircea\n",
      "Preda A. : Neda A.  -  Preda Alexandru : Neda Andreea Florina\n",
      "Prioteasa S. : Preoteasa L.  -  Prioteasa Simona : Preoteasa Liviu-George\n",
      "Páll D. : Gáll F.  -  Páll Dávid : Gáll Ferenc-Levente\n",
      "Péter Cso. : Péter Csa.  -  Péter Csongor : Péter Csanád\n",
      "Raicea V. : Raicea A.  -  Raicea Victor-Cornel : Raicea Andrei Dan\n",
      "Recheșan F. : Recheșan C.  -  Recheșan Flaviu : Recheșan Codruța-Ioana\n",
      "Recheșan R. : Recheșan C.  -  Recheșan Rareș : Recheșan Codruța-Ioana\n",
      "Recheșan R. : Recheșan F.  -  Recheșan Rareș : Recheșan Flaviu\n",
      "Rusu-Boca P. : Rusu-Boca D.  -  Rusu-Boca Paul-Cristian : Rusu-Boca David-Alexander\n",
      "Rácz R. : Rácz E.  -  Rácz Richárd : Rácz Edvárd\n",
      "Rădulescu A. : Bădulescu M.  -  Rădulescu Andrei : Bădulescu Marius\n",
      "Rădulescu Ad. : Rădulescu A.  -  Rădulescu Adrian : Rădulescu Andrei\n",
      "Rădulescu An. : Rădulescu A.  -  Rădulescu Andrei-Savin : Rădulescu Andrei\n",
      "Rădulescu An. : Rădulescu Ad.  -  Rădulescu Andrei-Savin : Rădulescu Adrian\n",
      "Sandu D. : Sabău D.  -  Sandu David Miron : Sabău Dan-Marius\n",
      "Sandu E. : Sandu D.  -  Sandu Emanuel : Sandu David Miron\n",
      "Sandu G. : Sandu D.  -  Sandu George : Sandu David Miron\n",
      "Sandu G. : Sandu E.  -  Sandu George : Sandu Emanuel\n",
      "Sandu Mat. : Sandu Mar.  -  Sandu Matei-Serban : Sandu Marius-Cristian\n",
      "Sin A. : Dinu A.  -  Sin Alexandru : Dinu (Ioniță) Claudia-Andreea\n",
      "Sin A. : Kim A.  -  Sin Alexandru : Kim Alexei\n",
      "Szabó L. : Szabó C.  -  Szabó Luca : Szabó Csaba\n",
      "Szabó M. : Szabó C.  -  Szabó Márk-Richard : Szabó Csaba\n",
      "Szabó M. : Szabó L.  -  Szabó Márk-Richard : Szabó Luca\n",
      "Szabó S. : Szabó C.  -  Szabó Simon Dániel : Szabó Csaba\n",
      "Szabó S. : Szabó L.  -  Szabó Simon Dániel : Szabó Luca\n",
      "Szabó S. : Szabó M.  -  Szabó Simon Dániel : Szabó Márk-Richard\n",
      "Szakács S. : Szakács N.  -  Szakács Szabolcs : Szakács Norbert\n",
      "Tiron L. : Miron E.  -  Tiron Laurențiu : Miron Emanoil-Cristinel\n",
      "Tișu A. : Dinu A.  -  Tișu Andrei : Dinu (Ioniță) Claudia-Andreea\n",
      "Tișu A. : Dițu A.  -  Tișu Andrei : Dițu Ioan-Adrian\n",
      "Tudor C. : Humor C.  -  Tudor Cosmin : Humor Claudiu\n",
      "Tudor C. : Tudor A.  -  Tudor Cosmin : Tudor Aurelia-Mihaela\n",
      "Tudor D. : Tudor A.  -  Tudor Duicu Cătălin : Tudor Aurelia-Mihaela\n",
      "Tudor D. : Tudor C.  -  Tudor Duicu Cătălin : Tudor Cosmin\n",
      "Tîrlea C. : Pîrlea A.  -  Tîrlea Cristian-Emanuel : Pîrlea Andrei Daniel\n",
      "Ungurean R. : Ungurean M.  -  Ungurean Rareș : Ungurean Mircea\n",
      "Ungureanu A. : Ungurean M.  -  Ungureanu Alexandru Cătălin : Ungurean Mircea\n",
      "Ungureanu A. : Ungurean R.  -  Ungureanu Alexandru Cătălin : Ungurean Rareș\n",
      "Ungureanu D. : Ungurean M.  -  Ungureanu Daniela : Ungurean Mircea\n",
      "Ungureanu D. : Ungurean R.  -  Ungureanu Daniela : Ungurean Rareș\n",
      "Ungureanu D. : Ungureanu A.  -  Ungureanu Daniela : Ungureanu Alexandru Cătălin\n",
      "Ungureanu M. : Ungurean M.  -  Ungureanu Nicolae Marius : Ungurean Mircea\n",
      "Ungureanu M. : Ungurean R.  -  Ungureanu Nicolae Marius : Ungurean Rareș\n",
      "Ungureanu M. : Ungureanu A.  -  Ungureanu Nicolae Marius : Ungureanu Alexandru Cătălin\n",
      "Ungureanu M. : Ungureanu D.  -  Ungureanu Nicolae Marius : Ungureanu Daniela\n",
      "Ungureanu N. : Ungurean M.  -  Ungureanu Nicoleta : Ungurean Mircea\n",
      "Ungureanu N. : Ungurean R.  -  Ungureanu Nicoleta : Ungurean Rareș\n",
      "Ungureanu N. : Ungureanu A.  -  Ungureanu Nicoleta : Ungureanu Alexandru Cătălin\n",
      "Ungureanu N. : Ungureanu D.  -  Ungureanu Nicoleta : Ungureanu Daniela\n",
      "Ungureanu N. : Ungureanu M.  -  Ungureanu Nicoleta : Ungureanu Nicolae Marius\n",
      "Vaia E. : Daina E.  -  Vaia Elizabet : Daina Elena-Cristina\n",
      "Vasile R. : Vasile I.  -  Vasile Radu : Vasile Ioan-Codrin\n",
      "Veres C. : Seres L.  -  Veres Cioanta Iustin : Seres Lehel\n",
      "Vicu A. : Dinu A.  -  Vicu Anca : Dinu (Ioniță) Claudia-Andreea\n",
      "Vicu A. : Dițu A.  -  Vicu Anca : Dițu Ioan-Adrian\n",
      "Vicu A. : Tișu A.  -  Vicu Anca : Tișu Andrei\n",
      "Vincze Vl. : Vincze Va.  -  Vincze Vlad : Vincze Valentina\n",
      "Voicu C. : Duicu C.  -  Voicu Constantin : Duicu Claudia Bernadete\n",
      "Voicu C. : Vicu A.  -  Voicu Constantin : Vicu Anca\n",
      "Vrânceanu R. : Vrânceanu L.  -  Vrânceanu Radu : Vrânceanu Laura-Maria\n",
      "Vuia M. : Vaia E.  -  Vuia Magyar Maria : Vaia Elizabet\n",
      "Ștefan E. : Ștefan C.  -  Ștefan Eduard : Ștefan Cristina\n",
      "Ștefan S. : Ștefan C.  -  Ștefan Sebastian : Ștefan Cristina\n",
      "Ștefan S. : Ștefan E.  -  Ștefan Sebastian : Ștefan Eduard\n"
     ]
    }
   ],
   "source": [
    "nkeys=np.sort(list(name_abbr2long.keys()))\n",
    "for ii in range(len(name_abbr2long)):\n",
    "    i=nkeys[ii]\n",
    "    for jj in range(ii):\n",
    "        j=nkeys[jj]\n",
    "        if levenshteinDistance(i,j)<3:\n",
    "            print(i,':',j,' - ',name_abbr2long[i],':',name_abbr2long[j])"
   ]
  },
  {
   "cell_type": "markdown",
   "metadata": {},
   "source": [
    "### 2.3. Infer clubs"
   ]
  },
  {
   "cell_type": "markdown",
   "metadata": {},
   "source": [
    "Infer clubs from name if club is part of name in the competition. Club names in `redflags_clubs` get ignored. Clubs in `club_equals` get replaced _after_ processing. The convention is to have 3 letter all-caps club names for Romanian clubs, 3 letter club names followed by a / and a two letter country code for foreign clubs."
   ]
  },
  {
   "cell_type": "code",
   "execution_count": 23,
   "metadata": {},
   "outputs": [],
   "source": [
    "redflags_clubs=['','N/A','RO1','RO2']\n",
    "club_equals=clubs_loader.club_equals"
   ]
  },
  {
   "cell_type": "markdown",
   "metadata": {},
   "source": [
    "Attach clubs to all_players who have it in their competition name data, but we don't already known from members."
   ]
  },
  {
   "cell_type": "code",
   "execution_count": 24,
   "metadata": {},
   "outputs": [],
   "source": [
    "for name in all_players:\n",
    "    #if we dont already know the club for this year from the members register\n",
    "    if name not in name_abbr2club:    \n",
    "        for year in all_players[name]:\n",
    "            for name_form in all_players[name][year]['names']:\n",
    "                if '(' in name_form:\n",
    "                    club=name_form.split('(')[1].strip()[:-1]\n",
    "                    if club not in redflags_clubs:\n",
    "                        if name not in name_abbr2club:name_abbr2club[name]={}\n",
    "                        name_abbr2club[name][year]=club\n",
    "    else:\n",
    "        for year in all_players[name]:\n",
    "            #else if no club info for particular year\n",
    "            if year not in name_abbr2club[name]:\n",
    "                for name_form in all_players[name][year]['names']:\n",
    "                    if '(' in name_form:\n",
    "                        club=name_form.split('(')[1].strip()[:-1]\n",
    "                        if club not in redflags_clubs:\n",
    "                            name_abbr2club[name][year]=club"
   ]
  },
  {
   "cell_type": "markdown",
   "metadata": {},
   "source": [
    "Normalize club names and long names."
   ]
  },
  {
   "cell_type": "code",
   "execution_count": 25,
   "metadata": {},
   "outputs": [],
   "source": [
    "for name in name_abbr2club:\n",
    "    for year in name_abbr2club[name]:\n",
    "        if name_abbr2club[name][year] in club_equals: \n",
    "            name_abbr2club[name][year]=club_equals[name_abbr2club[name][year]]\n",
    "for name in name_abbr2long:\n",
    "    name_abbr2long[name]=name_abbr2long[name].replace('  ',' ').strip()"
   ]
  },
  {
   "cell_type": "markdown",
   "metadata": {},
   "source": [
    "If club still not found, fill the gaps between years. Forward fill first, then backward fill, if necessary."
   ]
  },
  {
   "cell_type": "code",
   "execution_count": 26,
   "metadata": {},
   "outputs": [],
   "source": [
    "manual_club_needed=set()\n",
    "for name in all_players:\n",
    "    if name in name_abbr2club:\n",
    "        years=np.sort(list(all_players[name].keys()))\n",
    "        minyear1=min(years)\n",
    "        maxyear1=max(years)\n",
    "        minyear2=min(name_abbr2club[name].keys())\n",
    "        maxyear2=min(name_abbr2club[name].keys())\n",
    "                    \n",
    "        if len(years)>1:\n",
    "            for year in range(min(minyear1,minyear2),max(maxyear1,maxyear2)+1):\n",
    "                if year not in name_abbr2club[name]:\n",
    "                    #get club from previous year\n",
    "                    for y in range(years[0],year):\n",
    "                        if y in name_abbr2club[name]:\n",
    "                            name_abbr2club[name][year]=str(name_abbr2club[name][y])\n",
    "                            break\n",
    "                if year not in name_abbr2club[name]:\n",
    "                    #if still not found, get club from next year\n",
    "                    for y in np.arange(years[-1],year,-1):\n",
    "                        if y in name_abbr2club[name]:\n",
    "                            name_abbr2club[name][year]=str(name_abbr2club[name][y])\n",
    "                            break\n",
    "                if year not in name_abbr2club[name]:\n",
    "                    #if still not found, get first known year\n",
    "                    if year<minyear2:\n",
    "                        name_abbr2club[name][year]=str(name_abbr2club[name][minyear2])\n",
    "                    else:\n",
    "                        name_abbr2club[name][year]=str(name_abbr2club[name][maxyear2])\n",
    "    else:\n",
    "        manual_club_needed.add(name)"
   ]
  },
  {
   "cell_type": "markdown",
   "metadata": {},
   "source": [
    "We have extracted what was possible from the data. Now we do a save of short name to long name and club mappings (by year). We then edit this file manually, if necessary."
   ]
  },
  {
   "cell_type": "markdown",
   "metadata": {},
   "source": [
    "### 2.4. Manual club and long name overrides"
   ]
  },
  {
   "cell_type": "code",
   "execution_count": 27,
   "metadata": {},
   "outputs": [],
   "source": [
    "manual_name_needed=set()\n",
    "#check if we dont have first name information, then flag for manual additions\n",
    "for name in name_abbr2long:\n",
    "    names=name_abbr2long[name].split(' ')\n",
    "    if len(names)<2:\n",
    "        manual_name_needed.add(name)\n",
    "    elif len(names[1])<3:\n",
    "        manual_name_needed.add(name) "
   ]
  },
  {
   "cell_type": "code",
   "execution_count": 28,
   "metadata": {},
   "outputs": [],
   "source": [
    "manual_data_override=pd.read_excel('../data/manual/members_manual.xlsx').set_index('name')"
   ]
  },
  {
   "cell_type": "code",
   "execution_count": 29,
   "metadata": {},
   "outputs": [],
   "source": [
    "common_manual=set(manual_club_needed).intersection(set(manual_data_override.index))\n",
    "manual_data_override=manual_data_override.loc[common_manual]"
   ]
  },
  {
   "cell_type": "code",
   "execution_count": null,
   "metadata": {},
   "outputs": [],
   "source": []
  },
  {
   "cell_type": "code",
   "execution_count": 30,
   "metadata": {},
   "outputs": [],
   "source": [
    "manual_data_needed=[]\n",
    "for i in manual_name_needed.union(manual_club_needed):\n",
    "    if i not in list(manual_data_override.index):\n",
    "        dummy={'name':i,'long_name':'','club':''}\n",
    "        if i in name_abbr2club:\n",
    "            dummy['club']=name_abbr2club[name][max(list(name_abbr2club[name].keys()))]\n",
    "        if i in manual_club_needed:\n",
    "            if i in name_abbr2long:\n",
    "                dummy['long_name']=name_abbr2long[i]\n",
    "        manual_data_needed.append(dummy)"
   ]
  },
  {
   "cell_type": "code",
   "execution_count": 31,
   "metadata": {},
   "outputs": [],
   "source": [
    "df=pd.DataFrame(manual_data_needed).set_index('name')\n",
    "df=pd.concat([manual_data_override,df]).drop_duplicates().sort_index()"
   ]
  },
  {
   "cell_type": "code",
   "execution_count": 32,
   "metadata": {},
   "outputs": [],
   "source": [
    "df.to_excel('../data/manual/members_manual.xlsx')"
   ]
  },
  {
   "cell_type": "markdown",
   "metadata": {},
   "source": [
    "Extend with manual data"
   ]
  },
  {
   "cell_type": "code",
   "execution_count": 33,
   "metadata": {},
   "outputs": [],
   "source": [
    "for i in df['long_name'].replace('',np.nan).dropna().index:\n",
    "    name_abbr2long[i]=df.loc[i]['long_name']\n",
    "    all_players_r[name_abbr2long[i]]=i"
   ]
  },
  {
   "cell_type": "code",
   "execution_count": 34,
   "metadata": {},
   "outputs": [],
   "source": [
    "manual_club_needed=set()\n",
    "for name in all_players:\n",
    "    years=np.sort(list(all_players[name].keys()))\n",
    "    minyear=min(years)\n",
    "    maxyear=max(years)\n",
    "    for year in range(minyear,maxyear+1):\n",
    "        if name not in name_abbr2club:name_abbr2club[name]={}\n",
    "        if year not in name_abbr2club[name]:\n",
    "            if name in df['club'].replace('',np.nan).dropna().index:\n",
    "                name_abbr2club[name][year]=df.loc[name]['club']\n",
    "            else:\n",
    "                name_abbr2club[name][year]='XXX'"
   ]
  },
  {
   "cell_type": "markdown",
   "metadata": {},
   "source": [
    "Update and overwrite with club existence data"
   ]
  },
  {
   "cell_type": "markdown",
   "metadata": {},
   "source": [
    "## 3. Update members  \n",
    "Extend members data with data mined from matches"
   ]
  },
  {
   "cell_type": "markdown",
   "metadata": {},
   "source": [
    "Extend members with unregistered members. Probably inactive now, or from abroad. Only that one year when he appared in competition. But we only register them as known to be active that year. This is in ontrast with the `Inactive` members from the registry, for whom we know when did they go inactive."
   ]
  },
  {
   "cell_type": "code",
   "execution_count": 35,
   "metadata": {},
   "outputs": [],
   "source": [
    "unregistered_members=[]\n",
    "for name in all_players:\n",
    "    if name not in set(members_clean['name_abbr'].values):\n",
    "        years=np.sort(list(name_abbr2club[name].keys()))\n",
    "        for year in range(min(years),max(years)+1):\n",
    "            if year in all_players[name]:\n",
    "                iyear=year\n",
    "            else:\n",
    "                iyear=max(years)\n",
    "            club,country=clubs_loader.club_cleaner(name_abbr2club[name][year])\n",
    "            if country=='RO':\n",
    "                activ='Active'\n",
    "                dan=''#dan=0\n",
    "            else:\n",
    "                activ='Abroad'\n",
    "                dan=''\n",
    "            unregistered_members.append({'name':name_abbr2long[name],'name_abbr':name,\n",
    "                    'club':club,'active':activ,'year':year,'dan':dan,'country':country,'source':'matches'})"
   ]
  },
  {
   "cell_type": "code",
   "execution_count": 36,
   "metadata": {},
   "outputs": [],
   "source": [
    "members_clean['country']='RO'\n",
    "members_clean['source']='member list'"
   ]
  },
  {
   "cell_type": "code",
   "execution_count": 49,
   "metadata": {},
   "outputs": [
    {
     "name": "stderr",
     "output_type": "stream",
     "text": [
      "C:\\Users\\csala\\AppData\\Local\\Continuum\\anaconda2\\envs\\python3\\lib\\site-packages\\ipykernel_launcher.py:1: FutureWarning: Sorting because non-concatenation axis is not aligned. A future version\n",
      "of pandas will change to not sort by default.\n",
      "\n",
      "To accept the future behavior, pass 'sort=False'.\n",
      "\n",
      "To retain the current behavior and silence the warning, pass 'sort=True'.\n",
      "\n",
      "  \"\"\"Entry point for launching an IPython kernel.\n"
     ]
    }
   ],
   "source": [
    "members_updated=pd.concat([members_clean,pd.DataFrame(unregistered_members)]).reset_index(drop=True)"
   ]
  },
  {
   "cell_type": "markdown",
   "metadata": {},
   "source": [
    "Extend 0 dan down to starting year."
   ]
  },
  {
   "cell_type": "code",
   "execution_count": 50,
   "metadata": {},
   "outputs": [
    {
     "name": "stdout",
     "output_type": "stream",
     "text": [
      "1993 CR\n",
      "1997 CR\n",
      "1998 CR\n",
      "2009 CR\n",
      "2009 CN\n",
      "2010 CR\n",
      "2010 CN\n",
      "2011 CR\n",
      "2011 CN\n",
      "2012 CR\n",
      "2012 CN\n",
      "2013 CR\n",
      "2013 CN\n",
      "2013 SL\n",
      "2014 CR\n",
      "2014 CN\n",
      "2014 SL\n",
      "2015 CR\n",
      "2015 CN\n",
      "2015 SL\n",
      "2016 CR\n",
      "2016 CN\n",
      "2016 SL\n",
      "2017 CR\n",
      "2017 CN\n",
      "2017 SL\n",
      "2018 CR\n",
      "2018 CN\n",
      "2018 SL\n"
     ]
    }
   ],
   "source": [
    "members_mu_dan_extensions=[]\n",
    "members_by_name=members_updated.set_index(['name_abbr'])\n",
    "for year in matches:\n",
    "    members_by_year=members_updated.set_index(['year']).loc[year]\n",
    "    for competition in matches[year]:\n",
    "        print(year,competition)\n",
    "        for k in matches[year][competition]:\n",
    "            aka=k['aka']['name']\n",
    "            shiro=k['shiro']['name']\n",
    "            if (name_ok(aka)) and\\\n",
    "               (name_ok(shiro)) and\\\n",
    "               (name_cleaner(aka) in all_players) and\\\n",
    "               (name_cleaner(shiro) in all_players):\n",
    "                for a in ['aka','shiro']:\n",
    "                    for h in k[a]:\n",
    "                        if h=='name':\n",
    "                            name=k[a][h]\n",
    "                            rname=all_players_r[name]\n",
    "                            if rname in list(members_by_name.index):\n",
    "                                if rname not in members_by_year['name_abbr'].values:\n",
    "                                    dummy=members_by_name.loc[[rname]]\n",
    "                                    minyear=min(dummy['year'])\n",
    "                                    maxyear=max(dummy['year'])\n",
    "                                    if year>maxyear:\n",
    "                                        dummy=dummy[dummy['year']==maxyear]\n",
    "                                        yeardiff=min(dummy['year'])-year\n",
    "                                    else:\n",
    "                                        dummy=dummy[dummy['year']==minyear]\n",
    "                                        yeardiff=year-max(dummy['year'])\n",
    "                                    dummy=dummy.reset_index()\n",
    "                                    dummy['year']=year\n",
    "                                    dummy['dan']=0\n",
    "                                    dummy['age']=dummy['age']+yeardiff\n",
    "                                    dummy['source']='matches, mu dan'\n",
    "                                    members_mu_dan_extensions.append(dummy)\n",
    "                            #if only appears in competition in one year, then not in members table\n",
    "                            else:\n",
    "                                print(rname,year)\n",
    "                                #fix in unregistered_members"
   ]
  },
  {
   "cell_type": "markdown",
   "metadata": {},
   "source": [
    "Update members"
   ]
  },
  {
   "cell_type": "code",
   "execution_count": 51,
   "metadata": {},
   "outputs": [
    {
     "name": "stderr",
     "output_type": "stream",
     "text": [
      "C:\\Users\\csala\\AppData\\Local\\Continuum\\anaconda2\\envs\\python3\\lib\\site-packages\\ipykernel_launcher.py:2: FutureWarning: Sorting because non-concatenation axis is not aligned. A future version\n",
      "of pandas will change to not sort by default.\n",
      "\n",
      "To accept the future behavior, pass 'sort=False'.\n",
      "\n",
      "To retain the current behavior and silence the warning, pass 'sort=True'.\n",
      "\n",
      "  \n"
     ]
    }
   ],
   "source": [
    "members_mu_dan_extensions=pd.concat(members_mu_dan_extensions)\n",
    "members_updated=pd.concat([members_updated,members_mu_dan_extensions]).reset_index(drop=True)"
   ]
  },
  {
   "cell_type": "markdown",
   "metadata": {},
   "source": [
    "Prettify club names, and IDs"
   ]
  },
  {
   "cell_type": "code",
   "execution_count": 52,
   "metadata": {},
   "outputs": [
    {
     "name": "stderr",
     "output_type": "stream",
     "text": [
      "C:\\Users\\csala\\OneDrive\\Github\\try-something-new-everyday\\blog\\kendo romania\\scripts\\clubs_loader.py:86: RuntimeWarning: invalid value encountered in greater\n",
      "  if year>df['end']:\n"
     ]
    }
   ],
   "source": [
    "clubs=[]\n",
    "pclubs=[]\n",
    "countries=[]\n",
    "for i in members_updated.index:\n",
    "    club=members_updated.loc[i]['club']\n",
    "    country=members_updated.loc[i]['country']\n",
    "    year=members_updated.loc[i]['year']\n",
    "    club,country=clubs_loader.club_cleaner(club,country)\n",
    "    club,pclub=clubs_loader.club_year(club,country,year)\n",
    "    clubs.append(club)\n",
    "    pclubs.append(pclub)\n",
    "    countries.append(country)"
   ]
  },
  {
   "cell_type": "code",
   "execution_count": 53,
   "metadata": {},
   "outputs": [],
   "source": [
    "members_updated['club']=clubs\n",
    "members_updated['pretty_club']=pclubs\n",
    "members_updated['country']=countries"
   ]
  },
  {
   "cell_type": "markdown",
   "metadata": {},
   "source": [
    "Fix unknwown genders"
   ]
  },
  {
   "cell_type": "code",
   "execution_count": 54,
   "metadata": {},
   "outputs": [],
   "source": [
    "manual_mf_data_override=pd.read_excel('../data/manual/members_mf_manual.xlsx')"
   ]
  },
  {
   "cell_type": "code",
   "execution_count": 55,
   "metadata": {},
   "outputs": [],
   "source": [
    "manual_mf_data_needed=members_updated[(members_updated['gen']!='M')&(members_updated['gen']!='F')][['name_abbr','name']]\\\n",
    "        .drop_duplicates()"
   ]
  },
  {
   "cell_type": "code",
   "execution_count": 56,
   "metadata": {},
   "outputs": [],
   "source": [
    "df=manual_mf_data_needed#.merge(manual_mf_data_override[['name_abbr','gen']],'outer').drop_duplicates()\n",
    "df.to_excel('../data/manual/members_mf_manual.xlsx')"
   ]
  },
  {
   "cell_type": "markdown",
   "metadata": {},
   "source": [
    "Update members with manual gender data."
   ]
  },
  {
   "cell_type": "code",
   "execution_count": 57,
   "metadata": {},
   "outputs": [],
   "source": [
    "members_updated=members_updated.reset_index(drop=True).drop_duplicates()"
   ]
  },
  {
   "cell_type": "code",
   "execution_count": 58,
   "metadata": {},
   "outputs": [],
   "source": [
    "gens=[]\n",
    "for i in members_updated.index:\n",
    "    name=members_updated.loc[i]['name_abbr']\n",
    "    if name in list(df.index):\n",
    "        gens.append(df.loc[name])\n",
    "    else:\n",
    "        gens.append(members_updated.loc[i]['gen'])"
   ]
  },
  {
   "cell_type": "code",
   "execution_count": 59,
   "metadata": {},
   "outputs": [],
   "source": [
    "members_updated['gen']=gens"
   ]
  },
  {
   "cell_type": "markdown",
   "metadata": {},
   "source": [
    "Save to `/data/export`."
   ]
  },
  {
   "cell_type": "code",
   "execution_count": 60,
   "metadata": {},
   "outputs": [],
   "source": [
    "members_updated.to_csv('../data/export/members.csv')"
   ]
  },
  {
   "cell_type": "code",
   "execution_count": 61,
   "metadata": {},
   "outputs": [],
   "source": [
    "clubs_updated=members_updated.groupby(['club','country','pretty_club','year'])[['name_abbr']].count()\n",
    "clubs_updated=clubs_updated.reset_index().set_index('club').join(clubs_loader.club_year_df['Oraș'])\n",
    "clubs_updated.to_csv('../data/export/clubs.csv')"
   ]
  },
  {
   "cell_type": "markdown",
   "metadata": {},
   "source": [
    "## 4. Update matches  \n",
    "Update and save cleaned match data"
   ]
  },
  {
   "cell_type": "code",
   "execution_count": 62,
   "metadata": {},
   "outputs": [
    {
     "name": "stdout",
     "output_type": "stream",
     "text": [
      "1993 CR\n",
      "1997 CR\n",
      "1998 CR\n",
      "2009 CR\n",
      "2009 CN\n",
      "2010 CR\n",
      "2010 CN\n",
      "2011 CR\n",
      "2011 CN\n",
      "2012 CR\n",
      "2012 CN\n",
      "2013 CR\n",
      "2013 CN\n",
      "2013 SL\n",
      "2014 CR\n",
      "2014 CN\n",
      "2014 SL\n",
      "2015 CR\n",
      "2015 CN\n",
      "2015 SL\n",
      "2016 CR\n",
      "2016 CN\n",
      "2016 SL\n",
      "2017 CR\n",
      "2017 CN\n",
      "2017 SL\n",
      "2018 CR\n",
      "2018 CN\n",
      "2018 SL\n"
     ]
    }
   ],
   "source": [
    "master_matches=[]\n",
    "for year in matches:\n",
    "    members_by_year=members_updated.set_index(['year']).loc[year].drop_duplicates()\n",
    "    for competition in matches[year]:\n",
    "        print(year,competition)\n",
    "        for k in matches[year][competition]:\n",
    "            good=True\n",
    "            match={'year':year,'competition':competition}\n",
    "            match['match_category'],match['match_teams'],match['match_phase']=point_utils.match_cleaner(year,k['match_type'])\n",
    "            if 'shinpan' in k:\n",
    "                for color in ['fukushin1','shushin','fukushin2']:\n",
    "                    if color in k['shinpan']:\n",
    "                        if k['shinpan'][color] in all_players_r:\n",
    "                            #normalize shinpan names\n",
    "                            match[color]=name_abbr2long[all_players_r[k['shinpan'][color]]]\n",
    "            aka=k['aka']['name']\n",
    "            shiro=k['shiro']['name']\n",
    "            if (name_ok(aka)) and\\\n",
    "               (name_ok(shiro)) and\\\n",
    "               (name_cleaner(aka) in all_players) and\\\n",
    "               (name_cleaner(shiro) in all_players):\n",
    "                for a in ['aka','shiro']:\n",
    "                    points=''\n",
    "                    for h in k[a]:\n",
    "                        if h=='name':\n",
    "                            name=k[a][h]\n",
    "                            #normalize competitor names\n",
    "                            rname=all_players_r[name]\n",
    "                            df=members_by_year[members_by_year['name_abbr']==rname]\n",
    "                            match[a+' name']=name_abbr2long[rname]\n",
    "                        else:\n",
    "                            point=k[a][h]\n",
    "                            if str(point)=='nan': point=''\n",
    "                            points=points+point\n",
    "                    good=point_utils.point_redflags(points)\n",
    "                    if good:\n",
    "                        match[a+' point1'],match[a+' point2'],match[a+' points'],\\\n",
    "                                match[a+' hansoku'],match['encho']=point_utils.points_cleaner(points)\n",
    "            else:\n",
    "                good=False                \n",
    "            if good:\n",
    "                if 'outcome' in k:\n",
    "                    match['encho']=point_utils.outcome_cleaner(k['outcome'])\n",
    "                else: \n",
    "                    match['encho']=False\n",
    "                match['winner'],match['difference']=point_utils.outcome_from_points(match['aka points'],match['shiro points'])\n",
    "\n",
    "                master_matches.append(match)"
   ]
  },
  {
   "cell_type": "markdown",
   "metadata": {},
   "source": [
    "Clean up and save matches for display"
   ]
  },
  {
   "cell_type": "code",
   "execution_count": 63,
   "metadata": {},
   "outputs": [],
   "source": [
    "data=pd.DataFrame(master_matches).reset_index(drop=True)"
   ]
  },
  {
   "cell_type": "code",
   "execution_count": 64,
   "metadata": {},
   "outputs": [
    {
     "name": "stdout",
     "output_type": "stream",
     "text": [
      "Saving matches...\n",
      "Saving players...\n",
      "Saving points...\n"
     ]
    },
    {
     "name": "stderr",
     "output_type": "stream",
     "text": [
      "C:\\Users\\csala\\OneDrive\\Github\\try-something-new-everyday\\blog\\kendo romania\\scripts\\save_utils.py:10: SettingWithCopyWarning: \n",
      "A value is trying to be set on a copy of a slice from a DataFrame.\n",
      "Try using .loc[row_indexer,col_indexer] = value instead\n",
      "\n",
      "See the caveats in the documentation: http://pandas.pydata.org/pandas-docs/stable/indexing.html#indexing-view-versus-copy\n",
      "  aka['color']='aka'\n",
      "C:\\Users\\csala\\OneDrive\\Github\\try-something-new-everyday\\blog\\kendo romania\\scripts\\save_utils.py:11: SettingWithCopyWarning: \n",
      "A value is trying to be set on a copy of a slice from a DataFrame.\n",
      "Try using .loc[row_indexer,col_indexer] = value instead\n",
      "\n",
      "See the caveats in the documentation: http://pandas.pydata.org/pandas-docs/stable/indexing.html#indexing-view-versus-copy\n",
      "  aka['opponent']=data['shiro name']\n",
      "C:\\Users\\csala\\OneDrive\\Github\\try-something-new-everyday\\blog\\kendo romania\\scripts\\save_utils.py:15: SettingWithCopyWarning: \n",
      "A value is trying to be set on a copy of a slice from a DataFrame.\n",
      "Try using .loc[row_indexer,col_indexer] = value instead\n",
      "\n",
      "See the caveats in the documentation: http://pandas.pydata.org/pandas-docs/stable/indexing.html#indexing-view-versus-copy\n",
      "  shiro['color']='shiro'\n",
      "C:\\Users\\csala\\OneDrive\\Github\\try-something-new-everyday\\blog\\kendo romania\\scripts\\save_utils.py:16: SettingWithCopyWarning: \n",
      "A value is trying to be set on a copy of a slice from a DataFrame.\n",
      "Try using .loc[row_indexer,col_indexer] = value instead\n",
      "\n",
      "See the caveats in the documentation: http://pandas.pydata.org/pandas-docs/stable/indexing.html#indexing-view-versus-copy\n",
      "  shiro['opponent']=data['aka name']\n",
      "C:\\Users\\csala\\OneDrive\\Github\\try-something-new-everyday\\blog\\kendo romania\\scripts\\save_utils.py:18: FutureWarning: Sorting because non-concatenation axis is not aligned. A future version\n",
      "of pandas will change to not sort by default.\n",
      "\n",
      "To accept the future behavior, pass 'sort=False'.\n",
      "\n",
      "To retain the current behavior and silence the warning, pass 'sort=True'.\n",
      "\n",
      "  extended_matches=pd.concat([aka,shiro],axis=0).reset_index(drop=True)\n",
      "C:\\Users\\csala\\AppData\\Local\\Continuum\\anaconda2\\envs\\python3\\lib\\site-packages\\pandas\\core\\frame.py:3781: SettingWithCopyWarning: \n",
      "A value is trying to be set on a copy of a slice from a DataFrame\n",
      "\n",
      "See the caveats in the documentation: http://pandas.pydata.org/pandas-docs/stable/indexing.html#indexing-view-versus-copy\n",
      "  return super(DataFrame, self).rename(**kwargs)\n"
     ]
    },
    {
     "name": "stdout",
     "output_type": "stream",
     "text": [
      "Saving shinpan...\n"
     ]
    },
    {
     "name": "stderr",
     "output_type": "stream",
     "text": [
      "C:\\Users\\csala\\OneDrive\\Github\\try-something-new-everyday\\blog\\kendo romania\\scripts\\save_utils.py:34: FutureWarning: Sorting because non-concatenation axis is not aligned. A future version\n",
      "of pandas will change to not sort by default.\n",
      "\n",
      "To accept the future behavior, pass 'sort=False'.\n",
      "\n",
      "To retain the current behavior and silence the warning, pass 'sort=True'.\n",
      "\n",
      "  extended_shinpan=pd.concat([shu,fk1,fk2],axis=0).reset_index(drop=True)\n"
     ]
    }
   ],
   "source": [
    "save_utils.save(data)"
   ]
  },
  {
   "cell_type": "code",
   "execution_count": null,
   "metadata": {},
   "outputs": [],
   "source": []
  },
  {
   "cell_type": "code",
   "execution_count": null,
   "metadata": {},
   "outputs": [],
   "source": []
  },
  {
   "cell_type": "code",
   "execution_count": null,
   "metadata": {},
   "outputs": [],
   "source": []
  },
  {
   "cell_type": "code",
   "execution_count": null,
   "metadata": {},
   "outputs": [],
   "source": []
  }
 ],
 "metadata": {
  "kernelspec": {
   "display_name": "Python 3",
   "language": "python",
   "name": "python3"
  },
  "language_info": {
   "codemirror_mode": {
    "name": "ipython",
    "version": 3
   },
   "file_extension": ".py",
   "mimetype": "text/x-python",
   "name": "python",
   "nbconvert_exporter": "python",
   "pygments_lexer": "ipython3",
   "version": "3.6.6"
  },
  "toc": {
   "base_numbering": 1,
   "nav_menu": {},
   "number_sections": true,
   "sideBar": true,
   "skip_h1_title": false,
   "title_cell": "Table of Contents",
   "title_sidebar": "Contents",
   "toc_cell": false,
   "toc_position": {},
   "toc_section_display": true,
   "toc_window_display": false
  }
 },
 "nbformat": 4,
 "nbformat_minor": 2
}
