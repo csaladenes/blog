{
 "cells": [
  {
   "cell_type": "code",
   "execution_count": 5,
   "metadata": {
    "ExecuteTime": {
     "end_time": "2018-11-29T20:55:53.086841Z",
     "start_time": "2018-11-29T20:55:49.243313Z"
    }
   },
   "outputs": [],
   "source": [
    "import pandas as pd, numpy as np\n",
    "import kendo_romania"
   ]
  },
  {
   "cell_type": "markdown",
   "metadata": {},
   "source": [
    "Read data"
   ]
  },
  {
   "cell_type": "code",
   "execution_count": 6,
   "metadata": {
    "ExecuteTime": {
     "end_time": "2018-11-29T20:55:53.097847Z",
     "start_time": "2018-11-29T20:55:53.089844Z"
    }
   },
   "outputs": [],
   "source": [
    "matches={i:{} for i in range(1993,2019)}"
   ]
  },
  {
   "cell_type": "raw",
   "metadata": {},
   "source": [
    "Import data"
   ]
  },
  {
   "cell_type": "markdown",
   "metadata": {},
   "source": [
    "## 2018"
   ]
  },
  {
   "cell_type": "markdown",
   "metadata": {},
   "source": [
    "### CR"
   ]
  },
  {
   "cell_type": "code",
   "execution_count": 7,
   "metadata": {
    "ExecuteTime": {
     "end_time": "2018-11-29T20:55:53.732851Z",
     "start_time": "2018-11-29T20:55:53.107847Z"
    }
   },
   "outputs": [],
   "source": [
    "filename='rawdata/2018/CR/CR25 - Public.xlsx'\n",
    "sheetname='List of matches'\n",
    "column_keys={'match_type':2,'aka':{'name':5,'hansoku':6,'point1':7,'point2':8,'point3':9},\n",
    "             'shiro':{'name':15,'hansoku':14,'point1':11,'point2':12,'point3':13},'outcome':10,\n",
    "             'shinpan':{'fukushin1':16,'shushin':17,'fukushin2':18}}\n",
    "matches[2018]['CR']=kendo_romania.get_matches_from_list(filename,sheetname,column_keys,3)"
   ]
  },
  {
   "cell_type": "markdown",
   "metadata": {},
   "source": [
    "### SL"
   ]
  },
  {
   "cell_type": "code",
   "execution_count": 8,
   "metadata": {
    "ExecuteTime": {
     "end_time": "2018-11-29T20:55:54.069848Z",
     "start_time": "2018-11-29T20:55:53.736847Z"
    }
   },
   "outputs": [],
   "source": [
    "filename='rawdata/2018/SL/Prezenta SL_WKC17.xlsx'\n",
    "sheetname=['F','M']\n",
    "matches[2018]['SL']=kendo_romania.get_matches_from_table(filename,sheetname,5)"
   ]
  },
  {
   "cell_type": "markdown",
   "metadata": {},
   "source": [
    "## 2017"
   ]
  },
  {
   "cell_type": "markdown",
   "metadata": {},
   "source": [
    "### CN"
   ]
  },
  {
   "cell_type": "code",
   "execution_count": 9,
   "metadata": {
    "ExecuteTime": {
     "end_time": "2018-11-29T20:55:54.460844Z",
     "start_time": "2018-11-29T20:55:54.071842Z"
    }
   },
   "outputs": [],
   "source": [
    "categories=['Individual masculin','Echipe']\n",
    "filename=['rawdata/2017/CN/'+i+'.xlsx' for i in categories]\n",
    "sheetname='List of matches'\n",
    "column_keys={'match_type':2,'aka':{'name':5,'hansoku':6,'point1':7,'point2':8,'point3':9},\n",
    "             'shiro':{'name':15,'hansoku':14,'point1':11,'point2':12,'point3':13},'outcome':10,\n",
    "             'shinpan':{'fukushin1':16,'shushin':17,'fukushin2':18}}\n",
    "shift=0\n",
    "matches[2017]['CN']=kendo_romania.get_matches_from_list(filename,sheetname,column_keys,3,shift=shift)"
   ]
  },
  {
   "cell_type": "code",
   "execution_count": 10,
   "metadata": {
    "ExecuteTime": {
     "end_time": "2018-11-29T20:55:54.796362Z",
     "start_time": "2018-11-29T20:55:54.466843Z"
    }
   },
   "outputs": [],
   "source": [
    "categories=['Individual juniori mici','Individual juniori mari','Individual feminin']\n",
    "filename=['rawdata/2017/CN/'+i+'.xlsx' for i in categories]\n",
    "shift=-1\n",
    "matches[2017]['CN']=matches[2017]['CN']+\\\n",
    "        kendo_romania.get_matches_from_list(filename,sheetname,column_keys,3,shift=shift)"
   ]
  },
  {
   "cell_type": "markdown",
   "metadata": {},
   "source": [
    "### CR"
   ]
  },
  {
   "cell_type": "code",
   "execution_count": 11,
   "metadata": {
    "ExecuteTime": {
     "end_time": "2018-11-29T20:55:54.943892Z",
     "start_time": "2018-11-29T20:55:54.800365Z"
    }
   },
   "outputs": [],
   "source": [
    "categories=['Individual masculin']\n",
    "filename=['rawdata/2017/CR/'+i+'.xlsx' for i in categories]\n",
    "sheetname='List of matches'\n",
    "column_keys={'match_type':2,'aka':{'name':5,'hansoku':6,'point1':7,'point2':8,'point3':9},\n",
    "             'shiro':{'name':15,'hansoku':14,'point1':11,'point2':12,'point3':13},'outcome':10}\n",
    "shift=2\n",
    "matches[2017]['CR']=kendo_romania.get_matches_from_list(filename,sheetname,column_keys,3,shift=shift)"
   ]
  },
  {
   "cell_type": "code",
   "execution_count": 12,
   "metadata": {
    "ExecuteTime": {
     "end_time": "2018-11-29T20:55:55.825906Z",
     "start_time": "2018-11-29T20:55:54.947895Z"
    }
   },
   "outputs": [],
   "source": [
    "categories=['Individual juniori','Individual veterani','Individual feminin']\n",
    "filename=['rawdata/2017/CR/'+i+'.xlsx' for i in categories]\n",
    "shift=-1\n",
    "matches[2017]['CR']=matches[2017]['CR']+\\\n",
    "        kendo_romania.get_matches_from_list(filename,sheetname,column_keys,3,shift=shift)"
   ]
  },
  {
   "cell_type": "code",
   "execution_count": 13,
   "metadata": {
    "ExecuteTime": {
     "end_time": "2018-11-29T20:55:55.952900Z",
     "start_time": "2018-11-29T20:55:55.827891Z"
    }
   },
   "outputs": [],
   "source": [
    "categories=['Echipe']\n",
    "filename=['rawdata/2017/CR/'+i+'.xlsx' for i in categories]\n",
    "shift=0\n",
    "matches[2017]['CR']=matches[2017]['CR']+\\\n",
    "        kendo_romania.get_matches_from_list(filename,sheetname,column_keys,3,shift=shift)"
   ]
  },
  {
   "cell_type": "markdown",
   "metadata": {},
   "source": [
    "### SL"
   ]
  },
  {
   "cell_type": "code",
   "execution_count": 14,
   "metadata": {
    "ExecuteTime": {
     "end_time": "2018-11-29T20:55:56.144434Z",
     "start_time": "2018-11-29T20:55:55.956896Z"
    }
   },
   "outputs": [],
   "source": [
    "filename='rawdata/2017/SL/Prezenta.xlsx'\n",
    "sheetname=['F','M','J']\n",
    "matches[2017]['SL']=kendo_romania.get_matches_from_table(filename,sheetname,6)"
   ]
  },
  {
   "cell_type": "markdown",
   "metadata": {},
   "source": [
    "## 2016"
   ]
  },
  {
   "cell_type": "markdown",
   "metadata": {},
   "source": [
    "### SL"
   ]
  },
  {
   "cell_type": "code",
   "execution_count": 15,
   "metadata": {
    "ExecuteTime": {
     "end_time": "2018-11-29T20:56:32.810676Z",
     "start_time": "2018-11-29T20:56:32.590678Z"
    }
   },
   "outputs": [],
   "source": [
    "filename='rawdata/2016/SL/Event management - stagiul 4.xlsx'\n",
    "sheetname=['F','M']\n",
    "matches[2016]['SL']=kendo_romania.get_matches_from_table(filename,sheetname,6)"
   ]
  },
  {
   "cell_type": "code",
   "execution_count": 16,
   "metadata": {
    "ExecuteTime": {
     "end_time": "2018-11-29T20:56:33.442117Z",
     "start_time": "2018-11-29T20:56:33.300584Z"
    }
   },
   "outputs": [],
   "source": [
    "sheetname=['J']\n",
    "matches[2016]['SL']=matches[2016]['SL']+\\\n",
    "        kendo_romania.get_matches_from_table(filename,sheetname,5)"
   ]
  },
  {
   "cell_type": "markdown",
   "metadata": {},
   "source": [
    "### CN"
   ]
  },
  {
   "cell_type": "code",
   "execution_count": 17,
   "metadata": {
    "ExecuteTime": {
     "end_time": "2018-11-29T20:56:33.904654Z",
     "start_time": "2018-11-29T20:56:33.777645Z"
    }
   },
   "outputs": [],
   "source": [
    "categories=['Individual masculin']\n",
    "filename=['rawdata/2016/CN/'+i+'.xlsx' for i in categories]\n",
    "sheetname='List of matches'\n",
    "column_keys={'match_type':2,'aka':{'name':5,'hansoku':6,'point1':7,'point2':8,'point3':9},\n",
    "             'shiro':{'name':15,'hansoku':14,'point1':11,'point2':12,'point3':13},'outcome':10}\n",
    "shift=2\n",
    "matches[2016]['CN']=kendo_romania.get_matches_from_list(filename,sheetname,column_keys,3,shift=shift)"
   ]
  },
  {
   "cell_type": "code",
   "execution_count": 18,
   "metadata": {
    "ExecuteTime": {
     "end_time": "2018-11-29T20:56:36.866621Z",
     "start_time": "2018-11-29T20:56:36.786619Z"
    }
   },
   "outputs": [],
   "source": [
    "categories=['Individual feminin']\n",
    "filename=['rawdata/2016/CN/'+i+'.xlsx' for i in categories]\n",
    "shift=-1\n",
    "matches[2016]['CN']=matches[2016]['CN']+\\\n",
    "        kendo_romania.get_matches_from_list(filename,sheetname,column_keys,3,shift=shift)"
   ]
  },
  {
   "cell_type": "code",
   "execution_count": 19,
   "metadata": {
    "ExecuteTime": {
     "end_time": "2018-11-29T20:56:37.731502Z",
     "start_time": "2018-11-29T20:56:37.517460Z"
    }
   },
   "outputs": [],
   "source": [
    "categories=['Echipe','Male team']\n",
    "filename=['rawdata/2016/CN/'+i+'.xlsx' for i in categories]\n",
    "shift=0\n",
    "matches[2016]['CN']=matches[2016]['CN']+\\\n",
    "        kendo_romania.get_matches_from_list(filename,sheetname,column_keys,3,shift=shift)"
   ]
  },
  {
   "cell_type": "code",
   "execution_count": 20,
   "metadata": {
    "ExecuteTime": {
     "end_time": "2018-11-29T20:56:41.529215Z",
     "start_time": "2018-11-29T20:56:41.428211Z"
    }
   },
   "outputs": [],
   "source": [
    "categories=['Junior 1 individual','Junior 2 individual']\n",
    "filename=['rawdata/2016/CN/'+i+'.xlsx' for i in categories]\n",
    "shift=-1\n",
    "matches[2016]['CN']=matches[2016]['CN']+\\\n",
    "        kendo_romania.get_matches_from_list(filename,sheetname,column_keys,3,shift=shift)"
   ]
  },
  {
   "cell_type": "markdown",
   "metadata": {},
   "source": [
    "### CR"
   ]
  },
  {
   "cell_type": "code",
   "execution_count": 21,
   "metadata": {},
   "outputs": [],
   "source": [
    "filename='rawdata/2016/CR/Event management_CR23.2016.xlsx'\n",
    "sheetname=['IF_m','IJ_m','IM_m','IS_m']\n",
    "column_keys={'match_type':0,'aka':{'name':1,'point1':2},\n",
    "             'shiro':{'name':6,'point1':5},'outcome':3,\n",
    "             'shinpan':{'fukushin1':7,'shushin':8,'fukushin2':9}}\n",
    "shift=0\n",
    "matches[2016]['CR']=kendo_romania.get_matches_from_list(filename,sheetname,column_keys,4,shift=shift)"
   ]
  },
  {
   "cell_type": "code",
   "execution_count": 22,
   "metadata": {},
   "outputs": [],
   "source": [
    "sheetname=['EJ_m','ES_m']\n",
    "matches[2016]['CR']=matches[2016]['CR']+\\\n",
    "        kendo_romania.get_matches_from_list(filename,sheetname,column_keys,6,shift=shift)"
   ]
  },
  {
   "cell_type": "markdown",
   "metadata": {},
   "source": [
    "## 2015"
   ]
  },
  {
   "cell_type": "markdown",
   "metadata": {},
   "source": [
    "### SL"
   ]
  },
  {
   "cell_type": "code",
   "execution_count": 23,
   "metadata": {
    "ExecuteTime": {
     "end_time": "2018-11-29T21:07:14.327308Z",
     "start_time": "2018-11-29T21:07:13.998160Z"
    }
   },
   "outputs": [],
   "source": [
    "filename='rawdata/2015/SL/Event management - stagiul 5.xlsx'\n",
    "sheetname=['SF_s','SM_s']\n",
    "matches[2015]['SL']=kendo_romania.get_matches_from_table(filename,sheetname,6)"
   ]
  },
  {
   "cell_type": "markdown",
   "metadata": {},
   "source": [
    "### CN"
   ]
  },
  {
   "cell_type": "code",
   "execution_count": 24,
   "metadata": {
    "ExecuteTime": {
     "end_time": "2018-11-29T21:18:17.819409Z",
     "start_time": "2018-11-29T21:18:04.270176Z"
    }
   },
   "outputs": [],
   "source": [
    "filename='rawdata/2015/CN/Event management_CN22.2015.xlsx'\n",
    "sheetname=['IF_m','IJ2_m','IM_m']\n",
    "column_keys={'match_type':0,'aka':{'name':1,'point1':2},\n",
    "             'shiro':{'name':6,'point1':5},'outcome':3,\n",
    "             'shinpan':{'fukushin1':7,'shushin':8,'fukushin2':9}}\n",
    "shift=0\n",
    "matches[2015]['CN']=kendo_romania.get_matches_from_list(filename,sheetname,column_keys,4,shift=shift)"
   ]
  },
  {
   "cell_type": "code",
   "execution_count": 25,
   "metadata": {
    "ExecuteTime": {
     "end_time": "2018-11-29T21:19:14.318250Z",
     "start_time": "2018-11-29T21:19:14.309249Z"
    }
   },
   "outputs": [],
   "source": [
    "sheetname='E_m'\n",
    "matches[2015]['CN']=matches[2015]['CN']+\\\n",
    "        kendo_romania.get_matches_from_list(filename,sheetname,column_keys,6,shift=shift)"
   ]
  },
  {
   "cell_type": "markdown",
   "metadata": {},
   "source": [
    "### CR"
   ]
  },
  {
   "cell_type": "code",
   "execution_count": 26,
   "metadata": {},
   "outputs": [],
   "source": [
    "filename='rawdata/2015/CR/Event management_CR22.2015.xlsx'\n",
    "sheetname=['IF_m','IS_m']\n",
    "column_keys={'match_type':0,'aka':{'name':1,'point1':2},\n",
    "             'shiro':{'name':6,'point1':5},'outcome':3,\n",
    "             'shinpan':{'fukushin1':7,'shushin':8,'fukushin2':9}}\n",
    "shift=0\n",
    "matches[2015]['CR']=kendo_romania.get_matches_from_list(filename,sheetname,column_keys,4,shift=shift)"
   ]
  },
  {
   "cell_type": "code",
   "execution_count": 27,
   "metadata": {},
   "outputs": [],
   "source": [
    "filename='rawdata/2015/CR/Event management_CR22.2015.xlsx'\n",
    "sheetname=['IJ1_s']\n",
    "matches[2015]['CR']=matches[2015]['CR']+\\\n",
    "                kendo_romania.get_matches_from_table(filename,\n",
    "                    sheetname,skiprows=7,shift=1,nrows=9)"
   ]
  },
  {
   "cell_type": "code",
   "execution_count": 28,
   "metadata": {},
   "outputs": [],
   "source": [
    "filename='rawdata/2015/CR/Event management_CR22.2015.xlsx'\n",
    "sheetname=['IJ2_s']\n",
    "matches[2015]['CR']=matches[2015]['CR']+\\\n",
    "                kendo_romania.get_matches_from_table(filename,\n",
    "                    sheetname,skiprows=8,shift=12,nrows=8)\n",
    "matches[2015]['CR']=matches[2015]['CR']+\\\n",
    "                kendo_romania.get_matches_from_table(filename,\n",
    "                    sheetname,skiprows=16,shift=12,nrows=8)"
   ]
  },
  {
   "cell_type": "code",
   "execution_count": 29,
   "metadata": {},
   "outputs": [],
   "source": [
    "sheetname=['IM_s']\n",
    "column_keys={'match_type':19,'aka':{'name':20,'point1':21},\n",
    "             'shiro':{'name':24,'point1':23},'outcome':22}\n",
    "shift=0\n",
    "matches[2015]['CR']=matches[2015]['CR']+\\\n",
    "                kendo_romania.get_matches_from_list(filename,sheetname,column_keys,7,shift=shift)\n",
    "shift=10\n",
    "matches[2015]['CR']=matches[2015]['CR']+\\\n",
    "                kendo_romania.get_matches_from_list(filename,sheetname,column_keys,7,shift=shift)"
   ]
  },
  {
   "cell_type": "markdown",
   "metadata": {},
   "source": [
    "## 2014"
   ]
  },
  {
   "cell_type": "markdown",
   "metadata": {},
   "source": [
    "### SL"
   ]
  },
  {
   "cell_type": "code",
   "execution_count": 30,
   "metadata": {},
   "outputs": [],
   "source": [
    "filename='rawdata/2014/SL/Lista de participanti 6.xlsx'\n",
    "sheetname=['SF_s','SM_s','J_s']\n",
    "matches[2014]['SL']=kendo_romania.get_matches_from_table(filename,sheetname,6)"
   ]
  },
  {
   "cell_type": "markdown",
   "metadata": {},
   "source": [
    "### CR"
   ]
  },
  {
   "cell_type": "code",
   "execution_count": 31,
   "metadata": {},
   "outputs": [],
   "source": [
    "filename='rawdata/2014/CR/Event management_CR21.2014.xlsx'\n",
    "sheetname=['IC-10_m','IC_m','IJ_m','IS_m','IF_m']\n",
    "column_keys={'match_type':0,'aka':{'name':1,'point1':2},\n",
    "             'shiro':{'name':6,'point1':5},'outcome':3,\n",
    "             'shinpan':{'fukushin1':7,'shushin':8,'fukushin2':9}}\n",
    "shift=0\n",
    "matches[2014]['CR']=kendo_romania.get_matches_from_list(filename,sheetname,column_keys,4,shift=shift)"
   ]
  },
  {
   "cell_type": "code",
   "execution_count": 32,
   "metadata": {},
   "outputs": [],
   "source": [
    "sheetname=['IM_s']\n",
    "column_keys={'match_type':0,'aka':{'name':1,'point1':2},\n",
    "             'shiro':{'name':5,'point1':4},'outcome':3}\n",
    "shift=8\n",
    "matches[2014]['CR']=matches[2014]['CR']+\\\n",
    "                kendo_romania.get_matches_from_list(filename,sheetname,column_keys,8,shift=shift)"
   ]
  },
  {
   "cell_type": "markdown",
   "metadata": {},
   "source": [
    "### CN"
   ]
  },
  {
   "cell_type": "code",
   "execution_count": 33,
   "metadata": {},
   "outputs": [],
   "source": [
    "filename='rawdata/2014/CN/Event management_CN21.2014 - v2.xlsx'\n",
    "sheetname=['IF_m']\n",
    "column_keys={'match_type':0,'aka':{'name':1,'point1':2},\n",
    "             'shiro':{'name':6,'point1':5},'outcome':3,\n",
    "             'shinpan':{'fukushin1':7,'shushin':8,'fukushin2':9}}\n",
    "shift=0\n",
    "matches[2014]['CN']=kendo_romania.get_matches_from_list(filename,sheetname,column_keys,4,shift=shift)"
   ]
  },
  {
   "cell_type": "code",
   "execution_count": 34,
   "metadata": {},
   "outputs": [],
   "source": [
    "sheetname=['IM_s']\n",
    "column_keys={'match_type':0,'aka':{'name':1,'point1':2},\n",
    "             'shiro':{'name':5,'point1':4},'outcome':3}\n",
    "shift=19\n",
    "matches[2014]['CN']=matches[2014]['CN']+\\\n",
    "                kendo_romania.get_matches_from_list(filename,sheetname,column_keys,7,shift=shift)\n",
    "shift=29\n",
    "matches[2014]['CN']=matches[2014]['CN']+\\\n",
    "                kendo_romania.get_matches_from_list(filename,sheetname,column_keys,7,shift=shift)"
   ]
  },
  {
   "cell_type": "code",
   "execution_count": 35,
   "metadata": {},
   "outputs": [],
   "source": [
    "sheetname=['IJ1_s']\n",
    "matches[2014]['CN']=matches[2014]['CN']+\\\n",
    "                kendo_romania.get_matches_from_table(filename,sheetname,7,shift=1,nrows=10)"
   ]
  },
  {
   "cell_type": "code",
   "execution_count": 36,
   "metadata": {},
   "outputs": [],
   "source": [
    "sheetname=['IJ2_s']\n",
    "matches[2014]['CN']=matches[2014]['CN']+\\\n",
    "                kendo_romania.get_matches_from_table(filename,sheetname,8,shift=12,nrows=6)\n",
    "matches[2014]['CN']=matches[2014]['CN']+\\\n",
    "                kendo_romania.get_matches_from_table(filename,sheetname,14,shift=12,nrows=6)\n",
    "matches[2014]['CN']=matches[2014]['CN']+\\\n",
    "                kendo_romania.get_matches_from_table(filename,sheetname,20,shift=12,nrows=6)"
   ]
  },
  {
   "cell_type": "markdown",
   "metadata": {},
   "source": [
    "## 2013"
   ]
  },
  {
   "cell_type": "markdown",
   "metadata": {},
   "source": [
    "### CN"
   ]
  },
  {
   "cell_type": "code",
   "execution_count": 37,
   "metadata": {},
   "outputs": [],
   "source": [
    "filename='rawdata/2013/CN/Event management_CN2013.xlsx'\n",
    "sheetname=['IS_m','IF_m','IC_m','IJ_m','E_m','IM_m']\n",
    "column_keys={'match_type':0,'aka':{'name':1,'point1':2},\n",
    "             'shiro':{'name':6,'point1':5},'outcome':3,\n",
    "             'shinpan':{'fukushin1':7,'shushin':8,'fukushin2':9}}\n",
    "shift=0\n",
    "matches[2013]['CN']=kendo_romania.get_matches_from_list(filename,sheetname,column_keys,4,shift=shift)"
   ]
  },
  {
   "cell_type": "markdown",
   "metadata": {},
   "source": [
    "### CR"
   ]
  },
  {
   "cell_type": "code",
   "execution_count": 38,
   "metadata": {},
   "outputs": [],
   "source": [
    "filename='rawdata/2013/CR/Event management_CR2013.xlsx'\n",
    "sheetname=['IF_meciuri','IJ_meciuri','IM_meciuri']\n",
    "column_keys={'match_type':0,'aka':{'name':1,'point1':2},\n",
    "             'shiro':{'name':6,'point1':5},'outcome':3,\n",
    "             'shinpan':{'fukushin1':7,'shushin':8,'fukushin2':9}}\n",
    "shift=0\n",
    "matches[2013]['CR']=kendo_romania.get_matches_from_list(filename,sheetname,column_keys,4,shift=shift)"
   ]
  },
  {
   "cell_type": "markdown",
   "metadata": {},
   "source": [
    "### SL"
   ]
  },
  {
   "cell_type": "code",
   "execution_count": 39,
   "metadata": {},
   "outputs": [],
   "source": [
    "filename='rawdata/2013/SL/Event management.xlsx'\n",
    "sheetname=['E_meciuri']\n",
    "column_keys={'match_type':0,'aka':{'name':1,'point1':2},\n",
    "             'shiro':{'name':6,'point1':5},'outcome':3,\n",
    "             'shinpan':{'fukushin1':7,'shushin':8,'fukushin2':9}}\n",
    "shift=0\n",
    "matches[2013]['SL']=kendo_romania.get_matches_from_list(filename,sheetname,column_keys,4,shift=shift)"
   ]
  },
  {
   "cell_type": "code",
   "execution_count": 40,
   "metadata": {},
   "outputs": [],
   "source": [
    "sheetname=['Schema feminin']\n",
    "matches[2013]['SL']=matches[2013]['SL']+\\\n",
    "                kendo_romania.get_matches_from_table(filename,sheetname,2,nrows=14)\n",
    "sheetname=['Schema juniori']\n",
    "matches[2013]['SL']=matches[2013]['SL']+\\\n",
    "                kendo_romania.get_matches_from_table(filename,sheetname,2,nrows=12)"
   ]
  },
  {
   "cell_type": "markdown",
   "metadata": {},
   "source": [
    "## 2012"
   ]
  },
  {
   "cell_type": "markdown",
   "metadata": {},
   "source": [
    "### CN"
   ]
  },
  {
   "cell_type": "code",
   "execution_count": 41,
   "metadata": {},
   "outputs": [],
   "source": [
    "filename='rawdata/2012/CN/Event management CN2012.xlsx'\n",
    "sheetname=['E_meciuri','IJ_meciuri','IF_meciuri','IM_meciuri']\n",
    "column_keys={'match_type':0,'aka':{'name':1,'point1':2},\n",
    "             'shiro':{'name':6,'point1':5},'outcome':3,\n",
    "             'shinpan':{'fukushin1':7,'shushin':8,'fukushin2':9}}\n",
    "shift=0\n",
    "matches[2012]['CN']=kendo_romania.get_matches_from_list(filename,sheetname,column_keys,4,shift=shift)"
   ]
  },
  {
   "cell_type": "markdown",
   "metadata": {},
   "source": [
    "### CR"
   ]
  },
  {
   "cell_type": "code",
   "execution_count": 42,
   "metadata": {},
   "outputs": [],
   "source": [
    "filename='rawdata/2012/CR/2012.05.05-06 - CR - Cluj.xlsx'\n",
    "sheetname=['IC']\n",
    "matches[2012]['CR']=kendo_romania.get_matches_from_table_oneliner(filename,\n",
    "                                sheetname,12,shift=1,nrows=3)\n",
    "matches[2012]['CR']=matches[2012]['CR']+\\\n",
    "                kendo_romania.get_matches_from_table_oneliner(filename,\n",
    "                                sheetname,18,shift=1,nrows=4)"
   ]
  },
  {
   "cell_type": "code",
   "execution_count": 43,
   "metadata": {},
   "outputs": [],
   "source": [
    "sheetname=['IJ']\n",
    "matches[2012]['CR']=matches[2012]['CR']+\\\n",
    "                kendo_romania.get_matches_from_table_oneliner(filename,\n",
    "                                sheetname,14,shift=1,nrows=3)\n",
    "matches[2012]['CR']=matches[2012]['CR']+\\\n",
    "                kendo_romania.get_matches_from_table_oneliner(filename,\n",
    "                                sheetname,19,shift=1,nrows=3)\n",
    "matches[2012]['CR']=matches[2012]['CR']+\\\n",
    "                kendo_romania.get_matches_from_table_oneliner(filename,\n",
    "                                sheetname,24,shift=1,nrows=3)\n",
    "matches[2012]['CR']=matches[2012]['CR']+\\\n",
    "                kendo_romania.get_matches_from_table_oneliner(filename,\n",
    "                                sheetname,30,shift=1,nrows=3)\n",
    "matches[2012]['CR']=matches[2012]['CR']+\\\n",
    "                kendo_romania.get_matches_from_table_oneliner(filename,\n",
    "                                sheetname,35,shift=1,nrows=3)"
   ]
  },
  {
   "cell_type": "code",
   "execution_count": 44,
   "metadata": {},
   "outputs": [],
   "source": [
    "sheetname=['IF']\n",
    "matches[2012]['CR']=matches[2012]['CR']+\\\n",
    "                kendo_romania.get_matches_from_table_oneliner(filename,\n",
    "                                sheetname,13,shift=1,nrows=3)\n",
    "matches[2012]['CR']=matches[2012]['CR']+\\\n",
    "                kendo_romania.get_matches_from_table_oneliner(filename,\n",
    "                                sheetname,18,shift=1,nrows=3)\n",
    "column_keys={'match_type':0,'aka':{'name':1,'point1':3},\n",
    "             'shiro':{'name':6,'point1':5},'outcome':4}\n",
    "shift=0\n",
    "matches[2012]['CR']=matches[2012]['CR']+\\\n",
    "                kendo_romania.get_matches_from_list(filename,sheetname,column_keys,22,shift=shift)"
   ]
  },
  {
   "cell_type": "code",
   "execution_count": 45,
   "metadata": {},
   "outputs": [],
   "source": [
    "sheetname=['IM']\n",
    "column_keys={'match_type':0,'aka':{'name':1,'point1':2},\n",
    "             'shiro':{'name':5,'point1':4},'outcome':3}\n",
    "shift=6\n",
    "matches[2012]['CR']=matches[2012]['CR']+\\\n",
    "                kendo_romania.get_matches_from_list(filename,sheetname,column_keys,6,shift=shift)"
   ]
  },
  {
   "cell_type": "code",
   "execution_count": 46,
   "metadata": {},
   "outputs": [],
   "source": [
    "sheetname=['ES']\n",
    "column_keys={'match_type':20,'aka':{'name':1,'point1':2},\n",
    "             'shiro':{'name':5,'point1':4},'outcome':3}\n",
    "shift=-1\n",
    "matches[2012]['CR']=matches[2012]['CR']+\\\n",
    "                kendo_romania.get_matches_from_list(filename,sheetname,column_keys,4,shift=shift)\n",
    "shift=4\n",
    "matches[2012]['CR']=matches[2012]['CR']+\\\n",
    "                kendo_romania.get_matches_from_list(filename,sheetname,column_keys,4,shift=shift)\n",
    "shift=9\n",
    "matches[2012]['CR']=matches[2012]['CR']+\\\n",
    "                kendo_romania.get_matches_from_list(filename,sheetname,column_keys,4,shift=shift)"
   ]
  },
  {
   "cell_type": "markdown",
   "metadata": {},
   "source": [
    "## 2011"
   ]
  },
  {
   "cell_type": "markdown",
   "metadata": {},
   "source": [
    "### CN"
   ]
  },
  {
   "cell_type": "code",
   "execution_count": 47,
   "metadata": {},
   "outputs": [],
   "source": [
    "filename='rawdata/2011/CN/2011.11.26-27 - CN - Bucuresti_print.xlsx'\n",
    "sheetname=['IJ']\n",
    "matches[2011]['CN']=kendo_romania.get_matches_from_table_oneliner(filename,\n",
    "                                sheetname,13,shift=1,nrows=3)\n",
    "matches[2011]['CN']=matches[2011]['CN']+\\\n",
    "                kendo_romania.get_matches_from_table_oneliner(filename,\n",
    "                                sheetname,18,shift=1,nrows=3)\n",
    "matches[2011]['CN']=matches[2011]['CN']+\\\n",
    "                kendo_romania.get_matches_from_table_oneliner(filename,\n",
    "                                sheetname,23,shift=1)"
   ]
  },
  {
   "cell_type": "code",
   "execution_count": 48,
   "metadata": {},
   "outputs": [],
   "source": [
    "sheetname=['IF']\n",
    "matches[2011]['CN']=matches[2011]['CN']+\\\n",
    "                kendo_romania.get_matches_from_table_oneliner(filename,\n",
    "                                sheetname,13,shift=1,nrows=3)\n",
    "matches[2011]['CN']=matches[2011]['CN']+\\\n",
    "                kendo_romania.get_matches_from_table_oneliner(filename,\n",
    "                                sheetname,18,shift=1,nrows=3)\n",
    "matches[2011]['CN']=matches[2011]['CN']+\\\n",
    "                kendo_romania.get_matches_from_table_oneliner(filename,\n",
    "                                sheetname,23,shift=1,nrows=4)\n",
    "column_keys={'match_type':0,'aka':{'name':1,'point1':3},\n",
    "             'shiro':{'name':6,'point1':5},'outcome':4}\n",
    "shift=0\n",
    "matches[2011]['CN']=matches[2011]['CN']+\\\n",
    "                kendo_romania.get_matches_from_list(filename,sheetname,column_keys,28,shift=shift)"
   ]
  },
  {
   "cell_type": "code",
   "execution_count": 49,
   "metadata": {},
   "outputs": [],
   "source": [
    "sheetname=['IM']\n",
    "column_keys={'match_type':0,'aka':{'name':1,'point1':2},\n",
    "             'shiro':{'name':5,'point1':4},'outcome':3}\n",
    "shift=5\n",
    "matches[2011]['CN']=matches[2011]['CN']+\\\n",
    "                kendo_romania.get_matches_from_list(filename,sheetname,column_keys,6,shift=shift)\n",
    "shift=11\n",
    "matches[2011]['CN']=matches[2011]['CN']+\\\n",
    "                kendo_romania.get_matches_from_list(filename,sheetname,column_keys,6,shift=shift)\n"
   ]
  },
  {
   "cell_type": "code",
   "execution_count": 50,
   "metadata": {},
   "outputs": [],
   "source": [
    "sheetname=['E']\n",
    "column_keys={'match_type':0,'aka':{'name':1,'point1':2},\n",
    "             'shiro':{'name':5,'point1':4},'outcome':3}\n",
    "shift=17\n",
    "matches[2011]['CN']=matches[2011]['CN']+\\\n",
    "                kendo_romania.get_matches_from_list(filename,sheetname,column_keys,5,shift=shift)\n",
    "shift=23\n",
    "matches[2011]['CN']=matches[2011]['CN']+\\\n",
    "                kendo_romania.get_matches_from_list(filename,sheetname,column_keys,5,shift=shift)\n",
    "shift=29\n",
    "matches[2011]['CN']=matches[2011]['CN']+\\\n",
    "                kendo_romania.get_matches_from_list(filename,sheetname,column_keys,5,shift=shift)\n"
   ]
  },
  {
   "cell_type": "markdown",
   "metadata": {},
   "source": [
    "### CR"
   ]
  },
  {
   "cell_type": "code",
   "execution_count": 51,
   "metadata": {},
   "outputs": [],
   "source": [
    "filename='rawdata/2011/CR/2011.04.16-17 - CR - Miercurea Ciuc.xlsx'\n",
    "sheetname=['ES']\n",
    "column_keys={'match_type':6,'aka':{'name':1,'point1':2},\n",
    "             'shiro':{'name':5,'point1':4},'outcome':3}\n",
    "shift=-1\n",
    "matches[2011]['CR']=kendo_romania.get_matches_from_list(filename,sheetname,column_keys,7,shift=shift)\n",
    "shift=5\n",
    "matches[2011]['CR']=matches[2011]['CR']+\\\n",
    "                kendo_romania.get_matches_from_list(filename,sheetname,column_keys,7,shift=shift)\n",
    "shift=11\n",
    "matches[2011]['CR']=matches[2011]['CR']+\\\n",
    "                kendo_romania.get_matches_from_list(filename,sheetname,column_keys,7,shift=shift)"
   ]
  },
  {
   "cell_type": "code",
   "execution_count": 52,
   "metadata": {},
   "outputs": [],
   "source": [
    "sheetname=['IM']\n",
    "column_keys={'match_type':0,'aka':{'name':1,'point1':2},\n",
    "             'shiro':{'name':5,'point1':4},'outcome':3}\n",
    "shift=5\n",
    "matches[2011]['CR']=matches[2011]['CR']+\\\n",
    "                kendo_romania.get_matches_from_list(filename,sheetname,column_keys,6,shift=shift)\n",
    "shift=11\n",
    "matches[2011]['CR']=matches[2011]['CR']+\\\n",
    "                kendo_romania.get_matches_from_list(filename,sheetname,column_keys,6,shift=shift)\n"
   ]
  },
  {
   "cell_type": "code",
   "execution_count": 53,
   "metadata": {},
   "outputs": [],
   "source": [
    "sheetname=['IF']\n",
    "matches[2011]['CR']=matches[2011]['CR']+\\\n",
    "                kendo_romania.get_matches_from_table_oneliner(filename,\n",
    "                                sheetname,15,shift=1,nrows=4)\n",
    "matches[2011]['CR']=matches[2011]['CR']+\\\n",
    "                kendo_romania.get_matches_from_table_oneliner(filename,\n",
    "                                sheetname,21,shift=1,nrows=4)\n",
    "column_keys={'match_type':0,'aka':{'name':1,'point1':3},\n",
    "             'shiro':{'name':6,'point1':5},'outcome':4}\n",
    "shift=0\n",
    "matches[2011]['CR']=matches[2011]['CR']+\\\n",
    "                kendo_romania.get_matches_from_list(filename,sheetname,column_keys,26,shift=shift)"
   ]
  },
  {
   "cell_type": "code",
   "execution_count": 54,
   "metadata": {},
   "outputs": [],
   "source": [
    "sheetname=['IJ']\n",
    "matches[2011]['CR']=matches[2011]['CR']+\\\n",
    "                kendo_romania.get_matches_from_table_oneliner(filename,\n",
    "                                sheetname,16,shift=1,nrows=3)\n",
    "matches[2011]['CR']=matches[2011]['CR']+\\\n",
    "                kendo_romania.get_matches_from_table_oneliner(filename,\n",
    "                                sheetname,21,shift=1,nrows=4)\n",
    "matches[2011]['CR']=matches[2011]['CR']+\\\n",
    "                kendo_romania.get_matches_from_table_oneliner(filename,\n",
    "                                sheetname,27,shift=1,nrows=3)"
   ]
  },
  {
   "cell_type": "code",
   "execution_count": 55,
   "metadata": {},
   "outputs": [],
   "source": [
    "sheetname=['IC']\n",
    "matches[2011]['CR']=matches[2011]['CR']+\\\n",
    "                kendo_romania.get_matches_from_table_oneliner(filename,\n",
    "                                sheetname,4,shift=0,nrows=4)"
   ]
  },
  {
   "cell_type": "code",
   "execution_count": 56,
   "metadata": {},
   "outputs": [],
   "source": [
    "sheetname=['EJ']\n",
    "column_keys={'match_type':0,'aka':{'name':1,'point1':2},\n",
    "             'shiro':{'name':5,'point1':4},'outcome':3}\n",
    "shift=0\n",
    "matches[2011]['CR']=matches[2011]['CR']+\\\n",
    "                kendo_romania.get_matches_from_list(filename,sheetname,column_keys,15,shift=shift)"
   ]
  },
  {
   "cell_type": "markdown",
   "metadata": {},
   "source": [
    "## 2010"
   ]
  },
  {
   "cell_type": "markdown",
   "metadata": {},
   "source": [
    "### CR"
   ]
  },
  {
   "cell_type": "code",
   "execution_count": 57,
   "metadata": {},
   "outputs": [],
   "source": [
    "filename='rawdata/2010/CR/2010.03.27-28 - CR - Budeasa.xlsx'\n",
    "sheetname=['IM']\n",
    "column_keys={'match_type':0,'aka':{'name':1,'point1':2},\n",
    "             'shiro':{'name':5,'point1':4},'outcome':3}\n",
    "shift=5\n",
    "matches[2010]['CR']=kendo_romania.get_matches_from_list(filename,sheetname,column_keys,6,shift=shift)\n",
    "shift=11\n",
    "matches[2010]['CR']=matches[2010]['CR']+\\\n",
    "                kendo_romania.get_matches_from_list(filename,sheetname,column_keys,6,shift=shift)"
   ]
  },
  {
   "cell_type": "code",
   "execution_count": 58,
   "metadata": {},
   "outputs": [],
   "source": [
    "sheetname=['IF']\n",
    "matches[2010]['CR']=matches[2010]['CR']+\\\n",
    "                kendo_romania.get_matches_from_table_oneliner(filename,\n",
    "                                sheetname,15,shift=1,nrows=4)\n",
    "matches[2010]['CR']=matches[2010]['CR']+\\\n",
    "                kendo_romania.get_matches_from_table_oneliner(filename,\n",
    "                                sheetname,21,shift=1,nrows=4)\n",
    "column_keys={'match_type':0,'aka':{'name':1,'point1':3},\n",
    "             'shiro':{'name':6,'point1':5},'outcome':4}\n",
    "shift=0\n",
    "matches[2010]['CR']=matches[2010]['CR']+\\\n",
    "                kendo_romania.get_matches_from_list(filename,sheetname,column_keys,26,shift=shift)"
   ]
  },
  {
   "cell_type": "code",
   "execution_count": 59,
   "metadata": {},
   "outputs": [],
   "source": [
    "sheetname=['EJ']\n",
    "column_keys={'match_type':0,'aka':{'name':1,'point1':2},\n",
    "             'shiro':{'name':5,'point1':4},'outcome':3}\n",
    "shift=0\n",
    "matches[2010]['CR']=matches[2010]['CR']+\\\n",
    "                kendo_romania.get_matches_from_list(filename,sheetname,column_keys,15,shift=shift)"
   ]
  },
  {
   "cell_type": "code",
   "execution_count": 60,
   "metadata": {},
   "outputs": [],
   "source": [
    "sheetname=['IJ']\n",
    "matches[2010]['CR']=matches[2010]['CR']+\\\n",
    "                kendo_romania.get_matches_from_table_oneliner(filename,\n",
    "                                sheetname,16,shift=1,nrows=3)\n",
    "matches[2010]['CR']=matches[2010]['CR']+\\\n",
    "                kendo_romania.get_matches_from_table_oneliner(filename,\n",
    "                                sheetname,21,shift=1,nrows=4)\n",
    "matches[2010]['CR']=matches[2010]['CR']+\\\n",
    "                kendo_romania.get_matches_from_table_oneliner(filename,\n",
    "                                sheetname,27,shift=1,nrows=3)"
   ]
  },
  {
   "cell_type": "code",
   "execution_count": 61,
   "metadata": {},
   "outputs": [],
   "source": [
    "sheetname=['IC']\n",
    "matches[2010]['CR']=matches[2010]['CR']+\\\n",
    "                kendo_romania.get_matches_from_table_oneliner(filename,\n",
    "                                sheetname,4,shift=0,nrows=4)"
   ]
  },
  {
   "cell_type": "markdown",
   "metadata": {},
   "source": [
    "### CN"
   ]
  },
  {
   "cell_type": "code",
   "execution_count": 62,
   "metadata": {},
   "outputs": [],
   "source": [
    "filename='rawdata/2010/CN/2010.11.27-28 - CN - Bucuresti.xlsx'\n",
    "sheetname=['IJ']\n",
    "matches[2010]['CN']=kendo_romania.get_matches_from_table_oneliner(filename,\n",
    "                                sheetname,13,shift=1,point_shift=0,nrows=5)"
   ]
  },
  {
   "cell_type": "code",
   "execution_count": 63,
   "metadata": {},
   "outputs": [],
   "source": [
    "sheetname=['IC']\n",
    "matches[2010]['CN']=matches[2010]['CN']+\\\n",
    "                kendo_romania.get_matches_from_table_oneliner(filename,\n",
    "                                sheetname,13,shift=1,nrows=3)\n",
    "matches[2010]['CN']=matches[2010]['CN']+\\\n",
    "                kendo_romania.get_matches_from_table_oneliner(filename,\n",
    "                                sheetname,18,shift=1,nrows=3)"
   ]
  },
  {
   "cell_type": "code",
   "execution_count": 64,
   "metadata": {},
   "outputs": [],
   "source": [
    "sheetname=['IF']\n",
    "matches[2010]['CN']=matches[2010]['CN']+\\\n",
    "                kendo_romania.get_matches_from_table_oneliner(filename,\n",
    "                                sheetname,13,shift=1,nrows=3)\n",
    "matches[2010]['CN']=matches[2010]['CN']+\\\n",
    "                kendo_romania.get_matches_from_table_oneliner(filename,\n",
    "                                sheetname,18,shift=1,nrows=3)"
   ]
  },
  {
   "cell_type": "code",
   "execution_count": 65,
   "metadata": {},
   "outputs": [],
   "source": [
    "sheetname=['IM']\n",
    "column_keys={'match_type':0,'aka':{'name':1,'point1':2},\n",
    "             'shiro':{'name':5,'point1':4},'outcome':3}\n",
    "shift=6\n",
    "matches[2010]['CN']=matches[2010]['CN']+\\\n",
    "                kendo_romania.get_matches_from_list(filename,sheetname,column_keys,4,shift=shift)\n",
    "shift=12\n",
    "matches[2010]['CN']=matches[2010]['CN']+\\\n",
    "                kendo_romania.get_matches_from_list(filename,sheetname,column_keys,4,shift=shift)"
   ]
  },
  {
   "cell_type": "code",
   "execution_count": 66,
   "metadata": {},
   "outputs": [],
   "source": [
    "sheetname=['E']\n",
    "column_keys={'match_type':15,'aka':{'name':1,'point1':2},\n",
    "             'shiro':{'name':5,'point1':4},'outcome':3}\n",
    "shift=-1\n",
    "matches[2010]['CN']=matches[2010]['CN']+\\\n",
    "                kendo_romania.get_matches_from_list(filename,sheetname,column_keys,5,shift=shift)\n",
    "shift=5\n",
    "matches[2010]['CN']=matches[2010]['CN']+\\\n",
    "                kendo_romania.get_matches_from_list(filename,sheetname,column_keys,5,shift=shift)\n",
    "shift=11\n",
    "matches[2010]['CN']=matches[2010]['CN']+\\\n",
    "                kendo_romania.get_matches_from_list(filename,sheetname,column_keys,5,shift=shift)"
   ]
  },
  {
   "cell_type": "markdown",
   "metadata": {},
   "source": [
    "## 2009"
   ]
  },
  {
   "cell_type": "markdown",
   "metadata": {},
   "source": [
    "### CN"
   ]
  },
  {
   "cell_type": "code",
   "execution_count": 67,
   "metadata": {},
   "outputs": [],
   "source": [
    "filename='rawdata/2009/CN/2009.11.28-29 - CN - Bucuresti.xlsx'\n",
    "sheetname=['IJ']\n",
    "matches[2009]['CN']=kendo_romania.get_matches_from_table_oneliner(filename,\n",
    "                                sheetname,4,shift=0,nrows=4)"
   ]
  },
  {
   "cell_type": "code",
   "execution_count": 68,
   "metadata": {},
   "outputs": [],
   "source": [
    "sheetname=['IF']\n",
    "matches[2009]['CN']=matches[2009]['CN']+\\\n",
    "                kendo_romania.get_matches_from_table_oneliner(filename,\n",
    "                                sheetname,12,shift=1,point_shift=0,nrows=5)"
   ]
  },
  {
   "cell_type": "code",
   "execution_count": 69,
   "metadata": {},
   "outputs": [],
   "source": [
    "sheetname=['IM']\n",
    "column_keys={'match_type':0,'aka':{'name':1,'point1':2},\n",
    "             'shiro':{'name':5,'point1':4},'outcome':3}\n",
    "shift=5\n",
    "matches[2009]['CN']=matches[2009]['CN']+\\\n",
    "                kendo_romania.get_matches_from_list(filename,sheetname,column_keys,6,shift=shift)\n",
    "shift=11\n",
    "matches[2009]['CN']=matches[2009]['CN']+\\\n",
    "                kendo_romania.get_matches_from_list(filename,sheetname,column_keys,6,shift=shift)"
   ]
  },
  {
   "cell_type": "code",
   "execution_count": 70,
   "metadata": {},
   "outputs": [],
   "source": [
    "sheetname=['ES']\n",
    "column_keys={'match_type':1,'aka':{'name':1,'point1':2},\n",
    "             'shiro':{'name':5,'point1':4},'outcome':3}\n",
    "shift=-1\n",
    "matches[2009]['CN']=matches[2009]['CN']+\\\n",
    "                kendo_romania.get_matches_from_list(filename,sheetname,column_keys,7,shift=shift)\n",
    "shift=5\n",
    "matches[2009]['CN']=matches[2009]['CN']+\\\n",
    "                kendo_romania.get_matches_from_list(filename,sheetname,column_keys,7,shift=shift)\n",
    "shift=11\n",
    "matches[2009]['CN']=matches[2009]['CN']+\\\n",
    "                kendo_romania.get_matches_from_list(filename,sheetname,column_keys,7,shift=shift)"
   ]
  },
  {
   "cell_type": "markdown",
   "metadata": {},
   "source": [
    "### CR"
   ]
  },
  {
   "cell_type": "code",
   "execution_count": 71,
   "metadata": {},
   "outputs": [],
   "source": [
    "filename='rawdata/2009/CR/2009.04.04 - CR - Budeasa - print.xlsx'\n",
    "sheetname=['IJ']\n",
    "matches[2009]['CR']=kendo_romania.get_matches_from_table_oneliner(filename,\n",
    "                                sheetname,12,shift=1,point_shift=0,nrows=5)"
   ]
  },
  {
   "cell_type": "code",
   "execution_count": 72,
   "metadata": {},
   "outputs": [],
   "source": [
    "sheetname=['IF']\n",
    "matches[2009]['CR']=matches[2009]['CR']+\\\n",
    "                kendo_romania.get_matches_from_table_oneliner(filename,\n",
    "                                sheetname,13,shift=1,point_shift=0,nrows=6)"
   ]
  },
  {
   "cell_type": "code",
   "execution_count": 73,
   "metadata": {},
   "outputs": [],
   "source": [
    "sheetname=['IM']\n",
    "column_keys={'match_type':0,'aka':{'name':1,'point1':2},\n",
    "             'shiro':{'name':5,'point1':4},'outcome':3}\n",
    "shift=5\n",
    "matches[2009]['CR']=matches[2009]['CR']+\\\n",
    "                kendo_romania.get_matches_from_list(filename,sheetname,column_keys,6,shift=shift)\n",
    "shift=11\n",
    "matches[2009]['CR']=matches[2009]['CR']+\\\n",
    "                kendo_romania.get_matches_from_list(filename,sheetname,column_keys,6,shift=shift)"
   ]
  },
  {
   "cell_type": "code",
   "execution_count": 74,
   "metadata": {},
   "outputs": [],
   "source": [
    "sheetname=['ES']\n",
    "column_keys={'match_type':1,'aka':{'name':1,'point1':2},\n",
    "             'shiro':{'name':5,'point1':4},'outcome':3}\n",
    "shift=-1\n",
    "matches[2009]['CR']=matches[2009]['CR']+\\\n",
    "                kendo_romania.get_matches_from_list(filename,sheetname,column_keys,8,shift=shift)\n",
    "shift=5\n",
    "matches[2009]['CR']=matches[2009]['CR']+\\\n",
    "                kendo_romania.get_matches_from_list(filename,sheetname,column_keys,8,shift=shift)"
   ]
  },
  {
   "cell_type": "markdown",
   "metadata": {},
   "source": [
    "Clean up points, matches, player names"
   ]
  },
  {
   "cell_type": "code",
   "execution_count": 75,
   "metadata": {},
   "outputs": [],
   "source": [
    "def match_cleaner(year,match):\n",
    "    kind,phase='Unknown','Unknown'\n",
    "    if '#' in match:\n",
    "        stage0=match.split('#')[0].lower()\n",
    "        stage1=match.split('#')[1]\n",
    "        if 'pool' in stage1: \n",
    "            phase='Pool'\n",
    "        if 'Pool' in stage1: \n",
    "            phase='Pool'\n",
    "        elif 'prel' in stage1: \n",
    "            phase='Prelim.'\n",
    "        elif 'Prel' in stage1: \n",
    "            phase='Prelim.'\n",
    "        elif 'layoff' in stage1: \n",
    "            phase='Prelim.'\n",
    "        elif '- F' in stage1: \n",
    "            phase='Finals'\n",
    "        elif 'F -' in stage1: \n",
    "            phase='Finals'\n",
    "        elif 'Final' in stage1: \n",
    "            phase='Finals'\n",
    "        elif 'SF' in stage1: \n",
    "            phase='Finals'\n",
    "        elif 'QF' in stage1: \n",
    "            phase='Finals'\n",
    "        elif 'A'==stage1: phase='Pool'\n",
    "        elif 'B'==stage1: phase='Pool'\n",
    "        elif 'C'==stage1: phase='Pool'\n",
    "        elif 'D'==stage1: phase='Pool'\n",
    "        elif 'E'==stage1: phase='Pool'\n",
    "        elif 'F'==stage1: phase='Pool'\n",
    "        elif 'G'==stage1: phase='Pool'\n",
    "        elif 'H'==stage1: phase='Pool'\n",
    "        elif 'I'==stage1: phase='Pool'\n",
    "        elif 'J'==stage1: phase='Pool'\n",
    "        elif 'K'==stage1: phase='Pool'\n",
    "        elif 'L'==stage1: phase='Pool'\n",
    "        elif 'M'==stage1: phase='Pool'\n",
    "        elif 'N'==stage1: phase='Pool'\n",
    "        elif 'O'==stage1: phase='Pool'\n",
    "        elif 'P'==stage1: phase='Pool'\n",
    "        elif 'Q'==stage1: phase='Pool'\n",
    "        elif 'R'==stage1: phase='Pool'\n",
    "        elif 'S'==stage1: phase='Pool'\n",
    "        elif 'T'==stage1: phase='Pool'\n",
    "        \n",
    "        if 'IS' in stage1:\n",
    "            kind=\"Senior's Individual\"\n",
    "        elif 'IF' in stage1:\n",
    "            kind=\"Women's Individual\"\n",
    "        elif 'IM' in stage1:\n",
    "            kind=\"Men's Individual\"\n",
    "        elif 'IC' in stage1:\n",
    "            kind=\"Children's Individual\"\n",
    "        elif 'IJ' in stage1:\n",
    "            kind=\"Junior's Individual\"\n",
    "        elif 'EJ' in stage1:\n",
    "            kind=\"Junior's Team\"\n",
    "        elif 'EF' in stage1:\n",
    "            kind=\"Men's Team\"\n",
    "        elif 'ES' in stage1:\n",
    "            kind=\"Senior's Team\"\n",
    "            \n",
    "        if 'individual masculin.' in stage0:\n",
    "            kind=\"Men's Individual\"\n",
    "        if 'echipe.' in stage0:\n",
    "            kind=\"Mixed Team\"\n",
    "        if 'individual juniori' in stage0:\n",
    "            kind=\"Junior's Team\"\n",
    "        if 'individual feminin' in stage0:\n",
    "            kind=\"Junior's Team\"\n",
    "        if 'individual veterani' in stage0:\n",
    "            kind=\"Senior's Team\"\n",
    "        if 'male team' in stage0:\n",
    "            kind=\"Men's Team\"\n",
    "        if 'junior 1 individual' in stage0:\n",
    "            kind=\"Junior's Individual\"\n",
    "        if 'junior 2 individual' in stage0:\n",
    "            kind=\"Junior's Individual\"\n",
    "        \n",
    "    elif match=='F':\n",
    "        kind=\"Women's Individual\"\n",
    "    elif match=='M':\n",
    "        kind=\"Men's Individual\"\n",
    "    elif match=='J':\n",
    "        kind=\"Junior's Individual\"\n",
    "    elif match=='SF_s':\n",
    "        kind=\"Women's Individual\"\n",
    "    elif match=='SM_s':\n",
    "        kind=\"Men's Individual\"\n",
    "    elif match=='J_s':\n",
    "        kind=\"Junior's Individual\"\n",
    "    \n",
    "    if kind=='Unknown':\n",
    "        category='Unknown'\n",
    "        teams='Unknown'\n",
    "    else:\n",
    "        category=kind.split(' ')[0][:-2]\n",
    "        teams=kind.split(' ')[1]\n",
    "    if year<2014: \n",
    "        category=category.replace('Senior','Men')\n",
    "    if year in [2018]: \n",
    "        category=category.replace('Senior','Men')\n",
    "    return category,teams,phase"
   ]
  },
  {
   "cell_type": "markdown",
   "metadata": {},
   "source": [
    "Load names"
   ]
  },
  {
   "cell_type": "code",
   "execution_count": 109,
   "metadata": {},
   "outputs": [],
   "source": [
    "members=pd.read_csv('data/members.csv')"
   ]
  },
  {
   "cell_type": "code",
   "execution_count": 111,
   "metadata": {},
   "outputs": [
    {
     "data": {
      "text/html": [
       "<div>\n",
       "<style scoped>\n",
       "    .dataframe tbody tr th:only-of-type {\n",
       "        vertical-align: middle;\n",
       "    }\n",
       "\n",
       "    .dataframe tbody tr th {\n",
       "        vertical-align: top;\n",
       "    }\n",
       "\n",
       "    .dataframe thead th {\n",
       "        text-align: right;\n",
       "    }\n",
       "</style>\n",
       "<table border=\"1\" class=\"dataframe\">\n",
       "  <thead>\n",
       "    <tr style=\"text-align: right;\">\n",
       "      <th></th>\n",
       "      <th>Unnamed: 0</th>\n",
       "      <th>active</th>\n",
       "      <th>age</th>\n",
       "      <th>birth</th>\n",
       "      <th>club</th>\n",
       "      <th>dan</th>\n",
       "      <th>ekf</th>\n",
       "      <th>gen</th>\n",
       "      <th>name</th>\n",
       "      <th>pretty_club</th>\n",
       "      <th>year</th>\n",
       "    </tr>\n",
       "  </thead>\n",
       "  <tbody>\n",
       "    <tr>\n",
       "      <th>0</th>\n",
       "      <td>0</td>\n",
       "      <td>Activ</td>\n",
       "      <td>23.0</td>\n",
       "      <td>1991-12-27</td>\n",
       "      <td>TAI</td>\n",
       "      <td>1</td>\n",
       "      <td>RO.00205</td>\n",
       "      <td>M</td>\n",
       "      <td>Abrudan Dorin-Ștefan</td>\n",
       "      <td>Taiken</td>\n",
       "      <td>2015</td>\n",
       "    </tr>\n",
       "    <tr>\n",
       "      <th>1</th>\n",
       "      <td>1</td>\n",
       "      <td>Activ</td>\n",
       "      <td>34.0</td>\n",
       "      <td>1980-05-11</td>\n",
       "      <td>TAI</td>\n",
       "      <td>2</td>\n",
       "      <td>RO.00133</td>\n",
       "      <td>M</td>\n",
       "      <td>Alexa Ionel-Aliodor</td>\n",
       "      <td>Taiken</td>\n",
       "      <td>2015</td>\n",
       "    </tr>\n",
       "    <tr>\n",
       "      <th>2</th>\n",
       "      <td>2</td>\n",
       "      <td>Activ</td>\n",
       "      <td>29.0</td>\n",
       "      <td>1985-01-13</td>\n",
       "      <td>TAI</td>\n",
       "      <td>0</td>\n",
       "      <td>RO.00212</td>\n",
       "      <td>M</td>\n",
       "      <td>Caila Răducu-Ciprian</td>\n",
       "      <td>Taiken</td>\n",
       "      <td>2015</td>\n",
       "    </tr>\n",
       "    <tr>\n",
       "      <th>3</th>\n",
       "      <td>3</td>\n",
       "      <td>Activ</td>\n",
       "      <td>24.0</td>\n",
       "      <td>1990-02-05</td>\n",
       "      <td>TAI</td>\n",
       "      <td>2</td>\n",
       "      <td>RO.00152</td>\n",
       "      <td>F</td>\n",
       "      <td>Caliniuc Ionela</td>\n",
       "      <td>Taiken</td>\n",
       "      <td>2015</td>\n",
       "    </tr>\n",
       "    <tr>\n",
       "      <th>4</th>\n",
       "      <td>4</td>\n",
       "      <td>Inactiv</td>\n",
       "      <td>16.0</td>\n",
       "      <td>1998-06-03</td>\n",
       "      <td>TAI</td>\n",
       "      <td>0</td>\n",
       "      <td>RO.00191</td>\n",
       "      <td>M</td>\n",
       "      <td>Cristea Andrei</td>\n",
       "      <td>Taiken</td>\n",
       "      <td>2015</td>\n",
       "    </tr>\n",
       "  </tbody>\n",
       "</table>\n",
       "</div>"
      ],
      "text/plain": [
       "   Unnamed: 0   active   age       birth club  dan       ekf gen  \\\n",
       "0           0    Activ  23.0  1991-12-27  TAI    1  RO.00205   M   \n",
       "1           1    Activ  34.0  1980-05-11  TAI    2  RO.00133   M   \n",
       "2           2    Activ  29.0  1985-01-13  TAI    0  RO.00212   M   \n",
       "3           3    Activ  24.0  1990-02-05  TAI    2  RO.00152   F   \n",
       "4           4  Inactiv  16.0  1998-06-03  TAI    0  RO.00191   M   \n",
       "\n",
       "                   name pretty_club  year  \n",
       "0  Abrudan Dorin-Ștefan      Taiken  2015  \n",
       "1   Alexa Ionel-Aliodor      Taiken  2015  \n",
       "2  Caila Răducu-Ciprian      Taiken  2015  \n",
       "3       Caliniuc Ionela      Taiken  2015  \n",
       "4        Cristea Andrei      Taiken  2015  "
      ]
     },
     "execution_count": 111,
     "metadata": {},
     "output_type": "execute_result"
    }
   ],
   "source": [
    "members.head()"
   ]
  },
  {
   "cell_type": "code",
   "execution_count": 120,
   "metadata": {},
   "outputs": [],
   "source": [
    "name_exceptions={'Atanasovski':'Atanasovski A. (MAC)',\n",
    "                 'Dobrovicescu (SON)':'Dobrovicescu T. (SON)',\n",
    "                 'Ianăș':'Ianăș F.',\n",
    "                 'Arabadjiyski': 'Arabadjiyski A.',\n",
    "                 'Mandia':'Mandia F.',\n",
    "                 'Stanev':'Stanev A.',\n",
    "                 'Mochalov':'Mochalov O.',\n",
    "                 'Sozzi':'Sozzi A.',\n",
    "                 'Crăciunel':'Crăciunel I.',\n",
    "                 'Craciunel':'Crăciunel I.',\n",
    "                 'Sagaev':'Sagaev L.',\n",
    "                 'Buzás':'Buzás C.',\n",
    "                 'Csala':'Csala D.',\n",
    "                 'Dimitrov':'Dimitrov M.',\n",
    "                 'Józsa':'Józsa L.',\n",
    "                 'Creangă':'Creangă A.',\n",
    "                 'Duțescu':'Duțescu M.',                 \n",
    "                 'Furtună':'Furtună G.',\n",
    "                 'Gârbea':'Gârbea I.',\n",
    "                 'Stupu':'Stupu I.',\n",
    "                 'Mahika-Voiconi':'Mahika-Voiconi S.',\n",
    "                 'Mahika':'Mahika-Voiconi S.',\n",
    "                 'Stanciu':'Stanciu F.',\n",
    "                 'Vrânceanu':'Vrânceanu R.',\n",
    "                 'Luca':'Luca M.',\n",
    "                 'Wolfs':'Wolfs J.',\n",
    "                 'Ducarme':'Ducarme A.',\n",
    "                 'Sbârcea':'Sbârcea B.',\n",
    "                 'Mocian':'Mocian A.',\n",
    "                 'Hatvani':'Hatvani L.',\n",
    "                 'Dusan':'Dusan N.',\n",
    "                 'Borota':'Borota V.',\n",
    "                 'Tsushima':'Tsushima K.',\n",
    "                 'Tráser':'Tráser T.',\n",
    "                 'Colțea':'Colțea A.',\n",
    "                 'Brîcov':'Brîcov A.',\n",
    "                 'Yamamoto':'Yamamoto M.',\n",
    "                 'Crăciun':'Crăciun D.'}\n",
    "redflags_names=['-','—','—',np.nan,'. ()','— ','- -.','- -. (-)',\n",
    "                'Kashi','Sankon','București','Victorii:','Sakura','Taiken','Ikada','Sonkei','CRK','Museido',\n",
    "                'Ichimon','Bushi Tokukai 1','Competitori – Shiai-sha','Echipa - roşu','Numele şi prenumele',\n",
    "                'Victorii:','Victorii: 0','Victorii: 1','Victorii: 2','Victorii: 3','Victorii: 4',\n",
    "                'Victorii: 5','?','Kyobukan','2/5','2/6','3/8','Finala','Kyobukan (0/0/0)','―',\n",
    "                '(clasament final după meci de baraj)','CRK (Bucuresti)','Kaybukan','Isshin (Cluj)',\n",
    "                'Ikada (Bucureşti)','Kyobukan (Braşov)','Puncte:','KASHI','Budoshin','Isshin',\n",
    "                '— (—)','4. B.','4. Baraj: Stupu M - Hostina','4. Baraj: Moise KM - Korenschi M',\n",
    "               'Bushi Tokukai (2/8/17)','CRK 2 (1/6/14)', 'CRK 2','CRK 1','Loc I.:',\n",
    "               'Bushi Tokukai 2 (M Ciuc)','Echipa suport']\n",
    "redflags_names2=['Bushi Tokukai','Eliminatoriu','finala','Finala','Fianala','Ikada','Ichimon','Pool',\n",
    "                'Locul ','Lotul ','Loc ','Grupa ','Isshin','Meciul ','Victorii:']\n",
    "name_equals={'Chirea M.':'Chirea A.',\n",
    "            'Ghinet C.':'Ghineț C.',\n",
    "            'Domnița M.':'Domniță M.',\n",
    "            'Garbea I.':'Gârbea I.',\n",
    "            'Horvát M.':'Horváth M.',\n",
    "            'Ionita A.':'Ioniță A.',\n",
    "            'Medvedschi I.':'Medvețchi I.',\n",
    "            'Mahika S.':'Mahika-Voiconi S.',\n",
    "            'Mate L.':'Máté L.',\n",
    "            'Stupu I.':'Stupu A.',\n",
    "            'Ah-Hu S.':'Ah-hu S.',\n",
    "            'Alexa I.':'Alexa A.',\n",
    "            'Angelescu M.':'Angelescu M.',\n",
    "            'Apostu D.':'Apostu T.',\n",
    "            'Brâcov A.':'Brîcov A.',\n",
    "            'Catoriu D.':'Cantoriu D.',\n",
    "            'Călina A.':'Călina C.',\n",
    "            'Korenshi E.':'Korenschi E.',\n",
    "            'Pleșa R.':'Pleșea R.',\n",
    "            'Galos A.':'Galoș A.',\n",
    "            'Győrfi G.':'Györfi G.',\n",
    "            'Győrfi S.':'Györfi S.',\n",
    "            'Hostina E.':'Hoștină E.', \n",
    "            'Hostină E.':'Hoștină E.', \n",
    "            'Ianăs F.':'Ianăș F.',\n",
    "            'Lacatus M.':'Lăcătuș M.',\n",
    "            'Máthé L.':'Máté L.',\n",
    "            'Nastase M.':'Năstase E.',\n",
    "            'Oprisan A.':'Oprișan A.',\n",
    "            'Pârlea A.':'Pîrlea A.',\n",
    "            'Sabau D.':'Sabău D.',\n",
    "            'Spriu C.':'Spiru C.',\n",
    "            'Stănculascu C.':'Stănculescu C.',\n",
    "            'Vrânceanu M.': 'Vrânceanu L.',\n",
    "            'Wasicek V.':'Wasicheck W.',\n",
    "            'Wasicsec W.':'Wasicheck W.',\n",
    "            'Wasicsek W.':'Wasicheck W.',\n",
    "            'Zolfoghari A.':'Zolfaghari A.'}\n",
    "letter_norm={'ţ':'ț','ş':'ș','Ş':'Ș'}\n",
    "def name_cleaner(name):\n",
    "    for letter in letter_norm:\n",
    "        name=name.replace(letter,letter_norm[letter])\n",
    "    if name not in name_exceptions:\n",
    "        nc=name.replace('  ',' ').split('(')    \n",
    "    else:\n",
    "        nc=name_exceptions[name].split('(')\n",
    "    rname=nc[0].strip()\n",
    "    rnames=rname.split(' ')\n",
    "    sname=rnames[0]+' '+rnames[1][0]+'.'\n",
    "    if sname in name_equals:\n",
    "        sname=name_equals[sname]\n",
    "    return sname"
   ]
  },
  {
   "cell_type": "code",
   "execution_count": 121,
   "metadata": {},
   "outputs": [],
   "source": [
    "def name_ok(name):\n",
    "    if name==np.nan: return False\n",
    "    if str(name)=='nan': return False\n",
    "    if name not in redflags_names:\n",
    "        if np.array([i not in name for i in redflags_names2]).all():\n",
    "            return True\n",
    "    return False"
   ]
  },
  {
   "cell_type": "markdown",
   "metadata": {},
   "source": [
    "Standardize names"
   ]
  },
  {
   "cell_type": "code",
   "execution_count": 122,
   "metadata": {},
   "outputs": [],
   "source": [
    "all_players={}\n",
    "all_players_r={}\n",
    "all_players_unsorted=set()\n",
    "for year in matches:\n",
    "    for competition in matches[year]:\n",
    "        for match in matches[year][competition]:\n",
    "            for color in ['aka','shiro']:\n",
    "                name=match[color]['name']\n",
    "                all_players_unsorted.add(name)\n",
    "                if name_ok(name):\n",
    "                    name=name_cleaner3(name)\n",
    "                    rname=match[color]['name']\n",
    "                    if rname not in all_players_r:all_players_r[rname]=name\n",
    "                    if name not in all_players: all_players[name]={}\n",
    "                    if year not in all_players[name]:all_players[name][year]={'names':set()}\n",
    "                    all_players[name][year]['names'].add(rname)"
   ]
  },
  {
   "cell_type": "code",
   "execution_count": 127,
   "metadata": {},
   "outputs": [],
   "source": [
    "all_shinpan={}\n",
    "all_shinpan_r={}\n",
    "all_shinpan_unsorted=set()\n",
    "for year in matches:\n",
    "    for competition in matches[year]:\n",
    "        for match in matches[year][competition]:\n",
    "            if 'shinpan' in match:\n",
    "                for color in ['fukushin1','shushin','fukushin2']:\n",
    "                    aka=match['aka']['name']\n",
    "                    shiro=match['shiro']['name']\n",
    "                    if (name_ok(aka)) and\\\n",
    "                       (name_ok(shiro)) and\\\n",
    "                       (name_cleaner(aka) in all_players) and\\\n",
    "                       (name_cleaner(shiro) in all_players):\n",
    "                        rname=match['shinpan'][color]\n",
    "                        all_shinpan_unsorted.add(rname)\n",
    "                        if name_ok(rname):\n",
    "                            name=name_cleaner(rname)\n",
    "                            if name not in all_shinpan: all_shinpan[name]=[] \n",
    "                            all_shinpan[name].append(match)\n",
    "                            if rname not in all_shinpan_r:all_shinpan_r[rname]=name"
   ]
  },
  {
   "cell_type": "markdown",
   "metadata": {},
   "source": [
    "Infer clubs"
   ]
  },
  {
   "cell_type": "code",
   "execution_count": 80,
   "metadata": {},
   "outputs": [],
   "source": [
    "#naive infer\n",
    "redflags_clubs=['','N/A','RO1','RO2']\n",
    "club_equals={'MLD':'MOL',\n",
    "             'IKD':'IKA',\n",
    "             'BUL':'BUL/Bg',\n",
    "             'TUR':'TUR/Tr',\n",
    "             'MAC':'MAC/Mc',\n",
    "             'MNE':'MNE/Mn',\n",
    "             'SRB':'SRB/Sr',\n",
    "             'ITA':'ITA/It',\n",
    "             'ISS':'ISH',\n",
    "             'Musso, Bg':'MUS/Bg',\n",
    "             'Makoto, Sr':'MAK/Sr',\n",
    "             'Szeged, Hu':'SZE/Hu'}\n",
    "for name in all_players:\n",
    "    for year in all_players[name]:\n",
    "        for name_form in all_players[name][year]['names']:\n",
    "            if '(' in name_form:\n",
    "                club=name_form.split('(')[1].strip()[:-1]\n",
    "                if club in club_equals: club=club_equals[club]\n",
    "                if club not in redflags_clubs:\n",
    "                    all_players[name][year]['club']=club"
   ]
  },
  {
   "cell_type": "code",
   "execution_count": 81,
   "metadata": {},
   "outputs": [],
   "source": [
    "for name in all_players:\n",
    "    for year in all_players[name]:\n",
    "        if 'club' not in all_players[name][year]:\n",
    "            #more than 1 year?\n",
    "            years=np.sort(list(all_players[name].keys()))\n",
    "            if len(years)>1:\n",
    "                #get club from previous year\n",
    "                for y in range(years[0],year):\n",
    "                    if y in all_players[name]:\n",
    "                        if 'club' in all_players[name][y]:\n",
    "                            all_players[name][year]['club']=all_players[name][y]['club']\n",
    "                #if still not found, get club from next year\n",
    "                if 'club' not in all_players[name][year]:\n",
    "                    #get club from next year\n",
    "                    for y in np.arange(years[-1],year,-1):\n",
    "                        if y in all_players[name]:\n",
    "                            if 'club' in all_players[name][y]:\n",
    "                                all_players[name][year]['club']=all_players[name][y]['club']"
   ]
  },
  {
   "cell_type": "code",
   "execution_count": 82,
   "metadata": {},
   "outputs": [
    {
     "name": "stdout",
     "output_type": "stream",
     "text": [
      "error Cristea A. 2009 {2009: {'names': {'Cristea A.', 'Cristea Adrian'}}, 2014: {'names': {'Cristea Andrei'}}, 2015: {'names': {'Cristea Andrei'}}}\n",
      "error Cristea A. 2014 {2009: {'names': {'Cristea A.', 'Cristea Adrian'}, 'club': 'XXX'}, 2014: {'names': {'Cristea Andrei'}}, 2015: {'names': {'Cristea Andrei'}}}\n",
      "error Cristea A. 2015 {2009: {'names': {'Cristea A.', 'Cristea Adrian'}, 'club': 'XXX'}, 2014: {'names': {'Cristea Andrei'}, 'club': 'XXX'}, 2015: {'names': {'Cristea Andrei'}}}\n",
      "error Alexandrescu N. 2009 {2009: {'names': {'Alexandrescu N.'}}, 2010: {'names': {'Alexandrescu N.', 'Alexandrescu Nic.'}}}\n",
      "error Alexandrescu N. 2010 {2009: {'names': {'Alexandrescu N.'}, 'club': 'XXX'}, 2010: {'names': {'Alexandrescu N.', 'Alexandrescu Nic.'}}}\n",
      "error Macavei A. 2009 {2009: {'names': {'Macavei Aurel'}}}\n",
      "error Grossu D. 2009 {2009: {'names': {'Grossu D.', 'Grossu Dragos'}}}\n",
      "error Rotaru V. 2009 {2009: {'names': {'Rotaru V.'}}}\n",
      "error Macavei I. 2009 {2009: {'names': {'Macavei I.'}}}\n",
      "error Mehelean L. 2009 {2009: {'names': {'Mehelean Ligia'}}}\n",
      "error Dumbravă L. 2009 {2009: {'names': {'Dumbravă Lucian'}}}\n",
      "error Xantopol C. 2009 {2009: {'names': {'Xantopol Claudiu'}}}\n",
      "error Szabó S. 2009 {2009: {'names': {'Szabó Simon'}}, 2010: {'names': {'Szabó Simon'}}, 2011: {'names': {'Szabó Simon'}}, 2012: {'names': {'Szabó Simon'}}, 2013: {'names': {'Szabó Simon Dániel'}}, 2014: {'names': {'Szabó Simon'}}}\n",
      "error Szabó S. 2010 {2009: {'names': {'Szabó Simon'}, 'club': 'XXX'}, 2010: {'names': {'Szabó Simon'}}, 2011: {'names': {'Szabó Simon'}}, 2012: {'names': {'Szabó Simon'}}, 2013: {'names': {'Szabó Simon Dániel'}}, 2014: {'names': {'Szabó Simon'}}}\n",
      "error Szabó S. 2011 {2009: {'names': {'Szabó Simon'}, 'club': 'XXX'}, 2010: {'names': {'Szabó Simon'}, 'club': 'XXX'}, 2011: {'names': {'Szabó Simon'}}, 2012: {'names': {'Szabó Simon'}}, 2013: {'names': {'Szabó Simon Dániel'}}, 2014: {'names': {'Szabó Simon'}}}\n",
      "error Szabó S. 2012 {2009: {'names': {'Szabó Simon'}, 'club': 'XXX'}, 2010: {'names': {'Szabó Simon'}, 'club': 'XXX'}, 2011: {'names': {'Szabó Simon'}, 'club': 'XXX'}, 2012: {'names': {'Szabó Simon'}}, 2013: {'names': {'Szabó Simon Dániel'}}, 2014: {'names': {'Szabó Simon'}}}\n",
      "error Szabó S. 2013 {2009: {'names': {'Szabó Simon'}, 'club': 'XXX'}, 2010: {'names': {'Szabó Simon'}, 'club': 'XXX'}, 2011: {'names': {'Szabó Simon'}, 'club': 'XXX'}, 2012: {'names': {'Szabó Simon'}, 'club': 'XXX'}, 2013: {'names': {'Szabó Simon Dániel'}}, 2014: {'names': {'Szabó Simon'}}}\n",
      "error Szabó S. 2014 {2009: {'names': {'Szabó Simon'}, 'club': 'XXX'}, 2010: {'names': {'Szabó Simon'}, 'club': 'XXX'}, 2011: {'names': {'Szabó Simon'}, 'club': 'XXX'}, 2012: {'names': {'Szabó Simon'}, 'club': 'XXX'}, 2013: {'names': {'Szabó Simon Dániel'}, 'club': 'XXX'}, 2014: {'names': {'Szabó Simon'}}}\n",
      "error Pienaru S. 2009 {2009: {'names': {'Pienaru Sorin'}}, 2010: {'names': {'Pienaru Sorin'}}}\n",
      "error Pienaru S. 2010 {2009: {'names': {'Pienaru Sorin'}, 'club': 'XXX'}, 2010: {'names': {'Pienaru Sorin'}}}\n",
      "error Purdel C. 2010 {2010: {'names': {'Purdel Cristian'}}, 2011: {'names': {'Purdel Cristian', 'Purdel C.'}}}\n",
      "error Purdel C. 2011 {2010: {'names': {'Purdel Cristian'}, 'club': 'XXX'}, 2011: {'names': {'Purdel Cristian', 'Purdel C.'}}}\n",
      "error Iordan R. 2010 {2010: {'names': {'Iordan Relu'}}}\n",
      "error Constantinescu A. 2010 {2010: {'names': {'Constantinescu Andrei'}}}\n",
      "error Nechifor C. 2010 {2010: {'names': {'Nechifor Cristian'}}}\n",
      "error Chiric D. 2010 {2010: {'names': {'Chiric Dragoș'}}}\n",
      "error Zinculescu T. 2010 {2010: {'names': {'Zinculescu Tiberiu'}}}\n",
      "error Cerneavschi A. 2010 {2010: {'names': {'Cerneavschi Adrian'}}}\n",
      "error Cerchez I. 2010 {2010: {'names': {'Cerchez Iuliana'}}, 2011: {'names': {'Cerchez Iuliana', 'Cerchez I.'}}}\n",
      "error Cerchez I. 2011 {2010: {'names': {'Cerchez Iuliana'}, 'club': 'XXX'}, 2011: {'names': {'Cerchez Iuliana', 'Cerchez I.'}}}\n",
      "error Ștefan C. 2010 {2010: {'names': {'Ştefan Cristina', 'Ștefan Cristina'}}, 2011: {'names': {'Ştefan Cristina', 'Ştefan C.'}}, 2012: {'names': {'Ştefan Cristina'}}, 2013: {'names': {'Ștefan Cristina'}}}\n",
      "error Ștefan C. 2011 {2010: {'names': {'Ştefan Cristina', 'Ștefan Cristina'}, 'club': 'XXX'}, 2011: {'names': {'Ştefan Cristina', 'Ştefan C.'}}, 2012: {'names': {'Ştefan Cristina'}}, 2013: {'names': {'Ștefan Cristina'}}}\n",
      "error Ștefan C. 2012 {2010: {'names': {'Ştefan Cristina', 'Ștefan Cristina'}, 'club': 'XXX'}, 2011: {'names': {'Ştefan Cristina', 'Ştefan C.'}, 'club': 'XXX'}, 2012: {'names': {'Ştefan Cristina'}}, 2013: {'names': {'Ștefan Cristina'}}}\n",
      "error Ștefan C. 2013 {2010: {'names': {'Ştefan Cristina', 'Ștefan Cristina'}, 'club': 'XXX'}, 2011: {'names': {'Ştefan Cristina', 'Ştefan C.'}, 'club': 'XXX'}, 2012: {'names': {'Ştefan Cristina'}, 'club': 'XXX'}, 2013: {'names': {'Ștefan Cristina'}}}\n",
      "error Mihai I. 2010 {2010: {'names': {'Mihai Ioana'}}, 2011: {'names': {'Mihai Ioana'}}, 2012: {'names': {'Mihai Ioana'}}, 2013: {'names': {'Mihai Ioana'}}}\n",
      "error Mihai I. 2011 {2010: {'names': {'Mihai Ioana'}, 'club': 'XXX'}, 2011: {'names': {'Mihai Ioana'}}, 2012: {'names': {'Mihai Ioana'}}, 2013: {'names': {'Mihai Ioana'}}}\n",
      "error Mihai I. 2012 {2010: {'names': {'Mihai Ioana'}, 'club': 'XXX'}, 2011: {'names': {'Mihai Ioana'}, 'club': 'XXX'}, 2012: {'names': {'Mihai Ioana'}}, 2013: {'names': {'Mihai Ioana'}}}\n",
      "error Mihai I. 2013 {2010: {'names': {'Mihai Ioana'}, 'club': 'XXX'}, 2011: {'names': {'Mihai Ioana'}, 'club': 'XXX'}, 2012: {'names': {'Mihai Ioana'}, 'club': 'XXX'}, 2013: {'names': {'Mihai Ioana'}}}\n",
      "error Blaj V. 2010 {2010: {'names': {'Blaj Valentin'}}, 2011: {'names': {'Blaj Valentin'}}}\n",
      "error Blaj V. 2011 {2010: {'names': {'Blaj Valentin'}, 'club': 'XXX'}, 2011: {'names': {'Blaj Valentin'}}}\n",
      "error Zolfaghari A. 2010 {2010: {'names': {'Zolfaghari Anah.', 'Zolfoghari Anahita'}}}\n",
      "error Ionescu I. 2010 {2010: {'names': {'Ionescu Ilinca'}}, 2014: {'names': {'Ionescu Ilinca'}}}\n",
      "error Ionescu I. 2014 {2010: {'names': {'Ionescu Ilinca'}, 'club': 'XXX'}, 2014: {'names': {'Ionescu Ilinca'}}}\n",
      "error Crișan E. 2010 {2010: {'names': {'Crișan Eugen', 'Crişan Eugen'}}, 2011: {'names': {'Crişan E.', 'Crişan Eugen', 'Crișan E.'}}, 2012: {'names': {'Crişan Eugen'}}}\n",
      "error Crișan E. 2011 {2010: {'names': {'Crișan Eugen', 'Crişan Eugen'}, 'club': 'XXX'}, 2011: {'names': {'Crişan E.', 'Crişan Eugen', 'Crișan E.'}}, 2012: {'names': {'Crişan Eugen'}}}\n",
      "error Crișan E. 2012 {2010: {'names': {'Crișan Eugen', 'Crişan Eugen'}, 'club': 'XXX'}, 2011: {'names': {'Crişan E.', 'Crişan Eugen', 'Crișan E.'}, 'club': 'XXX'}, 2012: {'names': {'Crişan Eugen'}}}\n",
      "error Zainea I. 2010 {2010: {'names': {'Zainea Ionuț', 'Zainea Ionuţ'}}}\n",
      "error Stănculescu C. 2010 {2010: {'names': {'Stănculescu Cri.', 'Stănculescu Cristian'}}, 2013: {'names': {'Stănculascu Cristian'}}}\n",
      "error Stănculescu C. 2013 {2010: {'names': {'Stănculescu Cri.', 'Stănculescu Cristian'}, 'club': 'XXX'}, 2013: {'names': {'Stănculascu Cristian'}}}\n",
      "error Gheorghiu R. 2010 {2010: {'names': {'Gheorghiu Radu'}}, 2011: {'names': {'Gheorghiu R.', 'Gheorghiu Radu'}}, 2012: {'names': {'Gheorghiu Radu'}}, 2013: {'names': {'Gheorghiu Radu'}}}\n",
      "error Gheorghiu R. 2011 {2010: {'names': {'Gheorghiu Radu'}, 'club': 'XXX'}, 2011: {'names': {'Gheorghiu R.', 'Gheorghiu Radu'}}, 2012: {'names': {'Gheorghiu Radu'}}, 2013: {'names': {'Gheorghiu Radu'}}}\n",
      "error Gheorghiu R. 2012 {2010: {'names': {'Gheorghiu Radu'}, 'club': 'XXX'}, 2011: {'names': {'Gheorghiu R.', 'Gheorghiu Radu'}, 'club': 'XXX'}, 2012: {'names': {'Gheorghiu Radu'}}, 2013: {'names': {'Gheorghiu Radu'}}}\n",
      "error Gheorghiu R. 2013 {2010: {'names': {'Gheorghiu Radu'}, 'club': 'XXX'}, 2011: {'names': {'Gheorghiu R.', 'Gheorghiu Radu'}, 'club': 'XXX'}, 2012: {'names': {'Gheorghiu Radu'}, 'club': 'XXX'}, 2013: {'names': {'Gheorghiu Radu'}}}\n",
      "error Andrei O. 2010 {2010: {'names': {'Andrei Ovidiu'}}}\n",
      "error Bărbulescu E. 2010 {2010: {'names': {'Bărbulescu Ed.', 'Bărbulescu Eduard'}}}\n",
      "error Turdean S. 2010 {2010: {'names': {'Turdean Sergiu'}}, 2011: {'names': {'Turdean S.', 'Turdean Sergiu'}}}\n",
      "error Turdean S. 2011 {2010: {'names': {'Turdean Sergiu'}, 'club': 'XXX'}, 2011: {'names': {'Turdean S.', 'Turdean Sergiu'}}}\n",
      "error Georgescu B. 2010 {2010: {'names': {'Georgescu Bogdan', 'Georgescu B.'}}}\n",
      "error Georgescu R. 2010 {2010: {'names': {'Georgescu Radu'}}, 2011: {'names': {'Georgescu R.'}}}\n",
      "error Georgescu R. 2011 {2010: {'names': {'Georgescu Radu'}, 'club': 'XXX'}, 2011: {'names': {'Georgescu R.'}}}\n",
      "error Wasicheck W. 2010 {2010: {'names': {'Wasicek Verner'}}, 2011: {'names': {'Wasicsek W.', 'Wasicsek Werner'}}, 2012: {'names': {'Wasicheck Werner', 'Wasicsec Werner'}}, 2013: {'names': {'Wasicsek Werner'}}}\n",
      "error Wasicheck W. 2011 {2010: {'names': {'Wasicek Verner'}, 'club': 'XXX'}, 2011: {'names': {'Wasicsek W.', 'Wasicsek Werner'}}, 2012: {'names': {'Wasicheck Werner', 'Wasicsec Werner'}}, 2013: {'names': {'Wasicsek Werner'}}}\n",
      "error Wasicheck W. 2012 {2010: {'names': {'Wasicek Verner'}, 'club': 'XXX'}, 2011: {'names': {'Wasicsek W.', 'Wasicsek Werner'}, 'club': 'XXX'}, 2012: {'names': {'Wasicheck Werner', 'Wasicsec Werner'}}, 2013: {'names': {'Wasicsek Werner'}}}\n",
      "error Wasicheck W. 2013 {2010: {'names': {'Wasicek Verner'}, 'club': 'XXX'}, 2011: {'names': {'Wasicsek W.', 'Wasicsek Werner'}, 'club': 'XXX'}, 2012: {'names': {'Wasicheck Werner', 'Wasicsec Werner'}, 'club': 'XXX'}, 2013: {'names': {'Wasicsek Werner'}}}\n",
      "error Martin M. 2010 {2010: {'names': {'Martin Mihai'}}}\n",
      "error Moga D. 2011 {2011: {'names': {'Moga D', 'Moga Dorin'}}, 2013: {'names': {'Moga Dorin'}}}\n",
      "error Moga D. 2013 {2011: {'names': {'Moga D', 'Moga Dorin'}, 'club': 'XXX'}, 2013: {'names': {'Moga Dorin'}}}\n",
      "error Constantina A. 2011 {2011: {'names': {'Constantina Alexandru', 'Constantina A.'}}}\n",
      "error Keresztes M. 2011 {2011: {'names': {'Keresztes Mátyás', 'Keresztes M.'}}}\n",
      "error Galoș A. 2011 {2011: {'names': {'Galos A.', 'Galoş Alin'}}}\n",
      "error Albert V. 2011 {2011: {'names': {'Albert V.'}}}\n",
      "error Lăcătuș M. 2011 {2011: {'names': {'Lacatus Mihai'}}, 2012: {'names': {'Lăcătuş Mihai'}}}\n",
      "error Lăcătuș M. 2012 {2011: {'names': {'Lacatus Mihai'}, 'club': 'XXX'}, 2012: {'names': {'Lăcătuş Mihai'}}}\n",
      "error Pavel A. 2012 {2012: {'names': {'Pavel Alexandra'}}, 2013: {'names': {'Pavel Alexandra'}}}\n",
      "error Pavel A. 2013 {2012: {'names': {'Pavel Alexandra'}, 'club': 'XXX'}, 2013: {'names': {'Pavel Alexandra'}}}\n",
      "error Parlea A. 2012 {2012: {'names': {'Parlea Andrei'}}}\n",
      "error Matea C. 2012 {2012: {'names': {'Matea Coralia Ioana'}}, 2013: {'names': {'Matea Coralia-Ioana', 'Matea Coralia Ioana', 'Matea Coralia'}}, 2014: {'names': {'Matea Coralia'}}, 2015: {'names': {'Matea Coralia-Ioana'}}}\n",
      "error Matea C. 2013 {2012: {'names': {'Matea Coralia Ioana'}, 'club': 'XXX'}, 2013: {'names': {'Matea Coralia-Ioana', 'Matea Coralia Ioana', 'Matea Coralia'}}, 2014: {'names': {'Matea Coralia'}}, 2015: {'names': {'Matea Coralia-Ioana'}}}\n",
      "error Matea C. 2014 {2012: {'names': {'Matea Coralia Ioana'}, 'club': 'XXX'}, 2013: {'names': {'Matea Coralia-Ioana', 'Matea Coralia Ioana', 'Matea Coralia'}, 'club': 'XXX'}, 2014: {'names': {'Matea Coralia'}}, 2015: {'names': {'Matea Coralia-Ioana'}}}\n",
      "error Matea C. 2015 {2012: {'names': {'Matea Coralia Ioana'}, 'club': 'XXX'}, 2013: {'names': {'Matea Coralia-Ioana', 'Matea Coralia Ioana', 'Matea Coralia'}, 'club': 'XXX'}, 2014: {'names': {'Matea Coralia'}, 'club': 'XXX'}, 2015: {'names': {'Matea Coralia-Ioana'}}}\n",
      "error Macaveiu I. 2012 {2012: {'names': {'Macaveiu Ioan Aurel'}}}\n",
      "error Crețiu M. 2012 {2012: {'names': {'Crețiu Matei'}}}\n",
      "error Crețiu T. 2012 {2012: {'names': {'Crețiu Tudor'}}}\n",
      "error Sânpetru R. 2012 {2012: {'names': {'Sânpetru Raul'}}}\n",
      "error Moldoveanu A. 2012 {2012: {'names': {'Moldoveanu Alexandru', 'Moldoveanu Alex.'}}}\n",
      "error Szikszai M. 2012 {2012: {'names': {'Szikszai Mihály'}}}\n",
      "error Chiper I. 2013 {2013: {'names': {'Chiper Ioan'}}}\n",
      "error Mitelea C. 2013 {2013: {'names': {'Mitelea Călin'}}, 2014: {'names': {'Mitelea Călin'}}}\n",
      "error Mitelea C. 2014 {2013: {'names': {'Mitelea Călin'}, 'club': 'XXX'}, 2014: {'names': {'Mitelea Călin'}}}\n",
      "error Cosma F. 2013 {2013: {'names': {'Cosma Florin'}}}\n",
      "error Tiron L. 2013 {2013: {'names': {'Tiron Laurenţiu'}}}\n",
      "error Pîrlea A. 2013 {2013: {'names': {'Pîrlea Andrei Daniel', 'Pârlea Andrei'}}}\n",
      "error Ungureanu A. 2013 {2013: {'names': {'Ungureanu Alexandru Cătălin'}}}\n",
      "error Cozan O. 2013 {2013: {'names': {'Cozan Ovidiu', 'Cozan  Ovidiu'}}}\n",
      "error Canceu A. 2014 {2014: {'names': {'Canceu Adriana-Maria', 'Canceu Ana', 'Canceu Adriana'}}, 2015: {'names': {'Canceu Adriana-Maria'}}}\n",
      "error Canceu A. 2015 {2014: {'names': {'Canceu Adriana-Maria', 'Canceu Ana', 'Canceu Adriana'}, 'club': 'XXX'}, 2015: {'names': {'Canceu Adriana-Maria'}}}\n",
      "error Sîvu F. 2014 {2014: {'names': {'Sîvu Francesca'}}}\n",
      "error Duicu T. 2014 {2014: {'names': {'Duicu Tudor'}}}\n",
      "error Ceoca A. 2014 {2014: {'names': {'Ceoca Alexandra'}}}\n",
      "error Forrer Y. 2014 {2014: {'names': {'Forrer Yasmine'}}}\n",
      "error Fazakas K. 2014 {2014: {'names': {'Fazakas Krisztina'}}}\n",
      "error Surugiu T. 2014 {2014: {'names': {'Surugiu Tudor Mihai'}}, 2015: {'names': {'Surugiu Tudor Mihai'}}}\n",
      "error Surugiu T. 2015 {2014: {'names': {'Surugiu Tudor Mihai'}, 'club': 'XXX'}, 2015: {'names': {'Surugiu Tudor Mihai'}}}\n",
      "error Ferenczi C. 2014 {2014: {'names': {'Ferenczi Cristian'}}}\n",
      "error Moroșan A. 2014 {2014: {'names': {'Moroşan Andrei', 'Moroșan Andrei'}}, 2015: {'names': {'Moroşan Andrei'}}}\n",
      "error Moroșan A. 2015 {2014: {'names': {'Moroşan Andrei', 'Moroșan Andrei'}, 'club': 'XXX'}, 2015: {'names': {'Moroşan Andrei'}}}\n",
      "error Jianu A. 2014 {2014: {'names': {'Jianu Alexandru'}}}\n",
      "error Tamang S. 2014 {2014: {'names': {'Tamang Sujata'}}, 2015: {'names': {'Tamang Sujata'}}}\n",
      "error Tamang S. 2015 {2014: {'names': {'Tamang Sujata'}, 'club': 'XXX'}, 2015: {'names': {'Tamang Sujata'}}}\n",
      "error Bonta T. 2014 {2014: {'names': {'Bonta Tudor'}}}\n",
      "error Cojoleanca I. 2014 {2014: {'names': {'Cojoleanca Iulian'}}}\n",
      "error Angelescu M. 2014 {2014: {'names': {'Angelescu Marcel'}}}\n",
      "error Hassan D. 2014 {2014: {'names': {'Hassan Dariush'}}}\n",
      "error Costea C. 2015 {2015: {'names': {'Costea Cătălin'}}}\n",
      "error Constantin D. 2015 {2015: {'names': {'Constantin Doru'}}}\n",
      "error Molnár E. 2015 {2015: {'names': {'Molnár Emese'}}}\n",
      "error Trandafir A. 2015 {2015: {'names': {'Trandafir Ana'}}}\n",
      "error Cismaru D. 2015 {2015: {'names': {'Cismaru Daniela'}}}\n",
      "error Tütsek K. 2015 {2015: {'names': {'Tütsek Kinga'}}}\n",
      "error Darkó B. 2015 {2015: {'names': {'Darkó Béla'}}}\n"
     ]
    }
   ],
   "source": [
    "clubs_manual={'Balázs-Kercsó Z.':'BTK',\n",
    "             'Vrânceanu M.':'SAN',\n",
    "             'Duțescu M.':'IKA',\n",
    "             'Crăciun D.':'SAM',\n",
    "             'Nagy V.':'ISH',\n",
    "             'Goró L.':'BTK',\n",
    "             'Ghineț G.':'YUK',\n",
    "             'Cioată E.':'KAS',\n",
    "             'Leat M.':'IKA',\n",
    "             'Perianu S.':'KNS',\n",
    "             'Ah-hu S.':'CRK',\n",
    "             'Preda A.':'CRK',\n",
    "             'Luca M.':'IKA',\n",
    "             'Salló Z.':'BTK',\n",
    "             'András Z.':'BTK',\n",
    "             'Bíró S.':'BTK',\n",
    "             'Neagu F.':'IKA',\n",
    "             'Bódi Z.':'KYO',\n",
    "             'Bumbu D.':'ISH',\n",
    "             'Botean A.':'ISH',\n",
    "             'Moldoveanu M.':'ISH',\n",
    "             'Jeszenszki T.':'BTK',\n",
    "             'Ianăș F.':'SAM',\n",
    "             'Suru N.':'SAM',\n",
    "             'Balázs S.':'BTK',\n",
    "             'Perdi L.':'ISH',\n",
    "             'Vrânceanu L.':'SAN',\n",
    "             'Oprișan A.':'IKA',\n",
    "             'Horváth D.':'BTK',\n",
    "             'Sandache I.':'BTK',\n",
    "             'Crăciunel C.':'ICH',\n",
    "             'Crăciunel V.':'ICH',\n",
    "             'Crăciunel I.':'ICH',\n",
    "             'Georgescu S.':'CRK',\n",
    "             'Búzás C.':'BTK',\n",
    "             'Moise T.':'KAY'}\n",
    "for name in all_players:\n",
    "    for year in all_players[name]:\n",
    "        if 'club' not in all_players[name][year]:\n",
    "            #if still not found, print error, infer other way\n",
    "            if name in clubs_manual:\n",
    "                all_players[name][year]['club']=clubs_manual[name]\n",
    "            else:\n",
    "                print('error',name,year,all_players[name])\n",
    "                all_players[name][year]['club']='XXX'"
   ]
  },
  {
   "cell_type": "code",
   "execution_count": 83,
   "metadata": {},
   "outputs": [],
   "source": [
    "clubs={}\n",
    "for name in all_players:\n",
    "    for year in all_players[name]:\n",
    "        club=all_players[name][year]['club'] \n",
    "        if club not in clubs:clubs[club]={}\n",
    "        if year not in clubs[club]:clubs[club][year]=set()\n",
    "        clubs[club][year].add(name)"
   ]
  },
  {
   "cell_type": "code",
   "execution_count": 84,
   "metadata": {},
   "outputs": [],
   "source": [
    "def outcome_cleaner(outcome):\n",
    "    if outcome=='E': return True\n",
    "    else: return False"
   ]
  },
  {
   "cell_type": "code",
   "execution_count": 85,
   "metadata": {},
   "outputs": [],
   "source": [
    "def outcome_from_points(aka,shiro):\n",
    "    if aka==shiro: return 'X',0\n",
    "    elif aka>shiro: return 'A',str(aka-shiro)\n",
    "    else: return 'S',str(shiro-aka)"
   ]
  },
  {
   "cell_type": "code",
   "execution_count": 86,
   "metadata": {},
   "outputs": [],
   "source": [
    "redflags_points=['Puncte']\n",
    "def point_clean1(point):\n",
    "    return point.replace('○','O').replace('I','H').replace('×','')\\\n",
    "            .replace('–','').replace('1','O').replace('—','').replace('?','')\n",
    "def points_cleaner(points):\n",
    "    hansoku=0\n",
    "    if '∆' in points:\n",
    "        hansoku=1\n",
    "        points=points.replace('∆','')\n",
    "    if '▲' in points:\n",
    "        hansoku=1\n",
    "        points=points.replace('▲','')\n",
    "    if '(Ht)' in points:\n",
    "        hansoku=1\n",
    "        points=points.replace('(Ht)','')\n",
    "    if '(victorie)' in points:\n",
    "        points=points.replace('(victorie)','OO')\n",
    "    points=points.strip()\n",
    "    if len(points)>2:\n",
    "        print(points,'error')\n",
    "    elif len(points)>1:\n",
    "        point1=points[0]\n",
    "        point2=points[1]\n",
    "    elif len(points)>0:\n",
    "        point1=points[0]\n",
    "        point2=''\n",
    "    else:\n",
    "        point1=''\n",
    "        point2=''\n",
    "    point1=point_clean1(point1)\n",
    "    point2=point_clean1(point2)\n",
    "    return point1,point2,len(points),hansoku"
   ]
  },
  {
   "cell_type": "code",
   "execution_count": 87,
   "metadata": {},
   "outputs": [],
   "source": [
    "def club_cleaner(club):\n",
    "    if '/' in club:\n",
    "        return club.split('/')[0],club.split('/')[1].upper()\n",
    "    else:\n",
    "        return club,'RO'"
   ]
  },
  {
   "cell_type": "code",
   "execution_count": 88,
   "metadata": {},
   "outputs": [],
   "source": [
    "pretty_clubs={'ARA':'Arashi', 'BSD':'Bushido', 'BTK':'Bushi Tokukai', 'BG':'Bulgaria',\n",
    "              'CDO':'Coroan de Oțel', 'CRK':'Clubul Român de Kendo', 'HAR':'Hargita', \n",
    "              'ICH':'Ichimon', 'IKA':'Ikada','ISH':'Ishhin', 'IT':'Italy','HU':'Hungary',\n",
    "              'KAS':'Kashi', 'KNS':'Kenshin', 'KYO':'Kyobukan', 'MC':'Macedonia',\n",
    "              'SR':'Serbia', 'MN':'Montenegro', 'MOL':'Moldova', 'MUS':'Museido', \n",
    "               'RON':'Ronin-do', 'SAK':'Sakura', 'SAM':'Sam-sho','SAN':'Sankon', 'SBK':'Sobukan',\n",
    "               'SON':'Sonkei', 'SR':'Serbia', 'TAI':'Taiken', 'TR':'Turkey', 'XXX':'Unknown',\n",
    "               'YUK':'Yu-kai','KAY':'Kaybukan'}\n",
    "def pretty_club(club, country):\n",
    "    if country!='RO':\n",
    "        return pretty_clubs[country]\n",
    "    else: return pretty_clubs[club]"
   ]
  },
  {
   "cell_type": "code",
   "execution_count": 89,
   "metadata": {},
   "outputs": [
    {
     "name": "stdout",
     "output_type": "stream",
     "text": [
      "2009 CN\n",
      "2009 CR\n",
      "2010 CR\n",
      "2010 CN\n",
      "2011 CN\n",
      "2011 CR\n",
      "2012 CN\n",
      "2012 CR\n",
      "2013 CN\n",
      "2013 CR\n",
      "2013 SL\n",
      "2014 SL\n",
      "2014 CR\n",
      "2014 CN\n",
      "2015 SL\n",
      "2015 CN\n",
      "2015 CR\n",
      "2016 SL\n",
      "2016 CN\n",
      "2016 CR\n",
      "2017 CN\n",
      "2017 CR\n",
      "2017 SL\n",
      "2018 CR\n",
      "2018 SL\n"
     ]
    }
   ],
   "source": [
    "master_matches=[]\n",
    "for year in matches:\n",
    "    for competition in matches[year]:\n",
    "        print(year,competition)\n",
    "        for k in matches[year][competition]:\n",
    "            good=True\n",
    "            match={'year':year,'competition':competition}\n",
    "            match['match_category'],match['match_teams'],match['match_phase']=match_cleaner(year,k['match_type'])\n",
    "            if 'shinpan' in k:\n",
    "                for color in ['fukushin1','shushin','fukushin2']:\n",
    "                    if color in k['shinpan']:\n",
    "                        if k['shinpan'][color] in all_shinpan_r:\n",
    "                            match[color]=all_shinpan_r[k['shinpan'][color]]\n",
    "            aka=k['aka']['name']\n",
    "            shiro=k['shiro']['name']\n",
    "            if (name_ok(aka)) and\\\n",
    "               (name_ok(shiro)) and\\\n",
    "               (name_cleaner(aka) in all_players) and\\\n",
    "               (name_cleaner(shiro) in all_players):\n",
    "                for a in ['aka','shiro']:\n",
    "                    points=''\n",
    "                    for h in k[a]:\n",
    "                        if h=='name':\n",
    "                            name=k[a][h]\n",
    "                            match[a+' name']=all_players_r[name]\n",
    "                            club, country=club_cleaner(all_players[match[a+' name']][year]['club'])\n",
    "                            match[a+' club'], match[a+' country']=club, country\n",
    "                            match[a+' pretty_club']=pretty_club(club, country)\n",
    "                        else:\n",
    "                            point=k[a][h]\n",
    "                            if str(point)=='nan': point=''\n",
    "                            points=points+point\n",
    "                    for redflag in redflags_points:\n",
    "                        if redflag in points:\n",
    "                            good=False\n",
    "                    if good:\n",
    "                        match[a+' point1'],match[a+' point2'],match[a+' points'],match[a+' hansoku']=points_cleaner(points)\n",
    "            else:\n",
    "                good=False                \n",
    "            if good:\n",
    "                if 'outcome' in k:\n",
    "                    match['encho']=outcome_cleaner(k['outcome'])\n",
    "                else: \n",
    "                    match['encho']=False\n",
    "                match['winner'],match['difference']=outcome_from_points(match['aka points'],match['shiro points'])\n",
    "\n",
    "                master_matches.append(match)"
   ]
  },
  {
   "cell_type": "code",
   "execution_count": 90,
   "metadata": {},
   "outputs": [],
   "source": [
    "data=pd.DataFrame(master_matches)"
   ]
  },
  {
   "cell_type": "markdown",
   "metadata": {},
   "source": [
    "Cleanup"
   ]
  },
  {
   "cell_type": "code",
   "execution_count": 91,
   "metadata": {},
   "outputs": [],
   "source": [
    "data['aka hansoku']=data['aka hansoku'].replace(0,'').replace(1,'Δ')\n",
    "data['shiro hansoku']=data['shiro hansoku'].replace(0,'').replace(1,'Δ')"
   ]
  },
  {
   "cell_type": "code",
   "execution_count": 92,
   "metadata": {},
   "outputs": [],
   "source": [
    "data.to_csv('data/matches.csv')"
   ]
  },
  {
   "cell_type": "markdown",
   "metadata": {},
   "source": [
    "Group by player"
   ]
  },
  {
   "cell_type": "code",
   "execution_count": 93,
   "metadata": {},
   "outputs": [
    {
     "name": "stderr",
     "output_type": "stream",
     "text": [
      "C:\\Users\\csala\\AppData\\Local\\Continuum\\anaconda2\\envs\\python3\\lib\\site-packages\\ipykernel_launcher.py:3: SettingWithCopyWarning: \n",
      "A value is trying to be set on a copy of a slice from a DataFrame.\n",
      "Try using .loc[row_indexer,col_indexer] = value instead\n",
      "\n",
      "See the caveats in the documentation: http://pandas.pydata.org/pandas-docs/stable/indexing.html#indexing-view-versus-copy\n",
      "  This is separate from the ipykernel package so we can avoid doing imports until\n",
      "C:\\Users\\csala\\AppData\\Local\\Continuum\\anaconda2\\envs\\python3\\lib\\site-packages\\ipykernel_launcher.py:4: SettingWithCopyWarning: \n",
      "A value is trying to be set on a copy of a slice from a DataFrame.\n",
      "Try using .loc[row_indexer,col_indexer] = value instead\n",
      "\n",
      "See the caveats in the documentation: http://pandas.pydata.org/pandas-docs/stable/indexing.html#indexing-view-versus-copy\n",
      "  after removing the cwd from sys.path.\n"
     ]
    }
   ],
   "source": [
    "aka=data[[i for i in data.columns if 'shiro ' not in i]]\n",
    "aka.columns=[i.replace('aka ','') for i in aka.columns]\n",
    "aka['color']='aka'\n",
    "aka['opponent']=data['shiro name']"
   ]
  },
  {
   "cell_type": "code",
   "execution_count": 94,
   "metadata": {},
   "outputs": [
    {
     "name": "stderr",
     "output_type": "stream",
     "text": [
      "C:\\Users\\csala\\AppData\\Local\\Continuum\\anaconda2\\envs\\python3\\lib\\site-packages\\ipykernel_launcher.py:3: SettingWithCopyWarning: \n",
      "A value is trying to be set on a copy of a slice from a DataFrame.\n",
      "Try using .loc[row_indexer,col_indexer] = value instead\n",
      "\n",
      "See the caveats in the documentation: http://pandas.pydata.org/pandas-docs/stable/indexing.html#indexing-view-versus-copy\n",
      "  This is separate from the ipykernel package so we can avoid doing imports until\n",
      "C:\\Users\\csala\\AppData\\Local\\Continuum\\anaconda2\\envs\\python3\\lib\\site-packages\\ipykernel_launcher.py:4: SettingWithCopyWarning: \n",
      "A value is trying to be set on a copy of a slice from a DataFrame.\n",
      "Try using .loc[row_indexer,col_indexer] = value instead\n",
      "\n",
      "See the caveats in the documentation: http://pandas.pydata.org/pandas-docs/stable/indexing.html#indexing-view-versus-copy\n",
      "  after removing the cwd from sys.path.\n"
     ]
    }
   ],
   "source": [
    "shiro=data[[i for i in data.columns if 'aka ' not in i]]\n",
    "shiro.columns=[i.replace('shiro ','') for i in shiro.columns]\n",
    "shiro['color']='shiro'\n",
    "shiro['opponent']=data['aka name']"
   ]
  },
  {
   "cell_type": "code",
   "execution_count": 95,
   "metadata": {},
   "outputs": [
    {
     "name": "stderr",
     "output_type": "stream",
     "text": [
      "C:\\Users\\csala\\AppData\\Local\\Continuum\\anaconda2\\envs\\python3\\lib\\site-packages\\ipykernel_launcher.py:1: FutureWarning: Sorting because non-concatenation axis is not aligned. A future version\n",
      "of pandas will change to not sort by default.\n",
      "\n",
      "To accept the future behavior, pass 'sort=False'.\n",
      "\n",
      "To retain the current behavior and silence the warning, pass 'sort=True'.\n",
      "\n",
      "  \"\"\"Entry point for launching an IPython kernel.\n"
     ]
    }
   ],
   "source": [
    "extended_matches=pd.concat([aka,shiro],axis=0).reset_index(drop=True)"
   ]
  },
  {
   "cell_type": "code",
   "execution_count": 96,
   "metadata": {},
   "outputs": [
    {
     "data": {
      "text/html": [
       "<div>\n",
       "<style scoped>\n",
       "    .dataframe tbody tr th:only-of-type {\n",
       "        vertical-align: middle;\n",
       "    }\n",
       "\n",
       "    .dataframe tbody tr th {\n",
       "        vertical-align: top;\n",
       "    }\n",
       "\n",
       "    .dataframe thead th {\n",
       "        text-align: right;\n",
       "    }\n",
       "</style>\n",
       "<table border=\"1\" class=\"dataframe\">\n",
       "  <thead>\n",
       "    <tr style=\"text-align: right;\">\n",
       "      <th></th>\n",
       "      <th>club</th>\n",
       "      <th>color</th>\n",
       "      <th>competition</th>\n",
       "      <th>country</th>\n",
       "      <th>difference</th>\n",
       "      <th>encho</th>\n",
       "      <th>fukushin1</th>\n",
       "      <th>fukushin2</th>\n",
       "      <th>hansoku</th>\n",
       "      <th>match_category</th>\n",
       "      <th>...</th>\n",
       "      <th>match_teams</th>\n",
       "      <th>name</th>\n",
       "      <th>opponent</th>\n",
       "      <th>point1</th>\n",
       "      <th>point2</th>\n",
       "      <th>points</th>\n",
       "      <th>pretty_club</th>\n",
       "      <th>shushin</th>\n",
       "      <th>winner</th>\n",
       "      <th>year</th>\n",
       "    </tr>\n",
       "  </thead>\n",
       "  <tbody>\n",
       "    <tr>\n",
       "      <th>0</th>\n",
       "      <td>CRK</td>\n",
       "      <td>aka</td>\n",
       "      <td>CN</td>\n",
       "      <td>RO</td>\n",
       "      <td>1</td>\n",
       "      <td>False</td>\n",
       "      <td>NaN</td>\n",
       "      <td>NaN</td>\n",
       "      <td></td>\n",
       "      <td>Unknown</td>\n",
       "      <td>...</td>\n",
       "      <td>Unknown</td>\n",
       "      <td>Chirea V.</td>\n",
       "      <td>Benedek L.</td>\n",
       "      <td>M</td>\n",
       "      <td></td>\n",
       "      <td>1</td>\n",
       "      <td>Clubul Român de Kendo</td>\n",
       "      <td>NaN</td>\n",
       "      <td>A</td>\n",
       "      <td>2009</td>\n",
       "    </tr>\n",
       "    <tr>\n",
       "      <th>1</th>\n",
       "      <td>CRK</td>\n",
       "      <td>aka</td>\n",
       "      <td>CN</td>\n",
       "      <td>RO</td>\n",
       "      <td>2</td>\n",
       "      <td>False</td>\n",
       "      <td>NaN</td>\n",
       "      <td>NaN</td>\n",
       "      <td></td>\n",
       "      <td>Unknown</td>\n",
       "      <td>...</td>\n",
       "      <td>Unknown</td>\n",
       "      <td>Chirea V.</td>\n",
       "      <td>Chirea A.</td>\n",
       "      <td></td>\n",
       "      <td></td>\n",
       "      <td>0</td>\n",
       "      <td>Clubul Român de Kendo</td>\n",
       "      <td>NaN</td>\n",
       "      <td>S</td>\n",
       "      <td>2009</td>\n",
       "    </tr>\n",
       "    <tr>\n",
       "      <th>2</th>\n",
       "      <td>CRK</td>\n",
       "      <td>aka</td>\n",
       "      <td>CN</td>\n",
       "      <td>RO</td>\n",
       "      <td>2</td>\n",
       "      <td>False</td>\n",
       "      <td>NaN</td>\n",
       "      <td>NaN</td>\n",
       "      <td></td>\n",
       "      <td>Unknown</td>\n",
       "      <td>...</td>\n",
       "      <td>Unknown</td>\n",
       "      <td>Chirea V.</td>\n",
       "      <td>Illyés A.</td>\n",
       "      <td></td>\n",
       "      <td></td>\n",
       "      <td>0</td>\n",
       "      <td>Clubul Român de Kendo</td>\n",
       "      <td>NaN</td>\n",
       "      <td>S</td>\n",
       "      <td>2009</td>\n",
       "    </tr>\n",
       "    <tr>\n",
       "      <th>3</th>\n",
       "      <td>BTK</td>\n",
       "      <td>aka</td>\n",
       "      <td>CN</td>\n",
       "      <td>RO</td>\n",
       "      <td>1</td>\n",
       "      <td>False</td>\n",
       "      <td>NaN</td>\n",
       "      <td>NaN</td>\n",
       "      <td></td>\n",
       "      <td>Unknown</td>\n",
       "      <td>...</td>\n",
       "      <td>Unknown</td>\n",
       "      <td>Benedek L.</td>\n",
       "      <td>Chirea A.</td>\n",
       "      <td>K</td>\n",
       "      <td>K</td>\n",
       "      <td>2</td>\n",
       "      <td>Bushi Tokukai</td>\n",
       "      <td>NaN</td>\n",
       "      <td>A</td>\n",
       "      <td>2009</td>\n",
       "    </tr>\n",
       "    <tr>\n",
       "      <th>4</th>\n",
       "      <td>BTK</td>\n",
       "      <td>aka</td>\n",
       "      <td>CN</td>\n",
       "      <td>RO</td>\n",
       "      <td>1</td>\n",
       "      <td>False</td>\n",
       "      <td>NaN</td>\n",
       "      <td>NaN</td>\n",
       "      <td></td>\n",
       "      <td>Unknown</td>\n",
       "      <td>...</td>\n",
       "      <td>Unknown</td>\n",
       "      <td>Benedek L.</td>\n",
       "      <td>Illyés A.</td>\n",
       "      <td></td>\n",
       "      <td></td>\n",
       "      <td>0</td>\n",
       "      <td>Bushi Tokukai</td>\n",
       "      <td>NaN</td>\n",
       "      <td>S</td>\n",
       "      <td>2009</td>\n",
       "    </tr>\n",
       "  </tbody>\n",
       "</table>\n",
       "<p>5 rows × 21 columns</p>\n",
       "</div>"
      ],
      "text/plain": [
       "  club color competition country difference  encho fukushin1 fukushin2  \\\n",
       "0  CRK   aka          CN      RO          1  False       NaN       NaN   \n",
       "1  CRK   aka          CN      RO          2  False       NaN       NaN   \n",
       "2  CRK   aka          CN      RO          2  False       NaN       NaN   \n",
       "3  BTK   aka          CN      RO          1  False       NaN       NaN   \n",
       "4  BTK   aka          CN      RO          1  False       NaN       NaN   \n",
       "\n",
       "  hansoku match_category  ...  match_teams        name    opponent point1  \\\n",
       "0                Unknown  ...      Unknown   Chirea V.  Benedek L.      M   \n",
       "1                Unknown  ...      Unknown   Chirea V.   Chirea A.          \n",
       "2                Unknown  ...      Unknown   Chirea V.   Illyés A.          \n",
       "3                Unknown  ...      Unknown  Benedek L.   Chirea A.      K   \n",
       "4                Unknown  ...      Unknown  Benedek L.   Illyés A.          \n",
       "\n",
       "  point2 points            pretty_club shushin winner  year  \n",
       "0             1  Clubul Român de Kendo     NaN      A  2009  \n",
       "1             0  Clubul Român de Kendo     NaN      S  2009  \n",
       "2             0  Clubul Român de Kendo     NaN      S  2009  \n",
       "3      K      2          Bushi Tokukai     NaN      A  2009  \n",
       "4             0          Bushi Tokukai     NaN      S  2009  \n",
       "\n",
       "[5 rows x 21 columns]"
      ]
     },
     "execution_count": 96,
     "metadata": {},
     "output_type": "execute_result"
    }
   ],
   "source": [
    "extended_matches.head()"
   ]
  },
  {
   "cell_type": "code",
   "execution_count": 97,
   "metadata": {},
   "outputs": [],
   "source": [
    "extended_matches.to_csv('data/extended_matches.csv')"
   ]
  },
  {
   "cell_type": "code",
   "execution_count": 98,
   "metadata": {},
   "outputs": [
    {
     "name": "stderr",
     "output_type": "stream",
     "text": [
      "C:\\Users\\csala\\AppData\\Local\\Continuum\\anaconda2\\envs\\python3\\lib\\site-packages\\pandas\\core\\frame.py:3781: SettingWithCopyWarning: \n",
      "A value is trying to be set on a copy of a slice from a DataFrame\n",
      "\n",
      "See the caveats in the documentation: http://pandas.pydata.org/pandas-docs/stable/indexing.html#indexing-view-versus-copy\n",
      "  return super(DataFrame, self).rename(**kwargs)\n"
     ]
    }
   ],
   "source": [
    "p1=extended_matches[[i for i in extended_matches.columns if i!='point2']]\n",
    "p2=extended_matches[[i for i in extended_matches.columns if i!='point1']]\n",
    "p1.rename(columns={'point1':'point'}, inplace=True)\n",
    "p2.rename(columns={'point2':'point'}, inplace=True)"
   ]
  },
  {
   "cell_type": "code",
   "execution_count": 99,
   "metadata": {},
   "outputs": [],
   "source": [
    "extended_points=pd.concat([p1,p2],axis=0).reset_index(drop=True)"
   ]
  },
  {
   "cell_type": "code",
   "execution_count": 100,
   "metadata": {},
   "outputs": [],
   "source": [
    "extended_points.to_csv('data/extended_points.csv')"
   ]
  },
  {
   "cell_type": "code",
   "execution_count": 101,
   "metadata": {},
   "outputs": [
    {
     "data": {
      "text/plain": [
       "Index(['club', 'color', 'competition', 'country', 'difference', 'encho',\n",
       "       'fukushin1', 'fukushin2', 'hansoku', 'match_category', 'match_phase',\n",
       "       'match_teams', 'name', 'opponent', 'point', 'points', 'pretty_club',\n",
       "       'shushin', 'winner', 'year'],\n",
       "      dtype='object')"
      ]
     },
     "execution_count": 101,
     "metadata": {},
     "output_type": "execute_result"
    }
   ],
   "source": [
    "extended_points.columns"
   ]
  },
  {
   "cell_type": "code",
   "execution_count": 102,
   "metadata": {},
   "outputs": [
    {
     "name": "stderr",
     "output_type": "stream",
     "text": [
      "C:\\Users\\csala\\AppData\\Local\\Continuum\\anaconda2\\envs\\python3\\lib\\site-packages\\ipykernel_launcher.py:7: FutureWarning: Sorting because non-concatenation axis is not aligned. A future version\n",
      "of pandas will change to not sort by default.\n",
      "\n",
      "To accept the future behavior, pass 'sort=False'.\n",
      "\n",
      "To retain the current behavior and silence the warning, pass 'sort=True'.\n",
      "\n",
      "  import sys\n"
     ]
    }
   ],
   "source": [
    "shu=extended_points[[i for i in extended_points.columns if 'fukushin' not in i]]\n",
    "shu.columns=[i.replace('shushin','shinpan') for i in shu.columns]\n",
    "fk1=extended_points[[i for i in extended_points.columns if 'shushin' not in i and 'fukushin2' not in i]]\n",
    "fk1.columns=[i.replace('fukushin1','shinpan') for i in fk1.columns]\n",
    "fk2=extended_points[[i for i in extended_points.columns if 'shushin' not in i and 'fukushin1' not in i]]\n",
    "fk2.columns=[i.replace('fukushin2','shinpan') for i in fk2.columns]\n",
    "extended_shinpan=pd.concat([shu,fk1,fk2],axis=0).reset_index(drop=True)"
   ]
  },
  {
   "cell_type": "code",
   "execution_count": 103,
   "metadata": {},
   "outputs": [],
   "source": [
    "extended_shinpan.to_csv('data/extended_shinpan.csv')"
   ]
  },
  {
   "cell_type": "code",
   "execution_count": 104,
   "metadata": {},
   "outputs": [
    {
     "data": {
      "text/plain": [
       "Index(['club', 'color', 'competition', 'country', 'difference', 'encho',\n",
       "       'hansoku', 'match_category', 'match_phase', 'match_teams', 'name',\n",
       "       'opponent', 'point', 'points', 'pretty_club', 'shinpan', 'winner',\n",
       "       'year'],\n",
       "      dtype='object')"
      ]
     },
     "execution_count": 104,
     "metadata": {},
     "output_type": "execute_result"
    }
   ],
   "source": [
    "extended_shinpan.columns"
   ]
  },
  {
   "cell_type": "markdown",
   "metadata": {},
   "source": [
    "Competitor statistics"
   ]
  },
  {
   "cell_type": "code",
   "execution_count": 105,
   "metadata": {},
   "outputs": [],
   "source": [
    "competitors={}\n",
    "for i in data.T.iteritems():\n",
    "    for a in ['aka ','shiro ']:\n",
    "        name=i[1][a+'name']\n",
    "        club=i[1][a+'club']\n",
    "        if name not in competitors:\n",
    "            competitors[name]={'U':0,'club':club}\n",
    "        for j in ['point1','point2']:\n",
    "            point=i[1][a+j] \n",
    "            if point!='':\n",
    "                if point not in competitors[name]:competitors[name][point]=0\n",
    "                competitors[name][point]+=1\n",
    "        competitors[name]['U']+=1"
   ]
  },
  {
   "cell_type": "code",
   "execution_count": 106,
   "metadata": {},
   "outputs": [],
   "source": [
    "data2=pd.DataFrame(competitors)"
   ]
  },
  {
   "cell_type": "code",
   "execution_count": 107,
   "metadata": {},
   "outputs": [],
   "source": [
    "data2.T.to_csv('data/competitors.csv')"
   ]
  },
  {
   "cell_type": "code",
   "execution_count": 108,
   "metadata": {},
   "outputs": [
    {
     "data": {
      "text/plain": [
       "(6398, 12796, 38388)"
      ]
     },
     "execution_count": 108,
     "metadata": {},
     "output_type": "execute_result"
    }
   ],
   "source": [
    "len(extended_matches),len(extended_points),len(extended_shinpan)"
   ]
  },
  {
   "cell_type": "code",
   "execution_count": null,
   "metadata": {},
   "outputs": [],
   "source": []
  }
 ],
 "metadata": {
  "kernelspec": {
   "display_name": "Python 3",
   "language": "python",
   "name": "python3"
  },
  "language_info": {
   "codemirror_mode": {
    "name": "ipython",
    "version": 3
   },
   "file_extension": ".py",
   "mimetype": "text/x-python",
   "name": "python",
   "nbconvert_exporter": "python",
   "pygments_lexer": "ipython3",
   "version": "3.6.6"
  },
  "toc": {
   "base_numbering": 1,
   "nav_menu": {},
   "number_sections": true,
   "sideBar": true,
   "skip_h1_title": false,
   "title_cell": "Table of Contents",
   "title_sidebar": "Contents",
   "toc_cell": false,
   "toc_position": {},
   "toc_section_display": true,
   "toc_window_display": false
  }
 },
 "nbformat": 4,
 "nbformat_minor": 2
}
