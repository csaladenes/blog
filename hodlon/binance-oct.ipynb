{
 "cells": [
  {
   "cell_type": "code",
   "execution_count": null,
   "metadata": {
    "collapsed": true
   },
   "outputs": [],
   "source": [
    "import pandas as pd\n",
    "import matplotlib.pyplot as plt\n",
    "import matplotlib.image as image\n",
    "%matplotlib inline\n",
    "plt.xkcd()"
   ]
  },
  {
   "cell_type": "code",
   "execution_count": null,
   "metadata": {
    "collapsed": true
   },
   "outputs": [],
   "source": [
    "start='20130428'\n",
    "end='20181012'"
   ]
  },
  {
   "cell_type": "code",
   "execution_count": null,
   "metadata": {
    "collapsed": true
   },
   "outputs": [],
   "source": [
    "def plotter(currency,i,c='orange',st='2012-12-20',last='2017'):\n",
    "    dfs=pd.read_html('https://coinmarketcap.com/currencies/'+currency+'/historical-data/?start='+start+'&end='+end)\n",
    "    df=dfs[0]\n",
    "    df=df[['Date','Close**']]\n",
    "    df.columns=['Date','.']\n",
    "    df['Date']=pd.to_datetime(df['Date'])\n",
    "    fig,ax=plt.subplots(figsize=(13,6))\n",
    "    df[(last>df['Date'])&(df['Date']>'2013')].set_index('Date').plot(ax=ax,c='grey')\n",
    "    ax2=ax.twiny()\n",
    "    ax2=ax2.twinx()\n",
    "    dz=df[df['Date']>'2017'].set_index('Date')\n",
    "    dz.columns=[u'Before and after the last bubble\\n2013-2016 (bottom + left axis)']\n",
    "    dz.plot(ax=ax2,c='grey')\n",
    "    dz.columns=[currency.capitalize()+u' price in $ since 2017 (top + right axis)']\n",
    "    dz.plot(ax=ax2,c=c)\n",
    "    ax.set_xlim(st,pd.to_datetime(st)+pd.to_timedelta(3, unit='Y'))\n",
    "    ax2.set_xlim('2017','2020')\n",
    "    ax.set_xlabel('')\n",
    "    ax2.legend()\n",
    "    im = image.imread('https://s2.coinmarketcap.com/static/img/coins/32x32/'+str(i)+'.png')\n",
    "    ax3 = fig.add_axes([0.12, 0.74, 0.07, 0.07])\n",
    "    ax3.axis('off')\n",
    "    ax3.imshow(im)\n",
    "    ax3.set_title(str(int(max(df[df['Date']>'2017']['.'])/max(df[df['Date']<'2017']['.'])))+'x',color=c,)\n",
    "    plt.savefig(currency)"
   ]
  },
  {
   "cell_type": "code",
   "execution_count": null,
   "metadata": {
    "collapsed": true
   },
   "outputs": [],
   "source": [
    "plotter('bitcoin',1,'orange')"
   ]
  },
  {
   "cell_type": "code",
   "execution_count": null,
   "metadata": {
    "collapsed": true
   },
   "outputs": [],
   "source": [
    "plotter('litecoin',2,'lightgrey')"
   ]
  },
  {
   "cell_type": "code",
   "execution_count": null,
   "metadata": {
    "collapsed": true
   },
   "outputs": [],
   "source": [
    "plotter('ripple',52,'black','2012-11-30')"
   ]
  },
  {
   "cell_type": "code",
   "execution_count": null,
   "metadata": {
    "collapsed": true
   },
   "outputs": [],
   "source": [
    "plotter('dash',131,'dodgerblue','2013-06-07')"
   ]
  },
  {
   "cell_type": "code",
   "execution_count": null,
   "metadata": {
    "collapsed": true
   },
   "outputs": [],
   "source": [
    "plotter('namecoin',3,'lightsteelblue','2012-11-18')"
   ]
  },
  {
   "cell_type": "code",
   "execution_count": null,
   "metadata": {
    "collapsed": true
   },
   "outputs": [],
   "source": [
    "plotter('dogecoin',74,'darkkhaki','2013-01-22')"
   ]
  },
  {
   "cell_type": "code",
   "execution_count": null,
   "metadata": {
    "collapsed": true
   },
   "outputs": [],
   "source": [
    "plotter('bytecoin-bcn',372,'deeppink','2013-02-15')"
   ]
  },
  {
   "cell_type": "code",
   "execution_count": null,
   "metadata": {
    "collapsed": true
   },
   "outputs": [],
   "source": [
    "plotter('nxt',66,'deepskyblue','2013-06-15')"
   ]
  },
  {
   "cell_type": "code",
   "execution_count": null,
   "metadata": {
    "collapsed": true
   },
   "outputs": [],
   "source": [
    "plotter('nem',873,'mediumturquoise','2015-06-25','2017-02')"
   ]
  },
  {
   "cell_type": "code",
   "execution_count": null,
   "metadata": {
    "collapsed": true
   },
   "outputs": [],
   "source": [
    "plotter('peercoin',5,'limegreen')"
   ]
  },
  {
   "cell_type": "code",
   "execution_count": null,
   "metadata": {
    "collapsed": true
   },
   "outputs": [],
   "source": [
    "plotter('feathercoin',8,'black','2012-11-20')"
   ]
  },
  {
   "cell_type": "code",
   "execution_count": null,
   "metadata": {
    "collapsed": true
   },
   "outputs": [],
   "source": []
  }
 ],
 "metadata": {
  "anaconda-cloud": {},
  "kernelspec": {
   "display_name": "Python 3",
   "language": "python",
   "name": "python3"
  },
  "language_info": {
   "codemirror_mode": {
    "name": "ipython",
    "version": 3
   },
   "file_extension": ".py",
   "mimetype": "text/x-python",
   "name": "python",
   "nbconvert_exporter": "python",
   "pygments_lexer": "ipython3",
   "version": "3.6.3"
  }
 },
 "nbformat": 4,
 "nbformat_minor": 2
}
