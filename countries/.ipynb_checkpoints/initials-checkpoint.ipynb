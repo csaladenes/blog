{
 "cells": [
  {
   "cell_type": "code",
   "execution_count": 19,
   "metadata": {
    "collapsed": true
   },
   "outputs": [],
   "source": [
    "import pandas as pd, json"
   ]
  },
  {
   "cell_type": "markdown",
   "metadata": {},
   "source": [
    "Beta version, use my own country list"
   ]
  },
  {
   "cell_type": "code",
   "execution_count": 4,
   "metadata": {
    "collapsed": false
   },
   "outputs": [],
   "source": [
    "c=pd.read_excel('../../universal/countries/cnc.xlsx').columns"
   ]
  },
  {
   "cell_type": "code",
   "execution_count": 16,
   "metadata": {
    "collapsed": false
   },
   "outputs": [],
   "source": [
    "d=[]\n",
    "for i in c:\n",
    "    d.append({'country':i,'c':i[0],\"countries\":1,\"type\":\"countries\"})\n",
    "d.append({'country':'Total','c':'Total',\"countries\":0,\"type\":\"countries\"})"
   ]
  },
  {
   "cell_type": "code",
   "execution_count": 18,
   "metadata": {
    "collapsed": false
   },
   "outputs": [],
   "source": [
    "file('c.json','w').write(json.dumps(d))"
   ]
  },
  {
   "cell_type": "markdown",
   "metadata": {},
   "source": [
    "Final version, use Wikipedia country list"
   ]
  },
  {
   "cell_type": "code",
   "execution_count": 20,
   "metadata": {
    "collapsed": true
   },
   "outputs": [],
   "source": [
    "df=pd.read_html('https://en.wikipedia.org/wiki/List_of_sovereign_states')"
   ]
  },
  {
   "cell_type": "code",
   "execution_count": 42,
   "metadata": {
    "collapsed": false
   },
   "outputs": [],
   "source": [
    "h=[]\n",
    "for i in df[0].index[4:225]:\n",
    "    k=df[0].loc[i][0]\n",
    "    if 'ZZZ' not in k:\n",
    "        if u'→' not in k:\n",
    "            if 'Gambia' not in k:\n",
    "                if u'–' in k:k=k[:k.find(u'–')]\n",
    "                if '[' in k:k=k[:k.find('[')]\n",
    "                h.append({'country':k,'c':k[0],\"countries\":1,\"type\":\"countries\"})\n",
    "            else: \n",
    "                h.append({'country':'Gambia','c':'G',\"countries\":1,\"type\":\"countries\"})\n",
    "h.append({'country':'Total','c':'Total',\"countries\":0,\"type\":\"countries\"})"
   ]
  },
  {
   "cell_type": "code",
   "execution_count": 43,
   "metadata": {
    "collapsed": true
   },
   "outputs": [],
   "source": [
    "file('h.json','w').write(json.dumps(h))"
   ]
  }
 ],
 "metadata": {
  "anaconda-cloud": {},
  "kernelspec": {
   "display_name": "Python [conda root]",
   "language": "python",
   "name": "conda-root-py"
  },
  "language_info": {
   "codemirror_mode": {
    "name": "ipython",
    "version": 2
   },
   "file_extension": ".py",
   "mimetype": "text/x-python",
   "name": "python",
   "nbconvert_exporter": "python",
   "pygments_lexer": "ipython2",
   "version": "2.7.12"
  }
 },
 "nbformat": 4,
 "nbformat_minor": 1
}
