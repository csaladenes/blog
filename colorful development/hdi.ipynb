{
 "cells": [
  {
   "cell_type": "code",
   "execution_count": 1,
   "metadata": {
    "collapsed": false
   },
   "outputs": [],
   "source": [
    "import numpy as np, requests, pandas as pd"
   ]
  },
  {
   "cell_type": "code",
   "execution_count": 2,
   "metadata": {
    "collapsed": false
   },
   "outputs": [
    {
     "name": "stderr",
     "output_type": "stream",
     "text": [
      "C:\\Program Files\\Anaconda\\lib\\site-packages\\pandas\\io\\html.py:841: FutureWarning: infer_types will have no effect in 0.14\n",
      "  warnings.warn(\"infer_types will have no effect in 0.14\", FutureWarning)\n"
     ]
    },
    {
     "data": {
      "text/html": [
       "<div style=\"max-height:1000px;max-width:1500px;overflow:auto;\">\n",
       "<table border=\"1\" class=\"dataframe\">\n",
       "  <thead>\n",
       "    <tr style=\"text-align: right;\">\n",
       "      <th></th>\n",
       "      <th>HDI rank</th>\n",
       "      <th>Human Development Index (HDI) Value, 2013</th>\n",
       "      <th>Life expectancy at birth (years), 2013</th>\n",
       "      <th>Mean years of schooling (years), 2012 a</th>\n",
       "      <th>Expected years of schooling (years), 2012 a</th>\n",
       "      <th>Gross national income (GNI) per capita (2011 PPP $), 2013</th>\n",
       "      <th>Human Development Index (HDI) Value, 2012</th>\n",
       "    </tr>\n",
       "    <tr>\n",
       "      <th>Country</th>\n",
       "      <th></th>\n",
       "      <th></th>\n",
       "      <th></th>\n",
       "      <th></th>\n",
       "      <th></th>\n",
       "      <th></th>\n",
       "      <th></th>\n",
       "    </tr>\n",
       "  </thead>\n",
       "  <tbody>\n",
       "    <tr>\n",
       "      <th>Very high human development</th>\n",
       "      <td> nan</td>\n",
       "      <td>   nan</td>\n",
       "      <td>  nan</td>\n",
       "      <td>  nan</td>\n",
       "      <td>  nan</td>\n",
       "      <td>   nan</td>\n",
       "      <td>   nan</td>\n",
       "    </tr>\n",
       "    <tr>\n",
       "      <th>Norway</th>\n",
       "      <td> 1.0</td>\n",
       "      <td> 0.944</td>\n",
       "      <td> 81.5</td>\n",
       "      <td> 12.6</td>\n",
       "      <td> 17.6</td>\n",
       "      <td> 63909</td>\n",
       "      <td> 0.943</td>\n",
       "    </tr>\n",
       "    <tr>\n",
       "      <th>Australia</th>\n",
       "      <td> 2.0</td>\n",
       "      <td> 0.933</td>\n",
       "      <td> 82.5</td>\n",
       "      <td> 12.8</td>\n",
       "      <td> 19.9</td>\n",
       "      <td> 41524</td>\n",
       "      <td> 0.931</td>\n",
       "    </tr>\n",
       "    <tr>\n",
       "      <th>Switzerland</th>\n",
       "      <td> 3.0</td>\n",
       "      <td> 0.917</td>\n",
       "      <td> 82.6</td>\n",
       "      <td> 12.2</td>\n",
       "      <td> 15.7</td>\n",
       "      <td> 53762</td>\n",
       "      <td> 0.916</td>\n",
       "    </tr>\n",
       "    <tr>\n",
       "      <th>Netherlands</th>\n",
       "      <td> 4.0</td>\n",
       "      <td> 0.915</td>\n",
       "      <td> 81.0</td>\n",
       "      <td> 11.9</td>\n",
       "      <td> 17.9</td>\n",
       "      <td> 42397</td>\n",
       "      <td> 0.915</td>\n",
       "    </tr>\n",
       "  </tbody>\n",
       "</table>\n",
       "</div>"
      ],
      "text/plain": [
       "                            HDI rank  \\\n",
       "Country                                \n",
       "Very high human development      nan   \n",
       "Norway                           1.0   \n",
       "Australia                        2.0   \n",
       "Switzerland                      3.0   \n",
       "Netherlands                      4.0   \n",
       "\n",
       "                            Human Development Index (HDI) Value, 2013  \\\n",
       "Country                                                                 \n",
       "Very high human development                                       nan   \n",
       "Norway                                                          0.944   \n",
       "Australia                                                       0.933   \n",
       "Switzerland                                                     0.917   \n",
       "Netherlands                                                     0.915   \n",
       "\n",
       "                            Life expectancy at birth (years), 2013  \\\n",
       "Country                                                              \n",
       "Very high human development                                    nan   \n",
       "Norway                                                        81.5   \n",
       "Australia                                                     82.5   \n",
       "Switzerland                                                   82.6   \n",
       "Netherlands                                                   81.0   \n",
       "\n",
       "                            Mean years of schooling (years), 2012 a  \\\n",
       "Country                                                               \n",
       "Very high human development                                     nan   \n",
       "Norway                                                         12.6   \n",
       "Australia                                                      12.8   \n",
       "Switzerland                                                    12.2   \n",
       "Netherlands                                                    11.9   \n",
       "\n",
       "                            Expected years of schooling (years), 2012 a  \\\n",
       "Country                                                                   \n",
       "Very high human development                                         nan   \n",
       "Norway                                                             17.6   \n",
       "Australia                                                          19.9   \n",
       "Switzerland                                                        15.7   \n",
       "Netherlands                                                        17.9   \n",
       "\n",
       "                            Gross national income (GNI) per capita (2011 PPP $), 2013  \\\n",
       "Country                                                                                 \n",
       "Very high human development                                                nan          \n",
       "Norway                                                                   63909          \n",
       "Australia                                                                41524          \n",
       "Switzerland                                                              53762          \n",
       "Netherlands                                                              42397          \n",
       "\n",
       "                            Human Development Index (HDI) Value, 2012  \n",
       "Country                                                                \n",
       "Very high human development                                       nan  \n",
       "Norway                                                          0.943  \n",
       "Australia                                                       0.931  \n",
       "Switzerland                                                     0.916  \n",
       "Netherlands                                                     0.915  "
      ]
     },
     "execution_count": 2,
     "metadata": {},
     "output_type": "execute_result"
    }
   ],
   "source": [
    "url='http://hdr.undp.org/en/content/table-1-human-development-index-and-its-components'\n",
    "r=requests.get(url)\n",
    "hdi=pd.read_html(r.content,header=0,infer_types=False)[0].drop('Change in rank, 2012-2013',axis=1).set_index(['Country'],drop=True)\n",
    "hdi.head()"
   ]
  },
  {
   "cell_type": "code",
   "execution_count": 3,
   "metadata": {
    "collapsed": false
   },
   "outputs": [
    {
     "data": {
      "text/html": [
       "<div style=\"max-height:1000px;max-width:1500px;overflow:auto;\">\n",
       "<table border=\"1\" class=\"dataframe\">\n",
       "  <thead>\n",
       "    <tr style=\"text-align: right;\">\n",
       "      <th></th>\n",
       "      <th>id</th>\n",
       "    </tr>\n",
       "    <tr>\n",
       "      <th>name</th>\n",
       "      <th></th>\n",
       "    </tr>\n",
       "  </thead>\n",
       "  <tbody>\n",
       "    <tr>\n",
       "      <th>Northern Cyprus</th>\n",
       "      <td>-1</td>\n",
       "    </tr>\n",
       "    <tr>\n",
       "      <th>Kosovo</th>\n",
       "      <td>-2</td>\n",
       "    </tr>\n",
       "    <tr>\n",
       "      <th>Somaliland</th>\n",
       "      <td>-3</td>\n",
       "    </tr>\n",
       "    <tr>\n",
       "      <th>Afghanistan</th>\n",
       "      <td> 4</td>\n",
       "    </tr>\n",
       "    <tr>\n",
       "      <th>Albania</th>\n",
       "      <td> 8</td>\n",
       "    </tr>\n",
       "  </tbody>\n",
       "</table>\n",
       "</div>"
      ],
      "text/plain": [
       "                 id\n",
       "name               \n",
       "Northern Cyprus  -1\n",
       "Kosovo           -2\n",
       "Somaliland       -3\n",
       "Afghanistan       4\n",
       "Albania           8"
      ]
     },
     "execution_count": 3,
     "metadata": {},
     "output_type": "execute_result"
    }
   ],
   "source": [
    "ids=pd.read_csv('http://bl.ocks.org/d/4090846/world-country-names.tsv',sep='\\t').set_index(['name'],drop=True)\n",
    "ids.head()"
   ]
  },
  {
   "cell_type": "code",
   "execution_count": 4,
   "metadata": {
    "collapsed": false
   },
   "outputs": [],
   "source": [
    "def country_name_converter(country):\n",
    "    if country==\"Venezuela, Bolivarian Republic of\": return \"Venezuela (Bolivarian Republic of)\"\n",
    "    elif country==\"Tanzania, United Republic of\": return \"Tanzania (United Republic of)\"\n",
    "    elif country==\"Moldova, Republic of\": return \"Moldova (Republic of)\"\n",
    "    elif country==\"Micronesia, Federated States of\": return \"Micronesia (Federated States of)\"\n",
    "    elif country==\"Macedonia, the former Yugoslav Republic of\": return \"The former Yugoslav Republic of Macedonia\"\n",
    "    elif country==\"Korea, Republic of\": return \"Korea (Republic of)\"\n",
    "    elif country==\"Korea, Democratic People's Republic of\": return \"Korea (Democratic People's Rep. of)\"\n",
    "    elif country==\"Côte d'Ivoire\": return \"C\\xc3\\xb4te d'Ivoire\"\n",
    "    elif country==\"Iran, Islamic Republic of\": return \"Iran (Islamic Republic of)\"\n",
    "    elif country==\"Hong Kong\": return \"Hong Kong, China (SAR)\"\n",
    "    elif country==\"Palestinian Territory, Occupied\": return \"Palestine, State of\"\n",
    "    elif country==\"Congo, the Democratic Republic of the\": return \"Congo (Democratic Republic of the)\"\n",
    "    elif country==\"Bolivia, Plurinational State of\": return \"Bolivia (Plurinational State of)\"\n",
    "    else: return country"
   ]
  },
  {
   "cell_type": "code",
   "execution_count": 94,
   "metadata": {
    "collapsed": false
   },
   "outputs": [],
   "source": [
    "import re\n",
    "codes={}\n",
    "for i in ids.index:\n",
    "    try: \n",
    "        a=[i]\n",
    "        a.append(round(float(re.sub(r'[^\\d.]+', '',hdi.loc[country_name_converter(i)]\\\n",
    "                                    [\"Human Development Index (HDI) Value, 2013\"])),3))\n",
    "        a.append(round((float(re.sub(r'[^\\d.]+', '',hdi.loc[country_name_converter(i)]\\\n",
    "                                     [\"Life expectancy at birth (years), 2013\"]))-20)/(85-20),3))\n",
    "        a.append(round((float(re.sub(r'[^\\d.]+', '',hdi.loc[country_name_converter(i)]\\\n",
    "                                     [\"Mean years of schooling (years), 2012 a\"]))/15+\\\n",
    "                  float(re.sub(r'[^\\d.]+', '',hdi.loc[country_name_converter(i)]\\\n",
    "                               [\"Expected years of schooling (years), 2012 a\"]))/18)/2,3))\n",
    "        a.append(round((np.log(float(re.sub(r'[^\\d.]+', '',hdi.loc[country_name_converter(i)]\\\n",
    "                        [\"Gross national income (GNI) per capita (2011 PPP $), 2013\"])))-np.log(100))\\\n",
    "                        /(np.log(75000)-np.log(100)),3))\n",
    "        a.append(round((a[2]*a[3]*a[4])**(1.0/3.0),3))\n",
    "        codes[repr(ids.loc[i][0])]=a\n",
    "    except: pass"
   ]
  },
  {
   "cell_type": "code",
   "execution_count": 96,
   "metadata": {
    "collapsed": false
   },
   "outputs": [],
   "source": [
    "import json\n",
    "file('../hdi.json','w').write(json.dumps(codes))"
   ]
  }
 ],
 "metadata": {
  "anaconda-cloud": {},
  "kernelspec": {
   "display_name": "Python [default]",
   "language": "python",
   "name": "python2"
  },
  "language_info": {
   "codemirror_mode": {
    "name": "ipython",
    "version": 2
   },
   "file_extension": ".py",
   "mimetype": "text/x-python",
   "name": "python",
   "nbconvert_exporter": "python",
   "pygments_lexer": "ipython2",
   "version": "2.7.12"
  }
 },
 "nbformat": 4,
 "nbformat_minor": 0
}
