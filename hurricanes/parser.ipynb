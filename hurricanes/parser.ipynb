{
 "cells": [
  {
   "cell_type": "code",
   "execution_count": 1,
   "metadata": {
    "collapsed": false
   },
   "outputs": [],
   "source": [
    "import pandas as pd, numpy as np\n",
    "import matplotlib.pyplot as plt\n",
    "%matplotlib inline\n",
    "from jupyterthemes import jtplot\n",
    "jtplot.style('solarized-light')"
   ]
  },
  {
   "cell_type": "code",
   "execution_count": 2,
   "metadata": {
    "collapsed": true
   },
   "outputs": [],
   "source": [
    "w=pd.read_html('https://en.wikipedia.org/wiki/List_of_the_most_intense_tropical_cyclones')"
   ]
  },
  {
   "cell_type": "code",
   "execution_count": 3,
   "metadata": {
    "collapsed": false
   },
   "outputs": [],
   "source": [
    "n_atl=w[0].T.set_index(0).T.dropna()"
   ]
  },
  {
   "cell_type": "code",
   "execution_count": 4,
   "metadata": {
    "collapsed": true
   },
   "outputs": [],
   "source": [
    "e_pac=w[1].T.set_index(0).T.dropna()"
   ]
  },
  {
   "cell_type": "code",
   "execution_count": 5,
   "metadata": {
    "collapsed": false
   },
   "outputs": [],
   "source": [
    "nw_pac=w[2].T.set_index(0).T.dropna()"
   ]
  },
  {
   "cell_type": "code",
   "execution_count": 6,
   "metadata": {
    "collapsed": false
   },
   "outputs": [],
   "source": [
    "n_ind=w[3].T.set_index(0).T.dropna()"
   ]
  },
  {
   "cell_type": "code",
   "execution_count": 7,
   "metadata": {
    "collapsed": false
   },
   "outputs": [],
   "source": [
    "sw_ind=w[4].T.set_index(0).T.dropna()"
   ]
  },
  {
   "cell_type": "code",
   "execution_count": 8,
   "metadata": {
    "collapsed": false
   },
   "outputs": [],
   "source": [
    "aus=w[5].T.set_index(0).T.dropna()"
   ]
  },
  {
   "cell_type": "code",
   "execution_count": 9,
   "metadata": {
    "collapsed": false
   },
   "outputs": [],
   "source": [
    "s_pac=w[6].T.set_index(0).T.dropna()"
   ]
  },
  {
   "cell_type": "code",
   "execution_count": 10,
   "metadata": {
    "collapsed": false
   },
   "outputs": [],
   "source": [
    "s_atl=w[7].T.set_index(0).T.dropna()"
   ]
  },
  {
   "cell_type": "code",
   "execution_count": 11,
   "metadata": {
    "collapsed": false
   },
   "outputs": [],
   "source": [
    "df=[n_atl,s_atl,e_pac,nw_pac,n_ind,sw_ind,aus,s_pac]"
   ]
  },
  {
   "cell_type": "code",
   "execution_count": 27,
   "metadata": {
    "collapsed": false
   },
   "outputs": [],
   "source": [
    "data=[]\n",
    "regions=['North Atlantic','South Atlantic','East Pacific','Northwest Pacific','North Indian','South Indian','Australian','South Pacific']\n",
    "for j in range(7):\n",
    "    for i in df[j].T.iteritems():\n",
    "        d={\"region\":regions[j]}\n",
    "        d[\"name\"]=i[1][0].replace('\"','')\n",
    "        d[\"pressure\"]=int(i[1][3][i[1][3].find('hPa')-4:i[1][3].find('hPa')].strip())\n",
    "        if u'\\u2013' in i[1][1]:\n",
    "            d[\"year\"]=int(i[1][1][:i[1][1].find(u'\\u2013')])\n",
    "        elif u'-' in i[1][1]:\n",
    "            d[\"year\"]=int(i[1][1][:i[1][1].find(u'-')])\n",
    "        else: d[\"year\"]=int(i[1][1])\n",
    "        k=i[1][2][i[1][2].find('!')+1:i[1][2][i[1][2].find('!')+1:].strip().find(' ')].strip()\n",
    "        if u'\\u2660' in k:\n",
    "            d[\"speed\"]=int(k[k.find(u'\\u2660')+1:k.find(u'\\xa0')])\n",
    "        elif k!='':d[\"speed\"]=int(k)\n",
    "        data.append(d)"
   ]
  },
  {
   "cell_type": "code",
   "execution_count": 29,
   "metadata": {
    "collapsed": true
   },
   "outputs": [],
   "source": [
    "import json"
   ]
  },
  {
   "cell_type": "code",
   "execution_count": 30,
   "metadata": {
    "collapsed": false
   },
   "outputs": [],
   "source": [
    "file('data.json','w').write(json.dumps(data))"
   ]
  }
 ],
 "metadata": {
  "kernelspec": {
   "display_name": "Python [conda root]",
   "language": "python",
   "name": "conda-root-py"
  },
  "language_info": {
   "codemirror_mode": {
    "name": "ipython",
    "version": 2
   },
   "file_extension": ".py",
   "mimetype": "text/x-python",
   "name": "python",
   "nbconvert_exporter": "python",
   "pygments_lexer": "ipython2",
   "version": "2.7.13"
  }
 },
 "nbformat": 4,
 "nbformat_minor": 2
}
