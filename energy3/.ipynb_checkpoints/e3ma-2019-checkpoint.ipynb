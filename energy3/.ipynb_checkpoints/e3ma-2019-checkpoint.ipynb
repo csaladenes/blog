{
 "cells": [
  {
   "cell_type": "code",
   "execution_count": 3,
   "metadata": {
    "collapsed": false
   },
   "outputs": [],
   "source": [
    "import numpy as np, requests, pandas as pd, zipfile, json"
   ]
  },
  {
   "cell_type": "code",
   "execution_count": 21,
   "metadata": {
    "collapsed": false
   },
   "outputs": [],
   "source": [
    "df15=pd.read_csv('https://www.worldenergy.org/csv/index-table/2015').set_index('Country name')"
   ]
  },
  {
   "cell_type": "code",
   "execution_count": 22,
   "metadata": {
    "collapsed": true
   },
   "outputs": [],
   "source": [
    "df14=pd.read_csv('https://www.worldenergy.org/csv/index-table/2014').set_index('Country name')"
   ]
  },
  {
   "cell_type": "code",
   "execution_count": 23,
   "metadata": {
    "collapsed": true
   },
   "outputs": [],
   "source": [
    "df13=pd.read_csv('https://www.worldenergy.org/csv/index-table/2013').set_index('Country name')"
   ]
  },
  {
   "cell_type": "code",
   "execution_count": 24,
   "metadata": {
    "collapsed": true
   },
   "outputs": [],
   "source": [
    "df12=pd.read_csv('https://www.worldenergy.org/csv/index-table/2012').set_index('Country name')"
   ]
  },
  {
   "cell_type": "code",
   "execution_count": 25,
   "metadata": {
    "collapsed": true
   },
   "outputs": [],
   "source": [
    "df11=pd.read_csv('https://www.worldenergy.org/csv/index-table/2011').set_index('Country name')"
   ]
  },
  {
   "cell_type": "code",
   "execution_count": 26,
   "metadata": {
    "collapsed": true
   },
   "outputs": [],
   "source": [
    "df10=pd.read_csv('https://www.worldenergy.org/csv/index-table/2010').set_index('Country name')"
   ]
  },
  {
   "cell_type": "code",
   "execution_count": 27,
   "metadata": {
    "collapsed": false
   },
   "outputs": [
    {
     "data": {
      "text/plain": [
       "Index(['Country slug', 'Country ISO 3166-1 alpha-2', 'Total score 2010',\n",
       "       'Total rank 2010', 'Energy security score 2010',\n",
       "       'Energy security rank 2010', 'Social equity score 2010',\n",
       "       'Social equity rank 2010', 'Environmental impact mitigation score 2010',\n",
       "       'Environmental impact mitigation rank 2010',\n",
       "       'Energy performance score 2010', 'Energy performance rank 2010',\n",
       "       'Political strength score 2010', 'Political strength rank 2010',\n",
       "       'Societal strength score 2010', 'Societal strength rank 2010',\n",
       "       'Economic strength score 2010', 'Economic strength rank 2010',\n",
       "       'Contextual performance score 2010',\n",
       "       'Contextual performance rank 2010'],\n",
       "      dtype='object')"
      ]
     },
     "execution_count": 27,
     "metadata": {},
     "output_type": "execute_result"
    }
   ],
   "source": [
    "df10.columns"
   ]
  },
  {
   "cell_type": "code",
   "execution_count": 28,
   "metadata": {
    "collapsed": false
   },
   "outputs": [
    {
     "data": {
      "text/plain": [
       "Country slug                                  luxembourg\n",
       "Country ISO 3166-1 alpha-2                            LU\n",
       "Total score 2015                                  7.1775\n",
       "Total rank 2015                                       19\n",
       "Energy security score 2015                          1.93\n",
       "Energy security rank 2015                            105\n",
       "Social equity score 2015                            9.84\n",
       "Social equity rank 2015                                3\n",
       "Environmental impact mitigation score 2015          7.67\n",
       "Environmental impact mitigation rank 2015             31\n",
       "Energy performance score 2015                       4.86\n",
       "Energy performance rank 2015                          30\n",
       "Political strength score 2015                       9.45\n",
       "Political strength rank 2015                           8\n",
       "Societal strength score 2015                        8.68\n",
       "Societal strength rank 2015                           18\n",
       "Economic strength score 2015                        9.68\n",
       "Economic strength rank 2015                            5\n",
       "Contextual performance score 2015                 2.3175\n",
       "Contextual performance rank 2015                       9\n",
       "Name: Luxembourg, dtype: object"
      ]
     },
     "execution_count": 28,
     "metadata": {},
     "output_type": "execute_result"
    }
   ],
   "source": [
    "df15.loc['Luxembourg']"
   ]
  },
  {
   "cell_type": "code",
   "execution_count": 29,
   "metadata": {
    "collapsed": true
   },
   "outputs": [],
   "source": [
    "#hdi:e3a\n",
    "    #edu:energy equity\n",
    "    #gni:energy affordability\n",
    "    #le:env susti\n",
    "#idhi:contextual performance\n",
    "    #edu:societal strength\n",
    "    #gni:economic strength\n",
    "    #le:political strength"
   ]
  },
  {
   "cell_type": "code",
   "execution_count": 30,
   "metadata": {
    "collapsed": false
   },
   "outputs": [],
   "source": [
    "pop=pd.read_csv('pop.csv').set_index(['Country','Year'])"
   ]
  },
  {
   "cell_type": "code",
   "execution_count": 31,
   "metadata": {
    "collapsed": false
   },
   "outputs": [],
   "source": [
    "#country name converter\n",
    "def cnc(c):\n",
    "    if c==u'Democratic Republic of the Congo':return 'Congo (Dem. Rep.)'\n",
    "    elif c==u'Ivory Coast':return \"C\\xc3\\xb4te d'Ivoire\"\n",
    "    return c\n",
    "def cnc2(c):\n",
    "    if c==u'Ivory Coast':return \"C\\xc3\\xb4te d'Ivoire\"\n",
    "    elif c==\"Syria\":return 'Syrian Arab Republic'\n",
    "    elif c==\"Moldova\":return 'Republic of Moldova'\n",
    "    elif c==\"South Korea\":return 'Republic of Korea'\n",
    "    elif c==\"Hong Kong\":return 'China, Hong Kong Special Administrative Region'\n",
    "    elif c==\"Vietnam\":return 'Viet Nam'\n",
    "    elif c==\"Tanzania\":return 'United Republic of Tanzania'\n",
    "    elif c==\"Iran\":return 'Iran (Islamic Republic of)'\n",
    "    elif c==\"United States\":return 'United States of America'\n",
    "    elif c==\"Russia\":return 'Russian Federation'\n",
    "    elif c==\"Libya\":return 'Libyan Arab Jamahiriya'\n",
    "    elif c==\"Venezuela\":return 'Venezuela (Bolivarian Republic of)'\n",
    "    elif c==\"Yemen\":return 'Yemen '\n",
    "    elif c==\"Macedonia\":return 'The former Yugoslav Republic of Macedonia'\n",
    "    return c"
   ]
  },
  {
   "cell_type": "code",
   "execution_count": 34,
   "metadata": {
    "collapsed": false
   },
   "outputs": [],
   "source": [
    "#load dictionary preformatted for viz type\n",
    "data3=json.loads(open('data3.json','r').read())"
   ]
  },
  {
   "cell_type": "code",
   "execution_count": 35,
   "metadata": {
    "collapsed": false
   },
   "outputs": [],
   "source": [
    "data={}\n",
    "for d in data3:\n",
    "    if d not in data: data[d]={}\n",
    "    if 'e3' not in data[d]:data[d]['e3']={}\n",
    "    if 'cp' not in data[d]:data[d]['cp']={}\n",
    "    if 'name' not in data[d]:data[d]['name']=data3[d]['name']\n",
    "    if 'code' not in data[d]:data[d]['code']=data3[d]['code']\n",
    "    if 'population' not in data[d]:data[d]['population']={}\n",
    "    for y in range(2010,2017):\n",
    "        if repr(y) not in data[d]['e3']:data[d]['e3'][repr(y)]={u'edu': u'NaN', u'gni': u'NaN', u'le': u'NaN'}\n",
    "        if repr(y) not in data[d]['cp']:data[d]['cp'][repr(y)]={u'edu': u'NaN', u'gni': u'NaN', u'le': u'NaN'}\n",
    "        try:\n",
    "            data[d]['population'][repr(y)]=str(pop.loc[cnc2(data3[d]['name'])].loc[y]['Value']*1000)\n",
    "            #print \"success population\",y\n",
    "        except: pass\n",
    "    try:\n",
    "        data[d]['e3']['2010']['gni']=str(np.round(df10.loc[cnc(data3[d]['name'])]['Social equity score 2010']/10.0,3))\n",
    "        data[d]['e3']['2010']['edu']=str(np.round(df10.loc[cnc(data3[d]['name'])]['Energy security score 2010']/10.0,3))\n",
    "        data[d]['e3']['2010']['le']=str(np.round(df10.loc[cnc(data3[d]['name'])]['Environmental impact mitigation score 2010']/10.0,3))\n",
    "        data[d]['cp']['2010']['edu']=str(np.round(df10.loc[cnc(data3[d]['name'])]['Societal strength score 2010']/10.0,3))\n",
    "        data[d]['cp']['2010']['gni']=str(np.round(df10.loc[cnc(data3[d]['name'])]['Economic strength score 2010']/10.0,3))\n",
    "        data[d]['cp']['2010']['le']=str(np.round(df10.loc[cnc(data3[d]['name'])]['Political strength score 2010']/10.0,3))\n",
    "        #print \"success 2010\"\n",
    "    except:pass\n",
    "    try:\n",
    "        data[d]['e3']['2011']['gni']=str(np.round(df11.loc[cnc(data3[d]['name'])]['Social equity score 2011']/10.0,3))\n",
    "        data[d]['e3']['2011']['edu']=str(np.round(df11.loc[cnc(data3[d]['name'])]['Energy security score 2011']/10.0,3))\n",
    "        data[d]['e3']['2011']['le']=str(np.round(df11.loc[cnc(data3[d]['name'])]['Environmental impact mitigation score 2011']/10.0,3))\n",
    "        data[d]['cp']['2011']['edu']=str(np.round(df11.loc[cnc(data3[d]['name'])]['Societal strength score 2011']/10.0,3))\n",
    "        data[d]['cp']['2011']['gni']=str(np.round(df11.loc[cnc(data3[d]['name'])]['Economic strength score 2011']/10.0,3))\n",
    "        data[d]['cp']['2011']['le']=str(np.round(df11.loc[cnc(data3[d]['name'])]['Political strength score 2011']/10.0,3))\n",
    "        #print \"success 2011\"\n",
    "    except:pass\n",
    "    try:\n",
    "        data[d]['e3']['2012']['gni']=str(np.round(df12.loc[cnc(data3[d]['name'])]['Social equity score 2012']/10.0,3))\n",
    "        data[d]['e3']['2012']['edu']=str(np.round(df12.loc[cnc(data3[d]['name'])]['Energy security score 2012']/10.0,3))\n",
    "        data[d]['e3']['2012']['le']=str(np.round(df12.loc[cnc(data3[d]['name'])]['Environmental impact mitigation score 2012']/10.0,3))\n",
    "        data[d]['cp']['2012']['edu']=str(np.round(df12.loc[cnc(data3[d]['name'])]['Societal strength score 2012']/10.0,3))\n",
    "        data[d]['cp']['2012']['gni']=str(np.round(df12.loc[cnc(data3[d]['name'])]['Economic strength score 2012']/10.0,3))\n",
    "        data[d]['cp']['2012']['le']=str(np.round(df12.loc[cnc(data3[d]['name'])]['Political strength score 2012']/10.0,3))\n",
    "        #print \"success 2012\"\n",
    "    except:pass\n",
    "    try:\n",
    "        data[d]['e3']['2013']['gni']=str(np.round(df13.loc[cnc(data3[d]['name'])]['Social equity score 2013']/10.0,3))\n",
    "        data[d]['e3']['2013']['edu']=str(np.round(df13.loc[cnc(data3[d]['name'])]['Energy security score 2013']/10.0,3))\n",
    "        data[d]['e3']['2013']['le']=str(np.round(df13.loc[cnc(data3[d]['name'])]['Environmental impact mitigation score 2013']/10.0,3))\n",
    "        data[d]['cp']['2013']['edu']=str(np.round(df13.loc[cnc(data3[d]['name'])]['Societal strength score 2013']/10.0,3))\n",
    "        data[d]['cp']['2013']['gni']=str(np.round(df13.loc[cnc(data3[d]['name'])]['Economic strength score 2013']/10.0,3))\n",
    "        data[d]['cp']['2013']['le']=str(np.round(df13.loc[cnc(data3[d]['name'])]['Political strength score 2013']/10.0,3))\n",
    "        #print \"success 2013\"\n",
    "    except:pass\n",
    "    try:\n",
    "        data[d]['e3']['2014']['gni']=str(np.round(df14.loc[cnc(data3[d]['name'])]['Social equity score 2014']/10.0,3))\n",
    "        data[d]['e3']['2014']['edu']=str(np.round(df14.loc[cnc(data3[d]['name'])]['Energy security score 2014']/10.0,3))\n",
    "        data[d]['e3']['2014']['le']=str(np.round(df14.loc[cnc(data3[d]['name'])]['Environmental impact mitigation score 2014']/10.0,3))\n",
    "        data[d]['cp']['2014']['edu']=str(np.round(df14.loc[cnc(data3[d]['name'])]['Societal strength score 2014']/10.0,3))\n",
    "        data[d]['cp']['2014']['gni']=str(np.round(df14.loc[cnc(data3[d]['name'])]['Economic strength score 2014']/10.0,3))\n",
    "        data[d]['cp']['2014']['le']=str(np.round(df14.loc[cnc(data3[d]['name'])]['Political strength score 2014']/10.0,3))\n",
    "        #print \"success 2014\"\n",
    "    except:pass\n",
    "    try:\n",
    "        data[d]['e3']['2015']['gni']=str(np.round(df15.loc[cnc(data3[d]['name'])]['Social equity score 2015']/10.0,3))\n",
    "        data[d]['e3']['2015']['edu']=str(np.round(df15.loc[cnc(data3[d]['name'])]['Energy security score 2015']/10.0,3))\n",
    "        data[d]['e3']['2015']['le']=str(np.round(df15.loc[cnc(data3[d]['name'])]['Environmental impact mitigation score 2015']/10.0,3))\n",
    "        data[d]['cp']['2015']['edu']=str(np.round(df15.loc[cnc(data3[d]['name'])]['Societal strength score 2015']/10.0,3))\n",
    "        data[d]['cp']['2015']['gni']=str(np.round(df15.loc[cnc(data3[d]['name'])]['Economic strength score 2015']/10.0,3))\n",
    "        data[d]['cp']['2015']['le']=str(np.round(df15.loc[cnc(data3[d]['name'])]['Political strength score 2015']/10.0,3))\n",
    "        #print \"success 2015\"\n",
    "    except:pass"
   ]
  },
  {
   "cell_type": "code",
   "execution_count": 36,
   "metadata": {
    "collapsed": false
   },
   "outputs": [
    {
     "data": {
      "text/plain": [
       "188172"
      ]
     },
     "execution_count": 36,
     "metadata": {},
     "output_type": "execute_result"
    }
   ],
   "source": [
    "open('data-2018.json','w').write(json.dumps(data))"
   ]
  }
 ],
 "metadata": {
  "anaconda-cloud": {},
  "kernelspec": {
   "display_name": "Python 3",
   "language": "python",
   "name": "python3"
  },
  "language_info": {
   "codemirror_mode": {
    "name": "ipython",
    "version": 3
   },
   "file_extension": ".py",
   "mimetype": "text/x-python",
   "name": "python",
   "nbconvert_exporter": "python",
   "pygments_lexer": "ipython3",
   "version": "3.7.0"
  }
 },
 "nbformat": 4,
 "nbformat_minor": 2
}
